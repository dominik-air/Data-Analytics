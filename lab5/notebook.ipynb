{
 "cells": [
  {
   "cell_type": "code",
   "execution_count": 2,
   "id": "bc74079e",
   "metadata": {},
   "outputs": [
    {
     "name": "stderr",
     "output_type": "stream",
     "text": [
      "/usr/local/lib/python3.9/site-packages/tqdm/auto.py:22: TqdmWarning: IProgress not found. Please update jupyter and ipywidgets. See https://ipywidgets.readthedocs.io/en/stable/user_install.html\n",
      "  from .autonotebook import tqdm as notebook_tqdm\n"
     ]
    }
   ],
   "source": [
    "import numpy as np\n",
    "import pandas as pd\n",
    "import seaborn as sns\n",
    "import matplotlib.pyplot as plt\n",
    "from cmdstanpy import CmdStanModel"
   ]
  },
  {
   "cell_type": "markdown",
   "id": "b62997d3",
   "metadata": {},
   "source": [
    "### Data exploration"
   ]
  },
  {
   "cell_type": "code",
   "execution_count": 3,
   "id": "37aaf845",
   "metadata": {
    "scrolled": false
   },
   "outputs": [
    {
     "data": {
      "text/html": [
       "<div>\n",
       "<style scoped>\n",
       "    .dataframe tbody tr th:only-of-type {\n",
       "        vertical-align: middle;\n",
       "    }\n",
       "\n",
       "    .dataframe tbody tr th {\n",
       "        vertical-align: top;\n",
       "    }\n",
       "\n",
       "    .dataframe thead th {\n",
       "        text-align: right;\n",
       "    }\n",
       "</style>\n",
       "<table border=\"1\" class=\"dataframe\">\n",
       "  <thead>\n",
       "    <tr style=\"text-align: right;\">\n",
       "      <th></th>\n",
       "      <th>Year</th>\n",
       "      <th>Fatal accidents</th>\n",
       "      <th>Passenger deaths</th>\n",
       "      <th>Miles flown [100 mln miles]</th>\n",
       "    </tr>\n",
       "  </thead>\n",
       "  <tbody>\n",
       "    <tr>\n",
       "      <th>0</th>\n",
       "      <td>1976</td>\n",
       "      <td>24</td>\n",
       "      <td>734</td>\n",
       "      <td>3863.0</td>\n",
       "    </tr>\n",
       "    <tr>\n",
       "      <th>1</th>\n",
       "      <td>1977</td>\n",
       "      <td>25</td>\n",
       "      <td>516</td>\n",
       "      <td>4300.0</td>\n",
       "    </tr>\n",
       "    <tr>\n",
       "      <th>2</th>\n",
       "      <td>1978</td>\n",
       "      <td>31</td>\n",
       "      <td>754</td>\n",
       "      <td>5027.0</td>\n",
       "    </tr>\n",
       "    <tr>\n",
       "      <th>3</th>\n",
       "      <td>1979</td>\n",
       "      <td>31</td>\n",
       "      <td>877</td>\n",
       "      <td>5481.0</td>\n",
       "    </tr>\n",
       "    <tr>\n",
       "      <th>4</th>\n",
       "      <td>1980</td>\n",
       "      <td>22</td>\n",
       "      <td>814</td>\n",
       "      <td>5814.0</td>\n",
       "    </tr>\n",
       "    <tr>\n",
       "      <th>5</th>\n",
       "      <td>1981</td>\n",
       "      <td>21</td>\n",
       "      <td>362</td>\n",
       "      <td>6033.0</td>\n",
       "    </tr>\n",
       "    <tr>\n",
       "      <th>6</th>\n",
       "      <td>1982</td>\n",
       "      <td>26</td>\n",
       "      <td>764</td>\n",
       "      <td>5877.0</td>\n",
       "    </tr>\n",
       "    <tr>\n",
       "      <th>7</th>\n",
       "      <td>1983</td>\n",
       "      <td>20</td>\n",
       "      <td>809</td>\n",
       "      <td>6223.0</td>\n",
       "    </tr>\n",
       "    <tr>\n",
       "      <th>8</th>\n",
       "      <td>1984</td>\n",
       "      <td>16</td>\n",
       "      <td>223</td>\n",
       "      <td>7433.0</td>\n",
       "    </tr>\n",
       "    <tr>\n",
       "      <th>9</th>\n",
       "      <td>1985</td>\n",
       "      <td>22</td>\n",
       "      <td>1066</td>\n",
       "      <td>7107.0</td>\n",
       "    </tr>\n",
       "  </tbody>\n",
       "</table>\n",
       "</div>"
      ],
      "text/plain": [
       "   Year  Fatal accidents  Passenger deaths  Miles flown [100 mln miles]\n",
       "0  1976               24               734                       3863.0\n",
       "1  1977               25               516                       4300.0\n",
       "2  1978               31               754                       5027.0\n",
       "3  1979               31               877                       5481.0\n",
       "4  1980               22               814                       5814.0\n",
       "5  1981               21               362                       6033.0\n",
       "6  1982               26               764                       5877.0\n",
       "7  1983               20               809                       6223.0\n",
       "8  1984               16               223                       7433.0\n",
       "9  1985               22              1066                       7107.0"
      ]
     },
     "execution_count": 3,
     "metadata": {},
     "output_type": "execute_result"
    }
   ],
   "source": [
    "df = pd.read_csv(\"Airline_data.csv\")\n",
    "df"
   ]
  },
  {
   "cell_type": "code",
   "execution_count": 4,
   "id": "8bdc9b26",
   "metadata": {
    "scrolled": true
   },
   "outputs": [
    {
     "data": {
      "text/html": [
       "<div>\n",
       "<style scoped>\n",
       "    .dataframe tbody tr th:only-of-type {\n",
       "        vertical-align: middle;\n",
       "    }\n",
       "\n",
       "    .dataframe tbody tr th {\n",
       "        vertical-align: top;\n",
       "    }\n",
       "\n",
       "    .dataframe thead th {\n",
       "        text-align: right;\n",
       "    }\n",
       "</style>\n",
       "<table border=\"1\" class=\"dataframe\">\n",
       "  <thead>\n",
       "    <tr style=\"text-align: right;\">\n",
       "      <th></th>\n",
       "      <th>Year</th>\n",
       "      <th>Fatal accidents</th>\n",
       "      <th>Passenger deaths</th>\n",
       "      <th>Miles flown [100 mln miles]</th>\n",
       "    </tr>\n",
       "  </thead>\n",
       "  <tbody>\n",
       "    <tr>\n",
       "      <th>count</th>\n",
       "      <td>10.00000</td>\n",
       "      <td>10.000000</td>\n",
       "      <td>10.000000</td>\n",
       "      <td>10.000000</td>\n",
       "    </tr>\n",
       "    <tr>\n",
       "      <th>mean</th>\n",
       "      <td>1980.50000</td>\n",
       "      <td>23.800000</td>\n",
       "      <td>691.900000</td>\n",
       "      <td>5715.800000</td>\n",
       "    </tr>\n",
       "    <tr>\n",
       "      <th>std</th>\n",
       "      <td>3.02765</td>\n",
       "      <td>4.709329</td>\n",
       "      <td>252.389228</td>\n",
       "      <td>1117.767795</td>\n",
       "    </tr>\n",
       "    <tr>\n",
       "      <th>min</th>\n",
       "      <td>1976.00000</td>\n",
       "      <td>16.000000</td>\n",
       "      <td>223.000000</td>\n",
       "      <td>3863.000000</td>\n",
       "    </tr>\n",
       "    <tr>\n",
       "      <th>25%</th>\n",
       "      <td>1978.25000</td>\n",
       "      <td>21.250000</td>\n",
       "      <td>570.500000</td>\n",
       "      <td>5140.500000</td>\n",
       "    </tr>\n",
       "    <tr>\n",
       "      <th>50%</th>\n",
       "      <td>1980.50000</td>\n",
       "      <td>23.000000</td>\n",
       "      <td>759.000000</td>\n",
       "      <td>5845.500000</td>\n",
       "    </tr>\n",
       "    <tr>\n",
       "      <th>75%</th>\n",
       "      <td>1982.75000</td>\n",
       "      <td>25.750000</td>\n",
       "      <td>812.750000</td>\n",
       "      <td>6175.500000</td>\n",
       "    </tr>\n",
       "    <tr>\n",
       "      <th>max</th>\n",
       "      <td>1985.00000</td>\n",
       "      <td>31.000000</td>\n",
       "      <td>1066.000000</td>\n",
       "      <td>7433.000000</td>\n",
       "    </tr>\n",
       "  </tbody>\n",
       "</table>\n",
       "</div>"
      ],
      "text/plain": [
       "             Year  Fatal accidents  Passenger deaths  \\\n",
       "count    10.00000        10.000000         10.000000   \n",
       "mean   1980.50000        23.800000        691.900000   \n",
       "std       3.02765         4.709329        252.389228   \n",
       "min    1976.00000        16.000000        223.000000   \n",
       "25%    1978.25000        21.250000        570.500000   \n",
       "50%    1980.50000        23.000000        759.000000   \n",
       "75%    1982.75000        25.750000        812.750000   \n",
       "max    1985.00000        31.000000       1066.000000   \n",
       "\n",
       "       Miles flown [100 mln miles]  \n",
       "count                    10.000000  \n",
       "mean                   5715.800000  \n",
       "std                    1117.767795  \n",
       "min                    3863.000000  \n",
       "25%                    5140.500000  \n",
       "50%                    5845.500000  \n",
       "75%                    6175.500000  \n",
       "max                    7433.000000  "
      ]
     },
     "execution_count": 4,
     "metadata": {},
     "output_type": "execute_result"
    }
   ],
   "source": [
    "df.describe()"
   ]
  },
  {
   "cell_type": "markdown",
   "id": "ddc33513",
   "metadata": {},
   "source": [
    "We shouldn't really be looking at the data at this stage (it's supposed to be a prior!), but it can help to determine the plausible outcome space."
   ]
  },
  {
   "cell_type": "markdown",
   "id": "7fdea18b",
   "metadata": {},
   "source": [
    "### Selecting a suitable range for the parameters\n",
    "\n",
    "#### Rescale 'Miles flown' column"
   ]
  },
  {
   "cell_type": "code",
   "execution_count": 5,
   "id": "bd7bf3f6",
   "metadata": {},
   "outputs": [
    {
     "data": {
      "text/html": [
       "<div>\n",
       "<style scoped>\n",
       "    .dataframe tbody tr th:only-of-type {\n",
       "        vertical-align: middle;\n",
       "    }\n",
       "\n",
       "    .dataframe tbody tr th {\n",
       "        vertical-align: top;\n",
       "    }\n",
       "\n",
       "    .dataframe thead th {\n",
       "        text-align: right;\n",
       "    }\n",
       "</style>\n",
       "<table border=\"1\" class=\"dataframe\">\n",
       "  <thead>\n",
       "    <tr style=\"text-align: right;\">\n",
       "      <th></th>\n",
       "      <th>Year</th>\n",
       "      <th>Fatal accidents</th>\n",
       "      <th>Passenger deaths</th>\n",
       "      <th>Miles flown [10e12 miles]</th>\n",
       "    </tr>\n",
       "  </thead>\n",
       "  <tbody>\n",
       "    <tr>\n",
       "      <th>0</th>\n",
       "      <td>1976</td>\n",
       "      <td>24</td>\n",
       "      <td>734</td>\n",
       "      <td>3.863</td>\n",
       "    </tr>\n",
       "    <tr>\n",
       "      <th>1</th>\n",
       "      <td>1977</td>\n",
       "      <td>25</td>\n",
       "      <td>516</td>\n",
       "      <td>4.300</td>\n",
       "    </tr>\n",
       "    <tr>\n",
       "      <th>2</th>\n",
       "      <td>1978</td>\n",
       "      <td>31</td>\n",
       "      <td>754</td>\n",
       "      <td>5.027</td>\n",
       "    </tr>\n",
       "    <tr>\n",
       "      <th>3</th>\n",
       "      <td>1979</td>\n",
       "      <td>31</td>\n",
       "      <td>877</td>\n",
       "      <td>5.481</td>\n",
       "    </tr>\n",
       "    <tr>\n",
       "      <th>4</th>\n",
       "      <td>1980</td>\n",
       "      <td>22</td>\n",
       "      <td>814</td>\n",
       "      <td>5.814</td>\n",
       "    </tr>\n",
       "    <tr>\n",
       "      <th>5</th>\n",
       "      <td>1981</td>\n",
       "      <td>21</td>\n",
       "      <td>362</td>\n",
       "      <td>6.033</td>\n",
       "    </tr>\n",
       "    <tr>\n",
       "      <th>6</th>\n",
       "      <td>1982</td>\n",
       "      <td>26</td>\n",
       "      <td>764</td>\n",
       "      <td>5.877</td>\n",
       "    </tr>\n",
       "    <tr>\n",
       "      <th>7</th>\n",
       "      <td>1983</td>\n",
       "      <td>20</td>\n",
       "      <td>809</td>\n",
       "      <td>6.223</td>\n",
       "    </tr>\n",
       "    <tr>\n",
       "      <th>8</th>\n",
       "      <td>1984</td>\n",
       "      <td>16</td>\n",
       "      <td>223</td>\n",
       "      <td>7.433</td>\n",
       "    </tr>\n",
       "    <tr>\n",
       "      <th>9</th>\n",
       "      <td>1985</td>\n",
       "      <td>22</td>\n",
       "      <td>1066</td>\n",
       "      <td>7.107</td>\n",
       "    </tr>\n",
       "  </tbody>\n",
       "</table>\n",
       "</div>"
      ],
      "text/plain": [
       "   Year  Fatal accidents  Passenger deaths  Miles flown [10e12 miles]\n",
       "0  1976               24               734                      3.863\n",
       "1  1977               25               516                      4.300\n",
       "2  1978               31               754                      5.027\n",
       "3  1979               31               877                      5.481\n",
       "4  1980               22               814                      5.814\n",
       "5  1981               21               362                      6.033\n",
       "6  1982               26               764                      5.877\n",
       "7  1983               20               809                      6.223\n",
       "8  1984               16               223                      7.433\n",
       "9  1985               22              1066                      7.107"
      ]
     },
     "execution_count": 5,
     "metadata": {},
     "output_type": "execute_result"
    }
   ],
   "source": [
    "df['Miles flown [100 mln miles]'] /= 1000\n",
    "df.rename(columns={'Miles flown [100 mln miles]': 'Miles flown [10e12 miles]'}, inplace=True)\n",
    "df"
   ]
  },
  {
   "cell_type": "markdown",
   "id": "9c36ec8b",
   "metadata": {},
   "source": [
    "#### Center the data"
   ]
  },
  {
   "cell_type": "code",
   "execution_count": 6,
   "id": "32d5fada",
   "metadata": {},
   "outputs": [
    {
     "data": {
      "text/plain": [
       "count    1.000000e+01\n",
       "mean     1.776357e-16\n",
       "std      1.117768e+00\n",
       "min     -1.852800e+00\n",
       "25%     -5.753000e-01\n",
       "50%      1.297000e-01\n",
       "75%      4.597000e-01\n",
       "max      1.717200e+00\n",
       "Name: Miles centered, dtype: float64"
      ]
     },
     "execution_count": 6,
     "metadata": {},
     "output_type": "execute_result"
    }
   ],
   "source": [
    "df['Miles centered'] = df['Miles flown [10e12 miles]'] - df['Miles flown [10e12 miles]'].mean()\n",
    "df['Miles centered'].describe()"
   ]
  },
  {
   "cell_type": "markdown",
   "id": "ac1bb8f9",
   "metadata": {},
   "source": [
    "Centering data won't affect the model's overall fit or predictions, but can improve interpretability, multicollinearity, and numerical stability."
   ]
  },
  {
   "cell_type": "markdown",
   "id": "036749aa",
   "metadata": {},
   "source": [
    "#### Estimate the parameters with a little arithmetic\n",
    "\n",
    "$y_i \\backsim \\text{Poisson}(\\lambda_i)$\n",
    "\n",
    "$\\log{(\\lambda_i)} = \\alpha + \\theta(n_i - \\overline{n})$\n",
    "\n",
    "and we'd like our $\\lambda$s to be in a range such that:\n",
    "\n",
    "$b_{lower} - \\epsilon \\leq \\log{(\\lambda)} \\leq b_{upper} + \\epsilon$"
   ]
  },
  {
   "cell_type": "code",
   "execution_count": 7,
   "id": "52172d60",
   "metadata": {},
   "outputs": [
    {
     "name": "stdout",
     "output_type": "stream",
     "text": [
      "theta=0.4508\n",
      "alpha=3.1379\n"
     ]
    }
   ],
   "source": [
    "# broader bounds so the ppc doesnt exactly fit the data\n",
    "upper_bound = 50\n",
    "lower_bound = 10\n",
    "\n",
    "n_max = df['Miles centered'].max()\n",
    "n_min = df['Miles centered'].min()\n",
    "\n",
    "theta = (np.log(upper_bound) - np.log(lower_bound)) / (n_max - n_min)\n",
    "alpha = np.log(lower_bound) - theta * n_min\n",
    "\n",
    "print(f\"{theta=:.4f}\\n{alpha=:.4f}\")"
   ]
  },
  {
   "cell_type": "markdown",
   "id": "a063c1ce",
   "metadata": {},
   "source": [
    "### Prior predictive distribution"
   ]
  },
  {
   "cell_type": "code",
   "execution_count": 14,
   "id": "f7523569",
   "metadata": {},
   "outputs": [
    {
     "name": "stdout",
     "output_type": "stream",
     "text": [
      "Overwriting airline_ppc.stan\n"
     ]
    }
   ],
   "source": [
    "%%writefile airline_ppc.stan\n",
    "\n",
    "generated quantities {\n",
    "  real theta = normal_rng(0.45, 0.15);\n",
    "  real alpha = normal_rng(3, 1);\n",
    "  real n = normal_rng(0, 1);\n",
    "  real lambda = exp(alpha+theta*n);\n",
    "  int accidents = poisson_rng(lambda);\n",
    "}"
   ]
  },
  {
   "cell_type": "code",
   "execution_count": 15,
   "id": "a19a3c67",
   "metadata": {},
   "outputs": [
    {
     "name": "stderr",
     "output_type": "stream",
     "text": [
      "INFO:cmdstanpy:compiling stan file /home/airline_ppc.stan to exe file /home/airline_ppc\n",
      "INFO:cmdstanpy:compiled model executable: /home/airline_ppc\n"
     ]
    }
   ],
   "source": [
    "ppc = CmdStanModel(stan_file=\"airline_ppc.stan\")"
   ]
  },
  {
   "cell_type": "code",
   "execution_count": 16,
   "id": "a3eb85be",
   "metadata": {},
   "outputs": [
    {
     "name": "stderr",
     "output_type": "stream",
     "text": [
      "INFO:cmdstanpy:CmdStan start processing\n",
      "chain 1 |\u001b[34m████████████████████████████████████████████████████████████████████████████████████████████████████████████████████████████████████████████████████████\u001b[0m| 00:00 Sampling completed\u001b[0m"
     ]
    },
    {
     "name": "stdout",
     "output_type": "stream",
     "text": [
      "                                                                                "
     ]
    },
    {
     "name": "stderr",
     "output_type": "stream",
     "text": [
      "\n",
      "INFO:cmdstanpy:CmdStan done processing.\n"
     ]
    },
    {
     "name": "stdout",
     "output_type": "stream",
     "text": [
      "\n"
     ]
    }
   ],
   "source": [
    "R = 1000\n",
    "sim=ppc.sample(iter_sampling=R,\n",
    "                     iter_warmup=0,\n",
    "                     chains=1,\n",
    "                     fixed_param=True,\n",
    "                     seed=29042020,refresh=R)"
   ]
  },
  {
   "cell_type": "code",
   "execution_count": 17,
   "id": "2adfd78a",
   "metadata": {},
   "outputs": [
    {
     "data": {
      "image/png": "[encoded data removed]",
      "text/plain": [
       "<Figure size 432x432 with 3 Axes>"
      ]
     },
     "metadata": {
      "needs_background": "light"
     },
     "output_type": "display_data"
    }
   ],
   "source": [
    "sns.jointplot(data=sim.draws_pd(), x='theta', y='alpha')\n",
    "plt.show()"
   ]
  },
  {
   "cell_type": "code",
   "execution_count": 18,
   "id": "32e32335",
   "metadata": {},
   "outputs": [],
   "source": [
    "lambdas = sim.draws_pd()['lambda'].values\n",
    "accidents = sim.draws_pd().accidents.values"
   ]
  },
  {
   "cell_type": "code",
   "execution_count": 19,
   "id": "9383a5c7",
   "metadata": {},
   "outputs": [
    {
     "data": {
      "image/png": "[encoded data removed]",
      "text/plain": [
       "<Figure size 864x288 with 2 Axes>"
      ]
     },
     "metadata": {
      "needs_background": "light"
     },
     "output_type": "display_data"
    }
   ],
   "source": [
    "fig, axes = plt.subplots(nrows=1, ncols=2, figsize=(12, 4))\n",
    "\n",
    "axes[0].hist(lambdas, density=True, bins=100)\n",
    "axes[0].axvline(x=lambdas.mean(), color='r', label=f'mean={lambdas.mean():.1f}')\n",
    "axes[0].set_title('Distribution of lambdas')\n",
    "axes[0].set_xlabel('lambda')\n",
    "axes[0].legend()\n",
    "\n",
    "axes[1].hist(accidents, density=True, bins=100)\n",
    "axes[1].axvline(x=accidents.mean(), color='r', label=f'mean={accidents.mean():.1f}')\n",
    "axes[1].set_title('Distribution of accidents')\n",
    "axes[1].set_xlabel('accidents')\n",
    "axes[1].legend()\n",
    "\n",
    "plt.tight_layout()\n",
    "plt.show()"
   ]
  },
  {
   "cell_type": "markdown",
   "id": "ffbfb18f",
   "metadata": {},
   "source": [
    "The parameters have normal distributions and lambdas as well as accidents appear to be log-normally distributed.  "
   ]
  },
  {
   "cell_type": "markdown",
   "id": "c0078d61",
   "metadata": {},
   "source": [
    "### Posterior predictive distribution with common $\\alpha$"
   ]
  },
  {
   "cell_type": "code",
   "execution_count": 20,
   "id": "a8f4d13f",
   "metadata": {},
   "outputs": [
    {
     "name": "stdout",
     "output_type": "stream",
     "text": [
      "Overwriting airline_fit.stan\n"
     ]
    }
   ],
   "source": [
    "%%writefile airline_fit.stan\n",
    "\n",
    "data {\n",
    "  int<lower=1> N;\n",
    "  vector[N] miles;\n",
    "  int accidents[N];\n",
    "}\n",
    "\n",
    "parameters {\n",
    "  real alpha;\n",
    "  real theta;\n",
    "}\n",
    "\n",
    "transformed parameters {\n",
    "  real lambda[N];\n",
    "  for (i in 1:N) {\n",
    "    lambda[i] = exp(alpha + theta * miles[i]);\n",
    "  }\n",
    "}\n",
    "\n",
    "\n",
    "model {\n",
    "  alpha ~ normal(3, 1);\n",
    "  theta ~ normal(0.45, 0.15);\n",
    "  \n",
    "  for (i in 1:N) {\n",
    "    accidents[i] ~ poisson(lambda[i]);\n",
    "  }\n",
    "}"
   ]
  },
  {
   "cell_type": "code",
   "execution_count": 21,
   "id": "7349a604",
   "metadata": {},
   "outputs": [
    {
     "name": "stderr",
     "output_type": "stream",
     "text": [
      "INFO:cmdstanpy:compiling stan file /home/airline_fit.stan to exe file /home/airline_fit\n",
      "INFO:cmdstanpy:compiled model executable: /home/airline_fit\n",
      "WARNING:cmdstanpy:Stan compiler has produced 2 warnings:\n",
      "WARNING:cmdstanpy:\n",
      "--- Translating Stan model to C++ code ---\n",
      "bin/stanc  --o=/home/airline_fit.hpp /home/airline_fit.stan\n",
      "Warning in '/home/airline_fit.stan', line 5, column 2: Declaration of arrays\n",
      "    by placing brackets after a variable name is deprecated and will be\n",
      "    removed in Stan 2.32.0. Instead use the array keyword before the type.\n",
      "    This can be changed automatically using the auto-format flag to stanc\n",
      "Warning in '/home/airline_fit.stan', line 14, column 2: Declaration of arrays\n",
      "    by placing brackets after a variable name is deprecated and will be\n",
      "    removed in Stan 2.32.0. Instead use the array keyword before the type.\n",
      "    This can be changed automatically using the auto-format flag to stanc\n",
      "\n",
      "--- Compiling, linking C++ code ---\n",
      "g++ -std=c++1y -pthread -D_REENTRANT -Wno-sign-compare -Wno-ignored-attributes      -I stan/lib/stan_math/lib/tbb_2020.3/include    -O3 -I src -I stan/src -I lib/rapidjson_1.1.0/ -I lib/CLI11-1.9.1/ -I stan/lib/stan_math/ -I stan/lib/stan_math/lib/eigen_3.3.9 -I stan/lib/stan_math/lib/boost_1.75.0 -I stan/lib/stan_math/lib/sundials_6.0.0/include -I stan/lib/stan_math/lib/sundials_6.0.0/src/sundials    -DBOOST_DISABLE_ASSERTS          -c -Wno-ignored-attributes   -x c++ -o /home/airline_fit.o /home/airline_fit.hpp\n",
      "g++ -std=c++1y -pthread -D_REENTRANT -Wno-sign-compare -Wno-ignored-attributes      -I stan/lib/stan_math/lib/tbb_2020.3/include    -O3 -I src -I stan/src -I lib/rapidjson_1.1.0/ -I lib/CLI11-1.9.1/ -I stan/lib/stan_math/ -I stan/lib/stan_math/lib/eigen_3.3.9 -I stan/lib/stan_math/lib/boost_1.75.0 -I stan/lib/stan_math/lib/sundials_6.0.0/include -I stan/lib/stan_math/lib/sundials_6.0.0/src/sundials    -DBOOST_DISABLE_ASSERTS                -Wl,-L,\"/opt/cmdstan-2.29.0/stan/lib/stan_math/lib/tbb\" -Wl,-rpath,\"/opt/cmdstan-2.29.0/stan/lib/stan_math/lib/tbb\"      /home/airline_fit.o src/cmdstan/main.o        -Wl,-L,\"/opt/cmdstan-2.29.0/stan/lib/stan_math/lib/tbb\" -Wl,-rpath,\"/opt/cmdstan-2.29.0/stan/lib/stan_math/lib/tbb\"   stan/lib/stan_math/lib/sundials_6.0.0/lib/libsundials_nvecserial.a stan/lib/stan_math/lib/sundials_6.0.0/lib/libsundials_cvodes.a stan/lib/stan_math/lib/sundials_6.0.0/lib/libsundials_idas.a stan/lib/stan_math/lib/sundials_6.0.0/lib/libsundials_kinsol.a  stan/lib/stan_math/lib/tbb/libtbb.so.2 -o /home/airline_fit\n",
      "rm -f /home/airline_fit.o\n",
      "\n"
     ]
    }
   ],
   "source": [
    "fit_model = CmdStanModel(stan_file='airline_fit.stan')"
   ]
  },
  {
   "cell_type": "code",
   "execution_count": 22,
   "id": "66391a3a",
   "metadata": {},
   "outputs": [
    {
     "name": "stderr",
     "output_type": "stream",
     "text": [
      "INFO:cmdstanpy:CmdStan start processing\n",
      "chain 1 |\u001b[33m                                                                                                                                                                    \u001b[0m| 00:00 Status\u001b[0m\n",
      "chain 2 |\u001b[33m                                                                                                                                                                    \u001b[0m| 00:00 Status\u001b[0m\u001b[A\n",
      "\n",
      "chain 3 |\u001b[33m                                                                                                                                                                    \u001b[0m| 00:00 Status\u001b[0m\u001b[A\u001b[A\n",
      "\n",
      "\n",
      "chain 1 |\u001b[33m███████▍                                                                                                                                                            \u001b[0m| 00:00 Status\u001b[0m\u001b[A\u001b[A\u001b[A\n",
      "chain 2 |\u001b[33m███████▍                                                                                                                                                            \u001b[0m| 00:00 Status\u001b[0m\u001b[A\n",
      "\n",
      "chain 3 |\u001b[33m███████▍                                                                                                                                                            \u001b[0m| 00:00 Status\u001b[0m\u001b[A\u001b[A\n",
      "\n",
      "\n",
      "chain 1 |\u001b[33m███████████████████████████████████████████████████████████▌                                                                       \u001b[0m| 00:00 Iteration:  800 / 2000 [ 40%]  (Warmup)\u001b[0m\u001b[A\u001b[A\u001b[A\n",
      "chain 2 |\u001b[33m█████████████████████████████████████████████████████▌                                                                             \u001b[0m| 00:00 Iteration:  700 / 2000 [ 35%]  (Warmup)\u001b[0m\u001b[A\n",
      "\n",
      "\n",
      "chain 4 |\u001b[33m█████████████████████████████████████████████████████▌                                                                             \u001b[0m| 00:00 Iteration:  700 / 2000 [ 35%]  (Warmup)\u001b[0m\u001b[A\u001b[A\u001b[A\n",
      "\n",
      "chain 3 |\u001b[33m█████████████████████████████████████████████████████████████████▌                                                                 \u001b[0m| 00:00 Iteration:  900 / 2000 [ 45%]  (Warmup)\u001b[0m\u001b[A\u001b[A\n",
      "chain 1 |\u001b[34m█████████████████████████████████████████████████████████████████████████████████████████████▊                                   \u001b[0m| 00:00 Iteration: 1300 / 2000 [ 65%]  (Sampling)\u001b[0m\u001b[A\n",
      "\n",
      "\n",
      "chain 4 |\u001b[34m███████████████████████████████████████████████████████████████████████████████████████▉                                         \u001b[0m| 00:00 Iteration: 1200 / 2000 [ 60%]  (Sampling)\u001b[0m\u001b[A\u001b[A\u001b[A\n",
      "\n",
      "chain 3 |\u001b[34m███████████████████████████████████████████████████████████████████████████████████████████████████▋                             \u001b[0m| 00:00 Iteration: 1400 / 2000 [ 70%]  (Sampling)\u001b[0m\u001b[A\u001b[A\n",
      "\n",
      "\n",
      "chain 1 |\u001b[34m█████████████████████████████████████████████████████████████████████████████████████████████████████████████████████████████████\u001b[0m| 00:00 Iteration: 1900 / 2000 [ 95%]  (Sampling)\u001b[0m\u001b[A\u001b[A\u001b[A\n",
      "chain 2 |\u001b[34m███████████████████████████████████████████████████████████████████████████████████████████████████████████████▍                 \u001b[0m| 00:00 Iteration: 1600 / 2000 [ 80%]  (Sampling)\u001b[0m\u001b[A\n",
      "\n",
      "chain 1 |\u001b[34m████████████████████████████████████████████████████████████████████████████████████████████████████████████████████████████████████████████████████████\u001b[0m| 00:00 Sampling completed\u001b[0m\u001b[A\u001b[A\n",
      "chain 2 |\u001b[34m████████████████████████████████████████████████████████████████████████████████████████████████████████████████████████████████████████████████████████\u001b[0m| 00:00 Sampling completed\u001b[0m\n",
      "chain 3 |\u001b[34m████████████████████████████████████████████████████████████████████████████████████████████████████████████████████████████████████████████████████████\u001b[0m| 00:00 Sampling completed\u001b[0m\n",
      "chain 4 |\u001b[34m████████████████████████████████████████████████████████████████████████████████████████████████████████████████████████████████████████████████████████\u001b[0m| 00:00 Sampling completed\u001b[0m"
     ]
    },
    {
     "name": "stdout",
     "output_type": "stream",
     "text": [
      "                                                                                                                                                                                                                                                                                                                                "
     ]
    },
    {
     "name": "stderr",
     "output_type": "stream",
     "text": [
      "\n",
      "INFO:cmdstanpy:CmdStan done processing.\n"
     ]
    },
    {
     "name": "stdout",
     "output_type": "stream",
     "text": [
      "\n"
     ]
    }
   ],
   "source": [
    "data_fit = {'N': len(df), 'miles': df['Miles centered'].values, 'accidents': df['Fatal accidents'].values}\n",
    "fit = fit_model.sample(data=data_fit, seed=15042023)"
   ]
  },
  {
   "cell_type": "code",
   "execution_count": 23,
   "id": "4759dfd2",
   "metadata": {},
   "outputs": [
    {
     "data": {
      "text/html": [
       "<div>\n",
       "<style scoped>\n",
       "    .dataframe tbody tr th:only-of-type {\n",
       "        vertical-align: middle;\n",
       "    }\n",
       "\n",
       "    .dataframe tbody tr th {\n",
       "        vertical-align: top;\n",
       "    }\n",
       "\n",
       "    .dataframe thead th {\n",
       "        text-align: right;\n",
       "    }\n",
       "</style>\n",
       "<table border=\"1\" class=\"dataframe\">\n",
       "  <thead>\n",
       "    <tr style=\"text-align: right;\">\n",
       "      <th></th>\n",
       "      <th>lp__</th>\n",
       "      <th>accept_stat__</th>\n",
       "      <th>stepsize__</th>\n",
       "      <th>treedepth__</th>\n",
       "      <th>n_leapfrog__</th>\n",
       "      <th>divergent__</th>\n",
       "      <th>energy__</th>\n",
       "      <th>alpha</th>\n",
       "      <th>theta</th>\n",
       "      <th>lambda[1]</th>\n",
       "      <th>lambda[2]</th>\n",
       "      <th>lambda[3]</th>\n",
       "      <th>lambda[4]</th>\n",
       "      <th>lambda[5]</th>\n",
       "      <th>lambda[6]</th>\n",
       "      <th>lambda[7]</th>\n",
       "      <th>lambda[8]</th>\n",
       "      <th>lambda[9]</th>\n",
       "      <th>lambda[10]</th>\n",
       "    </tr>\n",
       "  </thead>\n",
       "  <tbody>\n",
       "    <tr>\n",
       "      <th>0</th>\n",
       "      <td>511.952</td>\n",
       "      <td>0.992241</td>\n",
       "      <td>0.994404</td>\n",
       "      <td>1.0</td>\n",
       "      <td>3.0</td>\n",
       "      <td>0.0</td>\n",
       "      <td>-511.355</td>\n",
       "      <td>3.16988</td>\n",
       "      <td>-0.018742</td>\n",
       "      <td>24.6457</td>\n",
       "      <td>24.4447</td>\n",
       "      <td>24.1139</td>\n",
       "      <td>23.9096</td>\n",
       "      <td>23.7608</td>\n",
       "      <td>23.6635</td>\n",
       "      <td>23.7328</td>\n",
       "      <td>23.5794</td>\n",
       "      <td>23.0507</td>\n",
       "      <td>23.1920</td>\n",
       "    </tr>\n",
       "    <tr>\n",
       "      <th>1</th>\n",
       "      <td>511.880</td>\n",
       "      <td>0.845742</td>\n",
       "      <td>0.994404</td>\n",
       "      <td>2.0</td>\n",
       "      <td>3.0</td>\n",
       "      <td>0.0</td>\n",
       "      <td>-510.837</td>\n",
       "      <td>3.15012</td>\n",
       "      <td>-0.008717</td>\n",
       "      <td>23.7188</td>\n",
       "      <td>23.6286</td>\n",
       "      <td>23.4794</td>\n",
       "      <td>23.3866</td>\n",
       "      <td>23.3189</td>\n",
       "      <td>23.2744</td>\n",
       "      <td>23.3060</td>\n",
       "      <td>23.2359</td>\n",
       "      <td>22.9921</td>\n",
       "      <td>23.0575</td>\n",
       "    </tr>\n",
       "    <tr>\n",
       "      <th>2</th>\n",
       "      <td>511.539</td>\n",
       "      <td>0.952048</td>\n",
       "      <td>0.994404</td>\n",
       "      <td>2.0</td>\n",
       "      <td>3.0</td>\n",
       "      <td>0.0</td>\n",
       "      <td>-511.530</td>\n",
       "      <td>3.18673</td>\n",
       "      <td>-0.071500</td>\n",
       "      <td>27.6383</td>\n",
       "      <td>26.7881</td>\n",
       "      <td>25.4312</td>\n",
       "      <td>24.6190</td>\n",
       "      <td>24.0397</td>\n",
       "      <td>23.6662</td>\n",
       "      <td>23.9317</td>\n",
       "      <td>23.3469</td>\n",
       "      <td>21.4120</td>\n",
       "      <td>21.9169</td>\n",
       "    </tr>\n",
       "    <tr>\n",
       "      <th>3</th>\n",
       "      <td>511.577</td>\n",
       "      <td>0.969425</td>\n",
       "      <td>0.994404</td>\n",
       "      <td>2.0</td>\n",
       "      <td>3.0</td>\n",
       "      <td>0.0</td>\n",
       "      <td>-511.049</td>\n",
       "      <td>3.22241</td>\n",
       "      <td>-0.009186</td>\n",
       "      <td>25.5192</td>\n",
       "      <td>25.4170</td>\n",
       "      <td>25.2478</td>\n",
       "      <td>25.1428</td>\n",
       "      <td>25.0660</td>\n",
       "      <td>25.0156</td>\n",
       "      <td>25.0515</td>\n",
       "      <td>24.9720</td>\n",
       "      <td>24.6959</td>\n",
       "      <td>24.7700</td>\n",
       "    </tr>\n",
       "    <tr>\n",
       "      <th>4</th>\n",
       "      <td>511.097</td>\n",
       "      <td>0.889576</td>\n",
       "      <td>0.994404</td>\n",
       "      <td>1.0</td>\n",
       "      <td>1.0</td>\n",
       "      <td>0.0</td>\n",
       "      <td>-511.078</td>\n",
       "      <td>3.25045</td>\n",
       "      <td>-0.006677</td>\n",
       "      <td>26.1231</td>\n",
       "      <td>26.0470</td>\n",
       "      <td>25.9209</td>\n",
       "      <td>25.8424</td>\n",
       "      <td>25.7850</td>\n",
       "      <td>25.7473</td>\n",
       "      <td>25.7742</td>\n",
       "      <td>25.7147</td>\n",
       "      <td>25.5078</td>\n",
       "      <td>25.5634</td>\n",
       "    </tr>\n",
       "  </tbody>\n",
       "</table>\n",
       "</div>"
      ],
      "text/plain": [
       "      lp__  accept_stat__  stepsize__  treedepth__  n_leapfrog__  divergent__  \\\n",
       "0  511.952       0.992241    0.994404          1.0           3.0          0.0   \n",
       "1  511.880       0.845742    0.994404          2.0           3.0          0.0   \n",
       "2  511.539       0.952048    0.994404          2.0           3.0          0.0   \n",
       "3  511.577       0.969425    0.994404          2.0           3.0          0.0   \n",
       "4  511.097       0.889576    0.994404          1.0           1.0          0.0   \n",
       "\n",
       "   energy__    alpha     theta  lambda[1]  lambda[2]  lambda[3]  lambda[4]  \\\n",
       "0  -511.355  3.16988 -0.018742    24.6457    24.4447    24.1139    23.9096   \n",
       "1  -510.837  3.15012 -0.008717    23.7188    23.6286    23.4794    23.3866   \n",
       "2  -511.530  3.18673 -0.071500    27.6383    26.7881    25.4312    24.6190   \n",
       "3  -511.049  3.22241 -0.009186    25.5192    25.4170    25.2478    25.1428   \n",
       "4  -511.078  3.25045 -0.006677    26.1231    26.0470    25.9209    25.8424   \n",
       "\n",
       "   lambda[5]  lambda[6]  lambda[7]  lambda[8]  lambda[9]  lambda[10]  \n",
       "0    23.7608    23.6635    23.7328    23.5794    23.0507     23.1920  \n",
       "1    23.3189    23.2744    23.3060    23.2359    22.9921     23.0575  \n",
       "2    24.0397    23.6662    23.9317    23.3469    21.4120     21.9169  \n",
       "3    25.0660    25.0156    25.0515    24.9720    24.6959     24.7700  \n",
       "4    25.7850    25.7473    25.7742    25.7147    25.5078     25.5634  "
      ]
     },
     "execution_count": 23,
     "metadata": {},
     "output_type": "execute_result"
    }
   ],
   "source": [
    "fit_df = fit.draws_pd()\n",
    "fit_df.head()"
   ]
  },
  {
   "cell_type": "code",
   "execution_count": 24,
   "id": "54a70029",
   "metadata": {},
   "outputs": [],
   "source": [
    "years = df['Year'].values\n",
    "observed_lambda = df['Fatal accidents'].values\n",
    "sampled_lambdas = fit_df.loc[:, \"lambda[1]\":\"lambda[10]\"]"
   ]
  },
  {
   "cell_type": "code",
   "execution_count": 26,
   "id": "637facca",
   "metadata": {},
   "outputs": [
    {
     "data": {
      "image/png": "[encoded data removed]",
      "text/plain": [
       "<Figure size 1296x2160 with 10 Axes>"
      ]
     },
     "metadata": {
      "needs_background": "light"
     },
     "output_type": "display_data"
    }
   ],
   "source": [
    "fig, axes = plt.subplots(int(len(df)/2), 2, figsize=(18, 30))\n",
    "axes = axes.flatten()\n",
    "\n",
    "for i, ax in enumerate(axes):\n",
    "    ax.hist(sampled_lambdas[f'lambda[{i + 1}]'].values, density=True, label='samples')\n",
    "    ax.axvline(x=observed_lambda[i], color='r', label='observed')\n",
    "    ax.set_xlabel('lambda')\n",
    "    ax.set_title(f'Year: {years[i]}')\n",
    "    ax.legend()"
   ]
  },
  {
   "cell_type": "markdown",
   "id": "fd2e8b04",
   "metadata": {},
   "source": [
    "### Posterior predictive distribution with $\\alpha_i$ for each year"
   ]
  },
  {
   "cell_type": "code",
   "execution_count": 35,
   "id": "f53faf27",
   "metadata": {},
   "outputs": [
    {
     "name": "stdout",
     "output_type": "stream",
     "text": [
      "Overwriting airline_fit_2.stan\n"
     ]
    }
   ],
   "source": [
    "%%writefile airline_fit_2.stan\n",
    "\n",
    "data {\n",
    "  int<lower=1> N;\n",
    "  vector[N] miles;\n",
    "  int accidents[N];\n",
    "}\n",
    "\n",
    "parameters {\n",
    "  real alpha[N];\n",
    "  real theta;\n",
    "}\n",
    "\n",
    "transformed parameters {\n",
    "  real lambda[N];\n",
    "  for (i in 1:N) {\n",
    "    lambda[i] = exp(alpha[i] + theta * miles[i]);\n",
    "  }\n",
    "}\n",
    "\n",
    "\n",
    "model {\n",
    "  alpha ~ normal(3, 1);\n",
    "  theta ~ normal(0.45, 0.15);\n",
    "  \n",
    "  for (i in 1:N) {\n",
    "    accidents[i] ~ poisson(lambda[i]);\n",
    "  }\n",
    "}"
   ]
  },
  {
   "cell_type": "code",
   "execution_count": 36,
   "id": "fb8e9130",
   "metadata": {},
   "outputs": [
    {
     "name": "stderr",
     "output_type": "stream",
     "text": [
      "INFO:cmdstanpy:compiling stan file /home/airline_fit_2.stan to exe file /home/airline_fit_2\n",
      "INFO:cmdstanpy:compiled model executable: /home/airline_fit_2\n",
      "WARNING:cmdstanpy:Stan compiler has produced 3 warnings:\n",
      "WARNING:cmdstanpy:\n",
      "--- Translating Stan model to C++ code ---\n",
      "bin/stanc  --o=/home/airline_fit_2.hpp /home/airline_fit_2.stan\n",
      "Warning in '/home/airline_fit_2.stan', line 5, column 2: Declaration of\n",
      "    arrays by placing brackets after a variable name is deprecated and will\n",
      "    be removed in Stan 2.32.0. Instead use the array keyword before the type.\n",
      "    This can be changed automatically using the auto-format flag to stanc\n",
      "Warning in '/home/airline_fit_2.stan', line 9, column 2: Declaration of\n",
      "    arrays by placing brackets after a variable name is deprecated and will\n",
      "    be removed in Stan 2.32.0. Instead use the array keyword before the type.\n",
      "    This can be changed automatically using the auto-format flag to stanc\n",
      "Warning in '/home/airline_fit_2.stan', line 14, column 2: Declaration of\n",
      "    arrays by placing brackets after a variable name is deprecated and will\n",
      "    be removed in Stan 2.32.0. Instead use the array keyword before the type.\n",
      "    This can be changed automatically using the auto-format flag to stanc\n",
      "\n",
      "--- Compiling, linking C++ code ---\n",
      "g++ -std=c++1y -pthread -D_REENTRANT -Wno-sign-compare -Wno-ignored-attributes      -I stan/lib/stan_math/lib/tbb_2020.3/include    -O3 -I src -I stan/src -I lib/rapidjson_1.1.0/ -I lib/CLI11-1.9.1/ -I stan/lib/stan_math/ -I stan/lib/stan_math/lib/eigen_3.3.9 -I stan/lib/stan_math/lib/boost_1.75.0 -I stan/lib/stan_math/lib/sundials_6.0.0/include -I stan/lib/stan_math/lib/sundials_6.0.0/src/sundials    -DBOOST_DISABLE_ASSERTS          -c -Wno-ignored-attributes   -x c++ -o /home/airline_fit_2.o /home/airline_fit_2.hpp\n",
      "g++ -std=c++1y -pthread -D_REENTRANT -Wno-sign-compare -Wno-ignored-attributes      -I stan/lib/stan_math/lib/tbb_2020.3/include    -O3 -I src -I stan/src -I lib/rapidjson_1.1.0/ -I lib/CLI11-1.9.1/ -I stan/lib/stan_math/ -I stan/lib/stan_math/lib/eigen_3.3.9 -I stan/lib/stan_math/lib/boost_1.75.0 -I stan/lib/stan_math/lib/sundials_6.0.0/include -I stan/lib/stan_math/lib/sundials_6.0.0/src/sundials    -DBOOST_DISABLE_ASSERTS                -Wl,-L,\"/opt/cmdstan-2.29.0/stan/lib/stan_math/lib/tbb\" -Wl,-rpath,\"/opt/cmdstan-2.29.0/stan/lib/stan_math/lib/tbb\"      /home/airline_fit_2.o src/cmdstan/main.o        -Wl,-L,\"/opt/cmdstan-2.29.0/stan/lib/stan_math/lib/tbb\" -Wl,-rpath,\"/opt/cmdstan-2.29.0/stan/lib/stan_math/lib/tbb\"   stan/lib/stan_math/lib/sundials_6.0.0/lib/libsundials_nvecserial.a stan/lib/stan_math/lib/sundials_6.0.0/lib/libsundials_cvodes.a stan/lib/stan_math/lib/sundials_6.0.0/lib/libsundials_idas.a stan/lib/stan_math/lib/sundials_6.0.0/lib/libsundials_kinsol.a  stan/lib/stan_math/lib/tbb/libtbb.so.2 -o /home/airline_fit_2\n",
      "rm -f /home/airline_fit_2.o\n",
      "\n"
     ]
    }
   ],
   "source": [
    "fit_model_2 = CmdStanModel(stan_file='airline_fit_2.stan')"
   ]
  },
  {
   "cell_type": "code",
   "execution_count": 37,
   "id": "9eb63203",
   "metadata": {},
   "outputs": [
    {
     "name": "stderr",
     "output_type": "stream",
     "text": [
      "INFO:cmdstanpy:CmdStan start processing\n",
      "chain 1 |\u001b[33m                                                                                                                                                                    \u001b[0m| 00:00 Status\u001b[0m\n",
      "chain 2 |\u001b[33m                                                                                                                                                                    \u001b[0m| 00:00 Status\u001b[0m\u001b[A\n",
      "\n",
      "chain 3 |\u001b[33m                                                                                                                                                                    \u001b[0m| 00:00 Status\u001b[0m\u001b[A\u001b[A\n",
      "\n",
      "\n",
      "chain 1 |\u001b[33m███████▍                                                                                                                                                            \u001b[0m| 00:00 Status\u001b[0m\u001b[A\u001b[A\u001b[A\n",
      "\n",
      "chain 3 |\u001b[33m███████▍                                                                                                                                                            \u001b[0m| 00:00 Status\u001b[0m\u001b[A\u001b[A\n",
      "\n",
      "\n",
      "chain 4 |\u001b[33m███████▍                                                                                                                                                            \u001b[0m| 00:00 Status\u001b[0m\u001b[A\u001b[A\u001b[A\n",
      "chain 1 |\u001b[33m█████████████████▊                                                                                                                 \u001b[0m| 00:00 Iteration:  100 / 2000 [  5%]  (Warmup)\u001b[0m\u001b[A\n",
      "\n",
      "\n",
      "chain 4 |\u001b[33m█████████████████▊                                                                                                                 \u001b[0m| 00:00 Iteration:  100 / 2000 [  5%]  (Warmup)\u001b[0m\u001b[A\u001b[A\u001b[A\n",
      "\n",
      "chain 3 |\u001b[33m███████████████████████▊                                                                                                           \u001b[0m| 00:00 Iteration:  200 / 2000 [ 10%]  (Warmup)\u001b[0m\u001b[A\u001b[A\n",
      "chain 1 |\u001b[33m███████████████████████████████████▋                                                                                               \u001b[0m| 00:00 Iteration:  400 / 2000 [ 20%]  (Warmup)\u001b[0m\u001b[A\n",
      "\n",
      "chain 3 |\u001b[33m█████████████████████████████████████████▋                                                                                         \u001b[0m| 00:00 Iteration:  500 / 2000 [ 25%]  (Warmup)\u001b[0m\u001b[A\u001b[A\n",
      "\n",
      "\n",
      "chain 4 |\u001b[33m███████████████████████████████████▋                                                                                               \u001b[0m| 00:00 Iteration:  400 / 2000 [ 20%]  (Warmup)\u001b[0m\u001b[A\u001b[A\u001b[A\n",
      "chain 2 |\u001b[33m███████████████████████████████████▋                                                                                               \u001b[0m| 00:00 Iteration:  400 / 2000 [ 20%]  (Warmup)\u001b[0m\u001b[A\n",
      "\n",
      "\n",
      "chain 1 |\u001b[33m███████████████████████████████████████████████████████████▌                                                                       \u001b[0m| 00:00 Iteration:  800 / 2000 [ 40%]  (Warmup)\u001b[0m\u001b[A\u001b[A\u001b[A\n",
      "\n",
      "chain 3 |\u001b[33m█████████████████████████████████████████████████████████████████▌                                                                 \u001b[0m| 00:00 Iteration:  900 / 2000 [ 45%]  (Warmup)\u001b[0m\u001b[A\u001b[A\n",
      "chain 2 |\u001b[33m███████████████████████████████████████████████████████████▌                                                                       \u001b[0m| 00:00 Iteration:  800 / 2000 [ 40%]  (Warmup)\u001b[0m\u001b[A\n",
      "\n",
      "\n",
      "chain 4 |\u001b[34m████████████████████████████████████████████████████████████████████████████▏                                                    \u001b[0m| 00:00 Iteration: 1001 / 2000 [ 50%]  (Sampling)\u001b[0m\u001b[A\u001b[A\u001b[A\n",
      "\n",
      "chain 3 |\u001b[34m██████████████████████████████████████████████████████████████████████████████████                                               \u001b[0m| 00:00 Iteration: 1100 / 2000 [ 55%]  (Sampling)\u001b[0m\u001b[A\u001b[A\n",
      "chain 1 |\u001b[34m██████████████████████████████████████████████████████████████████████████████████                                               \u001b[0m| 00:00 Iteration: 1100 / 2000 [ 55%]  (Sampling)\u001b[0m\u001b[A\n",
      "\n",
      "\n",
      "chain 4 |\u001b[34m█████████████████████████████████████████████████████████████████████████████████████████████▊                                   \u001b[0m| 00:00 Iteration: 1300 / 2000 [ 65%]  (Sampling)\u001b[0m\u001b[A\u001b[A\u001b[A\n",
      "\n",
      "chain 3 |\u001b[34m███████████████████████████████████████████████████████████████████████████████████████████████████▋                             \u001b[0m| 00:00 Iteration: 1400 / 2000 [ 70%]  (Sampling)\u001b[0m\u001b[A\u001b[A\n",
      "chain 1 |\u001b[34m███████████████████████████████████████████████████████████████████████████████████████████████████▋                             \u001b[0m| 00:00 Iteration: 1400 / 2000 [ 70%]  (Sampling)\u001b[0m\u001b[A\n",
      "\n",
      "\n",
      "chain 4 |\u001b[34m███████████████████████████████████████████████████████████████████████████████████████████████████████████████▍                 \u001b[0m| 00:00 Iteration: 1600 / 2000 [ 80%]  (Sampling)\u001b[0m\u001b[A\u001b[A\u001b[A\n",
      "chain 2 |\u001b[34m█████████████████████████████████████████████████████████████████████████████████████████████████████████████████████▎           \u001b[0m| 00:01 Iteration: 1700 / 2000 [ 85%]  (Sampling)\u001b[0m\u001b[A\n",
      "\n",
      "chain 3 |\u001b[34m█████████████████████████████████████████████████████████████████████████████████████████████████████████████████████▎           \u001b[0m| 00:01 Iteration: 1700 / 2000 [ 85%]  (Sampling)\u001b[0m\u001b[A\u001b[A\n",
      "\n",
      "\n",
      "chain 1 |\u001b[34m████████████████████████████████████████████████████████████████████████████████████████████████████████████████████████████████████████████████████████\u001b[0m| 00:01 Sampling completed\u001b[0m\u001b[A\u001b[A\u001b[A\n",
      "chain 2 |\u001b[34m████████████████████████████████████████████████████████████████████████████████████████████████████████████████████████████████████████████████████████\u001b[0m| 00:01 Sampling completed\u001b[0m\n",
      "chain 3 |\u001b[34m████████████████████████████████████████████████████████████████████████████████████████████████████████████████████████████████████████████████████████\u001b[0m| 00:01 Sampling completed\u001b[0m\n",
      "chain 4 |\u001b[34m████████████████████████████████████████████████████████████████████████████████████████████████████████████████████████████████████████████████████████\u001b[0m| 00:01 Sampling completed\u001b[0m"
     ]
    },
    {
     "name": "stdout",
     "output_type": "stream",
     "text": [
      "                                                                                                                                                                                                                                                                                                                                "
     ]
    },
    {
     "name": "stderr",
     "output_type": "stream",
     "text": [
      "\n",
      "INFO:cmdstanpy:CmdStan done processing.\n"
     ]
    },
    {
     "name": "stdout",
     "output_type": "stream",
     "text": [
      "\n"
     ]
    }
   ],
   "source": [
    "fit_2 = fit_model_2.sample(data=data_fit, seed=15042023)"
   ]
  },
  {
   "cell_type": "code",
   "execution_count": 38,
   "id": "1e344114",
   "metadata": {
    "scrolled": true
   },
   "outputs": [
    {
     "data": {
      "text/html": [
       "<div>\n",
       "<style scoped>\n",
       "    .dataframe tbody tr th:only-of-type {\n",
       "        vertical-align: middle;\n",
       "    }\n",
       "\n",
       "    .dataframe tbody tr th {\n",
       "        vertical-align: top;\n",
       "    }\n",
       "\n",
       "    .dataframe thead th {\n",
       "        text-align: right;\n",
       "    }\n",
       "</style>\n",
       "<table border=\"1\" class=\"dataframe\">\n",
       "  <thead>\n",
       "    <tr style=\"text-align: right;\">\n",
       "      <th></th>\n",
       "      <th>lp__</th>\n",
       "      <th>accept_stat__</th>\n",
       "      <th>stepsize__</th>\n",
       "      <th>treedepth__</th>\n",
       "      <th>n_leapfrog__</th>\n",
       "      <th>divergent__</th>\n",
       "      <th>energy__</th>\n",
       "      <th>alpha[1]</th>\n",
       "      <th>alpha[2]</th>\n",
       "      <th>alpha[3]</th>\n",
       "      <th>...</th>\n",
       "      <th>lambda[1]</th>\n",
       "      <th>lambda[2]</th>\n",
       "      <th>lambda[3]</th>\n",
       "      <th>lambda[4]</th>\n",
       "      <th>lambda[5]</th>\n",
       "      <th>lambda[6]</th>\n",
       "      <th>lambda[7]</th>\n",
       "      <th>lambda[8]</th>\n",
       "      <th>lambda[9]</th>\n",
       "      <th>lambda[10]</th>\n",
       "    </tr>\n",
       "  </thead>\n",
       "  <tbody>\n",
       "    <tr>\n",
       "      <th>0</th>\n",
       "      <td>514.442</td>\n",
       "      <td>0.979758</td>\n",
       "      <td>0.350659</td>\n",
       "      <td>3.0</td>\n",
       "      <td>15.0</td>\n",
       "      <td>0.0</td>\n",
       "      <td>-508.207</td>\n",
       "      <td>3.67734</td>\n",
       "      <td>3.32388</td>\n",
       "      <td>3.27108</td>\n",
       "      <td>...</td>\n",
       "      <td>27.6307</td>\n",
       "      <td>21.1154</td>\n",
       "      <td>23.0540</td>\n",
       "      <td>33.6475</td>\n",
       "      <td>20.4597</td>\n",
       "      <td>20.6079</td>\n",
       "      <td>32.3520</td>\n",
       "      <td>25.3537</td>\n",
       "      <td>16.3881</td>\n",
       "      <td>27.8950</td>\n",
       "    </tr>\n",
       "    <tr>\n",
       "      <th>1</th>\n",
       "      <td>513.362</td>\n",
       "      <td>0.763645</td>\n",
       "      <td>0.350659</td>\n",
       "      <td>3.0</td>\n",
       "      <td>15.0</td>\n",
       "      <td>0.0</td>\n",
       "      <td>-506.734</td>\n",
       "      <td>3.70803</td>\n",
       "      <td>3.38702</td>\n",
       "      <td>3.40186</td>\n",
       "      <td>...</td>\n",
       "      <td>30.3668</td>\n",
       "      <td>23.6140</td>\n",
       "      <td>26.9050</td>\n",
       "      <td>31.6340</td>\n",
       "      <td>26.7067</td>\n",
       "      <td>14.5331</td>\n",
       "      <td>28.5439</td>\n",
       "      <td>22.4823</td>\n",
       "      <td>10.6202</td>\n",
       "      <td>23.1259</td>\n",
       "    </tr>\n",
       "    <tr>\n",
       "      <th>2</th>\n",
       "      <td>515.600</td>\n",
       "      <td>1.000000</td>\n",
       "      <td>0.350659</td>\n",
       "      <td>3.0</td>\n",
       "      <td>7.0</td>\n",
       "      <td>0.0</td>\n",
       "      <td>-511.011</td>\n",
       "      <td>3.40683</td>\n",
       "      <td>3.36783</td>\n",
       "      <td>3.51529</td>\n",
       "      <td>...</td>\n",
       "      <td>24.2886</td>\n",
       "      <td>24.5853</td>\n",
       "      <td>31.0216</td>\n",
       "      <td>37.9246</td>\n",
       "      <td>20.2783</td>\n",
       "      <td>18.7581</td>\n",
       "      <td>21.4980</td>\n",
       "      <td>19.0095</td>\n",
       "      <td>17.5661</td>\n",
       "      <td>17.7065</td>\n",
       "    </tr>\n",
       "    <tr>\n",
       "      <th>3</th>\n",
       "      <td>512.872</td>\n",
       "      <td>0.801215</td>\n",
       "      <td>0.350659</td>\n",
       "      <td>2.0</td>\n",
       "      <td>7.0</td>\n",
       "      <td>0.0</td>\n",
       "      <td>-502.506</td>\n",
       "      <td>3.14189</td>\n",
       "      <td>3.43596</td>\n",
       "      <td>3.56334</td>\n",
       "      <td>...</td>\n",
       "      <td>20.1154</td>\n",
       "      <td>27.9012</td>\n",
       "      <td>33.4865</td>\n",
       "      <td>40.2215</td>\n",
       "      <td>17.7494</td>\n",
       "      <td>17.4370</td>\n",
       "      <td>19.7456</td>\n",
       "      <td>18.0483</td>\n",
       "      <td>13.0973</td>\n",
       "      <td>22.9558</td>\n",
       "    </tr>\n",
       "    <tr>\n",
       "      <th>4</th>\n",
       "      <td>515.027</td>\n",
       "      <td>0.976581</td>\n",
       "      <td>0.350659</td>\n",
       "      <td>4.0</td>\n",
       "      <td>15.0</td>\n",
       "      <td>0.0</td>\n",
       "      <td>-510.239</td>\n",
       "      <td>4.09736</td>\n",
       "      <td>3.68403</td>\n",
       "      <td>3.64489</td>\n",
       "      <td>...</td>\n",
       "      <td>27.1762</td>\n",
       "      <td>21.6828</td>\n",
       "      <td>28.4838</td>\n",
       "      <td>22.9908</td>\n",
       "      <td>25.3166</td>\n",
       "      <td>24.4923</td>\n",
       "      <td>31.3400</td>\n",
       "      <td>19.7729</td>\n",
       "      <td>22.1784</td>\n",
       "      <td>19.0815</td>\n",
       "    </tr>\n",
       "  </tbody>\n",
       "</table>\n",
       "<p>5 rows × 28 columns</p>\n",
       "</div>"
      ],
      "text/plain": [
       "      lp__  accept_stat__  stepsize__  treedepth__  n_leapfrog__  divergent__  \\\n",
       "0  514.442       0.979758    0.350659          3.0          15.0          0.0   \n",
       "1  513.362       0.763645    0.350659          3.0          15.0          0.0   \n",
       "2  515.600       1.000000    0.350659          3.0           7.0          0.0   \n",
       "3  512.872       0.801215    0.350659          2.0           7.0          0.0   \n",
       "4  515.027       0.976581    0.350659          4.0          15.0          0.0   \n",
       "\n",
       "   energy__  alpha[1]  alpha[2]  alpha[3]  ...  lambda[1]  lambda[2]  \\\n",
       "0  -508.207   3.67734   3.32388   3.27108  ...    27.6307    21.1154   \n",
       "1  -506.734   3.70803   3.38702   3.40186  ...    30.3668    23.6140   \n",
       "2  -511.011   3.40683   3.36783   3.51529  ...    24.2886    24.5853   \n",
       "3  -502.506   3.14189   3.43596   3.56334  ...    20.1154    27.9012   \n",
       "4  -510.239   4.09736   3.68403   3.64489  ...    27.1762    21.6828   \n",
       "\n",
       "   lambda[3]  lambda[4]  lambda[5]  lambda[6]  lambda[7]  lambda[8]  \\\n",
       "0    23.0540    33.6475    20.4597    20.6079    32.3520    25.3537   \n",
       "1    26.9050    31.6340    26.7067    14.5331    28.5439    22.4823   \n",
       "2    31.0216    37.9246    20.2783    18.7581    21.4980    19.0095   \n",
       "3    33.4865    40.2215    17.7494    17.4370    19.7456    18.0483   \n",
       "4    28.4838    22.9908    25.3166    24.4923    31.3400    19.7729   \n",
       "\n",
       "   lambda[9]  lambda[10]  \n",
       "0    16.3881     27.8950  \n",
       "1    10.6202     23.1259  \n",
       "2    17.5661     17.7065  \n",
       "3    13.0973     22.9558  \n",
       "4    22.1784     19.0815  \n",
       "\n",
       "[5 rows x 28 columns]"
      ]
     },
     "execution_count": 38,
     "metadata": {},
     "output_type": "execute_result"
    }
   ],
   "source": [
    "fit_2_df = fit_2.draws_pd()\n",
    "fit_2_df.head()"
   ]
  },
  {
   "cell_type": "code",
   "execution_count": 39,
   "id": "b717e92e",
   "metadata": {},
   "outputs": [],
   "source": [
    "years = df['Year'].values\n",
    "observed_lambda = df['Fatal accidents'].values\n",
    "sampled_lambdas = fit_2_df.loc[:, \"lambda[1]\":\"lambda[10]\"]"
   ]
  },
  {
   "cell_type": "code",
   "execution_count": 40,
   "id": "f5ff9c36",
   "metadata": {},
   "outputs": [
    {
     "data": {
      "image/png": "[encoded data removed]",
      "text/plain": [
       "<Figure size 1296x2160 with 10 Axes>"
      ]
     },
     "metadata": {
      "needs_background": "light"
     },
     "output_type": "display_data"
    }
   ],
   "source": [
    "fig, axes = plt.subplots(int(len(df)/2), 2, figsize=(18, 30))\n",
    "axes = axes.flatten()\n",
    "\n",
    "for i, ax in enumerate(axes):\n",
    "    ax.hist(sampled_lambdas[f'lambda[{i + 1}]'].values, density=True, label='samples')\n",
    "    ax.axvline(x=observed_lambda[i], color='r', label='observed')\n",
    "    ax.set_xlabel('lambda')\n",
    "    ax.set_title(f'Year: {years[i]}')\n",
    "    ax.legend()"
   ]
  },
  {
   "cell_type": "markdown",
   "id": "7f94e30c",
   "metadata": {},
   "source": [
    "### Conclusions \n",
    "When using a single value for the parameter $\\alpha$, the posterior distributions have difficulty in accurately reflecting the observed data. However, by introducing individual intercepts $\\alpha_i$ for each year, the model significantly improves its ability to fit the data. In fact, it can be argued that the model now provides a rather accurate representation of the observed values.\n",
    "It was essential to carefully select appropriate parameters for the prior distribution to ensure a meaningful analysis. Initially, the prior exhibited a broad range of plausible outcomes for the number of accidents. However, after conducting the posterior predictive analysis, the range of likely outcomes has been effectively narrowed down, resulting in a more precise understanding of the accident trends."
   ]
  },
  {
   "cell_type": "code",
   "execution_count": null,
   "id": "273566a0",
   "metadata": {},
   "outputs": [],
   "source": []
  }
 ],
 "metadata": {
  "kernelspec": {
   "display_name": "Python 3 (ipykernel)",
   "language": "python",
   "name": "python3"
  },
  "language_info": {
   "codemirror_mode": {
    "name": "ipython",
    "version": 3
   },
   "file_extension": ".py",
   "mimetype": "text/x-python",
   "name": "python",
   "nbconvert_exporter": "python",
   "pygments_lexer": "ipython3",
   "version": "3.9.11"
  }
 },
 "nbformat": 4,
 "nbformat_minor": 5
}
