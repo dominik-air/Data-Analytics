{
 "cells": [
  {
   "cell_type": "markdown",
   "metadata": {},
   "source": [
    "# Lab 4 - Linear models\n",
    "\n",
    "We focus on models in the form \n",
    "\n",
    "$$ y \\sim \\mathrm{Normal}(\\alpha+X\\beta,\\sigma) $$\n",
    "\n"
   ]
  },
  {
   "cell_type": "code",
   "execution_count": 1,
   "metadata": {},
   "outputs": [
    {
     "name": "stderr",
     "output_type": "stream",
     "text": [
      "/usr/local/lib/python3.9/site-packages/tqdm/auto.py:22: TqdmWarning: IProgress not found. Please update jupyter and ipywidgets. See https://ipywidgets.readthedocs.io/en/stable/user_install.html\n",
      "  from .autonotebook import tqdm as notebook_tqdm\n"
     ]
    }
   ],
   "source": [
    "from cmdstanpy import CmdStanModel\n",
    "\n",
    "\n",
    "import arviz as az\n",
    "import numpy as np\n",
    "import scipy.stats as stats\n",
    "\n",
    "import matplotlib.pyplot as plt\n",
    "import pandas as pd"
   ]
  },
  {
   "cell_type": "markdown",
   "metadata": {},
   "source": [
    "## Excercise 1 - modelling height of !Kung people"
   ]
  },
  {
   "cell_type": "markdown",
   "metadata": {},
   "source": [
    "### Normal model - no predictors\n",
    "We will try to fit $\\mathrm{Normal}(\\mu,\\sigma)$ distribution to height data. Special case of linear model with $\\beta=0$."
   ]
  },
  {
   "cell_type": "code",
   "execution_count": 2,
   "metadata": {},
   "outputs": [
    {
     "data": {
      "text/html": [
       "<div>\n",
       "<style scoped>\n",
       "    .dataframe tbody tr th:only-of-type {\n",
       "        vertical-align: middle;\n",
       "    }\n",
       "\n",
       "    .dataframe tbody tr th {\n",
       "        vertical-align: top;\n",
       "    }\n",
       "\n",
       "    .dataframe thead th {\n",
       "        text-align: right;\n",
       "    }\n",
       "</style>\n",
       "<table border=\"1\" class=\"dataframe\">\n",
       "  <thead>\n",
       "    <tr style=\"text-align: right;\">\n",
       "      <th></th>\n",
       "      <th>height</th>\n",
       "      <th>weight</th>\n",
       "      <th>age</th>\n",
       "      <th>male</th>\n",
       "    </tr>\n",
       "  </thead>\n",
       "  <tbody>\n",
       "    <tr>\n",
       "      <th>0</th>\n",
       "      <td>151.765</td>\n",
       "      <td>47.825606</td>\n",
       "      <td>63.0</td>\n",
       "      <td>1</td>\n",
       "    </tr>\n",
       "    <tr>\n",
       "      <th>1</th>\n",
       "      <td>139.700</td>\n",
       "      <td>36.485807</td>\n",
       "      <td>63.0</td>\n",
       "      <td>0</td>\n",
       "    </tr>\n",
       "    <tr>\n",
       "      <th>2</th>\n",
       "      <td>136.525</td>\n",
       "      <td>31.864838</td>\n",
       "      <td>65.0</td>\n",
       "      <td>0</td>\n",
       "    </tr>\n",
       "    <tr>\n",
       "      <th>3</th>\n",
       "      <td>156.845</td>\n",
       "      <td>53.041914</td>\n",
       "      <td>41.0</td>\n",
       "      <td>1</td>\n",
       "    </tr>\n",
       "    <tr>\n",
       "      <th>4</th>\n",
       "      <td>145.415</td>\n",
       "      <td>41.276872</td>\n",
       "      <td>51.0</td>\n",
       "      <td>0</td>\n",
       "    </tr>\n",
       "  </tbody>\n",
       "</table>\n",
       "</div>"
      ],
      "text/plain": [
       "    height     weight   age  male\n",
       "0  151.765  47.825606  63.0     1\n",
       "1  139.700  36.485807  63.0     0\n",
       "2  136.525  31.864838  65.0     0\n",
       "3  156.845  53.041914  41.0     1\n",
       "4  145.415  41.276872  51.0     0"
      ]
     },
     "execution_count": 2,
     "metadata": {},
     "output_type": "execute_result"
    }
   ],
   "source": [
    "_BASE_URL = \"https://raw.githubusercontent.com/rmcelreath/rethinking/Experimental/data\"\n",
    "HOWELL_DATASET_PATH = f\"{_BASE_URL}/Howell1.csv\"\n",
    "d = pd.read_csv(HOWELL_DATASET_PATH, sep=';', header=0)\n",
    "d=d[d.age>=18] #just adults \n",
    "d.head()"
   ]
  },
  {
   "cell_type": "code",
   "execution_count": 3,
   "metadata": {},
   "outputs": [
    {
     "data": {
      "text/html": [
       "<div>\n",
       "<style scoped>\n",
       "    .dataframe tbody tr th:only-of-type {\n",
       "        vertical-align: middle;\n",
       "    }\n",
       "\n",
       "    .dataframe tbody tr th {\n",
       "        vertical-align: top;\n",
       "    }\n",
       "\n",
       "    .dataframe thead th {\n",
       "        text-align: right;\n",
       "    }\n",
       "</style>\n",
       "<table border=\"1\" class=\"dataframe\">\n",
       "  <thead>\n",
       "    <tr style=\"text-align: right;\">\n",
       "      <th></th>\n",
       "      <th>height</th>\n",
       "      <th>weight</th>\n",
       "      <th>age</th>\n",
       "      <th>male</th>\n",
       "    </tr>\n",
       "  </thead>\n",
       "  <tbody>\n",
       "    <tr>\n",
       "      <th>count</th>\n",
       "      <td>352.000000</td>\n",
       "      <td>352.000000</td>\n",
       "      <td>352.000000</td>\n",
       "      <td>352.000000</td>\n",
       "    </tr>\n",
       "    <tr>\n",
       "      <th>mean</th>\n",
       "      <td>154.597093</td>\n",
       "      <td>44.990486</td>\n",
       "      <td>41.138494</td>\n",
       "      <td>0.468750</td>\n",
       "    </tr>\n",
       "    <tr>\n",
       "      <th>std</th>\n",
       "      <td>7.742332</td>\n",
       "      <td>6.456708</td>\n",
       "      <td>15.967855</td>\n",
       "      <td>0.499733</td>\n",
       "    </tr>\n",
       "    <tr>\n",
       "      <th>min</th>\n",
       "      <td>136.525000</td>\n",
       "      <td>31.071052</td>\n",
       "      <td>18.000000</td>\n",
       "      <td>0.000000</td>\n",
       "    </tr>\n",
       "    <tr>\n",
       "      <th>25%</th>\n",
       "      <td>148.590000</td>\n",
       "      <td>40.256290</td>\n",
       "      <td>28.000000</td>\n",
       "      <td>0.000000</td>\n",
       "    </tr>\n",
       "    <tr>\n",
       "      <th>50%</th>\n",
       "      <td>154.305000</td>\n",
       "      <td>44.792210</td>\n",
       "      <td>39.000000</td>\n",
       "      <td>0.000000</td>\n",
       "    </tr>\n",
       "    <tr>\n",
       "      <th>75%</th>\n",
       "      <td>160.655000</td>\n",
       "      <td>49.292693</td>\n",
       "      <td>51.000000</td>\n",
       "      <td>1.000000</td>\n",
       "    </tr>\n",
       "    <tr>\n",
       "      <th>max</th>\n",
       "      <td>179.070000</td>\n",
       "      <td>62.992589</td>\n",
       "      <td>88.000000</td>\n",
       "      <td>1.000000</td>\n",
       "    </tr>\n",
       "  </tbody>\n",
       "</table>\n",
       "</div>"
      ],
      "text/plain": [
       "           height      weight         age        male\n",
       "count  352.000000  352.000000  352.000000  352.000000\n",
       "mean   154.597093   44.990486   41.138494    0.468750\n",
       "std      7.742332    6.456708   15.967855    0.499733\n",
       "min    136.525000   31.071052   18.000000    0.000000\n",
       "25%    148.590000   40.256290   28.000000    0.000000\n",
       "50%    154.305000   44.792210   39.000000    0.000000\n",
       "75%    160.655000   49.292693   51.000000    1.000000\n",
       "max    179.070000   62.992589   88.000000    1.000000"
      ]
     },
     "execution_count": 3,
     "metadata": {},
     "output_type": "execute_result"
    }
   ],
   "source": [
    "d.describe()"
   ]
  },
  {
   "cell_type": "code",
   "execution_count": 4,
   "metadata": {},
   "outputs": [
    {
     "name": "stdout",
     "output_type": "stream",
     "text": [
      "Overwriting height_1_ppc.stan\n"
     ]
    }
   ],
   "source": [
    "%%writefile height_1_ppc.stan\n",
    "\n",
    "generated quantities {\n",
    "  real u = normal_rng(154, 7.7);\n",
    "  real sigma = normal_rng(15, 3);\n",
    "  real height = normal_rng(u, sigma);\n",
    "}"
   ]
  },
  {
   "cell_type": "code",
   "execution_count": 5,
   "metadata": {},
   "outputs": [],
   "source": [
    "import seaborn as sns"
   ]
  },
  {
   "cell_type": "markdown",
   "metadata": {},
   "source": [
    "## Task 1. Prior predictive checks"
   ]
  },
  {
   "cell_type": "code",
   "execution_count": 6,
   "metadata": {},
   "outputs": [
    {
     "name": "stderr",
     "output_type": "stream",
     "text": [
      "INFO:cmdstanpy:compiling stan file /home/height_1_ppc.stan to exe file /home/height_1_ppc\n",
      "INFO:cmdstanpy:compiled model executable: /home/height_1_ppc\n",
      "INFO:cmdstanpy:CmdStan start processing\n",
      "chain 1 |\u001b[34m█████████████████████████████████████████████████████████████████████████████████████████████████████████████████████████████████████████████████████████████████████████\u001b[0m| 00:00 Sampling completed\u001b[0m"
     ]
    },
    {
     "name": "stdout",
     "output_type": "stream",
     "text": [
      "                                                                                "
     ]
    },
    {
     "name": "stderr",
     "output_type": "stream",
     "text": [
      "\n",
      "INFO:cmdstanpy:CmdStan done processing.\n"
     ]
    },
    {
     "name": "stdout",
     "output_type": "stream",
     "text": [
      "\n"
     ]
    }
   ],
   "source": [
    "model_ppc=CmdStanModel(stan_file='height_1_ppc.stan')\n",
    "\n",
    "R = 1000\n",
    "sim=model_ppc.sample(iter_sampling=R,\n",
    "                     iter_warmup=0,\n",
    "                     chains=1,\n",
    "                     fixed_param=True,\n",
    "                     seed=29042020,refresh=R)"
   ]
  },
  {
   "cell_type": "code",
   "execution_count": 7,
   "metadata": {},
   "outputs": [
    {
     "data": {
      "text/html": [
       "<div>\n",
       "<style scoped>\n",
       "    .dataframe tbody tr th:only-of-type {\n",
       "        vertical-align: middle;\n",
       "    }\n",
       "\n",
       "    .dataframe tbody tr th {\n",
       "        vertical-align: top;\n",
       "    }\n",
       "\n",
       "    .dataframe thead th {\n",
       "        text-align: right;\n",
       "    }\n",
       "</style>\n",
       "<table border=\"1\" class=\"dataframe\">\n",
       "  <thead>\n",
       "    <tr style=\"text-align: right;\">\n",
       "      <th></th>\n",
       "      <th>lp__</th>\n",
       "      <th>accept_stat__</th>\n",
       "      <th>u</th>\n",
       "      <th>sigma</th>\n",
       "      <th>height</th>\n",
       "    </tr>\n",
       "  </thead>\n",
       "  <tbody>\n",
       "    <tr>\n",
       "      <th>0</th>\n",
       "      <td>0.0</td>\n",
       "      <td>0.0</td>\n",
       "      <td>174.853</td>\n",
       "      <td>17.3315</td>\n",
       "      <td>152.803</td>\n",
       "    </tr>\n",
       "    <tr>\n",
       "      <th>1</th>\n",
       "      <td>0.0</td>\n",
       "      <td>0.0</td>\n",
       "      <td>154.982</td>\n",
       "      <td>10.8317</td>\n",
       "      <td>157.649</td>\n",
       "    </tr>\n",
       "    <tr>\n",
       "      <th>2</th>\n",
       "      <td>0.0</td>\n",
       "      <td>0.0</td>\n",
       "      <td>163.230</td>\n",
       "      <td>21.7960</td>\n",
       "      <td>184.391</td>\n",
       "    </tr>\n",
       "    <tr>\n",
       "      <th>3</th>\n",
       "      <td>0.0</td>\n",
       "      <td>0.0</td>\n",
       "      <td>158.276</td>\n",
       "      <td>16.7968</td>\n",
       "      <td>157.906</td>\n",
       "    </tr>\n",
       "    <tr>\n",
       "      <th>4</th>\n",
       "      <td>0.0</td>\n",
       "      <td>0.0</td>\n",
       "      <td>164.103</td>\n",
       "      <td>13.9736</td>\n",
       "      <td>159.755</td>\n",
       "    </tr>\n",
       "  </tbody>\n",
       "</table>\n",
       "</div>"
      ],
      "text/plain": [
       "   lp__  accept_stat__        u    sigma   height\n",
       "0   0.0            0.0  174.853  17.3315  152.803\n",
       "1   0.0            0.0  154.982  10.8317  157.649\n",
       "2   0.0            0.0  163.230  21.7960  184.391\n",
       "3   0.0            0.0  158.276  16.7968  157.906\n",
       "4   0.0            0.0  164.103  13.9736  159.755"
      ]
     },
     "execution_count": 7,
     "metadata": {},
     "output_type": "execute_result"
    }
   ],
   "source": [
    "sim_df = sim.draws_pd()\n",
    "sim_df.head()"
   ]
  },
  {
   "cell_type": "code",
   "execution_count": 8,
   "metadata": {},
   "outputs": [
    {
     "data": {
      "text/plain": [
       "lp__               0.000000\n",
       "accept_stat__      0.000000\n",
       "u                154.295303\n",
       "sigma             14.945527\n",
       "height           155.377509\n",
       "dtype: float64"
      ]
     },
     "execution_count": 8,
     "metadata": {},
     "output_type": "execute_result"
    }
   ],
   "source": [
    "sim_df.mean()"
   ]
  },
  {
   "cell_type": "markdown",
   "metadata": {},
   "source": [
    "\n",
    "\n",
    "1. Plot histograms of mu, sigma and simulated height.\n",
    "2. Plot a joint distribution of mu and sigma.\n",
    "3. Check if samples are consistent with priors.\n",
    "4. Correct prior parameters to make them reasonably spreaded out. \n",
    "5. Check if observed data is possible to obtain using priors."
   ]
  },
  {
   "cell_type": "code",
   "execution_count": 9,
   "metadata": {},
   "outputs": [
    {
     "data": {
      "image/png": "[encoded data removed]",
      "text/plain": [
       "<Figure size 1152x288 with 3 Axes>"
      ]
     },
     "metadata": {
      "needs_background": "light"
     },
     "output_type": "display_data"
    }
   ],
   "source": [
    "fig, ax = plt.subplots(1, 3, figsize=(16, 4))\n",
    "sns.histplot(data=sim_df, stat='density', x='u', ax=ax[0])\n",
    "ax[0].axvline(x=sim_df.u.mean(), color='r', label='mean(u)')\n",
    "sns.histplot(data=sim_df, stat='density', x='sigma', ax=ax[1])\n",
    "ax[1].axvline(x=sim_df.sigma.mean(), color='r', label='mean(sigma)')\n",
    "sns.histplot(data=sim_df, stat='density', x='height', ax=ax[2])\n",
    "ax[2].axvline(x=sim_df.height.mean(), color='r', label='mean(height)')\n",
    "for a in ax:\n",
    "    a.legend()\n",
    "plt.show()"
   ]
  },
  {
   "cell_type": "code",
   "execution_count": 10,
   "metadata": {},
   "outputs": [
    {
     "data": {
      "text/plain": [
       "<seaborn.axisgrid.JointGrid at 0x40822f5a60>"
      ]
     },
     "execution_count": 10,
     "metadata": {},
     "output_type": "execute_result"
    },
    {
     "data": {
      "image/png": "[encoded data removed]",
      "text/plain": [
       "<Figure size 432x432 with 3 Axes>"
      ]
     },
     "metadata": {
      "needs_background": "light"
     },
     "output_type": "display_data"
    }
   ],
   "source": [
    "sns.jointplot(data=sim_df, x='u', y='sigma')"
   ]
  },
  {
   "cell_type": "markdown",
   "metadata": {},
   "source": [
    "The samples appear to be consistent with the priors. The summary statistics such as mean and standard deviation are similiar and the distributions also resemble one another."
   ]
  },
  {
   "cell_type": "code",
   "execution_count": 11,
   "metadata": {},
   "outputs": [
    {
     "data": {
      "image/png": "[encoded data removed]",
      "text/plain": [
       "<Figure size 432x288 with 1 Axes>"
      ]
     },
     "metadata": {
      "needs_background": "light"
     },
     "output_type": "display_data"
    }
   ],
   "source": [
    "sns.kdeplot(data=d, x='height', label=\"data\")\n",
    "sns.kdeplot(data=sim_df, x='height', label=\"samples\")\n",
    "plt.legend()\n",
    "plt.show()"
   ]
  },
  {
   "cell_type": "markdown",
   "metadata": {},
   "source": [
    "LGTM. It's quite good if we take into account the measurement errors."
   ]
  },
  {
   "cell_type": "markdown",
   "metadata": {},
   "source": [
    "## Task 2. Model fit and evaluation"
   ]
  },
  {
   "cell_type": "code",
   "execution_count": 12,
   "metadata": {},
   "outputs": [
    {
     "name": "stdout",
     "output_type": "stream",
     "text": [
      "Overwriting height_1_fit.stan\n"
     ]
    }
   ],
   "source": [
    "%%writefile height_1_fit.stan\n",
    "\n",
    "data {\n",
    "    int<lower=0> N;\n",
    "    vector[N] heights;\n",
    "}\n",
    "\n",
    "parameters {\n",
    "    real<lower=0> mean;\n",
    "    real<lower=0> sigma;\n",
    "}\n",
    "\n",
    "model {\n",
    "    mean ~ normal(154, 7.7);\n",
    "    sigma ~ normal(15, 3);\n",
    "    \n",
    "    heights ~ normal(mean, sigma);\n",
    "}\n",
    "\n",
    "generated quantities {\n",
    "    real h_hat = normal_rng(mean, sigma);\n",
    "}"
   ]
  },
  {
   "cell_type": "code",
   "execution_count": 13,
   "metadata": {},
   "outputs": [
    {
     "name": "stderr",
     "output_type": "stream",
     "text": [
      "INFO:cmdstanpy:compiling stan file /home/height_1_fit.stan to exe file /home/height_1_fit\n",
      "INFO:cmdstanpy:compiled model executable: /home/height_1_fit\n"
     ]
    }
   ],
   "source": [
    "model_1_fit=CmdStanModel(stan_file='height_1_fit.stan')"
   ]
  },
  {
   "cell_type": "code",
   "execution_count": 14,
   "metadata": {},
   "outputs": [
    {
     "name": "stderr",
     "output_type": "stream",
     "text": [
      "INFO:cmdstanpy:CmdStan start processing\n",
      "chain 1 |\u001b[33m                                                                                                                                                                                     \u001b[0m| 00:00 Status\u001b[0m\n",
      "chain 2 |\u001b[33m                                                                                                                                                                                     \u001b[0m| 00:00 Status\u001b[0m\u001b[A\n",
      "\n",
      "chain 3 |\u001b[33m                                                                                                                                                                                     \u001b[0m| 00:00 Status\u001b[0m\u001b[A\u001b[A\n",
      "\n",
      "\n",
      "chain 1 |\u001b[33m████████▏                                                                                                                                                                            \u001b[0m| 00:00 Status\u001b[0m\u001b[A\u001b[A\u001b[A\n",
      "chain 2 |\u001b[33m████████▏                                                                                                                                                                            \u001b[0m| 00:00 Status\u001b[0m\u001b[A\n",
      "\n",
      "chain 3 |\u001b[33m████████▏                                                                                                                                                                            \u001b[0m| 00:00 Status\u001b[0m\u001b[A\u001b[A\n",
      "\n",
      "\n",
      "chain 1 |\u001b[33m██████████████████████████▉                                                                                                                         \u001b[0m| 00:00 Iteration:  200 / 2000 [ 10%]  (Warmup)\u001b[0m\u001b[A\u001b[A\u001b[A\n",
      "chain 2 |\u001b[33m████████████████████████████████████████▎                                                                                                           \u001b[0m| 00:00 Iteration:  400 / 2000 [ 20%]  (Warmup)\u001b[0m\u001b[A\n",
      "\n",
      "chain 3 |\u001b[33m██████████████████████████▉                                                                                                                         \u001b[0m| 00:00 Iteration:  200 / 2000 [ 10%]  (Warmup)\u001b[0m\u001b[A\u001b[A\n",
      "\n",
      "\n",
      "chain 1 |\u001b[33m████████████████████████████████████████████████████████████▌                                                                                       \u001b[0m| 00:00 Iteration:  700 / 2000 [ 35%]  (Warmup)\u001b[0m\u001b[A\u001b[A\u001b[A\n",
      "chain 2 |\u001b[33m██████████████████████████████████████████████████████████████████████████                                                                          \u001b[0m| 00:00 Iteration:  900 / 2000 [ 45%]  (Warmup)\u001b[0m\u001b[A\n",
      "\n",
      "chain 3 |\u001b[33m███████████████████████████████████████████████                                                                                                     \u001b[0m| 00:00 Iteration:  500 / 2000 [ 25%]  (Warmup)\u001b[0m\u001b[A\u001b[A\n",
      "\n",
      "\n",
      "chain 1 |\u001b[34m██████████████████████████████████████████████████████████████████████████████████████▎                                                           \u001b[0m| 00:00 Iteration: 1001 / 2000 [ 50%]  (Sampling)\u001b[0m\u001b[A\u001b[A\u001b[A\n",
      "\n",
      "chain 3 |\u001b[33m███████████████████████████████████████████████████████████████████▎                                                                                \u001b[0m| 00:00 Iteration:  800 / 2000 [ 40%]  (Warmup)\u001b[0m\u001b[A\u001b[A\n",
      "chain 2 |\u001b[34m███████████████████████████████████████████████████████████████████████████████████████████████████▌                                              \u001b[0m| 00:00 Iteration: 1200 / 2000 [ 60%]  (Sampling)\u001b[0m\u001b[A\n",
      "\n",
      "\n",
      "chain 4 |\u001b[34m████████████████████████████████████████████████████████████████████████████████▋                                                                   \u001b[0m| 00:00 Iteration: 1000 / 2000 [ 50%]  (Warmup)\u001b[0m\u001b[A\u001b[A\u001b[A\n",
      "\n",
      "chain 3 |\u001b[34m████████████████████████████████████████████████████████████████████████████████████████████▉                                                     \u001b[0m| 00:00 Iteration: 1100 / 2000 [ 55%]  (Sampling)\u001b[0m\u001b[A\u001b[A\n",
      "\n",
      "\n",
      "chain 4 |\u001b[34m███████████████████████████████████████████████████████████████████████████████████████████████████▌                                              \u001b[0m| 00:00 Iteration: 1200 / 2000 [ 60%]  (Sampling)\u001b[0m\u001b[A\u001b[A\u001b[A\n",
      "chain 1 |\u001b[34m████████████████████████████████████████████████████████████████████████████████████████████████████████████████▊                                 \u001b[0m| 00:00 Iteration: 1400 / 2000 [ 70%]  (Sampling)\u001b[0m\u001b[A\n",
      "\n",
      "chain 3 |\u001b[34m████████████████████████████████████████████████████████████████████████████████████████████████████████████████▊                                 \u001b[0m| 00:00 Iteration: 1400 / 2000 [ 70%]  (Sampling)\u001b[0m\u001b[A\u001b[A\n",
      "\n",
      "\n",
      "chain 1 |\u001b[34m████████████████████████████████████████████████████████████████████████████████████████████████████████████████████████████████████▋             \u001b[0m| 00:00 Iteration: 1700 / 2000 [ 85%]  (Sampling)\u001b[0m\u001b[A\u001b[A\u001b[A\n",
      "\n",
      "chain 1 |\u001b[34m█████████████████████████████████████████████████████████████████████████████████████████████████████████████████████████████████████████████████████████████████████████\u001b[0m| 00:01 Sampling completed\u001b[0m\u001b[A\u001b[A\n",
      "chain 2 |\u001b[34m█████████████████████████████████████████████████████████████████████████████████████████████████████████████████████████████████████████████████████████████████████████\u001b[0m| 00:01 Sampling completed\u001b[0m\n",
      "chain 3 |\u001b[34m█████████████████████████████████████████████████████████████████████████████████████████████████████████████████████████████████████████████████████████████████████████\u001b[0m| 00:01 Sampling completed\u001b[0m\n",
      "chain 4 |\u001b[34m█████████████████████████████████████████████████████████████████████████████████████████████████████████████████████████████████████████████████████████████████████████\u001b[0m| 00:01 Sampling completed\u001b[0m"
     ]
    },
    {
     "name": "stdout",
     "output_type": "stream",
     "text": [
      "                                                                                "
     ]
    },
    {
     "name": "stderr",
     "output_type": "stream",
     "text": [
      "\n"
     ]
    },
    {
     "name": "stdout",
     "output_type": "stream",
     "text": [
      "                                                                                                                                                                                                                                                "
     ]
    },
    {
     "name": "stderr",
     "output_type": "stream",
     "text": [
      "INFO:cmdstanpy:CmdStan done processing.\n"
     ]
    },
    {
     "name": "stdout",
     "output_type": "stream",
     "text": [
      "\n"
     ]
    }
   ],
   "source": [
    "fit=model_1_fit.sample(data=dict(N=len(d),heights=d.height.values),\n",
    "                         seed=28052020)"
   ]
  },
  {
   "cell_type": "code",
   "execution_count": 15,
   "metadata": {},
   "outputs": [
    {
     "data": {
      "text/html": [
       "<div>\n",
       "<style scoped>\n",
       "    .dataframe tbody tr th:only-of-type {\n",
       "        vertical-align: middle;\n",
       "    }\n",
       "\n",
       "    .dataframe tbody tr th {\n",
       "        vertical-align: top;\n",
       "    }\n",
       "\n",
       "    .dataframe thead th {\n",
       "        text-align: right;\n",
       "    }\n",
       "</style>\n",
       "<table border=\"1\" class=\"dataframe\">\n",
       "  <thead>\n",
       "    <tr style=\"text-align: right;\">\n",
       "      <th></th>\n",
       "      <th>lp__</th>\n",
       "      <th>accept_stat__</th>\n",
       "      <th>stepsize__</th>\n",
       "      <th>treedepth__</th>\n",
       "      <th>n_leapfrog__</th>\n",
       "      <th>divergent__</th>\n",
       "      <th>energy__</th>\n",
       "      <th>mean</th>\n",
       "      <th>sigma</th>\n",
       "      <th>h_hat</th>\n",
       "    </tr>\n",
       "  </thead>\n",
       "  <tbody>\n",
       "    <tr>\n",
       "      <th>0</th>\n",
       "      <td>-891.998</td>\n",
       "      <td>1.000000</td>\n",
       "      <td>0.665583</td>\n",
       "      <td>2.0</td>\n",
       "      <td>3.0</td>\n",
       "      <td>0.0</td>\n",
       "      <td>894.148</td>\n",
       "      <td>154.840</td>\n",
       "      <td>7.70316</td>\n",
       "      <td>160.704</td>\n",
       "    </tr>\n",
       "    <tr>\n",
       "      <th>1</th>\n",
       "      <td>-891.755</td>\n",
       "      <td>0.996987</td>\n",
       "      <td>0.665583</td>\n",
       "      <td>2.0</td>\n",
       "      <td>3.0</td>\n",
       "      <td>0.0</td>\n",
       "      <td>892.028</td>\n",
       "      <td>154.622</td>\n",
       "      <td>7.81191</td>\n",
       "      <td>153.950</td>\n",
       "    </tr>\n",
       "    <tr>\n",
       "      <th>2</th>\n",
       "      <td>-891.816</td>\n",
       "      <td>0.871319</td>\n",
       "      <td>0.665583</td>\n",
       "      <td>2.0</td>\n",
       "      <td>3.0</td>\n",
       "      <td>0.0</td>\n",
       "      <td>892.666</td>\n",
       "      <td>154.606</td>\n",
       "      <td>7.70830</td>\n",
       "      <td>167.189</td>\n",
       "    </tr>\n",
       "    <tr>\n",
       "      <th>3</th>\n",
       "      <td>-896.723</td>\n",
       "      <td>0.669702</td>\n",
       "      <td>0.665583</td>\n",
       "      <td>2.0</td>\n",
       "      <td>3.0</td>\n",
       "      <td>0.0</td>\n",
       "      <td>897.053</td>\n",
       "      <td>154.923</td>\n",
       "      <td>6.99096</td>\n",
       "      <td>156.110</td>\n",
       "    </tr>\n",
       "    <tr>\n",
       "      <th>4</th>\n",
       "      <td>-895.051</td>\n",
       "      <td>1.000000</td>\n",
       "      <td>0.665583</td>\n",
       "      <td>2.0</td>\n",
       "      <td>3.0</td>\n",
       "      <td>0.0</td>\n",
       "      <td>897.129</td>\n",
       "      <td>155.113</td>\n",
       "      <td>7.20423</td>\n",
       "      <td>154.452</td>\n",
       "    </tr>\n",
       "  </tbody>\n",
       "</table>\n",
       "</div>"
      ],
      "text/plain": [
       "      lp__  accept_stat__  stepsize__  treedepth__  n_leapfrog__  divergent__  \\\n",
       "0 -891.998       1.000000    0.665583          2.0           3.0          0.0   \n",
       "1 -891.755       0.996987    0.665583          2.0           3.0          0.0   \n",
       "2 -891.816       0.871319    0.665583          2.0           3.0          0.0   \n",
       "3 -896.723       0.669702    0.665583          2.0           3.0          0.0   \n",
       "4 -895.051       1.000000    0.665583          2.0           3.0          0.0   \n",
       "\n",
       "   energy__     mean    sigma    h_hat  \n",
       "0   894.148  154.840  7.70316  160.704  \n",
       "1   892.028  154.622  7.81191  153.950  \n",
       "2   892.666  154.606  7.70830  167.189  \n",
       "3   897.053  154.923  6.99096  156.110  \n",
       "4   897.129  155.113  7.20423  154.452  "
      ]
     },
     "execution_count": 15,
     "metadata": {},
     "output_type": "execute_result"
    }
   ],
   "source": [
    "df = fit.draws_pd()\n",
    "df.head()"
   ]
  },
  {
   "cell_type": "markdown",
   "metadata": {},
   "source": [
    "\n",
    "1. Plot a joint distribution of fitted mu and sigma.\n",
    "2. Plot histograms of data and simulated heights and evaluate the quality of model.\n"
   ]
  },
  {
   "cell_type": "code",
   "execution_count": 16,
   "metadata": {},
   "outputs": [
    {
     "data": {
      "text/plain": [
       "<seaborn.axisgrid.JointGrid at 0x409dc4e2e0>"
      ]
     },
     "execution_count": 16,
     "metadata": {},
     "output_type": "execute_result"
    },
    {
     "data": {
      "image/png": "[encoded data removed]",
      "text/plain": [
       "<Figure size 432x432 with 3 Axes>"
      ]
     },
     "metadata": {
      "needs_background": "light"
     },
     "output_type": "display_data"
    }
   ],
   "source": [
    "sns.jointplot(data=df, x='mean', y='sigma')"
   ]
  },
  {
   "cell_type": "code",
   "execution_count": 17,
   "metadata": {},
   "outputs": [
    {
     "data": {
      "image/png": "[encoded data removed]",
      "text/plain": [
       "<Figure size 1152x288 with 2 Axes>"
      ]
     },
     "metadata": {
      "needs_background": "light"
     },
     "output_type": "display_data"
    }
   ],
   "source": [
    "fig, ax = plt.subplots(1, 2, figsize=(16, 4))\n",
    "sns.histplot(data=d, stat='density', x='height', ax=ax[0], bins=12)\n",
    "ax[0].axvline(x=d.height.mean(), color='r', label='mean')\n",
    "sns.histplot(data=df, stat='density', x='h_hat', ax=ax[1], bins=12)\n",
    "ax[1].axvline(x=df.h_hat.mean(), color='r', label='mean')\n",
    "for a in ax:\n",
    "    a.legend()\n",
    "plt.show()"
   ]
  },
  {
   "cell_type": "markdown",
   "metadata": {},
   "source": [
    "## Task 3. Adding predictor to the model - weight\n",
    "\n",
    "Create column ```c_weight``` in the dataframe containing weights substrated by their mean.\n"
   ]
  },
  {
   "cell_type": "code",
   "execution_count": 18,
   "metadata": {},
   "outputs": [],
   "source": [
    "d['c_weight'] = d['weight'] - d['weight'].mean()"
   ]
  },
  {
   "cell_type": "code",
   "execution_count": 19,
   "metadata": {},
   "outputs": [],
   "source": [
    "data_sim={'N':50, 'weight':np.linspace(d.c_weight.min(),d.c_weight.max())}"
   ]
  },
  {
   "cell_type": "markdown",
   "metadata": {},
   "source": [
    "## Task 4. Prior predictive checks\n",
    " "
   ]
  },
  {
   "cell_type": "code",
   "execution_count": 20,
   "metadata": {},
   "outputs": [
    {
     "name": "stdout",
     "output_type": "stream",
     "text": [
      "Overwriting height_2a_ppc.stan\n"
     ]
    }
   ],
   "source": [
    "%%writefile height_2a_ppc.stan\n",
    "data {\n",
    "  int<lower=0> N;\n",
    "  vector[N] weight;\n",
    "}\n",
    "\n",
    "generated quantities {\n",
    "  real alpha = normal_rng(154, 7.7);\n",
    "  real beta = normal_rng(0, 1);\n",
    "  real sigma = normal_rng(15, 3);\n",
    "  vector[N] height;\n",
    "\n",
    "  for (i in 1:N) {\n",
    "    height[i] = normal_rng(alpha + beta * weight[i], sigma);\n",
    "  }\n",
    "}\n"
   ]
  },
  {
   "cell_type": "code",
   "execution_count": 21,
   "metadata": {},
   "outputs": [
    {
     "name": "stderr",
     "output_type": "stream",
     "text": [
      "INFO:cmdstanpy:compiling stan file /home/height_2a_ppc.stan to exe file /home/height_2a_ppc\n",
      "INFO:cmdstanpy:compiled model executable: /home/height_2a_ppc\n",
      "INFO:cmdstanpy:CmdStan start processing\n",
      "chain 1 |\u001b[34m█████████████████████████████████████████████████████████████████████████████████████████████████████████████████████████████████████████████████████████████████████████\u001b[0m| 00:00 Sampling completed\u001b[0m"
     ]
    },
    {
     "name": "stdout",
     "output_type": "stream",
     "text": [
      "                                                                                "
     ]
    },
    {
     "name": "stderr",
     "output_type": "stream",
     "text": [
      "\n",
      "INFO:cmdstanpy:CmdStan done processing.\n"
     ]
    },
    {
     "name": "stdout",
     "output_type": "stream",
     "text": [
      "\n"
     ]
    }
   ],
   "source": [
    "model_ppc=CmdStanModel(stan_file='height_2a_ppc.stan')\n",
    "R = 1000\n",
    "sim=model_ppc.sample(data=data_sim,\n",
    "                     iter_sampling=R, \n",
    "                     iter_warmup=0, \n",
    "                     chains=1, \n",
    "                     refresh=R,\n",
    "                     fixed_param=True,\n",
    "                     seed=29042020)"
   ]
  },
  {
   "cell_type": "markdown",
   "metadata": {},
   "source": [
    "Plot lines for each sampled slope beta and intercept alpha, verify if possible predicted heights are consistent with minimum (0) and maximum (check Wikipedia) heights observed in nature."
   ]
  },
  {
   "cell_type": "code",
   "execution_count": 22,
   "metadata": {},
   "outputs": [
    {
     "data": {
      "text/html": [
       "<div>\n",
       "<style scoped>\n",
       "    .dataframe tbody tr th:only-of-type {\n",
       "        vertical-align: middle;\n",
       "    }\n",
       "\n",
       "    .dataframe tbody tr th {\n",
       "        vertical-align: top;\n",
       "    }\n",
       "\n",
       "    .dataframe thead th {\n",
       "        text-align: right;\n",
       "    }\n",
       "</style>\n",
       "<table border=\"1\" class=\"dataframe\">\n",
       "  <thead>\n",
       "    <tr style=\"text-align: right;\">\n",
       "      <th></th>\n",
       "      <th>lp__</th>\n",
       "      <th>accept_stat__</th>\n",
       "      <th>alpha</th>\n",
       "      <th>beta</th>\n",
       "      <th>sigma</th>\n",
       "      <th>height[1]</th>\n",
       "      <th>height[2]</th>\n",
       "      <th>height[3]</th>\n",
       "      <th>height[4]</th>\n",
       "      <th>height[5]</th>\n",
       "      <th>...</th>\n",
       "      <th>height[41]</th>\n",
       "      <th>height[42]</th>\n",
       "      <th>height[43]</th>\n",
       "      <th>height[44]</th>\n",
       "      <th>height[45]</th>\n",
       "      <th>height[46]</th>\n",
       "      <th>height[47]</th>\n",
       "      <th>height[48]</th>\n",
       "      <th>height[49]</th>\n",
       "      <th>height[50]</th>\n",
       "    </tr>\n",
       "  </thead>\n",
       "  <tbody>\n",
       "    <tr>\n",
       "      <th>0</th>\n",
       "      <td>0.0</td>\n",
       "      <td>0.0</td>\n",
       "      <td>174.853</td>\n",
       "      <td>0.777181</td>\n",
       "      <td>11.1832</td>\n",
       "      <td>165.4620</td>\n",
       "      <td>149.003</td>\n",
       "      <td>167.800</td>\n",
       "      <td>178.960</td>\n",
       "      <td>191.394</td>\n",
       "      <td>...</td>\n",
       "      <td>197.290</td>\n",
       "      <td>205.850</td>\n",
       "      <td>202.516</td>\n",
       "      <td>188.713</td>\n",
       "      <td>170.851</td>\n",
       "      <td>180.796</td>\n",
       "      <td>184.281</td>\n",
       "      <td>196.372</td>\n",
       "      <td>191.528</td>\n",
       "      <td>196.042</td>\n",
       "    </tr>\n",
       "    <tr>\n",
       "      <th>1</th>\n",
       "      <td>0.0</td>\n",
       "      <td>0.0</td>\n",
       "      <td>144.768</td>\n",
       "      <td>-0.006780</td>\n",
       "      <td>14.9889</td>\n",
       "      <td>163.0720</td>\n",
       "      <td>156.243</td>\n",
       "      <td>155.941</td>\n",
       "      <td>162.508</td>\n",
       "      <td>163.030</td>\n",
       "      <td>...</td>\n",
       "      <td>184.752</td>\n",
       "      <td>144.316</td>\n",
       "      <td>131.185</td>\n",
       "      <td>142.322</td>\n",
       "      <td>130.389</td>\n",
       "      <td>152.391</td>\n",
       "      <td>129.053</td>\n",
       "      <td>143.160</td>\n",
       "      <td>164.202</td>\n",
       "      <td>143.509</td>\n",
       "    </tr>\n",
       "    <tr>\n",
       "      <th>2</th>\n",
       "      <td>0.0</td>\n",
       "      <td>0.0</td>\n",
       "      <td>150.712</td>\n",
       "      <td>-1.138640</td>\n",
       "      <td>11.3344</td>\n",
       "      <td>182.6160</td>\n",
       "      <td>163.686</td>\n",
       "      <td>163.261</td>\n",
       "      <td>171.195</td>\n",
       "      <td>168.059</td>\n",
       "      <td>...</td>\n",
       "      <td>156.712</td>\n",
       "      <td>121.125</td>\n",
       "      <td>152.559</td>\n",
       "      <td>138.475</td>\n",
       "      <td>156.119</td>\n",
       "      <td>133.294</td>\n",
       "      <td>143.718</td>\n",
       "      <td>136.787</td>\n",
       "      <td>130.504</td>\n",
       "      <td>132.634</td>\n",
       "    </tr>\n",
       "    <tr>\n",
       "      <th>3</th>\n",
       "      <td>0.0</td>\n",
       "      <td>0.0</td>\n",
       "      <td>146.438</td>\n",
       "      <td>-0.254452</td>\n",
       "      <td>13.4763</td>\n",
       "      <td>167.8900</td>\n",
       "      <td>140.922</td>\n",
       "      <td>146.712</td>\n",
       "      <td>136.634</td>\n",
       "      <td>146.343</td>\n",
       "      <td>...</td>\n",
       "      <td>150.876</td>\n",
       "      <td>145.270</td>\n",
       "      <td>148.297</td>\n",
       "      <td>162.189</td>\n",
       "      <td>136.760</td>\n",
       "      <td>136.061</td>\n",
       "      <td>154.384</td>\n",
       "      <td>135.735</td>\n",
       "      <td>147.490</td>\n",
       "      <td>137.054</td>\n",
       "    </tr>\n",
       "    <tr>\n",
       "      <th>4</th>\n",
       "      <td>0.0</td>\n",
       "      <td>0.0</td>\n",
       "      <td>146.351</td>\n",
       "      <td>1.671020</td>\n",
       "      <td>12.8918</td>\n",
       "      <td>89.4398</td>\n",
       "      <td>116.555</td>\n",
       "      <td>115.162</td>\n",
       "      <td>116.381</td>\n",
       "      <td>144.133</td>\n",
       "      <td>...</td>\n",
       "      <td>186.902</td>\n",
       "      <td>184.623</td>\n",
       "      <td>159.391</td>\n",
       "      <td>172.202</td>\n",
       "      <td>169.217</td>\n",
       "      <td>166.266</td>\n",
       "      <td>166.319</td>\n",
       "      <td>184.026</td>\n",
       "      <td>182.761</td>\n",
       "      <td>165.941</td>\n",
       "    </tr>\n",
       "  </tbody>\n",
       "</table>\n",
       "<p>5 rows × 55 columns</p>\n",
       "</div>"
      ],
      "text/plain": [
       "   lp__  accept_stat__    alpha      beta    sigma  height[1]  height[2]  \\\n",
       "0   0.0            0.0  174.853  0.777181  11.1832   165.4620    149.003   \n",
       "1   0.0            0.0  144.768 -0.006780  14.9889   163.0720    156.243   \n",
       "2   0.0            0.0  150.712 -1.138640  11.3344   182.6160    163.686   \n",
       "3   0.0            0.0  146.438 -0.254452  13.4763   167.8900    140.922   \n",
       "4   0.0            0.0  146.351  1.671020  12.8918    89.4398    116.555   \n",
       "\n",
       "   height[3]  height[4]  height[5]  ...  height[41]  height[42]  height[43]  \\\n",
       "0    167.800    178.960    191.394  ...     197.290     205.850     202.516   \n",
       "1    155.941    162.508    163.030  ...     184.752     144.316     131.185   \n",
       "2    163.261    171.195    168.059  ...     156.712     121.125     152.559   \n",
       "3    146.712    136.634    146.343  ...     150.876     145.270     148.297   \n",
       "4    115.162    116.381    144.133  ...     186.902     184.623     159.391   \n",
       "\n",
       "   height[44]  height[45]  height[46]  height[47]  height[48]  height[49]  \\\n",
       "0     188.713     170.851     180.796     184.281     196.372     191.528   \n",
       "1     142.322     130.389     152.391     129.053     143.160     164.202   \n",
       "2     138.475     156.119     133.294     143.718     136.787     130.504   \n",
       "3     162.189     136.760     136.061     154.384     135.735     147.490   \n",
       "4     172.202     169.217     166.266     166.319     184.026     182.761   \n",
       "\n",
       "   height[50]  \n",
       "0     196.042  \n",
       "1     143.509  \n",
       "2     132.634  \n",
       "3     137.054  \n",
       "4     165.941  \n",
       "\n",
       "[5 rows x 55 columns]"
      ]
     },
     "execution_count": 22,
     "metadata": {},
     "output_type": "execute_result"
    }
   ],
   "source": [
    "ppc_df = sim.draws_pd()\n",
    "ppc_df.head()"
   ]
  },
  {
   "cell_type": "code",
   "execution_count": 23,
   "metadata": {},
   "outputs": [],
   "source": [
    "alpha = ppc_df['alpha'].values\n",
    "beta = ppc_df['beta'].values\n",
    "weight = np.linspace(d.c_weight.min(),d.c_weight.max(), R).reshape((R, 1))\n",
    "h_hat = weight * beta + alpha"
   ]
  },
  {
   "cell_type": "code",
   "execution_count": 24,
   "metadata": {},
   "outputs": [
    {
     "data": {
      "image/png": "[encoded data removed]",
      "text/plain": [
       "<Figure size 432x288 with 1 Axes>"
      ]
     },
     "metadata": {
      "needs_background": "light"
     },
     "output_type": "display_data"
    }
   ],
   "source": [
    "extended_domain = np.ones((1, R)) * weight\n",
    "plt.plot(extended_domain, h_hat, 'r', alpha=0.05)\n",
    "plt.title('Height vs displacement from mean weight')\n",
    "plt.xlabel('Displacement from mean weight')\n",
    "plt.ylabel('Height')\n",
    "plt.show()"
   ]
  },
  {
   "cell_type": "code",
   "execution_count": 25,
   "metadata": {},
   "outputs": [],
   "source": [
    "heights = ppc_df.loc[:, 'height[1]':'height[50]'].values"
   ]
  },
  {
   "cell_type": "code",
   "execution_count": 26,
   "metadata": {},
   "outputs": [
    {
     "data": {
      "text/plain": [
       "154.136698042"
      ]
     },
     "execution_count": 26,
     "metadata": {},
     "output_type": "execute_result"
    }
   ],
   "source": [
    "heights.mean()"
   ]
  },
  {
   "cell_type": "code",
   "execution_count": 27,
   "metadata": {},
   "outputs": [
    {
     "data": {
      "text/plain": [
       "19.631914757250748"
      ]
     },
     "execution_count": 27,
     "metadata": {},
     "output_type": "execute_result"
    }
   ],
   "source": [
    "heights.std()"
   ]
  },
  {
   "cell_type": "code",
   "execution_count": 28,
   "metadata": {},
   "outputs": [
    {
     "data": {
      "text/plain": [
       "58.7084"
      ]
     },
     "execution_count": 28,
     "metadata": {},
     "output_type": "execute_result"
    }
   ],
   "source": [
    "heights.min()"
   ]
  },
  {
   "cell_type": "code",
   "execution_count": 29,
   "metadata": {},
   "outputs": [
    {
     "data": {
      "text/plain": [
       "246.371"
      ]
     },
     "execution_count": 29,
     "metadata": {},
     "output_type": "execute_result"
    }
   ],
   "source": [
    "heights.max()"
   ]
  },
  {
   "cell_type": "markdown",
   "metadata": {},
   "source": [
    "Summary statistics appear to be correct. The maximum height of a human is 278 cm"
   ]
  },
  {
   "cell_type": "markdown",
   "metadata": {},
   "source": [
    "## Task 5. Modifying prior\n",
    "\n",
    "If prior for beta admits negative values, then it makes no sense. Lets change prior to lognormal distribution.\n"
   ]
  },
  {
   "cell_type": "code",
   "execution_count": 30,
   "metadata": {},
   "outputs": [
    {
     "name": "stdout",
     "output_type": "stream",
     "text": [
      "Overwriting height_2b_ppc.stan\n"
     ]
    }
   ],
   "source": [
    "%%writefile height_2b_ppc.stan\n",
    "\n",
    "data {\n",
    "  int<lower=0> N;\n",
    "  vector[N] weight;\n",
    "}\n",
    "\n",
    "generated quantities {\n",
    "  real alpha = normal_rng(154, 7.7);\n",
    "  real beta = lognormal_rng(0, 1);\n",
    "  real sigma = normal_rng(15, 3);\n",
    "  vector[N] height;\n",
    "\n",
    "  for (i in 1:N) {\n",
    "    height[i] = normal_rng(alpha + beta * weight[i], sigma);\n",
    "  }\n",
    "}"
   ]
  },
  {
   "cell_type": "code",
   "execution_count": 31,
   "metadata": {},
   "outputs": [
    {
     "name": "stderr",
     "output_type": "stream",
     "text": [
      "INFO:cmdstanpy:compiling stan file /home/height_2b_ppc.stan to exe file /home/height_2b_ppc\n",
      "INFO:cmdstanpy:compiled model executable: /home/height_2b_ppc\n"
     ]
    }
   ],
   "source": [
    "model_ppc=CmdStanModel(stan_file='height_2b_ppc.stan')"
   ]
  },
  {
   "cell_type": "code",
   "execution_count": 32,
   "metadata": {},
   "outputs": [
    {
     "name": "stderr",
     "output_type": "stream",
     "text": [
      "INFO:cmdstanpy:CmdStan start processing\n",
      "chain 1 |\u001b[34m█████████████████████████████████████████████████████████████████████████████████████████████████████████████████████████████████████████████████████████████████████████\u001b[0m| 00:00 Sampling completed\u001b[0m"
     ]
    },
    {
     "name": "stdout",
     "output_type": "stream",
     "text": [
      "                                                                                "
     ]
    },
    {
     "name": "stderr",
     "output_type": "stream",
     "text": [
      "\n",
      "INFO:cmdstanpy:CmdStan done processing.\n"
     ]
    },
    {
     "name": "stdout",
     "output_type": "stream",
     "text": [
      "\n"
     ]
    }
   ],
   "source": [
    "sim=model_ppc.sample(data=data_sim, \n",
    "                     iter_sampling=R, \n",
    "                     iter_warmup=0, \n",
    "                     chains=1, \n",
    "                     refresh=R,\n",
    "                     fixed_param=True,\n",
    "                     seed=29042020)"
   ]
  },
  {
   "cell_type": "code",
   "execution_count": 33,
   "metadata": {},
   "outputs": [
    {
     "data": {
      "text/html": [
       "<div>\n",
       "<style scoped>\n",
       "    .dataframe tbody tr th:only-of-type {\n",
       "        vertical-align: middle;\n",
       "    }\n",
       "\n",
       "    .dataframe tbody tr th {\n",
       "        vertical-align: top;\n",
       "    }\n",
       "\n",
       "    .dataframe thead th {\n",
       "        text-align: right;\n",
       "    }\n",
       "</style>\n",
       "<table border=\"1\" class=\"dataframe\">\n",
       "  <thead>\n",
       "    <tr style=\"text-align: right;\">\n",
       "      <th></th>\n",
       "      <th>lp__</th>\n",
       "      <th>accept_stat__</th>\n",
       "      <th>alpha</th>\n",
       "      <th>beta</th>\n",
       "      <th>sigma</th>\n",
       "      <th>height[1]</th>\n",
       "      <th>height[2]</th>\n",
       "      <th>height[3]</th>\n",
       "      <th>height[4]</th>\n",
       "      <th>height[5]</th>\n",
       "      <th>...</th>\n",
       "      <th>height[41]</th>\n",
       "      <th>height[42]</th>\n",
       "      <th>height[43]</th>\n",
       "      <th>height[44]</th>\n",
       "      <th>height[45]</th>\n",
       "      <th>height[46]</th>\n",
       "      <th>height[47]</th>\n",
       "      <th>height[48]</th>\n",
       "      <th>height[49]</th>\n",
       "      <th>height[50]</th>\n",
       "    </tr>\n",
       "  </thead>\n",
       "  <tbody>\n",
       "    <tr>\n",
       "      <th>0</th>\n",
       "      <td>0.0</td>\n",
       "      <td>0.0</td>\n",
       "      <td>174.853</td>\n",
       "      <td>2.175330</td>\n",
       "      <td>11.1832</td>\n",
       "      <td>146.0000</td>\n",
       "      <td>130.4530</td>\n",
       "      <td>150.1610</td>\n",
       "      <td>162.2310</td>\n",
       "      <td>175.576</td>\n",
       "      <td>...</td>\n",
       "      <td>214.263</td>\n",
       "      <td>223.733</td>\n",
       "      <td>221.309</td>\n",
       "      <td>208.417</td>\n",
       "      <td>191.467</td>\n",
       "      <td>202.322</td>\n",
       "      <td>206.719</td>\n",
       "      <td>219.720</td>\n",
       "      <td>215.787</td>\n",
       "      <td>221.211</td>\n",
       "    </tr>\n",
       "    <tr>\n",
       "      <th>1</th>\n",
       "      <td>0.0</td>\n",
       "      <td>0.0</td>\n",
       "      <td>144.768</td>\n",
       "      <td>0.993243</td>\n",
       "      <td>14.9889</td>\n",
       "      <td>149.1520</td>\n",
       "      <td>142.9750</td>\n",
       "      <td>143.3240</td>\n",
       "      <td>150.5430</td>\n",
       "      <td>151.716</td>\n",
       "      <td>...</td>\n",
       "      <td>196.891</td>\n",
       "      <td>157.106</td>\n",
       "      <td>144.627</td>\n",
       "      <td>156.416</td>\n",
       "      <td>145.134</td>\n",
       "      <td>167.787</td>\n",
       "      <td>145.101</td>\n",
       "      <td>159.859</td>\n",
       "      <td>181.553</td>\n",
       "      <td>161.511</td>\n",
       "    </tr>\n",
       "    <tr>\n",
       "      <th>2</th>\n",
       "      <td>0.0</td>\n",
       "      <td>0.0</td>\n",
       "      <td>150.712</td>\n",
       "      <td>0.320255</td>\n",
       "      <td>11.3344</td>\n",
       "      <td>162.3100</td>\n",
       "      <td>144.3300</td>\n",
       "      <td>144.8550</td>\n",
       "      <td>153.7390</td>\n",
       "      <td>151.554</td>\n",
       "      <td>...</td>\n",
       "      <td>174.421</td>\n",
       "      <td>139.785</td>\n",
       "      <td>172.170</td>\n",
       "      <td>159.036</td>\n",
       "      <td>177.630</td>\n",
       "      <td>155.755</td>\n",
       "      <td>167.130</td>\n",
       "      <td>161.150</td>\n",
       "      <td>155.817</td>\n",
       "      <td>158.897</td>\n",
       "    </tr>\n",
       "    <tr>\n",
       "      <th>3</th>\n",
       "      <td>0.0</td>\n",
       "      <td>0.0</td>\n",
       "      <td>146.438</td>\n",
       "      <td>0.775342</td>\n",
       "      <td>13.4763</td>\n",
       "      <td>153.5560</td>\n",
       "      <td>127.2590</td>\n",
       "      <td>133.7200</td>\n",
       "      <td>124.3120</td>\n",
       "      <td>134.692</td>\n",
       "      <td>...</td>\n",
       "      <td>163.377</td>\n",
       "      <td>158.442</td>\n",
       "      <td>162.140</td>\n",
       "      <td>176.703</td>\n",
       "      <td>151.944</td>\n",
       "      <td>151.916</td>\n",
       "      <td>170.910</td>\n",
       "      <td>152.932</td>\n",
       "      <td>165.357</td>\n",
       "      <td>155.593</td>\n",
       "    </tr>\n",
       "    <tr>\n",
       "      <th>4</th>\n",
       "      <td>0.0</td>\n",
       "      <td>0.0</td>\n",
       "      <td>146.351</td>\n",
       "      <td>5.317560</td>\n",
       "      <td>12.8918</td>\n",
       "      <td>38.6819</td>\n",
       "      <td>68.1728</td>\n",
       "      <td>69.1555</td>\n",
       "      <td>72.7499</td>\n",
       "      <td>102.878</td>\n",
       "      <td>...</td>\n",
       "      <td>231.168</td>\n",
       "      <td>231.264</td>\n",
       "      <td>208.407</td>\n",
       "      <td>223.594</td>\n",
       "      <td>222.984</td>\n",
       "      <td>222.409</td>\n",
       "      <td>224.838</td>\n",
       "      <td>244.921</td>\n",
       "      <td>246.031</td>\n",
       "      <td>231.587</td>\n",
       "    </tr>\n",
       "  </tbody>\n",
       "</table>\n",
       "<p>5 rows × 55 columns</p>\n",
       "</div>"
      ],
      "text/plain": [
       "   lp__  accept_stat__    alpha      beta    sigma  height[1]  height[2]  \\\n",
       "0   0.0            0.0  174.853  2.175330  11.1832   146.0000   130.4530   \n",
       "1   0.0            0.0  144.768  0.993243  14.9889   149.1520   142.9750   \n",
       "2   0.0            0.0  150.712  0.320255  11.3344   162.3100   144.3300   \n",
       "3   0.0            0.0  146.438  0.775342  13.4763   153.5560   127.2590   \n",
       "4   0.0            0.0  146.351  5.317560  12.8918    38.6819    68.1728   \n",
       "\n",
       "   height[3]  height[4]  height[5]  ...  height[41]  height[42]  height[43]  \\\n",
       "0   150.1610   162.2310    175.576  ...     214.263     223.733     221.309   \n",
       "1   143.3240   150.5430    151.716  ...     196.891     157.106     144.627   \n",
       "2   144.8550   153.7390    151.554  ...     174.421     139.785     172.170   \n",
       "3   133.7200   124.3120    134.692  ...     163.377     158.442     162.140   \n",
       "4    69.1555    72.7499    102.878  ...     231.168     231.264     208.407   \n",
       "\n",
       "   height[44]  height[45]  height[46]  height[47]  height[48]  height[49]  \\\n",
       "0     208.417     191.467     202.322     206.719     219.720     215.787   \n",
       "1     156.416     145.134     167.787     145.101     159.859     181.553   \n",
       "2     159.036     177.630     155.755     167.130     161.150     155.817   \n",
       "3     176.703     151.944     151.916     170.910     152.932     165.357   \n",
       "4     223.594     222.984     222.409     224.838     244.921     246.031   \n",
       "\n",
       "   height[50]  \n",
       "0     221.211  \n",
       "1     161.511  \n",
       "2     158.897  \n",
       "3     155.593  \n",
       "4     231.587  \n",
       "\n",
       "[5 rows x 55 columns]"
      ]
     },
     "execution_count": 33,
     "metadata": {},
     "output_type": "execute_result"
    }
   ],
   "source": [
    "ppc_df = sim.draws_pd()\n",
    "ppc_df.head()"
   ]
  },
  {
   "cell_type": "markdown",
   "metadata": {},
   "source": [
    "1. Plot lines for each sampled slope beta and intercept alpha, verify if possible predicted heights are consistent with minimum (0) and maximum (check Wikipedia) heights observed in nature.\n",
    "2. For each simulated weight plot maximum, minimum, and 5, 25, 50, 75, 95 quantiles of simulated weight (all in the same plot). Compare with observed data. Is observed data possible within the prior model?"
   ]
  },
  {
   "cell_type": "code",
   "execution_count": 34,
   "metadata": {},
   "outputs": [],
   "source": [
    "alpha = ppc_df['alpha'].values\n",
    "beta = ppc_df['beta'].values\n",
    "h_hat = weight * beta + alpha"
   ]
  },
  {
   "cell_type": "code",
   "execution_count": 35,
   "metadata": {},
   "outputs": [
    {
     "data": {
      "image/png": "[encoded data removed]",
      "text/plain": [
       "<Figure size 432x288 with 1 Axes>"
      ]
     },
     "metadata": {
      "needs_background": "light"
     },
     "output_type": "display_data"
    }
   ],
   "source": [
    "plt.plot(extended_domain, h_hat, 'r', alpha=0.05)\n",
    "plt.title('Height vs displacement from mean weight')\n",
    "plt.xlabel('Displacement from mean weight')\n",
    "plt.ylim([0, 250])\n",
    "plt.ylabel('Height')\n",
    "plt.show()"
   ]
  },
  {
   "cell_type": "code",
   "execution_count": 36,
   "metadata": {},
   "outputs": [
    {
     "data": {
      "image/png": "[encoded data removed]",
      "text/plain": [
       "<Figure size 864x576 with 1 Axes>"
      ]
     },
     "metadata": {
      "needs_background": "light"
     },
     "output_type": "display_data"
    }
   ],
   "source": [
    "heights = ppc_df.loc[:, 'height[1]':'height[50]'].values\n",
    "q = [0., 0.05, 0.25, 0.5, 0.75, 0.95, 1.]\n",
    "quantiles = np.quantile(heights, q, axis=1)\n",
    "data_quantiles = np.quantile(d.height, q)\n",
    "\n",
    "plt.figure(figsize=(12, 8))\n",
    "plt.scatter(q * np.ones((1000, 1)), quantiles, alpha=0.05, label='simulated')\n",
    "plt.scatter(q, data_quantiles, label='data')\n",
    "plt.xticks(q)\n",
    "plt.xlabel('quantiles')\n",
    "plt.ylabel('heights')\n",
    "plt.legend()\n",
    "plt.show()"
   ]
  },
  {
   "cell_type": "markdown",
   "metadata": {},
   "source": [
    "Observed data is possible within the prior model, but the prior model covers a broader range of possibilities."
   ]
  },
  {
   "cell_type": "markdown",
   "metadata": {},
   "source": [
    "## Task 6. Fitting and evaluating model\n"
   ]
  },
  {
   "cell_type": "code",
   "execution_count": 37,
   "metadata": {},
   "outputs": [
    {
     "name": "stdout",
     "output_type": "stream",
     "text": [
      "Overwriting height_2_fit.stan\n"
     ]
    }
   ],
   "source": [
    "%%writefile height_2_fit.stan\n",
    "\n",
    "data {\n",
    "    int<lower=0> N;\n",
    "    vector[N] heights;\n",
    "    vector[N] weights;\n",
    "}\n",
    "\n",
    "parameters {\n",
    "    real<lower=0> alpha;\n",
    "    real<lower=0> sigma;\n",
    "    real<lower=0> beta;\n",
    "}\n",
    "\n",
    "transformed parameters {\n",
    "    vector[N] mean;\n",
    "    for (i in 1:N) {\n",
    "      mean[i] = alpha + beta * weights[i];\n",
    "  }\n",
    "}\n",
    "\n",
    "model {\n",
    "    alpha ~ normal(154, 7.7);\n",
    "    sigma ~ normal(15, 3);\n",
    "    beta ~ lognormal(0, 1);\n",
    "    \n",
    "    for (i in 1:N) {\n",
    "      heights[i] ~ normal(mean[i], sigma);\n",
    "    }\n",
    "}\n",
    "\n",
    "generated quantities {\n",
    "    vector[N] h_hat;\n",
    "    for (i in 1:N) {\n",
    "        h_hat[i] = normal_rng(mean[i], sigma);\n",
    "    }\n",
    "}"
   ]
  },
  {
   "cell_type": "code",
   "execution_count": 38,
   "metadata": {},
   "outputs": [
    {
     "name": "stderr",
     "output_type": "stream",
     "text": [
      "INFO:cmdstanpy:compiling stan file /home/height_2_fit.stan to exe file /home/height_2_fit\n",
      "INFO:cmdstanpy:compiled model executable: /home/height_2_fit\n"
     ]
    }
   ],
   "source": [
    "model_2_fit=CmdStanModel(stan_file='height_2_fit.stan')"
   ]
  },
  {
   "cell_type": "markdown",
   "metadata": {},
   "source": [
    "1. Create ```data_fit``` dictionary containing data from  ```N``` first rows of dataframe\n"
   ]
  },
  {
   "cell_type": "code",
   "execution_count": 39,
   "metadata": {},
   "outputs": [],
   "source": [
    "N = 100\n",
    "data_fit = {'N': N, 'weights': d.weight.values[:N], 'heights': d.height.values[:N]}"
   ]
  },
  {
   "cell_type": "code",
   "execution_count": 40,
   "metadata": {},
   "outputs": [
    {
     "name": "stderr",
     "output_type": "stream",
     "text": [
      "INFO:cmdstanpy:CmdStan start processing\n",
      "chain 1 |\u001b[33m                                                                                                                                                                                     \u001b[0m| 00:00 Status\u001b[0m\n",
      "chain 2 |\u001b[33m                                                                                                                                                                                     \u001b[0m| 00:00 Status\u001b[0m\u001b[A\n",
      "\n",
      "chain 3 |\u001b[33m                                                                                                                                                                                     \u001b[0m| 00:00 Status\u001b[0m\u001b[A\u001b[A\n",
      "\n",
      "\n",
      "chain 1 |\u001b[33m████████▏                                                                                                                                                                            \u001b[0m| 00:00 Status\u001b[0m\u001b[A\u001b[A\u001b[A\n",
      "chain 2 |\u001b[33m████████▏                                                                                                                                                                            \u001b[0m| 00:00 Status\u001b[0m\u001b[A\n",
      "\n",
      "chain 3 |\u001b[33m████████▏                                                                                                                                                                            \u001b[0m| 00:00 Status\u001b[0m\u001b[A\u001b[A\n",
      "\n",
      "\n",
      "chain 4 |\u001b[33m████████▏                                                                                                                                                                            \u001b[0m| 00:00 Status\u001b[0m\u001b[A\u001b[A\u001b[A\n",
      "chain 1 |\u001b[33m█████████████▍                                                                                                                                      \u001b[0m| 00:00 Iteration:    1 / 2000 [  0%]  (Warmup)\u001b[0m\u001b[A\n",
      "\n",
      "chain 3 |\u001b[33m█████████████▍                                                                                                                                      \u001b[0m| 00:00 Iteration:    1 / 2000 [  0%]  (Warmup)\u001b[0m\u001b[A\u001b[A\n",
      "\n",
      "\n",
      "chain 4 |\u001b[33m█████████████▍                                                                                                                                      \u001b[0m| 00:00 Iteration:    1 / 2000 [  0%]  (Warmup)\u001b[0m\u001b[A\u001b[A\u001b[A\n",
      "chain 1 |\u001b[33m████████████████████▏                                                                                                                               \u001b[0m| 00:00 Iteration:  100 / 2000 [  5%]  (Warmup)\u001b[0m\u001b[A\n",
      "\n",
      "chain 3 |\u001b[33m████████████████████▏                                                                                                                               \u001b[0m| 00:00 Iteration:  100 / 2000 [  5%]  (Warmup)\u001b[0m\u001b[A\u001b[A\n",
      "chain 2 |\u001b[33m██████████████████████████▉                                                                                                                         \u001b[0m| 00:00 Iteration:  200 / 2000 [ 10%]  (Warmup)\u001b[0m\u001b[A\n",
      "\n",
      "\n",
      "chain 1 |\u001b[33m██████████████████████████▉                                                                                                                         \u001b[0m| 00:01 Iteration:  200 / 2000 [ 10%]  (Warmup)\u001b[0m\u001b[A\u001b[A\u001b[A\n",
      "\n",
      "chain 3 |\u001b[33m██████████████████████████▉                                                                                                                         \u001b[0m| 00:01 Iteration:  200 / 2000 [ 10%]  (Warmup)\u001b[0m\u001b[A\u001b[A\n",
      "chain 2 |\u001b[33m█████████████████████████████████▋                                                                                                                  \u001b[0m| 00:01 Iteration:  300 / 2000 [ 15%]  (Warmup)\u001b[0m\u001b[A\n",
      "\n",
      "\n",
      "chain 1 |\u001b[33m█████████████████████████████████▋                                                                                                                  \u001b[0m| 00:01 Iteration:  300 / 2000 [ 15%]  (Warmup)\u001b[0m\u001b[A\u001b[A\u001b[A\n",
      "\n",
      "chain 3 |\u001b[33m█████████████████████████████████▋                                                                                                                  \u001b[0m| 00:01 Iteration:  300 / 2000 [ 15%]  (Warmup)\u001b[0m\u001b[A\u001b[A\n",
      "chain 2 |\u001b[33m████████████████████████████████████████▎                                                                                                           \u001b[0m| 00:01 Iteration:  400 / 2000 [ 20%]  (Warmup)\u001b[0m\u001b[A\n",
      "\n",
      "\n",
      "chain 1 |\u001b[33m████████████████████████████████████████▎                                                                                                           \u001b[0m| 00:01 Iteration:  400 / 2000 [ 20%]  (Warmup)\u001b[0m\u001b[A\u001b[A\u001b[A\n",
      "\n",
      "chain 3 |\u001b[33m████████████████████████████████████████▎                                                                                                           \u001b[0m| 00:01 Iteration:  400 / 2000 [ 20%]  (Warmup)\u001b[0m\u001b[A\u001b[A\n",
      "chain 2 |\u001b[33m███████████████████████████████████████████████                                                                                                     \u001b[0m| 00:01 Iteration:  500 / 2000 [ 25%]  (Warmup)\u001b[0m\u001b[A\n",
      "\n",
      "\n",
      "chain 1 |\u001b[33m███████████████████████████████████████████████                                                                                                     \u001b[0m| 00:01 Iteration:  500 / 2000 [ 25%]  (Warmup)\u001b[0m\u001b[A\u001b[A\u001b[A\n",
      "chain 2 |\u001b[33m█████████████████████████████████████████████████████▊                                                                                              \u001b[0m| 00:01 Iteration:  600 / 2000 [ 30%]  (Warmup)\u001b[0m\u001b[A\n",
      "\n",
      "chain 3 |\u001b[33m███████████████████████████████████████████████                                                                                                     \u001b[0m| 00:01 Iteration:  500 / 2000 [ 25%]  (Warmup)\u001b[0m\u001b[A\u001b[A\n",
      "\n",
      "\n",
      "chain 1 |\u001b[33m█████████████████████████████████████████████████████▊                                                                                              \u001b[0m| 00:02 Iteration:  600 / 2000 [ 30%]  (Warmup)\u001b[0m\u001b[A\u001b[A\u001b[A\n",
      "chain 2 |\u001b[33m████████████████████████████████████████████████████████████▌                                                                                       \u001b[0m| 00:02 Iteration:  700 / 2000 [ 35%]  (Warmup)\u001b[0m\u001b[A\n",
      "\n",
      "chain 3 |\u001b[33m█████████████████████████████████████████████████████▊                                                                                              \u001b[0m| 00:02 Iteration:  600 / 2000 [ 30%]  (Warmup)\u001b[0m\u001b[A\u001b[A\n",
      "\n",
      "\n",
      "chain 1 |\u001b[33m████████████████████████████████████████████████████████████▌                                                                                       \u001b[0m| 00:02 Iteration:  700 / 2000 [ 35%]  (Warmup)\u001b[0m\u001b[A\u001b[A\u001b[A\n",
      "chain 2 |\u001b[33m███████████████████████████████████████████████████████████████████▎                                                                                \u001b[0m| 00:02 Iteration:  800 / 2000 [ 40%]  (Warmup)\u001b[0m\u001b[A\n",
      "\n",
      "chain 3 |\u001b[33m████████████████████████████████████████████████████████████▌                                                                                       \u001b[0m| 00:02 Iteration:  700 / 2000 [ 35%]  (Warmup)\u001b[0m\u001b[A\u001b[A\n",
      "\n",
      "\n",
      "chain 1 |\u001b[33m███████████████████████████████████████████████████████████████████▎                                                                                \u001b[0m| 00:02 Iteration:  800 / 2000 [ 40%]  (Warmup)\u001b[0m\u001b[A\u001b[A\u001b[A\n",
      "chain 2 |\u001b[33m██████████████████████████████████████████████████████████████████████████                                                                          \u001b[0m| 00:02 Iteration:  900 / 2000 [ 45%]  (Warmup)\u001b[0m\u001b[A\n",
      "\n",
      "chain 3 |\u001b[33m███████████████████████████████████████████████████████████████████▎                                                                                \u001b[0m| 00:02 Iteration:  800 / 2000 [ 40%]  (Warmup)\u001b[0m\u001b[A\u001b[A\n",
      "\n",
      "\n",
      "chain 1 |\u001b[33m██████████████████████████████████████████████████████████████████████████                                                                          \u001b[0m| 00:02 Iteration:  900 / 2000 [ 45%]  (Warmup)\u001b[0m\u001b[A\u001b[A\u001b[A\n",
      "\n",
      "chain 3 |\u001b[33m██████████████████████████████████████████████████████████████████████████                                                                          \u001b[0m| 00:02 Iteration:  900 / 2000 [ 45%]  (Warmup)\u001b[0m\u001b[A\u001b[A\n",
      "\n",
      "\n"
     ]
    },
    {
     "name": "stderr",
     "output_type": "stream",
     "text": [
      "chain 4 |\u001b[33m██████████████████████████████████████████████████████████████████████████                                                                          \u001b[0m| 00:02 Iteration:  900 / 2000 [ 45%]  (Warmup)\u001b[0m\u001b[A\u001b[A\u001b[A\n",
      "chain 1 |\u001b[34m██████████████████████████████████████████████████████████████████████████████████████▎                                                           \u001b[0m| 00:03 Iteration: 1001 / 2000 [ 50%]  (Sampling)\u001b[0m\u001b[A\n",
      "\n",
      "chain 3 |\u001b[34m██████████████████████████████████████████████████████████████████████████████████████▎                                                           \u001b[0m| 00:03 Iteration: 1001 / 2000 [ 50%]  (Sampling)\u001b[0m\u001b[A\u001b[A\n",
      "\n",
      "\n",
      "chain 4 |\u001b[34m██████████████████████████████████████████████████████████████████████████████████████▎                                                           \u001b[0m| 00:03 Iteration: 1001 / 2000 [ 50%]  (Sampling)\u001b[0m\u001b[A\u001b[A\u001b[A\n",
      "chain 1 |\u001b[34m████████████████████████████████████████████████████████████████████████████████████████████▉                                                     \u001b[0m| 00:03 Iteration: 1100 / 2000 [ 55%]  (Sampling)\u001b[0m\u001b[A\n",
      "\n",
      "chain 3 |\u001b[34m████████████████████████████████████████████████████████████████████████████████████████████▉                                                     \u001b[0m| 00:03 Iteration: 1100 / 2000 [ 55%]  (Sampling)\u001b[0m\u001b[A\u001b[A\n",
      "\n",
      "\n",
      "chain 4 |\u001b[34m████████████████████████████████████████████████████████████████████████████████████████████▉                                                     \u001b[0m| 00:03 Iteration: 1100 / 2000 [ 55%]  (Sampling)\u001b[0m\u001b[A\u001b[A\u001b[A\n",
      "chain 1 |\u001b[34m███████████████████████████████████████████████████████████████████████████████████████████████████▌                                              \u001b[0m| 00:03 Iteration: 1200 / 2000 [ 60%]  (Sampling)\u001b[0m\u001b[A\n",
      "\n",
      "chain 3 |\u001b[34m███████████████████████████████████████████████████████████████████████████████████████████████████▌                                              \u001b[0m| 00:03 Iteration: 1200 / 2000 [ 60%]  (Sampling)\u001b[0m\u001b[A\u001b[A\n",
      "\n",
      "\n",
      "chain 4 |\u001b[34m███████████████████████████████████████████████████████████████████████████████████████████████████▌                                              \u001b[0m| 00:03 Iteration: 1200 / 2000 [ 60%]  (Sampling)\u001b[0m\u001b[A\u001b[A\u001b[A\n",
      "chain 2 |\u001b[34m██████████████████████████████████████████████████████████████████████████████████████████████████████████▏                                       \u001b[0m| 00:04 Iteration: 1300 / 2000 [ 65%]  (Sampling)\u001b[0m\u001b[A\n",
      "\n",
      "chain 1 |\u001b[34m██████████████████████████████████████████████████████████████████████████████████████████████████████████▏                                       \u001b[0m| 00:04 Iteration: 1300 / 2000 [ 65%]  (Sampling)\u001b[0m\u001b[A\u001b[A\n",
      "\n",
      "\n",
      "chain 4 |\u001b[34m██████████████████████████████████████████████████████████████████████████████████████████████████████████▏                                       \u001b[0m| 00:04 Iteration: 1300 / 2000 [ 65%]  (Sampling)\u001b[0m\u001b[A\u001b[A\u001b[A\n",
      "chain 2 |\u001b[34m████████████████████████████████████████████████████████████████████████████████████████████████████████████████▊                                 \u001b[0m| 00:04 Iteration: 1400 / 2000 [ 70%]  (Sampling)\u001b[0m\u001b[A\n",
      "\n",
      "chain 1 |\u001b[34m████████████████████████████████████████████████████████████████████████████████████████████████████████████████▊                                 \u001b[0m| 00:04 Iteration: 1400 / 2000 [ 70%]  (Sampling)\u001b[0m\u001b[A\u001b[A\n",
      "\n",
      "\n",
      "chain 4 |\u001b[34m████████████████████████████████████████████████████████████████████████████████████████████████████████████████▊                                 \u001b[0m| 00:04 Iteration: 1400 / 2000 [ 70%]  (Sampling)\u001b[0m\u001b[A\u001b[A\u001b[A\n",
      "chain 2 |\u001b[34m███████████████████████████████████████████████████████████████████████████████████████████████████████████████████████▍                          \u001b[0m| 00:04 Iteration: 1500 / 2000 [ 75%]  (Sampling)\u001b[0m\u001b[A\n",
      "\n",
      "\n",
      "chain 4 |\u001b[34m███████████████████████████████████████████████████████████████████████████████████████████████████████████████████████▍                          \u001b[0m| 00:04 Iteration: 1500 / 2000 [ 75%]  (Sampling)\u001b[0m\u001b[A\u001b[A\u001b[A\n",
      "\n",
      "chain 1 |\u001b[34m███████████████████████████████████████████████████████████████████████████████████████████████████████████████████████▍                          \u001b[0m| 00:04 Iteration: 1500 / 2000 [ 75%]  (Sampling)\u001b[0m\u001b[A\u001b[A\n",
      "chain 2 |\u001b[34m██████████████████████████████████████████████████████████████████████████████████████████████████████████████████████████████                    \u001b[0m| 00:05 Iteration: 1600 / 2000 [ 80%]  (Sampling)\u001b[0m\u001b[A\n",
      "\n",
      "chain 3 |\u001b[34m██████████████████████████████████████████████████████████████████████████████████████████████████████████████████████████████                    \u001b[0m| 00:05 Iteration: 1600 / 2000 [ 80%]  (Sampling)\u001b[0m\u001b[A\u001b[A\n",
      "\n",
      "\n",
      "chain 1 |\u001b[34m██████████████████████████████████████████████████████████████████████████████████████████████████████████████████████████████                    \u001b[0m| 00:05 Iteration: 1600 / 2000 [ 80%]  (Sampling)\u001b[0m\u001b[A\u001b[A\u001b[A\n",
      "chain 2 |\u001b[34m████████████████████████████████████████████████████████████████████████████████████████████████████████████████████████████████████▋             \u001b[0m| 00:05 Iteration: 1700 / 2000 [ 85%]  (Sampling)\u001b[0m\u001b[A\n",
      "\n",
      "chain 3 |\u001b[34m████████████████████████████████████████████████████████████████████████████████████████████████████████████████████████████████████▋             \u001b[0m| 00:05 Iteration: 1700 / 2000 [ 85%]  (Sampling)\u001b[0m\u001b[A\u001b[A\n",
      "\n",
      "\n",
      "chain 1 |\u001b[34m████████████████████████████████████████████████████████████████████████████████████████████████████████████████████████████████████▋             \u001b[0m| 00:05 Iteration: 1700 / 2000 [ 85%]  (Sampling)\u001b[0m\u001b[A\u001b[A\u001b[A\n",
      "chain 2 |\u001b[34m███████████████████████████████████████████████████████████████████████████████████████████████████████████████████████████████████████████▎      \u001b[0m| 00:05 Iteration: 1800 / 2000 [ 90%]  (Sampling)\u001b[0m\u001b[A\n",
      "\n",
      "\n",
      "chain 4 |\u001b[34m███████████████████████████████████████████████████████████████████████████████████████████████████████████████████████████████████████████▎      \u001b[0m| 00:05 Iteration: 1800 / 2000 [ 90%]  (Sampling)\u001b[0m\u001b[A\u001b[A\u001b[A\n",
      "\n",
      "chain 1 |\u001b[34m███████████████████████████████████████████████████████████████████████████████████████████████████████████████████████████████████████████▎      \u001b[0m| 00:06 Iteration: 1800 / 2000 [ 90%]  (Sampling)\u001b[0m\u001b[A\u001b[A\n",
      "chain 2 |\u001b[34m██████████████████████████████████████████████████████████████████████████████████████████████████████████████████████████████████████████████████\u001b[0m| 00:06 Iteration: 1900 / 2000 [ 95%]  (Sampling)\u001b[0m\u001b[A\n",
      "\n",
      "\n",
      "chain 1 |\u001b[34m██████████████████████████████████████████████████████████████████████████████████████████████████████████████████████████████████████████████████\u001b[0m| 00:06 Iteration: 1900 / 2000 [ 95%]  (Sampling)\u001b[0m\u001b[A\u001b[A\u001b[A\n",
      "\n",
      "chain 1 |\u001b[34m█████████████████████████████████████████████████████████████████████████████████████████████████████████████████████████████████████████████████████████████████████████\u001b[0m| 00:06 Sampling completed\u001b[0m\u001b[A\u001b[A\n",
      "chain 2 |\u001b[34m█████████████████████████████████████████████████████████████████████████████████████████████████████████████████████████████████████████████████████████████████████████\u001b[0m| 00:06 Sampling completed\u001b[0m\n",
      "chain 3 |\u001b[34m█████████████████████████████████████████████████████████████████████████████████████████████████████████████████████████████████████████████████████████████████████████\u001b[0m| 00:06 Sampling completed\u001b[0m\n",
      "chain 4 |\u001b[34m█████████████████████████████████████████████████████████████████████████████████████████████████████████████████████████████████████████████████████████████████████████\u001b[0m| 00:06 Sampling completed\u001b[0m"
     ]
    },
    {
     "name": "stdout",
     "output_type": "stream",
     "text": [
      "                                                                                                                                                                "
     ]
    },
    {
     "name": "stderr",
     "output_type": "stream",
     "text": [
      "\n"
     ]
    },
    {
     "name": "stdout",
     "output_type": "stream",
     "text": [
      "                                                                                                                                                                "
     ]
    },
    {
     "name": "stderr",
     "output_type": "stream",
     "text": [
      "INFO:cmdstanpy:CmdStan done processing.\n"
     ]
    },
    {
     "name": "stdout",
     "output_type": "stream",
     "text": [
      "\n"
     ]
    }
   ],
   "source": [
    "fit=model_2_fit.sample(data=data_fit,seed=28052020)\n"
   ]
  },
  {
   "cell_type": "markdown",
   "metadata": {},
   "source": [
    "2. Plot lines for each sampled slope beta and intercept alpha. Verify how uncertainity changes with increasing of sample (N)\n",
    "2. For each value of weight plot mean simulated height along with errorbar of one standard deviation (use ```errorbar``` from matplotlib). Compare with observed data (N points). Is observed data possible within the posterior model? What changes when N increases.\n"
   ]
  },
  {
   "cell_type": "code",
   "execution_count": 41,
   "metadata": {},
   "outputs": [
    {
     "data": {
      "text/html": [
       "<div>\n",
       "<style scoped>\n",
       "    .dataframe tbody tr th:only-of-type {\n",
       "        vertical-align: middle;\n",
       "    }\n",
       "\n",
       "    .dataframe tbody tr th {\n",
       "        vertical-align: top;\n",
       "    }\n",
       "\n",
       "    .dataframe thead th {\n",
       "        text-align: right;\n",
       "    }\n",
       "</style>\n",
       "<table border=\"1\" class=\"dataframe\">\n",
       "  <thead>\n",
       "    <tr style=\"text-align: right;\">\n",
       "      <th></th>\n",
       "      <th>lp__</th>\n",
       "      <th>accept_stat__</th>\n",
       "      <th>stepsize__</th>\n",
       "      <th>treedepth__</th>\n",
       "      <th>n_leapfrog__</th>\n",
       "      <th>divergent__</th>\n",
       "      <th>energy__</th>\n",
       "      <th>alpha</th>\n",
       "      <th>sigma</th>\n",
       "      <th>beta</th>\n",
       "      <th>...</th>\n",
       "      <th>h_hat[91]</th>\n",
       "      <th>h_hat[92]</th>\n",
       "      <th>h_hat[93]</th>\n",
       "      <th>h_hat[94]</th>\n",
       "      <th>h_hat[95]</th>\n",
       "      <th>h_hat[96]</th>\n",
       "      <th>h_hat[97]</th>\n",
       "      <th>h_hat[98]</th>\n",
       "      <th>h_hat[99]</th>\n",
       "      <th>h_hat[100]</th>\n",
       "    </tr>\n",
       "  </thead>\n",
       "  <tbody>\n",
       "    <tr>\n",
       "      <th>0</th>\n",
       "      <td>-231.901</td>\n",
       "      <td>0.984928</td>\n",
       "      <td>0.108414</td>\n",
       "      <td>5.0</td>\n",
       "      <td>43.0</td>\n",
       "      <td>0.0</td>\n",
       "      <td>232.502</td>\n",
       "      <td>118.684</td>\n",
       "      <td>6.27806</td>\n",
       "      <td>0.795357</td>\n",
       "      <td>...</td>\n",
       "      <td>160.752</td>\n",
       "      <td>163.397</td>\n",
       "      <td>153.231</td>\n",
       "      <td>154.290</td>\n",
       "      <td>162.605</td>\n",
       "      <td>163.748</td>\n",
       "      <td>153.677</td>\n",
       "      <td>174.541</td>\n",
       "      <td>163.442</td>\n",
       "      <td>159.503</td>\n",
       "    </tr>\n",
       "    <tr>\n",
       "      <th>1</th>\n",
       "      <td>-233.760</td>\n",
       "      <td>0.995098</td>\n",
       "      <td>0.108414</td>\n",
       "      <td>4.0</td>\n",
       "      <td>15.0</td>\n",
       "      <td>0.0</td>\n",
       "      <td>234.005</td>\n",
       "      <td>119.677</td>\n",
       "      <td>6.88797</td>\n",
       "      <td>0.775776</td>\n",
       "      <td>...</td>\n",
       "      <td>160.881</td>\n",
       "      <td>161.327</td>\n",
       "      <td>144.210</td>\n",
       "      <td>163.015</td>\n",
       "      <td>145.309</td>\n",
       "      <td>161.866</td>\n",
       "      <td>145.617</td>\n",
       "      <td>162.611</td>\n",
       "      <td>151.403</td>\n",
       "      <td>155.038</td>\n",
       "    </tr>\n",
       "    <tr>\n",
       "      <th>2</th>\n",
       "      <td>-234.940</td>\n",
       "      <td>0.760257</td>\n",
       "      <td>0.108414</td>\n",
       "      <td>2.0</td>\n",
       "      <td>7.0</td>\n",
       "      <td>0.0</td>\n",
       "      <td>237.469</td>\n",
       "      <td>118.947</td>\n",
       "      <td>6.63518</td>\n",
       "      <td>0.754682</td>\n",
       "      <td>...</td>\n",
       "      <td>163.625</td>\n",
       "      <td>152.688</td>\n",
       "      <td>146.212</td>\n",
       "      <td>148.252</td>\n",
       "      <td>148.719</td>\n",
       "      <td>151.755</td>\n",
       "      <td>151.233</td>\n",
       "      <td>147.579</td>\n",
       "      <td>157.769</td>\n",
       "      <td>152.037</td>\n",
       "    </tr>\n",
       "    <tr>\n",
       "      <th>3</th>\n",
       "      <td>-233.559</td>\n",
       "      <td>0.947589</td>\n",
       "      <td>0.108414</td>\n",
       "      <td>2.0</td>\n",
       "      <td>3.0</td>\n",
       "      <td>0.0</td>\n",
       "      <td>235.873</td>\n",
       "      <td>118.949</td>\n",
       "      <td>6.58363</td>\n",
       "      <td>0.765099</td>\n",
       "      <td>...</td>\n",
       "      <td>165.092</td>\n",
       "      <td>156.128</td>\n",
       "      <td>148.777</td>\n",
       "      <td>162.442</td>\n",
       "      <td>143.534</td>\n",
       "      <td>153.526</td>\n",
       "      <td>145.762</td>\n",
       "      <td>163.472</td>\n",
       "      <td>158.453</td>\n",
       "      <td>148.620</td>\n",
       "    </tr>\n",
       "    <tr>\n",
       "      <th>4</th>\n",
       "      <td>-233.383</td>\n",
       "      <td>0.985758</td>\n",
       "      <td>0.108414</td>\n",
       "      <td>5.0</td>\n",
       "      <td>63.0</td>\n",
       "      <td>0.0</td>\n",
       "      <td>235.413</td>\n",
       "      <td>115.522</td>\n",
       "      <td>6.44875</td>\n",
       "      <td>0.848533</td>\n",
       "      <td>...</td>\n",
       "      <td>165.032</td>\n",
       "      <td>166.198</td>\n",
       "      <td>147.014</td>\n",
       "      <td>148.215</td>\n",
       "      <td>145.679</td>\n",
       "      <td>173.449</td>\n",
       "      <td>163.958</td>\n",
       "      <td>152.710</td>\n",
       "      <td>161.118</td>\n",
       "      <td>143.945</td>\n",
       "    </tr>\n",
       "  </tbody>\n",
       "</table>\n",
       "<p>5 rows × 210 columns</p>\n",
       "</div>"
      ],
      "text/plain": [
       "      lp__  accept_stat__  stepsize__  treedepth__  n_leapfrog__  divergent__  \\\n",
       "0 -231.901       0.984928    0.108414          5.0          43.0          0.0   \n",
       "1 -233.760       0.995098    0.108414          4.0          15.0          0.0   \n",
       "2 -234.940       0.760257    0.108414          2.0           7.0          0.0   \n",
       "3 -233.559       0.947589    0.108414          2.0           3.0          0.0   \n",
       "4 -233.383       0.985758    0.108414          5.0          63.0          0.0   \n",
       "\n",
       "   energy__    alpha    sigma      beta  ...  h_hat[91]  h_hat[92]  h_hat[93]  \\\n",
       "0   232.502  118.684  6.27806  0.795357  ...    160.752    163.397    153.231   \n",
       "1   234.005  119.677  6.88797  0.775776  ...    160.881    161.327    144.210   \n",
       "2   237.469  118.947  6.63518  0.754682  ...    163.625    152.688    146.212   \n",
       "3   235.873  118.949  6.58363  0.765099  ...    165.092    156.128    148.777   \n",
       "4   235.413  115.522  6.44875  0.848533  ...    165.032    166.198    147.014   \n",
       "\n",
       "   h_hat[94]  h_hat[95]  h_hat[96]  h_hat[97]  h_hat[98]  h_hat[99]  \\\n",
       "0    154.290    162.605    163.748    153.677    174.541    163.442   \n",
       "1    163.015    145.309    161.866    145.617    162.611    151.403   \n",
       "2    148.252    148.719    151.755    151.233    147.579    157.769   \n",
       "3    162.442    143.534    153.526    145.762    163.472    158.453   \n",
       "4    148.215    145.679    173.449    163.958    152.710    161.118   \n",
       "\n",
       "   h_hat[100]  \n",
       "0     159.503  \n",
       "1     155.038  \n",
       "2     152.037  \n",
       "3     148.620  \n",
       "4     143.945  \n",
       "\n",
       "[5 rows x 210 columns]"
      ]
     },
     "execution_count": 41,
     "metadata": {},
     "output_type": "execute_result"
    }
   ],
   "source": [
    "df = fit.draws_pd()\n",
    "df.head()"
   ]
  },
  {
   "cell_type": "code",
   "execution_count": 42,
   "metadata": {},
   "outputs": [
    {
     "data": {
      "text/html": [
       "<div>\n",
       "<style scoped>\n",
       "    .dataframe tbody tr th:only-of-type {\n",
       "        vertical-align: middle;\n",
       "    }\n",
       "\n",
       "    .dataframe tbody tr th {\n",
       "        vertical-align: top;\n",
       "    }\n",
       "\n",
       "    .dataframe thead th {\n",
       "        text-align: right;\n",
       "    }\n",
       "</style>\n",
       "<table border=\"1\" class=\"dataframe\">\n",
       "  <thead>\n",
       "    <tr style=\"text-align: right;\">\n",
       "      <th></th>\n",
       "      <th>lp__</th>\n",
       "      <th>accept_stat__</th>\n",
       "      <th>stepsize__</th>\n",
       "      <th>treedepth__</th>\n",
       "      <th>n_leapfrog__</th>\n",
       "      <th>divergent__</th>\n",
       "      <th>energy__</th>\n",
       "      <th>alpha</th>\n",
       "      <th>sigma</th>\n",
       "      <th>beta</th>\n",
       "      <th>...</th>\n",
       "      <th>h_hat[91]</th>\n",
       "      <th>h_hat[92]</th>\n",
       "      <th>h_hat[93]</th>\n",
       "      <th>h_hat[94]</th>\n",
       "      <th>h_hat[95]</th>\n",
       "      <th>h_hat[96]</th>\n",
       "      <th>h_hat[97]</th>\n",
       "      <th>h_hat[98]</th>\n",
       "      <th>h_hat[99]</th>\n",
       "      <th>h_hat[100]</th>\n",
       "    </tr>\n",
       "  </thead>\n",
       "  <tbody>\n",
       "    <tr>\n",
       "      <th>count</th>\n",
       "      <td>4000.000000</td>\n",
       "      <td>4000.000000</td>\n",
       "      <td>4000.000000</td>\n",
       "      <td>4000.000000</td>\n",
       "      <td>4000.000000</td>\n",
       "      <td>4000.0</td>\n",
       "      <td>4000.000000</td>\n",
       "      <td>4000.000000</td>\n",
       "      <td>4000.000000</td>\n",
       "      <td>4000.000000</td>\n",
       "      <td>...</td>\n",
       "      <td>4000.000000</td>\n",
       "      <td>4000.000000</td>\n",
       "      <td>4000.000000</td>\n",
       "      <td>4000.000000</td>\n",
       "      <td>4000.000000</td>\n",
       "      <td>4000.000000</td>\n",
       "      <td>4000.000000</td>\n",
       "      <td>4000.000000</td>\n",
       "      <td>4000.000000</td>\n",
       "      <td>4000.000000</td>\n",
       "    </tr>\n",
       "    <tr>\n",
       "      <th>mean</th>\n",
       "      <td>-232.669390</td>\n",
       "      <td>0.931401</td>\n",
       "      <td>0.110990</td>\n",
       "      <td>3.835000</td>\n",
       "      <td>22.912000</td>\n",
       "      <td>0.0</td>\n",
       "      <td>234.158797</td>\n",
       "      <td>119.851089</td>\n",
       "      <td>5.900383</td>\n",
       "      <td>0.764705</td>\n",
       "      <td>...</td>\n",
       "      <td>160.657688</td>\n",
       "      <td>159.975636</td>\n",
       "      <td>152.250330</td>\n",
       "      <td>157.748906</td>\n",
       "      <td>151.713457</td>\n",
       "      <td>162.492701</td>\n",
       "      <td>151.940871</td>\n",
       "      <td>160.446379</td>\n",
       "      <td>158.331883</td>\n",
       "      <td>152.456247</td>\n",
       "    </tr>\n",
       "    <tr>\n",
       "      <th>std</th>\n",
       "      <td>1.217811</td>\n",
       "      <td>0.101700</td>\n",
       "      <td>0.003294</td>\n",
       "      <td>1.138463</td>\n",
       "      <td>13.843271</td>\n",
       "      <td>0.0</td>\n",
       "      <td>1.710898</td>\n",
       "      <td>3.650302</td>\n",
       "      <td>0.464438</td>\n",
       "      <td>0.079908</td>\n",
       "      <td>...</td>\n",
       "      <td>6.074571</td>\n",
       "      <td>5.962046</td>\n",
       "      <td>6.031515</td>\n",
       "      <td>6.013037</td>\n",
       "      <td>5.990198</td>\n",
       "      <td>5.945925</td>\n",
       "      <td>5.797413</td>\n",
       "      <td>6.060914</td>\n",
       "      <td>6.035395</td>\n",
       "      <td>5.891681</td>\n",
       "    </tr>\n",
       "    <tr>\n",
       "      <th>min</th>\n",
       "      <td>-240.697000</td>\n",
       "      <td>0.098910</td>\n",
       "      <td>0.107576</td>\n",
       "      <td>1.000000</td>\n",
       "      <td>1.000000</td>\n",
       "      <td>0.0</td>\n",
       "      <td>231.298000</td>\n",
       "      <td>104.430000</td>\n",
       "      <td>4.720220</td>\n",
       "      <td>0.487793</td>\n",
       "      <td>...</td>\n",
       "      <td>142.545000</td>\n",
       "      <td>138.790000</td>\n",
       "      <td>131.625000</td>\n",
       "      <td>135.546000</td>\n",
       "      <td>130.531000</td>\n",
       "      <td>141.056000</td>\n",
       "      <td>128.843000</td>\n",
       "      <td>135.354000</td>\n",
       "      <td>139.568000</td>\n",
       "      <td>132.432000</td>\n",
       "    </tr>\n",
       "    <tr>\n",
       "      <th>25%</th>\n",
       "      <td>-233.246000</td>\n",
       "      <td>0.907331</td>\n",
       "      <td>0.108204</td>\n",
       "      <td>3.000000</td>\n",
       "      <td>15.000000</td>\n",
       "      <td>0.0</td>\n",
       "      <td>232.908750</td>\n",
       "      <td>117.441000</td>\n",
       "      <td>5.580840</td>\n",
       "      <td>0.713200</td>\n",
       "      <td>...</td>\n",
       "      <td>156.591750</td>\n",
       "      <td>156.066000</td>\n",
       "      <td>148.161000</td>\n",
       "      <td>153.611000</td>\n",
       "      <td>147.574750</td>\n",
       "      <td>158.511250</td>\n",
       "      <td>148.138750</td>\n",
       "      <td>156.231750</td>\n",
       "      <td>154.132000</td>\n",
       "      <td>148.493500</td>\n",
       "    </tr>\n",
       "    <tr>\n",
       "      <th>50%</th>\n",
       "      <td>-232.361500</td>\n",
       "      <td>0.975162</td>\n",
       "      <td>0.110254</td>\n",
       "      <td>4.000000</td>\n",
       "      <td>23.000000</td>\n",
       "      <td>0.0</td>\n",
       "      <td>233.831500</td>\n",
       "      <td>119.732000</td>\n",
       "      <td>5.881645</td>\n",
       "      <td>0.766544</td>\n",
       "      <td>...</td>\n",
       "      <td>160.684500</td>\n",
       "      <td>159.994500</td>\n",
       "      <td>152.483500</td>\n",
       "      <td>157.780000</td>\n",
       "      <td>151.762500</td>\n",
       "      <td>162.585500</td>\n",
       "      <td>151.997500</td>\n",
       "      <td>160.378500</td>\n",
       "      <td>158.431000</td>\n",
       "      <td>152.489500</td>\n",
       "    </tr>\n",
       "    <tr>\n",
       "      <th>75%</th>\n",
       "      <td>-231.774750</td>\n",
       "      <td>0.995815</td>\n",
       "      <td>0.113039</td>\n",
       "      <td>5.000000</td>\n",
       "      <td>31.000000</td>\n",
       "      <td>0.0</td>\n",
       "      <td>235.085250</td>\n",
       "      <td>122.184000</td>\n",
       "      <td>6.197342</td>\n",
       "      <td>0.817843</td>\n",
       "      <td>...</td>\n",
       "      <td>164.664250</td>\n",
       "      <td>163.923000</td>\n",
       "      <td>156.270000</td>\n",
       "      <td>161.749500</td>\n",
       "      <td>155.758750</td>\n",
       "      <td>166.552500</td>\n",
       "      <td>155.794500</td>\n",
       "      <td>164.568750</td>\n",
       "      <td>162.515000</td>\n",
       "      <td>156.401250</td>\n",
       "    </tr>\n",
       "    <tr>\n",
       "      <th>max</th>\n",
       "      <td>-231.146000</td>\n",
       "      <td>1.000000</td>\n",
       "      <td>0.115876</td>\n",
       "      <td>6.000000</td>\n",
       "      <td>63.000000</td>\n",
       "      <td>0.0</td>\n",
       "      <td>245.909000</td>\n",
       "      <td>132.986000</td>\n",
       "      <td>7.717820</td>\n",
       "      <td>1.103940</td>\n",
       "      <td>...</td>\n",
       "      <td>181.263000</td>\n",
       "      <td>180.444000</td>\n",
       "      <td>174.868000</td>\n",
       "      <td>180.573000</td>\n",
       "      <td>172.302000</td>\n",
       "      <td>182.076000</td>\n",
       "      <td>176.560000</td>\n",
       "      <td>183.235000</td>\n",
       "      <td>181.233000</td>\n",
       "      <td>173.591000</td>\n",
       "    </tr>\n",
       "  </tbody>\n",
       "</table>\n",
       "<p>8 rows × 210 columns</p>\n",
       "</div>"
      ],
      "text/plain": [
       "              lp__  accept_stat__   stepsize__  treedepth__  n_leapfrog__  \\\n",
       "count  4000.000000    4000.000000  4000.000000  4000.000000   4000.000000   \n",
       "mean   -232.669390       0.931401     0.110990     3.835000     22.912000   \n",
       "std       1.217811       0.101700     0.003294     1.138463     13.843271   \n",
       "min    -240.697000       0.098910     0.107576     1.000000      1.000000   \n",
       "25%    -233.246000       0.907331     0.108204     3.000000     15.000000   \n",
       "50%    -232.361500       0.975162     0.110254     4.000000     23.000000   \n",
       "75%    -231.774750       0.995815     0.113039     5.000000     31.000000   \n",
       "max    -231.146000       1.000000     0.115876     6.000000     63.000000   \n",
       "\n",
       "       divergent__     energy__        alpha        sigma         beta  ...  \\\n",
       "count       4000.0  4000.000000  4000.000000  4000.000000  4000.000000  ...   \n",
       "mean           0.0   234.158797   119.851089     5.900383     0.764705  ...   \n",
       "std            0.0     1.710898     3.650302     0.464438     0.079908  ...   \n",
       "min            0.0   231.298000   104.430000     4.720220     0.487793  ...   \n",
       "25%            0.0   232.908750   117.441000     5.580840     0.713200  ...   \n",
       "50%            0.0   233.831500   119.732000     5.881645     0.766544  ...   \n",
       "75%            0.0   235.085250   122.184000     6.197342     0.817843  ...   \n",
       "max            0.0   245.909000   132.986000     7.717820     1.103940  ...   \n",
       "\n",
       "         h_hat[91]    h_hat[92]    h_hat[93]    h_hat[94]    h_hat[95]  \\\n",
       "count  4000.000000  4000.000000  4000.000000  4000.000000  4000.000000   \n",
       "mean    160.657688   159.975636   152.250330   157.748906   151.713457   \n",
       "std       6.074571     5.962046     6.031515     6.013037     5.990198   \n",
       "min     142.545000   138.790000   131.625000   135.546000   130.531000   \n",
       "25%     156.591750   156.066000   148.161000   153.611000   147.574750   \n",
       "50%     160.684500   159.994500   152.483500   157.780000   151.762500   \n",
       "75%     164.664250   163.923000   156.270000   161.749500   155.758750   \n",
       "max     181.263000   180.444000   174.868000   180.573000   172.302000   \n",
       "\n",
       "         h_hat[96]    h_hat[97]    h_hat[98]    h_hat[99]   h_hat[100]  \n",
       "count  4000.000000  4000.000000  4000.000000  4000.000000  4000.000000  \n",
       "mean    162.492701   151.940871   160.446379   158.331883   152.456247  \n",
       "std       5.945925     5.797413     6.060914     6.035395     5.891681  \n",
       "min     141.056000   128.843000   135.354000   139.568000   132.432000  \n",
       "25%     158.511250   148.138750   156.231750   154.132000   148.493500  \n",
       "50%     162.585500   151.997500   160.378500   158.431000   152.489500  \n",
       "75%     166.552500   155.794500   164.568750   162.515000   156.401250  \n",
       "max     182.076000   176.560000   183.235000   181.233000   173.591000  \n",
       "\n",
       "[8 rows x 210 columns]"
      ]
     },
     "execution_count": 42,
     "metadata": {},
     "output_type": "execute_result"
    }
   ],
   "source": [
    "df.describe()"
   ]
  },
  {
   "cell_type": "code",
   "execution_count": 43,
   "metadata": {},
   "outputs": [],
   "source": [
    "heights = df.loc[:, 'h_hat[1]':f'h_hat[{N}]'].values"
   ]
  },
  {
   "cell_type": "code",
   "execution_count": 55,
   "metadata": {},
   "outputs": [
    {
     "data": {
      "text/plain": [
       "122.2"
      ]
     },
     "execution_count": 55,
     "metadata": {},
     "output_type": "execute_result"
    }
   ],
   "source": [
    "heights.min()"
   ]
  },
  {
   "cell_type": "code",
   "execution_count": 45,
   "metadata": {},
   "outputs": [
    {
     "data": {
      "text/plain": [
       "193.901"
      ]
     },
     "execution_count": 45,
     "metadata": {},
     "output_type": "execute_result"
    }
   ],
   "source": [
    "heights.max()"
   ]
  },
  {
   "cell_type": "code",
   "execution_count": 50,
   "metadata": {},
   "outputs": [],
   "source": [
    "alpha = df['alpha'].values\n",
    "beta = df['beta'].values"
   ]
  },
  {
   "cell_type": "code",
   "execution_count": 51,
   "metadata": {},
   "outputs": [
    {
     "data": {
      "text/plain": [
       "(4000,)"
      ]
     },
     "execution_count": 51,
     "metadata": {},
     "output_type": "execute_result"
    }
   ],
   "source": [
    "alpha.shape"
   ]
  },
  {
   "cell_type": "code",
   "execution_count": 52,
   "metadata": {},
   "outputs": [
    {
     "data": {
      "text/plain": [
       "174.36803870066"
      ]
     },
     "execution_count": 52,
     "metadata": {},
     "output_type": "execute_result"
    }
   ],
   "source": [
    "weight_range = np.linspace(data_fit['weights'].min(), data_fit['weights'].max(), N).reshape((N, 1))\n",
    "\n",
    "hhat = beta * weight_range + alpha\n",
    "hhat.max()"
   ]
  },
  {
   "cell_type": "code",
   "execution_count": 54,
   "metadata": {},
   "outputs": [
    {
     "data": {
      "image/png": "[encoded data removed]",
      "text/plain": [
       "<Figure size 432x288 with 1 Axes>"
      ]
     },
     "metadata": {
      "needs_background": "light"
     },
     "output_type": "display_data"
    }
   ],
   "source": [
    "extended_domain = np.ones((1, 4000)) * weight_range\n",
    "plt.plot(extended_domain, hhat, 'r', alpha=0.05)\n",
    "plt.title('Height vs weight')\n",
    "plt.xlabel('Weight')\n",
    "plt.ylabel('Height')\n",
    "plt.show()"
   ]
  },
  {
   "cell_type": "code",
   "execution_count": 58,
   "metadata": {},
   "outputs": [
    {
     "name": "stderr",
     "output_type": "stream",
     "text": [
      "INFO:cmdstanpy:CmdStan start processing\n",
      "chain 1 |\u001b[33m                                                                                                                                                                                     \u001b[0m| 00:00 Status\u001b[0m\n",
      "chain 2 |\u001b[33m                                                                                                                                                                                     \u001b[0m| 00:00 Status\u001b[0m\u001b[A\n",
      "\n",
      "chain 3 |\u001b[33m                                                                                                                                                                                     \u001b[0m| 00:00 Status\u001b[0m\u001b[A\u001b[A\n",
      "\n",
      "\n",
      "chain 1 |\u001b[33m████████▏                                                                                                                                                                            \u001b[0m| 00:00 Status\u001b[0m\u001b[A\u001b[A\u001b[A\n",
      "chain 2 |\u001b[33m████████▏                                                                                                                                                                            \u001b[0m| 00:00 Status\u001b[0m\u001b[A\n",
      "\n",
      "chain 3 |\u001b[33m████████▏                                                                                                                                                                            \u001b[0m| 00:00 Status\u001b[0m\u001b[A\u001b[A\n",
      "\n",
      "\n",
      "chain 1 |\u001b[33m████████████████████▏                                                                                                                               \u001b[0m| 00:00 Iteration:  100 / 2000 [  5%]  (Warmup)\u001b[0m\u001b[A\u001b[A\u001b[A\n",
      "\n",
      "chain 3 |\u001b[33m████████████████████▏                                                                                                                               \u001b[0m| 00:00 Iteration:  100 / 2000 [  5%]  (Warmup)\u001b[0m\u001b[A\u001b[A\n",
      "chain 2 |\u001b[33m████████████████████▏                                                                                                                               \u001b[0m| 00:00 Iteration:  100 / 2000 [  5%]  (Warmup)\u001b[0m\u001b[A\n",
      "\n",
      "\n",
      "chain 1 |\u001b[33m████████████████████████████████████████▎                                                                                                           \u001b[0m| 00:00 Iteration:  400 / 2000 [ 20%]  (Warmup)\u001b[0m\u001b[A\u001b[A\u001b[A\n",
      "chain 2 |\u001b[33m████████████████████████████████████████▎                                                                                                           \u001b[0m| 00:00 Iteration:  400 / 2000 [ 20%]  (Warmup)\u001b[0m\u001b[A\n",
      "\n",
      "chain 3 |\u001b[33m███████████████████████████████████████████████                                                                                                     \u001b[0m| 00:00 Iteration:  500 / 2000 [ 25%]  (Warmup)\u001b[0m\u001b[A\u001b[A\n",
      "\n",
      "\n",
      "chain 1 |\u001b[33m███████████████████████████████████████████████████████████████████▎                                                                                \u001b[0m| 00:00 Iteration:  800 / 2000 [ 40%]  (Warmup)\u001b[0m\u001b[A\u001b[A\u001b[A\n",
      "chain 2 |\u001b[33m█████████████████████████████████████████████████████▊                                                                                              \u001b[0m| 00:00 Iteration:  600 / 2000 [ 30%]  (Warmup)\u001b[0m\u001b[A\n",
      "\n",
      "chain 3 |\u001b[33m███████████████████████████████████████████████████████████████████▎                                                                                \u001b[0m| 00:00 Iteration:  800 / 2000 [ 40%]  (Warmup)\u001b[0m\u001b[A\u001b[A\n",
      "\n",
      "\n",
      "chain 1 |\u001b[34m██████████████████████████████████████████████████████████████████████████████████████▎                                                           \u001b[0m| 00:00 Iteration: 1001 / 2000 [ 50%]  (Sampling)\u001b[0m\u001b[A\u001b[A\u001b[A\n",
      "chain 2 |\u001b[33m██████████████████████████████████████████████████████████████████████████                                                                          \u001b[0m| 00:00 Iteration:  900 / 2000 [ 45%]  (Warmup)\u001b[0m\u001b[A\n",
      "\n",
      "\n",
      "chain 4 |\u001b[34m██████████████████████████████████████████████████████████████████████████████████████▎                                                           \u001b[0m| 00:00 Iteration: 1001 / 2000 [ 50%]  (Sampling)\u001b[0m\u001b[A\u001b[A\u001b[A\n",
      "\n",
      "chain 3 |\u001b[34m████████████████████████████████████████████████████████████████████████████████████████████▉                                                     \u001b[0m| 00:00 Iteration: 1100 / 2000 [ 55%]  (Sampling)\u001b[0m\u001b[A\u001b[A\n",
      "chain 1 |\u001b[34m██████████████████████████████████████████████████████████████████████████████████████████████████████████▏                                       \u001b[0m| 00:00 Iteration: 1300 / 2000 [ 65%]  (Sampling)\u001b[0m\u001b[A\n",
      "\n",
      "\n",
      "chain 4 |\u001b[34m██████████████████████████████████████████████████████████████████████████████████████████████████████████▏                                       \u001b[0m| 00:00 Iteration: 1300 / 2000 [ 65%]  (Sampling)\u001b[0m\u001b[A\u001b[A\u001b[A\n",
      "\n",
      "chain 3 |\u001b[34m████████████████████████████████████████████████████████████████████████████████████████████████████████████████▊                                 \u001b[0m| 00:01 Iteration: 1400 / 2000 [ 70%]  (Sampling)\u001b[0m\u001b[A\u001b[A\n",
      "chain 1 |\u001b[34m██████████████████████████████████████████████████████████████████████████████████████████████████████████████████████████████                    \u001b[0m| 00:01 Iteration: 1600 / 2000 [ 80%]  (Sampling)\u001b[0m\u001b[A\n",
      "\n",
      "\n",
      "chain 4 |\u001b[34m██████████████████████████████████████████████████████████████████████████████████████████████████████████████████████████████                    \u001b[0m| 00:01 Iteration: 1600 / 2000 [ 80%]  (Sampling)\u001b[0m\u001b[A\u001b[A\u001b[A\n",
      "chain 2 |\u001b[34m██████████████████████████████████████████████████████████████████████████████████████████████████████████████████████████████                    \u001b[0m| 00:01 Iteration: 1600 / 2000 [ 80%]  (Sampling)\u001b[0m\u001b[A\n",
      "\n",
      "chain 1 |\u001b[34m███████████████████████████████████████████████████████████████████████████████████████████████████████████████████████████████████████████▎      \u001b[0m| 00:01 Iteration: 1800 / 2000 [ 90%]  (Sampling)\u001b[0m\u001b[A\u001b[A\n",
      "\n",
      "\n",
      "chain 4 |\u001b[34m███████████████████████████████████████████████████████████████████████████████████████████████████████████████████████████████████████████▎      \u001b[0m| 00:01 Iteration: 1800 / 2000 [ 90%]  (Sampling)\u001b[0m\u001b[A\u001b[A\u001b[A\n",
      "chain 2 |\u001b[34m███████████████████████████████████████████████████████████████████████████████████████████████████████████████████████████████████████████▎      \u001b[0m| 00:01 Iteration: 1800 / 2000 [ 90%]  (Sampling)\u001b[0m\u001b[A\n",
      "\n",
      "chain 1 |\u001b[34m█████████████████████████████████████████████████████████████████████████████████████████████████████████████████████████████████████████████████████████████████████████\u001b[0m| 00:01 Sampling completed\u001b[0m\u001b[A\u001b[A\n",
      "chain 2 |\u001b[34m█████████████████████████████████████████████████████████████████████████████████████████████████████████████████████████████████████████████████████████████████████████\u001b[0m| 00:01 Sampling completed\u001b[0m\n",
      "chain 3 |\u001b[34m█████████████████████████████████████████████████████████████████████████████████████████████████████████████████████████████████████████████████████████████████████████\u001b[0m| 00:01 Sampling completed\u001b[0m\n",
      "chain 4 |\u001b[34m█████████████████████████████████████████████████████████████████████████████████████████████████████████████████████████████████████████████████████████████████████████\u001b[0m| 00:01 Sampling completed\u001b[0m\n"
     ]
    },
    {
     "name": "stdout",
     "output_type": "stream",
     "text": [
      "                                                                                                                                                                                                                                                                                                                                "
     ]
    },
    {
     "name": "stderr",
     "output_type": "stream",
     "text": [
      "INFO:cmdstanpy:CmdStan done processing.\n"
     ]
    },
    {
     "name": "stdout",
     "output_type": "stream",
     "text": [
      "\n"
     ]
    },
    {
     "name": "stderr",
     "output_type": "stream",
     "text": [
      "INFO:cmdstanpy:CmdStan start processing\n",
      "chain 1 |\u001b[33m                                                                                                                                                                                     \u001b[0m| 00:00 Status\u001b[0m\n",
      "chain 2 |\u001b[33m                                                                                                                                                                                     \u001b[0m| 00:00 Status\u001b[0m\u001b[A\n",
      "\n",
      "chain 3 |\u001b[33m                                                                                                                                                                                     \u001b[0m| 00:00 Status\u001b[0m\u001b[A\u001b[A\n",
      "\n",
      "\n",
      "chain 1 |\u001b[33m████████▏                                                                                                                                                                            \u001b[0m| 00:00 Status\u001b[0m\u001b[A\u001b[A\u001b[A\n",
      "chain 2 |\u001b[33m████████▏                                                                                                                                                                            \u001b[0m| 00:00 Status\u001b[0m\u001b[A\n",
      "\n",
      "chain 3 |\u001b[33m████████▏                                                                                                                                                                            \u001b[0m| 00:00 Status\u001b[0m\u001b[A\u001b[A\n",
      "\n",
      "\n",
      "chain 1 |\u001b[33m█████████████▍                                                                                                                                      \u001b[0m| 00:00 Iteration:    1 / 2000 [  0%]  (Warmup)\u001b[0m\u001b[A\u001b[A\u001b[A\n",
      "chain 2 |\u001b[33m█████████████▍                                                                                                                                      \u001b[0m| 00:00 Iteration:    1 / 2000 [  0%]  (Warmup)\u001b[0m\u001b[A\n",
      "\n",
      "\n",
      "chain 4 |\u001b[33m█████████████▍                                                                                                                                      \u001b[0m| 00:00 Iteration:    1 / 2000 [  0%]  (Warmup)\u001b[0m\u001b[A\u001b[A\u001b[A\n",
      "\n",
      "chain 3 |\u001b[33m█████████████▍                                                                                                                                      \u001b[0m| 00:00 Iteration:    1 / 2000 [  0%]  (Warmup)\u001b[0m\u001b[A\u001b[A\n",
      "\n",
      "\n",
      "chain 4 |\u001b[33m████████████████████▏                                                                                                                               \u001b[0m| 00:00 Iteration:  100 / 2000 [  5%]  (Warmup)\u001b[0m\u001b[A\u001b[A\u001b[A\n",
      "chain 1 |\u001b[33m████████████████████▏                                                                                                                               \u001b[0m| 00:00 Iteration:  100 / 2000 [  5%]  (Warmup)\u001b[0m\u001b[A\n",
      "\n",
      "chain 3 |\u001b[33m████████████████████▏                                                                                                                               \u001b[0m| 00:00 Iteration:  100 / 2000 [  5%]  (Warmup)\u001b[0m\u001b[A\u001b[A\n",
      "\n",
      "\n",
      "chain 4 |\u001b[33m█████████████████████████████████▋                                                                                                                  \u001b[0m| 00:00 Iteration:  300 / 2000 [ 15%]  (Warmup)\u001b[0m\u001b[A\u001b[A\u001b[A\n",
      "chain 1 |\u001b[33m██████████████████████████▉                                                                                                                         \u001b[0m| 00:00 Iteration:  200 / 2000 [ 10%]  (Warmup)\u001b[0m\u001b[A\n",
      "\n",
      "chain 3 |\u001b[33m█████████████████████████████████▋                                                                                                                  \u001b[0m| 00:00 Iteration:  300 / 2000 [ 15%]  (Warmup)\u001b[0m\u001b[A\u001b[A\n",
      "\n",
      "\n",
      "chain 4 |\u001b[33m███████████████████████████████████████████████                                                                                                     \u001b[0m| 00:00 Iteration:  500 / 2000 [ 25%]  (Warmup)\u001b[0m\u001b[A\u001b[A\u001b[A\n",
      "chain 2 |\u001b[33m█████████████████████████████████▋                                                                                                                  \u001b[0m| 00:01 Iteration:  300 / 2000 [ 15%]  (Warmup)\u001b[0m\u001b[A\n",
      "chain 2 |\u001b[33m████████████████████████████████████████▎                                                                                                           \u001b[0m| 00:01 Iteration:  400 / 2000 [ 20%]  (Warmup)\u001b[0m\u001b[A\n",
      "\n",
      "chain 3 |\u001b[33m████████████████████████████████████████▎                                                                                                           \u001b[0m| 00:01 Iteration:  400 / 2000 [ 20%]  (Warmup)\u001b[0m\u001b[A\u001b[A\n",
      "\n",
      "\n",
      "chain 1 |\u001b[33m████████████████████████████████████████▎                                                                                                           \u001b[0m| 00:01 Iteration:  400 / 2000 [ 20%]  (Warmup)\u001b[0m\u001b[A\u001b[A\u001b[A\n",
      "\n",
      "\n",
      "chain 4 |\u001b[33m██████████████████████████████████████████████████████████████████████████                                                                          \u001b[0m| 00:01 Iteration:  900 / 2000 [ 45%]  (Warmup)\u001b[0m\u001b[A\u001b[A\u001b[A\n",
      "\n",
      "chain 3 |\u001b[33m███████████████████████████████████████████████                                                                                                     \u001b[0m| 00:01 Iteration:  500 / 2000 [ 25%]  (Warmup)\u001b[0m\u001b[A\u001b[A\n",
      "chain 1 |\u001b[33m██████████████████████████████████████████████████████████████████████████                                                                          \u001b[0m| 00:01 Iteration:  900 / 2000 [ 45%]  (Warmup)\u001b[0m\u001b[A\n",
      "\n",
      "\n",
      "chain 4 |\u001b[34m██████████████████████████████████████████████████████████████████████████████████████▎                                                           \u001b[0m| 00:01 Iteration: 1001 / 2000 [ 50%]  (Sampling)\u001b[0m\u001b[A\u001b[A\u001b[A\n",
      "\n",
      "chain 3 |\u001b[33m████████████████████████████████████████████████████████████▌                                                                                       \u001b[0m| 00:01 Iteration:  700 / 2000 [ 35%]  (Warmup)\u001b[0m\u001b[A\u001b[A\n",
      "chain 1 |\u001b[34m██████████████████████████████████████████████████████████████████████████████████████▎                                                           \u001b[0m| 00:01 Iteration: 1001 / 2000 [ 50%]  (Sampling)\u001b[0m\u001b[A\n",
      "\n",
      "chain 3 |\u001b[33m██████████████████████████████████████████████████████████████████████████                                                                          \u001b[0m| 00:01 Iteration:  900 / 2000 [ 45%]  (Warmup)\u001b[0m\u001b[A\u001b[A\n",
      "\n",
      "\n",
      "chain 4 |\u001b[34m███████████████████████████████████████████████████████████████████████████████████████████████████▌                                              \u001b[0m| 00:01 Iteration: 1200 / 2000 [ 60%]  (Sampling)\u001b[0m\u001b[A\u001b[A\u001b[A\n",
      "\n",
      "chain 3 |\u001b[34m██████████████████████████████████████████████████████████████████████████████████████▎                                                           \u001b[0m| 00:01 Iteration: 1001 / 2000 [ 50%]  (Sampling)\u001b[0m\u001b[A\u001b[A\n",
      "chain 1 |\u001b[34m███████████████████████████████████████████████████████████████████████████████████████████████████▌                                              \u001b[0m| 00:01 Iteration: 1200 / 2000 [ 60%]  (Sampling)\u001b[0m\u001b[A\n",
      "\n",
      "\n",
      "chain 4 |\u001b[34m████████████████████████████████████████████████████████████████████████████████████████████████████████████████▊                                 \u001b[0m| 00:01 Iteration: 1400 / 2000 [ 70%]  (Sampling)\u001b[0m\u001b[A\u001b[A\u001b[A\n",
      "\n",
      "chain 3 |\u001b[34m███████████████████████████████████████████████████████████████████████████████████████████████████▌                                              \u001b[0m| 00:01 Iteration: 1200 / 2000 [ 60%]  (Sampling)\u001b[0m\u001b[A\u001b[A\n",
      "chain 1 |\u001b[34m████████████████████████████████████████████████████████████████████████████████████████████████████████████████▊                                 \u001b[0m| 00:01 Iteration: 1400 / 2000 [ 70%]  (Sampling)\u001b[0m\u001b[A\n",
      "\n",
      "\n",
      "chain 4 |\u001b[34m██████████████████████████████████████████████████████████████████████████████████████████████████████████████████████████████                    \u001b[0m| 00:01 Iteration: 1600 / 2000 [ 80%]  (Sampling)\u001b[0m\u001b[A\u001b[A\u001b[A\n",
      "\n",
      "chain 3 |\u001b[34m████████████████████████████████████████████████████████████████████████████████████████████████████████████████▊                                 \u001b[0m| 00:01 Iteration: 1400 / 2000 [ 70%]  (Sampling)\u001b[0m\u001b[A\u001b[A\n"
     ]
    },
    {
     "name": "stderr",
     "output_type": "stream",
     "text": [
      "chain 1 |\u001b[34m██████████████████████████████████████████████████████████████████████████████████████████████████████████████████████████████                    \u001b[0m| 00:02 Iteration: 1600 / 2000 [ 80%]  (Sampling)\u001b[0m\u001b[A\n",
      "\n",
      "\n",
      "chain 4 |\u001b[34m███████████████████████████████████████████████████████████████████████████████████████████████████████████████████████████████████████████▎      \u001b[0m| 00:02 Iteration: 1800 / 2000 [ 90%]  (Sampling)\u001b[0m\u001b[A\u001b[A\u001b[A\n",
      "chain 2 |\u001b[34m███████████████████████████████████████████████████████████████████████████████████████████████████████████████████████▍                          \u001b[0m| 00:02 Iteration: 1500 / 2000 [ 75%]  (Sampling)\u001b[0m\u001b[A\n",
      "\n",
      "chain 3 |\u001b[34m██████████████████████████████████████████████████████████████████████████████████████████████████████████████████████████████                    \u001b[0m| 00:02 Iteration: 1600 / 2000 [ 80%]  (Sampling)\u001b[0m\u001b[A\u001b[A\n",
      "\n",
      "chain 1 |\u001b[34m███████████████████████████████████████████████████████████████████████████████████████████████████████████████████████████████████████████▎      \u001b[0m| 00:02 Iteration: 1800 / 2000 [ 90%]  (Sampling)\u001b[0m\u001b[A\u001b[A\n",
      "chain 2 |\u001b[34m██████████████████████████████████████████████████████████████████████████████████████████████████████████████████████████████                    \u001b[0m| 00:02 Iteration: 1600 / 2000 [ 80%]  (Sampling)\u001b[0m\u001b[A\n",
      "\n",
      "chain 3 |\u001b[34m███████████████████████████████████████████████████████████████████████████████████████████████████████████████████████████████████████████▎      \u001b[0m| 00:02 Iteration: 1800 / 2000 [ 90%]  (Sampling)\u001b[0m\u001b[A\u001b[A\n",
      "chain 2 |\u001b[34m████████████████████████████████████████████████████████████████████████████████████████████████████████████████████████████████████▋             \u001b[0m| 00:02 Iteration: 1700 / 2000 [ 85%]  (Sampling)\u001b[0m\u001b[A\n",
      "chain 1 |\u001b[34m█████████████████████████████████████████████████████████████████████████████████████████████████████████████████████████████████████████████████████████████████████████\u001b[0m| 00:02 Sampling completed\u001b[0m\u001b[A\n",
      "chain 2 |\u001b[34m█████████████████████████████████████████████████████████████████████████████████████████████████████████████████████████████████████████████████████████████████████████\u001b[0m| 00:02 Sampling completed\u001b[0m\n",
      "\n",
      "\n",
      "chain 3 |\u001b[34m█████████████████████████████████████████████████████████████████████████████████████████████████████████████████████████████████████████████████████████████████████████\u001b[0m| 00:02 Sampling completed\u001b[0m\u001b[A\u001b[A\n",
      "chain 4 |\u001b[34m█████████████████████████████████████████████████████████████████████████████████████████████████████████████████████████████████████████████████████████████████████████\u001b[0m| 00:02 Sampling completed\u001b[0m"
     ]
    },
    {
     "name": "stdout",
     "output_type": "stream",
     "text": [
      "                                                                                                                                                                                                                                                                                                                                "
     ]
    },
    {
     "name": "stderr",
     "output_type": "stream",
     "text": [
      "\n",
      "INFO:cmdstanpy:CmdStan done processing.\n"
     ]
    },
    {
     "name": "stdout",
     "output_type": "stream",
     "text": [
      "\n"
     ]
    },
    {
     "name": "stderr",
     "output_type": "stream",
     "text": [
      "INFO:cmdstanpy:CmdStan start processing\n",
      "chain 1 |\u001b[33m                                                                                                                                                                                     \u001b[0m| 00:00 Status\u001b[0m\n",
      "chain 2 |\u001b[33m                                                                                                                                                                                     \u001b[0m| 00:00 Status\u001b[0m\u001b[A\n",
      "\n",
      "chain 3 |\u001b[33m                                                                                                                                                                                     \u001b[0m| 00:00 Status\u001b[0m\u001b[A\u001b[A\n",
      "\n",
      "\n",
      "chain 1 |\u001b[33m████████▏                                                                                                                                                                            \u001b[0m| 00:00 Status\u001b[0m\u001b[A\u001b[A\u001b[A\n",
      "chain 2 |\u001b[33m████████▏                                                                                                                                                                            \u001b[0m| 00:00 Status\u001b[0m\u001b[A\n",
      "\n",
      "\n",
      "chain 4 |\u001b[33m████████▏                                                                                                                                                                            \u001b[0m| 00:00 Status\u001b[0m\u001b[A\u001b[A\u001b[A\n",
      "\n",
      "chain 1 |\u001b[33m█████████████▍                                                                                                                                      \u001b[0m| 00:00 Iteration:    1 / 2000 [  0%]  (Warmup)\u001b[0m\u001b[A\u001b[A\n",
      "chain 2 |\u001b[33m█████████████▍                                                                                                                                      \u001b[0m| 00:00 Iteration:    1 / 2000 [  0%]  (Warmup)\u001b[0m\u001b[A\n",
      "\n",
      "\n",
      "chain 1 |\u001b[33m████████████████████▏                                                                                                                               \u001b[0m| 00:00 Iteration:  100 / 2000 [  5%]  (Warmup)\u001b[0m\u001b[A\u001b[A\u001b[A\n",
      "\n",
      "chain 3 |\u001b[33m█████████████▍                                                                                                                                      \u001b[0m| 00:00 Iteration:    1 / 2000 [  0%]  (Warmup)\u001b[0m\u001b[A\u001b[A\n",
      "chain 2 |\u001b[33m████████████████████▏                                                                                                                               \u001b[0m| 00:00 Iteration:  100 / 2000 [  5%]  (Warmup)\u001b[0m\u001b[A\n",
      "\n",
      "\n",
      "chain 1 |\u001b[33m██████████████████████████▉                                                                                                                         \u001b[0m| 00:00 Iteration:  200 / 2000 [ 10%]  (Warmup)\u001b[0m\u001b[A\u001b[A\u001b[A\n",
      "\n",
      "chain 3 |\u001b[33m████████████████████▏                                                                                                                               \u001b[0m| 00:00 Iteration:  100 / 2000 [  5%]  (Warmup)\u001b[0m\u001b[A\u001b[A\n",
      "chain 1 |\u001b[33m█████████████████████████████████▋                                                                                                                  \u001b[0m| 00:00 Iteration:  300 / 2000 [ 15%]  (Warmup)\u001b[0m\u001b[A\n",
      "\n",
      "\n",
      "chain 4 |\u001b[33m██████████████████████████▉                                                                                                                         \u001b[0m| 00:00 Iteration:  200 / 2000 [ 10%]  (Warmup)\u001b[0m\u001b[A\u001b[A\u001b[A\n",
      "chain 2 |\u001b[33m█████████████████████████████████▋                                                                                                                  \u001b[0m| 00:00 Iteration:  300 / 2000 [ 15%]  (Warmup)\u001b[0m\u001b[A\n",
      "\n",
      "chain 1 |\u001b[33m████████████████████████████████████████▎                                                                                                           \u001b[0m| 00:00 Iteration:  400 / 2000 [ 20%]  (Warmup)\u001b[0m\u001b[A\u001b[A\n",
      "\n",
      "\n",
      "chain 4 |\u001b[33m█████████████████████████████████▋                                                                                                                  \u001b[0m| 00:00 Iteration:  300 / 2000 [ 15%]  (Warmup)\u001b[0m\u001b[A\u001b[A\u001b[A\n",
      "\n",
      "chain 3 |\u001b[33m█████████████████████████████████▋                                                                                                                  \u001b[0m| 00:00 Iteration:  300 / 2000 [ 15%]  (Warmup)\u001b[0m\u001b[A\u001b[A\n",
      "chain 1 |\u001b[33m███████████████████████████████████████████████                                                                                                     \u001b[0m| 00:01 Iteration:  500 / 2000 [ 25%]  (Warmup)\u001b[0m\u001b[A\n",
      "\n",
      "\n",
      "chain 4 |\u001b[33m████████████████████████████████████████▎                                                                                                           \u001b[0m| 00:01 Iteration:  400 / 2000 [ 20%]  (Warmup)\u001b[0m\u001b[A\u001b[A\u001b[A\n",
      "\n",
      "chain 3 |\u001b[33m████████████████████████████████████████▎                                                                                                           \u001b[0m| 00:01 Iteration:  400 / 2000 [ 20%]  (Warmup)\u001b[0m\u001b[A\u001b[A\n",
      "chain 2 |\u001b[33m███████████████████████████████████████████████                                                                                                     \u001b[0m| 00:01 Iteration:  500 / 2000 [ 25%]  (Warmup)\u001b[0m\u001b[A\n",
      "\n",
      "\n",
      "chain 1 |\u001b[33m█████████████████████████████████████████████████████▊                                                                                              \u001b[0m| 00:01 Iteration:  600 / 2000 [ 30%]  (Warmup)\u001b[0m\u001b[A\u001b[A\u001b[A\n",
      "chain 2 |\u001b[33m█████████████████████████████████████████████████████▊                                                                                              \u001b[0m| 00:01 Iteration:  600 / 2000 [ 30%]  (Warmup)\u001b[0m\u001b[A\n",
      "\n",
      "chain 3 |\u001b[33m███████████████████████████████████████████████                                                                                                     \u001b[0m| 00:01 Iteration:  500 / 2000 [ 25%]  (Warmup)\u001b[0m\u001b[A\u001b[A\n",
      "\n",
      "\n",
      "chain 4 |\u001b[33m█████████████████████████████████████████████████████▊                                                                                              \u001b[0m| 00:01 Iteration:  600 / 2000 [ 30%]  (Warmup)\u001b[0m\u001b[A\u001b[A\u001b[A\n",
      "chain 1 |\u001b[33m████████████████████████████████████████████████████████████▌                                                                                       \u001b[0m| 00:01 Iteration:  700 / 2000 [ 35%]  (Warmup)\u001b[0m\u001b[A\n",
      "\n",
      "chain 3 |\u001b[33m█████████████████████████████████████████████████████▊                                                                                              \u001b[0m| 00:01 Iteration:  600 / 2000 [ 30%]  (Warmup)\u001b[0m\u001b[A\u001b[A\n",
      "\n",
      "\n",
      "chain 4 |\u001b[33m████████████████████████████████████████████████████████████▌                                                                                       \u001b[0m| 00:01 Iteration:  700 / 2000 [ 35%]  (Warmup)\u001b[0m\u001b[A\u001b[A\u001b[A\n",
      "chain 1 |\u001b[33m███████████████████████████████████████████████████████████████████▎                                                                                \u001b[0m| 00:01 Iteration:  800 / 2000 [ 40%]  (Warmup)\u001b[0m\u001b[A\n",
      "\n",
      "\n",
      "chain 4 |\u001b[33m███████████████████████████████████████████████████████████████████▎                                                                                \u001b[0m| 00:01 Iteration:  800 / 2000 [ 40%]  (Warmup)\u001b[0m\u001b[A\u001b[A\u001b[A\n",
      "\n",
      "chain 3 |\u001b[33m███████████████████████████████████████████████████████████████████▎                                                                                \u001b[0m| 00:01 Iteration:  800 / 2000 [ 40%]  (Warmup)\u001b[0m\u001b[A\u001b[A\n",
      "chain 1 |\u001b[33m██████████████████████████████████████████████████████████████████████████                                                                          \u001b[0m| 00:01 Iteration:  900 / 2000 [ 45%]  (Warmup)\u001b[0m\u001b[A\n",
      "\n",
      "\n",
      "chain 4 |\u001b[33m██████████████████████████████████████████████████████████████████████████                                                                          \u001b[0m| 00:01 Iteration:  900 / 2000 [ 45%]  (Warmup)\u001b[0m\u001b[A\u001b[A\u001b[A\n",
      "\n",
      "chain 1 |\u001b[34m██████████████████████████████████████████████████████████████████████████████████████▎                                                           \u001b[0m| 00:01 Iteration: 1001 / 2000 [ 50%]  (Sampling)\u001b[0m\u001b[A\u001b[A\n"
     ]
    },
    {
     "name": "stderr",
     "output_type": "stream",
     "text": [
      "chain 2 |\u001b[34m██████████████████████████████████████████████████████████████████████████████████████▎                                                           \u001b[0m| 00:01 Iteration: 1001 / 2000 [ 50%]  (Sampling)\u001b[0m\u001b[A\n",
      "\n",
      "\n",
      "chain 4 |\u001b[34m██████████████████████████████████████████████████████████████████████████████████████▎                                                           \u001b[0m| 00:01 Iteration: 1001 / 2000 [ 50%]  (Sampling)\u001b[0m\u001b[A\u001b[A\u001b[A\n",
      "\n",
      "chain 1 |\u001b[34m████████████████████████████████████████████████████████████████████████████████████████████▉                                                     \u001b[0m| 00:01 Iteration: 1100 / 2000 [ 55%]  (Sampling)\u001b[0m\u001b[A\u001b[A\n",
      "chain 2 |\u001b[34m████████████████████████████████████████████████████████████████████████████████████████████▉                                                     \u001b[0m| 00:02 Iteration: 1100 / 2000 [ 55%]  (Sampling)\u001b[0m\u001b[A\n",
      "\n",
      "\n",
      "chain 4 |\u001b[34m████████████████████████████████████████████████████████████████████████████████████████████▉                                                     \u001b[0m| 00:02 Iteration: 1100 / 2000 [ 55%]  (Sampling)\u001b[0m\u001b[A\u001b[A\u001b[A\n",
      "\n",
      "chain 1 |\u001b[34m███████████████████████████████████████████████████████████████████████████████████████████████████▌                                              \u001b[0m| 00:02 Iteration: 1200 / 2000 [ 60%]  (Sampling)\u001b[0m\u001b[A\u001b[A\n",
      "chain 2 |\u001b[34m███████████████████████████████████████████████████████████████████████████████████████████████████▌                                              \u001b[0m| 00:02 Iteration: 1200 / 2000 [ 60%]  (Sampling)\u001b[0m\u001b[A\n",
      "\n",
      "\n",
      "chain 4 |\u001b[34m███████████████████████████████████████████████████████████████████████████████████████████████████▌                                              \u001b[0m| 00:02 Iteration: 1200 / 2000 [ 60%]  (Sampling)\u001b[0m\u001b[A\u001b[A\u001b[A\n",
      "\n",
      "chain 1 |\u001b[34m██████████████████████████████████████████████████████████████████████████████████████████████████████████▏                                       \u001b[0m| 00:02 Iteration: 1300 / 2000 [ 65%]  (Sampling)\u001b[0m\u001b[A\u001b[A\n",
      "\n",
      "\n",
      "chain 4 |\u001b[34m██████████████████████████████████████████████████████████████████████████████████████████████████████████▏                                       \u001b[0m| 00:02 Iteration: 1300 / 2000 [ 65%]  (Sampling)\u001b[0m\u001b[A\u001b[A\u001b[A\n",
      "chain 2 |\u001b[34m██████████████████████████████████████████████████████████████████████████████████████████████████████████▏                                       \u001b[0m| 00:02 Iteration: 1300 / 2000 [ 65%]  (Sampling)\u001b[0m\u001b[A\n",
      "\n",
      "chain 1 |\u001b[34m████████████████████████████████████████████████████████████████████████████████████████████████████████████████▊                                 \u001b[0m| 00:02 Iteration: 1400 / 2000 [ 70%]  (Sampling)\u001b[0m\u001b[A\u001b[A\n",
      "\n",
      "\n",
      "chain 4 |\u001b[34m████████████████████████████████████████████████████████████████████████████████████████████████████████████████▊                                 \u001b[0m| 00:02 Iteration: 1400 / 2000 [ 70%]  (Sampling)\u001b[0m\u001b[A\u001b[A\u001b[A\n",
      "chain 1 |\u001b[34m███████████████████████████████████████████████████████████████████████████████████████████████████████████████████████▍                          \u001b[0m| 00:02 Iteration: 1500 / 2000 [ 75%]  (Sampling)\u001b[0m\u001b[A\n",
      "\n",
      "chain 3 |\u001b[34m████████████████████████████████████████████████████████████████████████████████████████████████████████████████▊                                 \u001b[0m| 00:02 Iteration: 1400 / 2000 [ 70%]  (Sampling)\u001b[0m\u001b[A\u001b[A\n",
      "\n",
      "\n",
      "chain 1 |\u001b[34m██████████████████████████████████████████████████████████████████████████████████████████████████████████████████████████████                    \u001b[0m| 00:02 Iteration: 1600 / 2000 [ 80%]  (Sampling)\u001b[0m\u001b[A\u001b[A\u001b[A\n",
      "\n",
      "chain 3 |\u001b[34m███████████████████████████████████████████████████████████████████████████████████████████████████████████████████████▍                          \u001b[0m| 00:02 Iteration: 1500 / 2000 [ 75%]  (Sampling)\u001b[0m\u001b[A\u001b[A\n",
      "chain 2 |\u001b[34m███████████████████████████████████████████████████████████████████████████████████████████████████████████████████████▍                          \u001b[0m| 00:02 Iteration: 1500 / 2000 [ 75%]  (Sampling)\u001b[0m\u001b[A\n",
      "\n",
      "\n",
      "chain 1 |\u001b[34m████████████████████████████████████████████████████████████████████████████████████████████████████████████████████████████████████▋             \u001b[0m| 00:03 Iteration: 1700 / 2000 [ 85%]  (Sampling)\u001b[0m\u001b[A\u001b[A\u001b[A\n",
      "chain 2 |\u001b[34m██████████████████████████████████████████████████████████████████████████████████████████████████████████████████████████████                    \u001b[0m| 00:03 Iteration: 1600 / 2000 [ 80%]  (Sampling)\u001b[0m\u001b[A\n",
      "\n",
      "chain 3 |\u001b[34m██████████████████████████████████████████████████████████████████████████████████████████████████████████████████████████████                    \u001b[0m| 00:03 Iteration: 1600 / 2000 [ 80%]  (Sampling)\u001b[0m\u001b[A\u001b[A\n",
      "\n",
      "\n",
      "chain 1 |\u001b[34m███████████████████████████████████████████████████████████████████████████████████████████████████████████████████████████████████████████▎      \u001b[0m| 00:03 Iteration: 1800 / 2000 [ 90%]  (Sampling)\u001b[0m\u001b[A\u001b[A\u001b[A\n",
      "chain 2 |\u001b[34m████████████████████████████████████████████████████████████████████████████████████████████████████████████████████████████████████▋             \u001b[0m| 00:03 Iteration: 1700 / 2000 [ 85%]  (Sampling)\u001b[0m\u001b[A\n",
      "\n",
      "chain 3 |\u001b[34m████████████████████████████████████████████████████████████████████████████████████████████████████████████████████████████████████▋             \u001b[0m| 00:03 Iteration: 1700 / 2000 [ 85%]  (Sampling)\u001b[0m\u001b[A\u001b[A\n",
      "\n",
      "\n",
      "chain 1 |\u001b[34m██████████████████████████████████████████████████████████████████████████████████████████████████████████████████████████████████████████████████\u001b[0m| 00:03 Iteration: 1900 / 2000 [ 95%]  (Sampling)\u001b[0m\u001b[A\u001b[A\u001b[A\n",
      "chain 2 |\u001b[34m███████████████████████████████████████████████████████████████████████████████████████████████████████████████████████████████████████████▎      \u001b[0m| 00:03 Iteration: 1800 / 2000 [ 90%]  (Sampling)\u001b[0m\u001b[A\n",
      "\n",
      "chain 3 |\u001b[34m███████████████████████████████████████████████████████████████████████████████████████████████████████████████████████████████████████████▎      \u001b[0m| 00:03 Iteration: 1800 / 2000 [ 90%]  (Sampling)\u001b[0m\u001b[A\u001b[A\n",
      "\n",
      "\n",
      "chain 4 |\u001b[34m██████████████████████████████████████████████████████████████████████████████████████████████████████████████████████████████████████████████████\u001b[0m| 00:03 Iteration: 1900 / 2000 [ 95%]  (Sampling)\u001b[0m\u001b[A\u001b[A\u001b[A\n",
      "\n",
      "chain 3 |\u001b[34m██████████████████████████████████████████████████████████████████████████████████████████████████████████████████████████████████████████████████\u001b[0m| 00:03 Iteration: 1900 / 2000 [ 95%]  (Sampling)\u001b[0m\u001b[A\u001b[A\n",
      "chain 1 |\u001b[34m█████████████████████████████████████████████████████████████████████████████████████████████████████████████████████████████████████████████████████████████████████████\u001b[0m| 00:03 Sampling completed\u001b[0m\u001b[A\n",
      "chain 2 |\u001b[34m█████████████████████████████████████████████████████████████████████████████████████████████████████████████████████████████████████████████████████████████████████████\u001b[0m| 00:03 Sampling completed\u001b[0m\n",
      "chain 3 |\u001b[34m█████████████████████████████████████████████████████████████████████████████████████████████████████████████████████████████████████████████████████████████████████████\u001b[0m| 00:03 Sampling completed\u001b[0m\n",
      "chain 4 |\u001b[34m█████████████████████████████████████████████████████████████████████████████████████████████████████████████████████████████████████████████████████████████████████████\u001b[0m| 00:03 Sampling completed\u001b[0m"
     ]
    },
    {
     "name": "stdout",
     "output_type": "stream",
     "text": [
      "                                                                                                                                                                                                                                                "
     ]
    },
    {
     "name": "stderr",
     "output_type": "stream",
     "text": [
      "\n"
     ]
    },
    {
     "name": "stdout",
     "output_type": "stream",
     "text": [
      "                                                                                "
     ]
    },
    {
     "name": "stderr",
     "output_type": "stream",
     "text": [
      "INFO:cmdstanpy:CmdStan done processing.\n"
     ]
    },
    {
     "name": "stdout",
     "output_type": "stream",
     "text": [
      "\n"
     ]
    },
    {
     "name": "stderr",
     "output_type": "stream",
     "text": [
      "INFO:cmdstanpy:CmdStan start processing\n",
      "chain 1 |\u001b[33m                                                                                                                                                                                     \u001b[0m| 00:00 Status\u001b[0m\n",
      "chain 2 |\u001b[33m                                                                                                                                                                                     \u001b[0m| 00:00 Status\u001b[0m\u001b[A\n",
      "\n",
      "chain 3 |\u001b[33m                                                                                                                                                                                     \u001b[0m| 00:00 Status\u001b[0m\u001b[A\u001b[A\n",
      "\n",
      "\n",
      "chain 1 |\u001b[33m████████▏                                                                                                                                                                            \u001b[0m| 00:00 Status\u001b[0m\u001b[A\u001b[A\u001b[A\n",
      "\n",
      "chain 3 |\u001b[33m████████▏                                                                                                                                                                            \u001b[0m| 00:00 Status\u001b[0m\u001b[A\u001b[A\n",
      "\n",
      "\n",
      "chain 4 |\u001b[33m████████▏                                                                                                                                                                            \u001b[0m| 00:00 Status\u001b[0m\u001b[A\u001b[A\u001b[A\n",
      "chain 1 |\u001b[33m█████████████▍                                                                                                                                      \u001b[0m| 00:00 Iteration:    1 / 2000 [  0%]  (Warmup)\u001b[0m\u001b[A\n",
      "\n",
      "\n",
      "chain 4 |\u001b[33m█████████████▍                                                                                                                                      \u001b[0m| 00:00 Iteration:    1 / 2000 [  0%]  (Warmup)\u001b[0m\u001b[A\u001b[A\u001b[A\n",
      "chain 2 |\u001b[33m█████████████▍                                                                                                                                      \u001b[0m| 00:00 Iteration:    1 / 2000 [  0%]  (Warmup)\u001b[0m\u001b[A\n",
      "\n",
      "chain 1 |\u001b[33m████████████████████▏                                                                                                                               \u001b[0m| 00:00 Iteration:  100 / 2000 [  5%]  (Warmup)\u001b[0m\u001b[A\u001b[A\n",
      "chain 2 |\u001b[33m████████████████████▏                                                                                                                               \u001b[0m| 00:00 Iteration:  100 / 2000 [  5%]  (Warmup)\u001b[0m\u001b[A\n",
      "\n",
      "chain 3 |\u001b[33m████████████████████▏                                                                                                                               \u001b[0m| 00:00 Iteration:  100 / 2000 [  5%]  (Warmup)\u001b[0m\u001b[A\u001b[A\n",
      "\n",
      "\n",
      "chain 1 |\u001b[33m██████████████████████████▉                                                                                                                         \u001b[0m| 00:00 Iteration:  200 / 2000 [ 10%]  (Warmup)\u001b[0m\u001b[A\u001b[A\u001b[A\n",
      "chain 1 |\u001b[33m█████████████████████████████████▋                                                                                                                  \u001b[0m| 00:00 Iteration:  300 / 2000 [ 15%]  (Warmup)\u001b[0m\u001b[A\n",
      "\n",
      "chain 3 |\u001b[33m██████████████████████████▉                                                                                                                         \u001b[0m| 00:00 Iteration:  200 / 2000 [ 10%]  (Warmup)\u001b[0m\u001b[A\u001b[A\n",
      "\n",
      "\n",
      "chain 4 |\u001b[33m██████████████████████████▉                                                                                                                         \u001b[0m| 00:00 Iteration:  200 / 2000 [ 10%]  (Warmup)\u001b[0m\u001b[A\u001b[A\u001b[A\n",
      "chain 2 |\u001b[33m█████████████████████████████████▋                                                                                                                  \u001b[0m| 00:01 Iteration:  300 / 2000 [ 15%]  (Warmup)\u001b[0m\u001b[A\n",
      "\n",
      "chain 1 |\u001b[33m████████████████████████████████████████▎                                                                                                           \u001b[0m| 00:01 Iteration:  400 / 2000 [ 20%]  (Warmup)\u001b[0m\u001b[A\u001b[A\n",
      "\n",
      "\n",
      "chain 4 |\u001b[33m█████████████████████████████████▋                                                                                                                  \u001b[0m| 00:01 Iteration:  300 / 2000 [ 15%]  (Warmup)\u001b[0m\u001b[A\u001b[A\u001b[A\n",
      "chain 1 |\u001b[33m███████████████████████████████████████████████                                                                                                     \u001b[0m| 00:01 Iteration:  500 / 2000 [ 25%]  (Warmup)\u001b[0m\u001b[A\n",
      "\n",
      "chain 3 |\u001b[33m████████████████████████████████████████▎                                                                                                           \u001b[0m| 00:01 Iteration:  400 / 2000 [ 20%]  (Warmup)\u001b[0m\u001b[A\u001b[A\n",
      "\n",
      "\n",
      "chain 4 |\u001b[33m████████████████████████████████████████▎                                                                                                           \u001b[0m| 00:01 Iteration:  400 / 2000 [ 20%]  (Warmup)\u001b[0m\u001b[A\u001b[A\u001b[A\n",
      "chain 1 |\u001b[33m█████████████████████████████████████████████████████▊                                                                                              \u001b[0m| 00:01 Iteration:  600 / 2000 [ 30%]  (Warmup)\u001b[0m\u001b[A\n",
      "\n",
      "chain 3 |\u001b[33m███████████████████████████████████████████████                                                                                                     \u001b[0m| 00:01 Iteration:  500 / 2000 [ 25%]  (Warmup)\u001b[0m\u001b[A\u001b[A\n",
      "\n",
      "\n",
      "chain 4 |\u001b[33m███████████████████████████████████████████████                                                                                                     \u001b[0m| 00:01 Iteration:  500 / 2000 [ 25%]  (Warmup)\u001b[0m\u001b[A\u001b[A\u001b[A\n",
      "chain 1 |\u001b[33m████████████████████████████████████████████████████████████▌                                                                                       \u001b[0m| 00:01 Iteration:  700 / 2000 [ 35%]  (Warmup)\u001b[0m\u001b[A\n",
      "\n",
      "chain 3 |\u001b[33m█████████████████████████████████████████████████████▊                                                                                              \u001b[0m| 00:01 Iteration:  600 / 2000 [ 30%]  (Warmup)\u001b[0m\u001b[A\u001b[A\n",
      "\n",
      "\n",
      "chain 4 |\u001b[33m█████████████████████████████████████████████████████▊                                                                                              \u001b[0m| 00:01 Iteration:  600 / 2000 [ 30%]  (Warmup)\u001b[0m\u001b[A\u001b[A\u001b[A\n",
      "chain 1 |\u001b[33m███████████████████████████████████████████████████████████████████▎                                                                                \u001b[0m| 00:01 Iteration:  800 / 2000 [ 40%]  (Warmup)\u001b[0m\u001b[A\n",
      "\n",
      "chain 3 |\u001b[33m████████████████████████████████████████████████████████████▌                                                                                       \u001b[0m| 00:01 Iteration:  700 / 2000 [ 35%]  (Warmup)\u001b[0m\u001b[A\u001b[A\n",
      "chain 2 |\u001b[33m███████████████████████████████████████████████████████████████████▎                                                                                \u001b[0m| 00:01 Iteration:  800 / 2000 [ 40%]  (Warmup)\u001b[0m\u001b[A\n",
      "\n",
      "\n",
      "chain 1 |\u001b[33m██████████████████████████████████████████████████████████████████████████                                                                          \u001b[0m| 00:01 Iteration:  900 / 2000 [ 45%]  (Warmup)\u001b[0m\u001b[A\u001b[A\u001b[A\n",
      "\n",
      "chain 3 |\u001b[33m███████████████████████████████████████████████████████████████████▎                                                                                \u001b[0m| 00:01 Iteration:  800 / 2000 [ 40%]  (Warmup)\u001b[0m\u001b[A\u001b[A\n",
      "chain 2 |\u001b[33m██████████████████████████████████████████████████████████████████████████                                                                          \u001b[0m| 00:02 Iteration:  900 / 2000 [ 45%]  (Warmup)\u001b[0m\u001b[A\n",
      "\n",
      "\n",
      "chain 4 |\u001b[33m███████████████████████████████████████████████████████████████████▎                                                                                \u001b[0m| 00:02 Iteration:  800 / 2000 [ 40%]  (Warmup)\u001b[0m\u001b[A\u001b[A\u001b[A\n",
      "\n",
      "chain 1 |\u001b[34m██████████████████████████████████████████████████████████████████████████████████████▎                                                           \u001b[0m| 00:02 Iteration: 1001 / 2000 [ 50%]  (Sampling)\u001b[0m\u001b[A\u001b[A\n",
      "\n",
      "\n"
     ]
    },
    {
     "name": "stderr",
     "output_type": "stream",
     "text": [
      "chain 4 |\u001b[33m██████████████████████████████████████████████████████████████████████████                                                                          \u001b[0m| 00:02 Iteration:  900 / 2000 [ 45%]  (Warmup)\u001b[0m\u001b[A\u001b[A\u001b[A\n",
      "chain 2 |\u001b[34m██████████████████████████████████████████████████████████████████████████████████████▎                                                           \u001b[0m| 00:02 Iteration: 1001 / 2000 [ 50%]  (Sampling)\u001b[0m\u001b[A\n",
      "\n",
      "chain 1 |\u001b[34m████████████████████████████████████████████████████████████████████████████████████████████▉                                                     \u001b[0m| 00:02 Iteration: 1100 / 2000 [ 55%]  (Sampling)\u001b[0m\u001b[A\u001b[A\n",
      "\n",
      "\n",
      "chain 4 |\u001b[34m██████████████████████████████████████████████████████████████████████████████████████▎                                                           \u001b[0m| 00:02 Iteration: 1001 / 2000 [ 50%]  (Sampling)\u001b[0m\u001b[A\u001b[A\u001b[A\n",
      "chain 1 |\u001b[34m███████████████████████████████████████████████████████████████████████████████████████████████████▌                                              \u001b[0m| 00:02 Iteration: 1200 / 2000 [ 60%]  (Sampling)\u001b[0m\u001b[A\n",
      "\n",
      "chain 3 |\u001b[34m████████████████████████████████████████████████████████████████████████████████████████████▉                                                     \u001b[0m| 00:02 Iteration: 1100 / 2000 [ 55%]  (Sampling)\u001b[0m\u001b[A\u001b[A\n",
      "\n",
      "\n",
      "chain 4 |\u001b[34m████████████████████████████████████████████████████████████████████████████████████████████▉                                                     \u001b[0m| 00:02 Iteration: 1100 / 2000 [ 55%]  (Sampling)\u001b[0m\u001b[A\u001b[A\u001b[A\n",
      "chain 1 |\u001b[34m██████████████████████████████████████████████████████████████████████████████████████████████████████████▏                                       \u001b[0m| 00:02 Iteration: 1300 / 2000 [ 65%]  (Sampling)\u001b[0m\u001b[A\n",
      "\n",
      "chain 3 |\u001b[34m███████████████████████████████████████████████████████████████████████████████████████████████████▌                                              \u001b[0m| 00:02 Iteration: 1200 / 2000 [ 60%]  (Sampling)\u001b[0m\u001b[A\u001b[A\n",
      "\n",
      "\n",
      "chain 4 |\u001b[34m███████████████████████████████████████████████████████████████████████████████████████████████████▌                                              \u001b[0m| 00:03 Iteration: 1200 / 2000 [ 60%]  (Sampling)\u001b[0m\u001b[A\u001b[A\u001b[A\n",
      "chain 1 |\u001b[34m████████████████████████████████████████████████████████████████████████████████████████████████████████████████▊                                 \u001b[0m| 00:03 Iteration: 1400 / 2000 [ 70%]  (Sampling)\u001b[0m\u001b[A\n",
      "\n",
      "chain 3 |\u001b[34m██████████████████████████████████████████████████████████████████████████████████████████████████████████▏                                       \u001b[0m| 00:03 Iteration: 1300 / 2000 [ 65%]  (Sampling)\u001b[0m\u001b[A\u001b[A\n",
      "\n",
      "\n",
      "chain 4 |\u001b[34m██████████████████████████████████████████████████████████████████████████████████████████████████████████▏                                       \u001b[0m| 00:03 Iteration: 1300 / 2000 [ 65%]  (Sampling)\u001b[0m\u001b[A\u001b[A\u001b[A\n",
      "chain 1 |\u001b[34m███████████████████████████████████████████████████████████████████████████████████████████████████████████████████████▍                          \u001b[0m| 00:03 Iteration: 1500 / 2000 [ 75%]  (Sampling)\u001b[0m\u001b[A\n",
      "\n",
      "chain 3 |\u001b[34m████████████████████████████████████████████████████████████████████████████████████████████████████████████████▊                                 \u001b[0m| 00:03 Iteration: 1400 / 2000 [ 70%]  (Sampling)\u001b[0m\u001b[A\u001b[A\n",
      "\n",
      "\n",
      "chain 4 |\u001b[34m████████████████████████████████████████████████████████████████████████████████████████████████████████████████▊                                 \u001b[0m| 00:03 Iteration: 1400 / 2000 [ 70%]  (Sampling)\u001b[0m\u001b[A\u001b[A\u001b[A\n",
      "chain 1 |\u001b[34m██████████████████████████████████████████████████████████████████████████████████████████████████████████████████████████████                    \u001b[0m| 00:03 Iteration: 1600 / 2000 [ 80%]  (Sampling)\u001b[0m\u001b[A\n",
      "\n",
      "chain 3 |\u001b[34m███████████████████████████████████████████████████████████████████████████████████████████████████████████████████████▍                          \u001b[0m| 00:03 Iteration: 1500 / 2000 [ 75%]  (Sampling)\u001b[0m\u001b[A\u001b[A\n",
      "chain 2 |\u001b[34m██████████████████████████████████████████████████████████████████████████████████████████████████████████████████████████████                    \u001b[0m| 00:03 Iteration: 1600 / 2000 [ 80%]  (Sampling)\u001b[0m\u001b[A\n",
      "\n",
      "\n",
      "chain 1 |\u001b[34m████████████████████████████████████████████████████████████████████████████████████████████████████████████████████████████████████▋             \u001b[0m| 00:04 Iteration: 1700 / 2000 [ 85%]  (Sampling)\u001b[0m\u001b[A\u001b[A\u001b[A\n",
      "\n",
      "chain 3 |\u001b[34m██████████████████████████████████████████████████████████████████████████████████████████████████████████████████████████████                    \u001b[0m| 00:04 Iteration: 1600 / 2000 [ 80%]  (Sampling)\u001b[0m\u001b[A\u001b[A\n",
      "chain 2 |\u001b[34m████████████████████████████████████████████████████████████████████████████████████████████████████████████████████████████████████▋             \u001b[0m| 00:04 Iteration: 1700 / 2000 [ 85%]  (Sampling)\u001b[0m\u001b[A\n",
      "\n",
      "\n",
      "chain 1 |\u001b[34m███████████████████████████████████████████████████████████████████████████████████████████████████████████████████████████████████████████▎      \u001b[0m| 00:04 Iteration: 1800 / 2000 [ 90%]  (Sampling)\u001b[0m\u001b[A\u001b[A\u001b[A\n",
      "\n",
      "chain 3 |\u001b[34m████████████████████████████████████████████████████████████████████████████████████████████████████████████████████████████████████▋             \u001b[0m| 00:04 Iteration: 1700 / 2000 [ 85%]  (Sampling)\u001b[0m\u001b[A\u001b[A\n",
      "\n",
      "\n",
      "chain 4 |\u001b[34m████████████████████████████████████████████████████████████████████████████████████████████████████████████████████████████████████▋             \u001b[0m| 00:04 Iteration: 1700 / 2000 [ 85%]  (Sampling)\u001b[0m\u001b[A\u001b[A\u001b[A\n",
      "chain 1 |\u001b[34m██████████████████████████████████████████████████████████████████████████████████████████████████████████████████████████████████████████████████\u001b[0m| 00:04 Iteration: 1900 / 2000 [ 95%]  (Sampling)\u001b[0m\u001b[A\n",
      "\n",
      "chain 3 |\u001b[34m███████████████████████████████████████████████████████████████████████████████████████████████████████████████████████████████████████████▎      \u001b[0m| 00:04 Iteration: 1800 / 2000 [ 90%]  (Sampling)\u001b[0m\u001b[A\u001b[A\n",
      "\n",
      "\n",
      "chain 4 |\u001b[34m███████████████████████████████████████████████████████████████████████████████████████████████████████████████████████████████████████████▎      \u001b[0m| 00:04 Iteration: 1800 / 2000 [ 90%]  (Sampling)\u001b[0m\u001b[A\u001b[A\u001b[A\n",
      "chain 2 |\u001b[34m██████████████████████████████████████████████████████████████████████████████████████████████████████████████████████████████████████████████████\u001b[0m| 00:04 Iteration: 1900 / 2000 [ 95%]  (Sampling)\u001b[0m\u001b[A\n",
      "\n",
      "chain 3 |\u001b[34m██████████████████████████████████████████████████████████████████████████████████████████████████████████████████████████████████████████████████\u001b[0m| 00:04 Iteration: 1900 / 2000 [ 95%]  (Sampling)\u001b[0m\u001b[A\u001b[A\n",
      "\n",
      "\n",
      "chain 1 |\u001b[34m█████████████████████████████████████████████████████████████████████████████████████████████████████████████████████████████████████████████████████████████████████████\u001b[0m| 00:04 Sampling completed\u001b[0m\u001b[A\u001b[A\u001b[A\n",
      "chain 2 |\u001b[34m█████████████████████████████████████████████████████████████████████████████████████████████████████████████████████████████████████████████████████████████████████████\u001b[0m| 00:04 Sampling completed\u001b[0m\n",
      "chain 3 |\u001b[34m█████████████████████████████████████████████████████████████████████████████████████████████████████████████████████████████████████████████████████████████████████████\u001b[0m| 00:04 Sampling completed\u001b[0m\n",
      "chain 4 |\u001b[34m█████████████████████████████████████████████████████████████████████████████████████████████████████████████████████████████████████████████████████████████████████████\u001b[0m| 00:04 Sampling completed\u001b[0m\n"
     ]
    },
    {
     "name": "stdout",
     "output_type": "stream",
     "text": [
      "                                                                                                                                                                                                                                                                                                                                "
     ]
    },
    {
     "name": "stderr",
     "output_type": "stream",
     "text": [
      "INFO:cmdstanpy:CmdStan done processing.\n"
     ]
    },
    {
     "name": "stdout",
     "output_type": "stream",
     "text": [
      "\n"
     ]
    },
    {
     "name": "stderr",
     "output_type": "stream",
     "text": [
      "INFO:cmdstanpy:CmdStan start processing\n",
      "chain 1 |\u001b[33m                                                                                                                                                                                     \u001b[0m| 00:00 Status\u001b[0m\n",
      "chain 2 |\u001b[33m                                                                                                                                                                                     \u001b[0m| 00:00 Status\u001b[0m\u001b[A\n",
      "\n",
      "chain 3 |\u001b[33m                                                                                                                                                                                     \u001b[0m| 00:00 Status\u001b[0m\u001b[A\u001b[A\n",
      "\n",
      "\n",
      "chain 1 |\u001b[33m████████▏                                                                                                                                                                            \u001b[0m| 00:00 Status\u001b[0m\u001b[A\u001b[A\u001b[A\n",
      "chain 2 |\u001b[33m████████▏                                                                                                                                                                            \u001b[0m| 00:00 Status\u001b[0m\u001b[A\n",
      "\n",
      "chain 3 |\u001b[33m████████▏                                                                                                                                                                            \u001b[0m| 00:00 Status\u001b[0m\u001b[A\u001b[A\n",
      "\n",
      "\n",
      "chain 4 |\u001b[33m████████▏                                                                                                                                                                            \u001b[0m| 00:00 Status\u001b[0m\u001b[A\u001b[A\u001b[A\n",
      "chain 1 |\u001b[33m█████████████▍                                                                                                                                      \u001b[0m| 00:00 Iteration:    1 / 2000 [  0%]  (Warmup)\u001b[0m\u001b[A\n",
      "\n",
      "chain 3 |\u001b[33m█████████████▍                                                                                                                                      \u001b[0m| 00:00 Iteration:    1 / 2000 [  0%]  (Warmup)\u001b[0m\u001b[A\u001b[A\n",
      "\n",
      "\n",
      "chain 4 |\u001b[33m█████████████▍                                                                                                                                      \u001b[0m| 00:00 Iteration:    1 / 2000 [  0%]  (Warmup)\u001b[0m\u001b[A\u001b[A\u001b[A\n",
      "chain 1 |\u001b[33m████████████████████▏                                                                                                                               \u001b[0m| 00:00 Iteration:  100 / 2000 [  5%]  (Warmup)\u001b[0m\u001b[A\n",
      "\n",
      "chain 3 |\u001b[33m████████████████████▏                                                                                                                               \u001b[0m| 00:00 Iteration:  100 / 2000 [  5%]  (Warmup)\u001b[0m\u001b[A\u001b[A\n",
      "chain 1 |\u001b[33m██████████████████████████▉                                                                                                                         \u001b[0m| 00:01 Iteration:  200 / 2000 [ 10%]  (Warmup)\u001b[0m\u001b[A\n",
      "\n",
      "\n",
      "chain 4 |\u001b[33m████████████████████▏                                                                                                                               \u001b[0m| 00:01 Iteration:  100 / 2000 [  5%]  (Warmup)\u001b[0m\u001b[A\u001b[A\u001b[A\n",
      "chain 2 |\u001b[33m█████████████████████████████████▋                                                                                                                  \u001b[0m| 00:01 Iteration:  300 / 2000 [ 15%]  (Warmup)\u001b[0m\u001b[A\n",
      "\n",
      "chain 1 |\u001b[33m█████████████████████████████████▋                                                                                                                  \u001b[0m| 00:01 Iteration:  300 / 2000 [ 15%]  (Warmup)\u001b[0m\u001b[A\u001b[A\n",
      "\n",
      "\n",
      "chain 4 |\u001b[33m██████████████████████████▉                                                                                                                         \u001b[0m| 00:01 Iteration:  200 / 2000 [ 10%]  (Warmup)\u001b[0m\u001b[A\u001b[A\u001b[A\n",
      "chain 2 |\u001b[33m████████████████████████████████████████▎                                                                                                           \u001b[0m| 00:01 Iteration:  400 / 2000 [ 20%]  (Warmup)\u001b[0m\u001b[A\n",
      "\n",
      "chain 3 |\u001b[33m█████████████████████████████████▋                                                                                                                  \u001b[0m| 00:01 Iteration:  300 / 2000 [ 15%]  (Warmup)\u001b[0m\u001b[A\u001b[A\n",
      "\n",
      "\n",
      "chain 1 |\u001b[33m████████████████████████████████████████▎                                                                                                           \u001b[0m| 00:01 Iteration:  400 / 2000 [ 20%]  (Warmup)\u001b[0m\u001b[A\u001b[A\u001b[A\n",
      "chain 2 |\u001b[33m███████████████████████████████████████████████                                                                                                     \u001b[0m| 00:01 Iteration:  500 / 2000 [ 25%]  (Warmup)\u001b[0m\u001b[A\n",
      "\n",
      "\n",
      "chain 1 |\u001b[33m███████████████████████████████████████████████                                                                                                     \u001b[0m| 00:02 Iteration:  500 / 2000 [ 25%]  (Warmup)\u001b[0m\u001b[A\u001b[A\u001b[A\n",
      "chain 2 |\u001b[33m█████████████████████████████████████████████████████▊                                                                                              \u001b[0m| 00:02 Iteration:  600 / 2000 [ 30%]  (Warmup)\u001b[0m\u001b[A\n",
      "\n",
      "chain 3 |\u001b[33m████████████████████████████████████████▎                                                                                                           \u001b[0m| 00:02 Iteration:  400 / 2000 [ 20%]  (Warmup)\u001b[0m\u001b[A\u001b[A\n",
      "\n",
      "\n",
      "chain 4 |\u001b[33m███████████████████████████████████████████████                                                                                                     \u001b[0m| 00:02 Iteration:  500 / 2000 [ 25%]  (Warmup)\u001b[0m\u001b[A\u001b[A\u001b[A\n",
      "chain 1 |\u001b[33m█████████████████████████████████████████████████████▊                                                                                              \u001b[0m| 00:02 Iteration:  600 / 2000 [ 30%]  (Warmup)\u001b[0m\u001b[A\n",
      "\n",
      "chain 3 |\u001b[33m███████████████████████████████████████████████                                                                                                     \u001b[0m| 00:02 Iteration:  500 / 2000 [ 25%]  (Warmup)\u001b[0m\u001b[A\u001b[A\n",
      "chain 1 |\u001b[33m████████████████████████████████████████████████████████████▌                                                                                       \u001b[0m| 00:02 Iteration:  700 / 2000 [ 35%]  (Warmup)\u001b[0m\u001b[A\n",
      "\n",
      "\n",
      "chain 4 |\u001b[33m█████████████████████████████████████████████████████▊                                                                                              \u001b[0m| 00:02 Iteration:  600 / 2000 [ 30%]  (Warmup)\u001b[0m\u001b[A\u001b[A\u001b[A\n",
      "\n",
      "chain 3 |\u001b[33m█████████████████████████████████████████████████████▊                                                                                              \u001b[0m| 00:02 Iteration:  600 / 2000 [ 30%]  (Warmup)\u001b[0m\u001b[A\u001b[A\n",
      "\n",
      "\n",
      "chain 1 |\u001b[33m███████████████████████████████████████████████████████████████████▎                                                                                \u001b[0m| 00:02 Iteration:  800 / 2000 [ 40%]  (Warmup)\u001b[0m\u001b[A\u001b[A\u001b[A\n",
      "chain 2 |\u001b[33m██████████████████████████████████████████████████████████████████████████                                                                          \u001b[0m| 00:02 Iteration:  900 / 2000 [ 45%]  (Warmup)\u001b[0m\u001b[A\n",
      "\n",
      "chain 3 |\u001b[33m████████████████████████████████████████████████████████████▌                                                                                       \u001b[0m| 00:02 Iteration:  700 / 2000 [ 35%]  (Warmup)\u001b[0m\u001b[A\u001b[A\n",
      "\n",
      "\n",
      "chain 1 |\u001b[33m██████████████████████████████████████████████████████████████████████████                                                                          \u001b[0m| 00:03 Iteration:  900 / 2000 [ 45%]  (Warmup)\u001b[0m\u001b[A\u001b[A\u001b[A\n",
      "\n",
      "chain 3 |\u001b[33m███████████████████████████████████████████████████████████████████▎                                                                                \u001b[0m| 00:03 Iteration:  800 / 2000 [ 40%]  (Warmup)\u001b[0m\u001b[A\u001b[A\n",
      "\n",
      "\n",
      "chain 4 |\u001b[33m██████████████████████████████████████████████████████████████████████████                                                                          \u001b[0m| 00:03 Iteration:  900 / 2000 [ 45%]  (Warmup)\u001b[0m\u001b[A\u001b[A\u001b[A\n"
     ]
    },
    {
     "name": "stderr",
     "output_type": "stream",
     "text": [
      "chain 2 |\u001b[34m██████████████████████████████████████████████████████████████████████████████████████▎                                                           \u001b[0m| 00:03 Iteration: 1001 / 2000 [ 50%]  (Sampling)\u001b[0m\u001b[A\n",
      "\n",
      "chain 1 |\u001b[34m██████████████████████████████████████████████████████████████████████████████████████▎                                                           \u001b[0m| 00:03 Iteration: 1001 / 2000 [ 50%]  (Sampling)\u001b[0m\u001b[A\u001b[A\n",
      "\n",
      "\n",
      "chain 4 |\u001b[34m██████████████████████████████████████████████████████████████████████████████████████▎                                                           \u001b[0m| 00:03 Iteration: 1001 / 2000 [ 50%]  (Sampling)\u001b[0m\u001b[A\u001b[A\u001b[A\n",
      "chain 2 |\u001b[34m████████████████████████████████████████████████████████████████████████████████████████████▉                                                     \u001b[0m| 00:03 Iteration: 1100 / 2000 [ 55%]  (Sampling)\u001b[0m\u001b[A\n",
      "\n",
      "chain 1 |\u001b[34m████████████████████████████████████████████████████████████████████████████████████████████▉                                                     \u001b[0m| 00:03 Iteration: 1100 / 2000 [ 55%]  (Sampling)\u001b[0m\u001b[A\u001b[A\n",
      "\n",
      "\n",
      "chain 4 |\u001b[34m████████████████████████████████████████████████████████████████████████████████████████████▉                                                     \u001b[0m| 00:04 Iteration: 1100 / 2000 [ 55%]  (Sampling)\u001b[0m\u001b[A\u001b[A\u001b[A\n",
      "chain 2 |\u001b[34m███████████████████████████████████████████████████████████████████████████████████████████████████▌                                              \u001b[0m| 00:04 Iteration: 1200 / 2000 [ 60%]  (Sampling)\u001b[0m\u001b[A\n",
      "\n",
      "chain 1 |\u001b[34m███████████████████████████████████████████████████████████████████████████████████████████████████▌                                              \u001b[0m| 00:04 Iteration: 1200 / 2000 [ 60%]  (Sampling)\u001b[0m\u001b[A\u001b[A\n",
      "chain 2 |\u001b[34m██████████████████████████████████████████████████████████████████████████████████████████████████████████▏                                       \u001b[0m| 00:04 Iteration: 1300 / 2000 [ 65%]  (Sampling)\u001b[0m\u001b[A\n",
      "\n",
      "\n",
      "chain 4 |\u001b[34m███████████████████████████████████████████████████████████████████████████████████████████████████▌                                              \u001b[0m| 00:04 Iteration: 1200 / 2000 [ 60%]  (Sampling)\u001b[0m\u001b[A\u001b[A\u001b[A\n",
      "\n",
      "chain 1 |\u001b[34m██████████████████████████████████████████████████████████████████████████████████████████████████████████▏                                       \u001b[0m| 00:04 Iteration: 1300 / 2000 [ 65%]  (Sampling)\u001b[0m\u001b[A\u001b[A\n",
      "\n",
      "\n",
      "chain 4 |\u001b[34m██████████████████████████████████████████████████████████████████████████████████████████████████████████▏                                       \u001b[0m| 00:04 Iteration: 1300 / 2000 [ 65%]  (Sampling)\u001b[0m\u001b[A\u001b[A\u001b[A\n",
      "chain 2 |\u001b[34m████████████████████████████████████████████████████████████████████████████████████████████████████████████████▊                                 \u001b[0m| 00:04 Iteration: 1400 / 2000 [ 70%]  (Sampling)\u001b[0m\u001b[A\n",
      "\n",
      "chain 1 |\u001b[34m████████████████████████████████████████████████████████████████████████████████████████████████████████████████▊                                 \u001b[0m| 00:05 Iteration: 1400 / 2000 [ 70%]  (Sampling)\u001b[0m\u001b[A\u001b[A\n",
      "\n",
      "\n",
      "chain 4 |\u001b[34m████████████████████████████████████████████████████████████████████████████████████████████████████████████████▊                                 \u001b[0m| 00:05 Iteration: 1400 / 2000 [ 70%]  (Sampling)\u001b[0m\u001b[A\u001b[A\u001b[A\n",
      "\n",
      "chain 3 |\u001b[34m████████████████████████████████████████████████████████████████████████████████████████████████████████████████▊                                 \u001b[0m| 00:05 Iteration: 1400 / 2000 [ 70%]  (Sampling)\u001b[0m\u001b[A\u001b[A\n",
      "chain 1 |\u001b[34m███████████████████████████████████████████████████████████████████████████████████████████████████████████████████████▍                          \u001b[0m| 00:05 Iteration: 1500 / 2000 [ 75%]  (Sampling)\u001b[0m\u001b[A\n",
      "\n",
      "\n",
      "chain 4 |\u001b[34m███████████████████████████████████████████████████████████████████████████████████████████████████████████████████████▍                          \u001b[0m| 00:05 Iteration: 1500 / 2000 [ 75%]  (Sampling)\u001b[0m\u001b[A\u001b[A\u001b[A\n",
      "chain 2 |\u001b[34m██████████████████████████████████████████████████████████████████████████████████████████████████████████████████████████████                    \u001b[0m| 00:05 Iteration: 1600 / 2000 [ 80%]  (Sampling)\u001b[0m\u001b[A\n",
      "\n",
      "chain 1 |\u001b[34m██████████████████████████████████████████████████████████████████████████████████████████████████████████████████████████████                    \u001b[0m| 00:05 Iteration: 1600 / 2000 [ 80%]  (Sampling)\u001b[0m\u001b[A\u001b[A\n",
      "\n",
      "\n",
      "chain 4 |\u001b[34m██████████████████████████████████████████████████████████████████████████████████████████████████████████████████████████████                    \u001b[0m| 00:06 Iteration: 1600 / 2000 [ 80%]  (Sampling)\u001b[0m\u001b[A\u001b[A\u001b[A\n",
      "chain 2 |\u001b[34m████████████████████████████████████████████████████████████████████████████████████████████████████████████████████████████████████▋             \u001b[0m| 00:06 Iteration: 1700 / 2000 [ 85%]  (Sampling)\u001b[0m\u001b[A\n",
      "\n",
      "chain 1 |\u001b[34m████████████████████████████████████████████████████████████████████████████████████████████████████████████████████████████████████▋             \u001b[0m| 00:06 Iteration: 1700 / 2000 [ 85%]  (Sampling)\u001b[0m\u001b[A\u001b[A\n",
      "\n",
      "\n",
      "chain 4 |\u001b[34m████████████████████████████████████████████████████████████████████████████████████████████████████████████████████████████████████▋             \u001b[0m| 00:06 Iteration: 1700 / 2000 [ 85%]  (Sampling)\u001b[0m\u001b[A\u001b[A\u001b[A\n",
      "chain 2 |\u001b[34m███████████████████████████████████████████████████████████████████████████████████████████████████████████████████████████████████████████▎      \u001b[0m| 00:06 Iteration: 1800 / 2000 [ 90%]  (Sampling)\u001b[0m\u001b[A\n",
      "\n",
      "chain 1 |\u001b[34m███████████████████████████████████████████████████████████████████████████████████████████████████████████████████████████████████████████▎      \u001b[0m| 00:06 Iteration: 1800 / 2000 [ 90%]  (Sampling)\u001b[0m\u001b[A\u001b[A\n",
      "\n",
      "\n",
      "chain 4 |\u001b[34m███████████████████████████████████████████████████████████████████████████████████████████████████████████████████████████████████████████▎      \u001b[0m| 00:06 Iteration: 1800 / 2000 [ 90%]  (Sampling)\u001b[0m\u001b[A\u001b[A\u001b[A\n",
      "\n",
      "chain 3 |\u001b[34m███████████████████████████████████████████████████████████████████████████████████████████████████████████████████████████████████████████▎      \u001b[0m| 00:07 Iteration: 1800 / 2000 [ 90%]  (Sampling)\u001b[0m\u001b[A\u001b[A\n",
      "chain 1 |\u001b[34m██████████████████████████████████████████████████████████████████████████████████████████████████████████████████████████████████████████████████\u001b[0m| 00:07 Iteration: 1900 / 2000 [ 95%]  (Sampling)\u001b[0m\u001b[A\n",
      "\n",
      "\n",
      "chain 4 |\u001b[34m██████████████████████████████████████████████████████████████████████████████████████████████████████████████████████████████████████████████████\u001b[0m| 00:07 Iteration: 1900 / 2000 [ 95%]  (Sampling)\u001b[0m\u001b[A\u001b[A\u001b[A\n",
      "\n",
      "chain 1 |\u001b[34m█████████████████████████████████████████████████████████████████████████████████████████████████████████████████████████████████████████████████████████████████████████\u001b[0m| 00:07 Sampling completed\u001b[0m\u001b[A\u001b[A\n",
      "chain 2 |\u001b[34m█████████████████████████████████████████████████████████████████████████████████████████████████████████████████████████████████████████████████████████████████████████\u001b[0m| 00:07 Sampling completed\u001b[0m\n",
      "chain 3 |\u001b[34m█████████████████████████████████████████████████████████████████████████████████████████████████████████████████████████████████████████████████████████████████████████\u001b[0m| 00:07 Sampling completed\u001b[0m\n",
      "chain 4 |\u001b[34m█████████████████████████████████████████████████████████████████████████████████████████████████████████████████████████████████████████████████████████████████████████\u001b[0m| 00:07 Sampling completed\u001b[0m"
     ]
    },
    {
     "name": "stdout",
     "output_type": "stream",
     "text": [
      "                                                                                                                                                                                                                                                                                                                                "
     ]
    },
    {
     "name": "stderr",
     "output_type": "stream",
     "text": [
      "\n",
      "INFO:cmdstanpy:CmdStan done processing.\n"
     ]
    },
    {
     "name": "stdout",
     "output_type": "stream",
     "text": [
      "\n"
     ]
    },
    {
     "name": "stderr",
     "output_type": "stream",
     "text": [
      "INFO:cmdstanpy:CmdStan start processing\n",
      "chain 1 |\u001b[33m                                                                                                                                                                                     \u001b[0m| 00:00 Status\u001b[0m\n",
      "chain 2 |\u001b[33m                                                                                                                                                                                     \u001b[0m| 00:00 Status\u001b[0m\u001b[A\n",
      "\n",
      "chain 3 |\u001b[33m                                                                                                                                                                                     \u001b[0m| 00:00 Status\u001b[0m\u001b[A\u001b[A\n",
      "\n",
      "\n",
      "chain 1 |\u001b[33m████████▏                                                                                                                                                                            \u001b[0m| 00:00 Status\u001b[0m\u001b[A\u001b[A\u001b[A\n",
      "chain 2 |\u001b[33m████████▏                                                                                                                                                                            \u001b[0m| 00:00 Status\u001b[0m\u001b[A\n",
      "\n",
      "chain 3 |\u001b[33m████████▏                                                                                                                                                                            \u001b[0m| 00:00 Status\u001b[0m\u001b[A\u001b[A\n",
      "\n",
      "\n",
      "chain 4 |\u001b[33m████████▏                                                                                                                                                                            \u001b[0m| 00:00 Status\u001b[0m\u001b[A\u001b[A\u001b[A\n",
      "chain 2 |\u001b[33m█████████████▍                                                                                                                                      \u001b[0m| 00:00 Iteration:    1 / 2000 [  0%]  (Warmup)\u001b[0m\u001b[A\n",
      "\n",
      "\n",
      "chain 1 |\u001b[33m█████████████▍                                                                                                                                      \u001b[0m| 00:01 Iteration:    1 / 2000 [  0%]  (Warmup)\u001b[0m\u001b[A\u001b[A\u001b[A\n",
      "\n",
      "chain 3 |\u001b[33m█████████████▍                                                                                                                                      \u001b[0m| 00:01 Iteration:    1 / 2000 [  0%]  (Warmup)\u001b[0m\u001b[A\u001b[A\n",
      "chain 2 |\u001b[33m████████████████████▏                                                                                                                               \u001b[0m| 00:01 Iteration:  100 / 2000 [  5%]  (Warmup)\u001b[0m\u001b[A\n",
      "\n",
      "\n",
      "chain 1 |\u001b[33m████████████████████▏                                                                                                                               \u001b[0m| 00:01 Iteration:  100 / 2000 [  5%]  (Warmup)\u001b[0m\u001b[A\u001b[A\u001b[A\n",
      "\n",
      "chain 3 |\u001b[33m████████████████████▏                                                                                                                               \u001b[0m| 00:02 Iteration:  100 / 2000 [  5%]  (Warmup)\u001b[0m\u001b[A\u001b[A\n",
      "chain 2 |\u001b[33m██████████████████████████▉                                                                                                                         \u001b[0m| 00:02 Iteration:  200 / 2000 [ 10%]  (Warmup)\u001b[0m\u001b[A\n",
      "\n",
      "\n",
      "chain 1 |\u001b[33m██████████████████████████▉                                                                                                                         \u001b[0m| 00:02 Iteration:  200 / 2000 [ 10%]  (Warmup)\u001b[0m\u001b[A\u001b[A\u001b[A\n",
      "chain 2 |\u001b[33m█████████████████████████████████▋                                                                                                                  \u001b[0m| 00:02 Iteration:  300 / 2000 [ 15%]  (Warmup)\u001b[0m\u001b[A\n",
      "\n",
      "chain 1 |\u001b[33m█████████████████████████████████▋                                                                                                                  \u001b[0m| 00:03 Iteration:  300 / 2000 [ 15%]  (Warmup)\u001b[0m\u001b[A\u001b[A\n",
      "\n",
      "\n",
      "chain 4 |\u001b[33m█████████████████████████████████▋                                                                                                                  \u001b[0m| 00:03 Iteration:  300 / 2000 [ 15%]  (Warmup)\u001b[0m\u001b[A\u001b[A\u001b[A\n",
      "chain 2 |\u001b[33m████████████████████████████████████████▎                                                                                                           \u001b[0m| 00:03 Iteration:  400 / 2000 [ 20%]  (Warmup)\u001b[0m\u001b[A\n",
      "\n",
      "chain 1 |\u001b[33m████████████████████████████████████████▎                                                                                                           \u001b[0m| 00:03 Iteration:  400 / 2000 [ 20%]  (Warmup)\u001b[0m\u001b[A\u001b[A\n",
      "\n",
      "\n",
      "chain 4 |\u001b[33m████████████████████████████████████████▎                                                                                                           \u001b[0m| 00:03 Iteration:  400 / 2000 [ 20%]  (Warmup)\u001b[0m\u001b[A\u001b[A\u001b[A\n",
      "chain 2 |\u001b[33m███████████████████████████████████████████████                                                                                                     \u001b[0m| 00:03 Iteration:  500 / 2000 [ 25%]  (Warmup)\u001b[0m\u001b[A\n",
      "\n",
      "\n",
      "chain 1 |\u001b[33m███████████████████████████████████████████████                                                                                                     \u001b[0m| 00:04 Iteration:  500 / 2000 [ 25%]  (Warmup)\u001b[0m\u001b[A\u001b[A\u001b[A\n",
      "\n",
      "chain 3 |\u001b[33m████████████████████████████████████████▎                                                                                                           \u001b[0m| 00:04 Iteration:  400 / 2000 [ 20%]  (Warmup)\u001b[0m\u001b[A\u001b[A\n",
      "chain 1 |\u001b[33m█████████████████████████████████████████████████████▊                                                                                              \u001b[0m| 00:04 Iteration:  600 / 2000 [ 30%]  (Warmup)\u001b[0m\u001b[A\n",
      "\n",
      "\n",
      "chain 4 |\u001b[33m█████████████████████████████████████████████████████▊                                                                                              \u001b[0m| 00:04 Iteration:  600 / 2000 [ 30%]  (Warmup)\u001b[0m\u001b[A\u001b[A\u001b[A\n",
      "chain 2 |\u001b[33m████████████████████████████████████████████████████████████▌                                                                                       \u001b[0m| 00:04 Iteration:  700 / 2000 [ 35%]  (Warmup)\u001b[0m\u001b[A\n",
      "\n",
      "chain 3 |\u001b[33m███████████████████████████████████████████████                                                                                                     \u001b[0m| 00:04 Iteration:  500 / 2000 [ 25%]  (Warmup)\u001b[0m\u001b[A\u001b[A\n",
      "\n",
      "\n",
      "chain 1 |\u001b[33m████████████████████████████████████████████████████████████▌                                                                                       \u001b[0m| 00:05 Iteration:  700 / 2000 [ 35%]  (Warmup)\u001b[0m\u001b[A\u001b[A\u001b[A\n",
      "chain 2 |\u001b[33m███████████████████████████████████████████████████████████████████▎                                                                                \u001b[0m| 00:05 Iteration:  800 / 2000 [ 40%]  (Warmup)\u001b[0m\u001b[A\n",
      "\n",
      "chain 3 |\u001b[33m█████████████████████████████████████████████████████▊                                                                                              \u001b[0m| 00:05 Iteration:  600 / 2000 [ 30%]  (Warmup)\u001b[0m\u001b[A\u001b[A\n",
      "\n",
      "\n",
      "chain 1 |\u001b[33m███████████████████████████████████████████████████████████████████▎                                                                                \u001b[0m| 00:05 Iteration:  800 / 2000 [ 40%]  (Warmup)\u001b[0m\u001b[A\u001b[A\u001b[A\n",
      "chain 2 |\u001b[33m██████████████████████████████████████████████████████████████████████████                                                                          \u001b[0m| 00:05 Iteration:  900 / 2000 [ 45%]  (Warmup)\u001b[0m\u001b[A\n",
      "\n",
      "chain 1 |\u001b[33m██████████████████████████████████████████████████████████████████████████                                                                          \u001b[0m| 00:06 Iteration:  900 / 2000 [ 45%]  (Warmup)\u001b[0m\u001b[A\u001b[A\n",
      "\n",
      "\n",
      "chain 4 |\u001b[33m██████████████████████████████████████████████████████████████████████████                                                                          \u001b[0m| 00:06 Iteration:  900 / 2000 [ 45%]  (Warmup)\u001b[0m\u001b[A\u001b[A\u001b[A\n",
      "\n",
      "chain 3 |\u001b[33m███████████████████████████████████████████████████████████████████▎                                                                                \u001b[0m| 00:06 Iteration:  800 / 2000 [ 40%]  (Warmup)\u001b[0m\u001b[A\u001b[A\n"
     ]
    },
    {
     "name": "stderr",
     "output_type": "stream",
     "text": [
      "chain 2 |\u001b[34m██████████████████████████████████████████████████████████████████████████████████████▎                                                           \u001b[0m| 00:06 Iteration: 1001 / 2000 [ 50%]  (Sampling)\u001b[0m\u001b[A\n",
      "\n",
      "chain 3 |\u001b[33m██████████████████████████████████████████████████████████████████████████                                                                          \u001b[0m| 00:06 Iteration:  900 / 2000 [ 45%]  (Warmup)\u001b[0m\u001b[A\u001b[A\n",
      "\n",
      "\n",
      "chain 1 |\u001b[34m██████████████████████████████████████████████████████████████████████████████████████▎                                                           \u001b[0m| 00:07 Iteration: 1001 / 2000 [ 50%]  (Sampling)\u001b[0m\u001b[A\u001b[A\u001b[A\n",
      "chain 2 |\u001b[34m████████████████████████████████████████████████████████████████████████████████████████████▉                                                     \u001b[0m| 00:07 Iteration: 1100 / 2000 [ 55%]  (Sampling)\u001b[0m\u001b[A\n",
      "\n",
      "chain 1 |\u001b[34m████████████████████████████████████████████████████████████████████████████████████████████▉                                                     \u001b[0m| 00:07 Iteration: 1100 / 2000 [ 55%]  (Sampling)\u001b[0m\u001b[A\u001b[A\n",
      "\n",
      "\n",
      "chain 4 |\u001b[34m████████████████████████████████████████████████████████████████████████████████████████████▉                                                     \u001b[0m| 00:07 Iteration: 1100 / 2000 [ 55%]  (Sampling)\u001b[0m\u001b[A\u001b[A\u001b[A\n",
      "chain 2 |\u001b[34m███████████████████████████████████████████████████████████████████████████████████████████████████▌                                              \u001b[0m| 00:08 Iteration: 1200 / 2000 [ 60%]  (Sampling)\u001b[0m\u001b[A\n",
      "\n",
      "chain 1 |\u001b[34m███████████████████████████████████████████████████████████████████████████████████████████████████▌                                              \u001b[0m| 00:08 Iteration: 1200 / 2000 [ 60%]  (Sampling)\u001b[0m\u001b[A\u001b[A\n",
      "\n",
      "\n",
      "chain 4 |\u001b[34m███████████████████████████████████████████████████████████████████████████████████████████████████▌                                              \u001b[0m| 00:08 Iteration: 1200 / 2000 [ 60%]  (Sampling)\u001b[0m\u001b[A\u001b[A\u001b[A\n",
      "chain 2 |\u001b[34m██████████████████████████████████████████████████████████████████████████████████████████████████████████▏                                       \u001b[0m| 00:08 Iteration: 1300 / 2000 [ 65%]  (Sampling)\u001b[0m\u001b[A\n",
      "\n",
      "chain 1 |\u001b[34m██████████████████████████████████████████████████████████████████████████████████████████████████████████▏                                       \u001b[0m| 00:09 Iteration: 1300 / 2000 [ 65%]  (Sampling)\u001b[0m\u001b[A\u001b[A\n",
      "\n",
      "\n",
      "chain 4 |\u001b[34m██████████████████████████████████████████████████████████████████████████████████████████████████████████▏                                       \u001b[0m| 00:09 Iteration: 1300 / 2000 [ 65%]  (Sampling)\u001b[0m\u001b[A\u001b[A\u001b[A\n",
      "chain 2 |\u001b[34m████████████████████████████████████████████████████████████████████████████████████████████████████████████████▊                                 \u001b[0m| 00:09 Iteration: 1400 / 2000 [ 70%]  (Sampling)\u001b[0m\u001b[A\n",
      "\n",
      "chain 1 |\u001b[34m████████████████████████████████████████████████████████████████████████████████████████████████████████████████▊                                 \u001b[0m| 00:10 Iteration: 1400 / 2000 [ 70%]  (Sampling)\u001b[0m\u001b[A\u001b[A\n",
      "\n",
      "\n",
      "chain 4 |\u001b[34m████████████████████████████████████████████████████████████████████████████████████████████████████████████████▊                                 \u001b[0m| 00:10 Iteration: 1400 / 2000 [ 70%]  (Sampling)\u001b[0m\u001b[A\u001b[A\u001b[A\n",
      "chain 2 |\u001b[34m███████████████████████████████████████████████████████████████████████████████████████████████████████████████████████▍                          \u001b[0m| 00:10 Iteration: 1500 / 2000 [ 75%]  (Sampling)\u001b[0m\u001b[A\n",
      "\n",
      "chain 1 |\u001b[34m███████████████████████████████████████████████████████████████████████████████████████████████████████████████████████▍                          \u001b[0m| 00:11 Iteration: 1500 / 2000 [ 75%]  (Sampling)\u001b[0m\u001b[A\u001b[A\n",
      "\n",
      "\n",
      "chain 4 |\u001b[34m███████████████████████████████████████████████████████████████████████████████████████████████████████████████████████▍                          \u001b[0m| 00:11 Iteration: 1500 / 2000 [ 75%]  (Sampling)\u001b[0m\u001b[A\u001b[A\u001b[A\n",
      "chain 1 |\u001b[34m██████████████████████████████████████████████████████████████████████████████████████████████████████████████████████████████                    \u001b[0m| 00:11 Iteration: 1600 / 2000 [ 80%]  (Sampling)\u001b[0m\u001b[A\n",
      "\n",
      "chain 3 |\u001b[34m███████████████████████████████████████████████████████████████████████████████████████████████████████████████████████▍                          \u001b[0m| 00:11 Iteration: 1500 / 2000 [ 75%]  (Sampling)\u001b[0m\u001b[A\u001b[A\n",
      "chain 2 |\u001b[34m████████████████████████████████████████████████████████████████████████████████████████████████████████████████████████████████████▋             \u001b[0m| 00:11 Iteration: 1700 / 2000 [ 85%]  (Sampling)\u001b[0m\u001b[A\n",
      "\n",
      "\n",
      "chain 1 |\u001b[34m████████████████████████████████████████████████████████████████████████████████████████████████████████████████████████████████████▋             \u001b[0m| 00:12 Iteration: 1700 / 2000 [ 85%]  (Sampling)\u001b[0m\u001b[A\u001b[A\u001b[A\n",
      "\n",
      "\n",
      "chain 4 |\u001b[34m████████████████████████████████████████████████████████████████████████████████████████████████████████████████████████████████████▋             \u001b[0m| 00:12 Iteration: 1700 / 2000 [ 85%]  (Sampling)\u001b[0m\u001b[A\u001b[A\u001b[A\n",
      "chain 2 |\u001b[34m███████████████████████████████████████████████████████████████████████████████████████████████████████████████████████████████████████████▎      \u001b[0m| 00:12 Iteration: 1800 / 2000 [ 90%]  (Sampling)\u001b[0m\u001b[A\n",
      "\n",
      "chain 1 |\u001b[34m███████████████████████████████████████████████████████████████████████████████████████████████████████████████████████████████████████████▎      \u001b[0m| 00:13 Iteration: 1800 / 2000 [ 90%]  (Sampling)\u001b[0m\u001b[A\u001b[A\n",
      "chain 2 |\u001b[34m██████████████████████████████████████████████████████████████████████████████████████████████████████████████████████████████████████████████████\u001b[0m| 00:13 Iteration: 1900 / 2000 [ 95%]  (Sampling)\u001b[0m\u001b[A\n",
      "\n",
      "\n",
      "chain 4 |\u001b[34m███████████████████████████████████████████████████████████████████████████████████████████████████████████████████████████████████████████▎      \u001b[0m| 00:13 Iteration: 1800 / 2000 [ 90%]  (Sampling)\u001b[0m\u001b[A\u001b[A\u001b[A\n",
      "\n",
      "chain 1 |\u001b[34m██████████████████████████████████████████████████████████████████████████████████████████████████████████████████████████████████████████████████\u001b[0m| 00:13 Iteration: 1900 / 2000 [ 95%]  (Sampling)\u001b[0m\u001b[A\u001b[A\n",
      "\n",
      "\n",
      "chain 4 |\u001b[34m██████████████████████████████████████████████████████████████████████████████████████████████████████████████████████████████████████████████████\u001b[0m| 00:13 Iteration: 1900 / 2000 [ 95%]  (Sampling)\u001b[0m\u001b[A\u001b[A\u001b[A\n",
      "\n",
      "chain 3 |\u001b[34m███████████████████████████████████████████████████████████████████████████████████████████████████████████████████████████████████████████▎      \u001b[0m| 00:13 Iteration: 1800 / 2000 [ 90%]  (Sampling)\u001b[0m\u001b[A\u001b[A\n",
      "\n",
      "chain 1 |\u001b[34m█████████████████████████████████████████████████████████████████████████████████████████████████████████████████████████████████████████████████████████████████████████\u001b[0m| 00:14 Sampling completed\u001b[0m\u001b[A\u001b[A\n",
      "chain 2 |\u001b[34m█████████████████████████████████████████████████████████████████████████████████████████████████████████████████████████████████████████████████████████████████████████\u001b[0m| 00:14 Sampling completed\u001b[0m\n",
      "chain 3 |\u001b[34m█████████████████████████████████████████████████████████████████████████████████████████████████████████████████████████████████████████████████████████████████████████\u001b[0m| 00:14 Sampling completed\u001b[0m\n",
      "chain 4 |\u001b[34m█████████████████████████████████████████████████████████████████████████████████████████████████████████████████████████████████████████████████████████████████████████\u001b[0m| 00:14 Sampling completed\u001b[0m"
     ]
    },
    {
     "name": "stdout",
     "output_type": "stream",
     "text": [
      "                                                                                                                                                                                                                                                                                                                                "
     ]
    },
    {
     "name": "stderr",
     "output_type": "stream",
     "text": [
      "\n",
      "INFO:cmdstanpy:CmdStan done processing.\n"
     ]
    },
    {
     "name": "stdout",
     "output_type": "stream",
     "text": [
      "\n"
     ]
    },
    {
     "data": {
      "image/png": "[encoded data removed]",
      "text/plain": [
       "<Figure size 864x576 with 6 Axes>"
      ]
     },
     "metadata": {
      "needs_background": "light"
     },
     "output_type": "display_data"
    }
   ],
   "source": [
    "fig, axes = plt.subplots(2, 3, figsize=(12, 8))\n",
    "axes = axes.flatten()\n",
    "for i, N in enumerate([10, 20, 40, 60, 100, 200]):\n",
    "    data_fit = {'N': N, 'weights': d.weight.values[:N], 'heights': d.height.values[:N]}\n",
    "    fit=model_2_fit.sample(data=data_fit,seed=28052020)\n",
    "    df = fit.draws_pd()\n",
    "    alpha = df['alpha'].values\n",
    "    beta = df['beta'].values\n",
    "    \n",
    "    weight_range = np.linspace(data_fit['weights'].min(), data_fit['weights'].max(), N).reshape((N, 1))\n",
    "    hhat = beta * weight_range + alpha\n",
    "    extended_domain = np.ones((1, 4000)) * weight_range\n",
    "    axes[i].plot(extended_domain, hhat, 'r', alpha=0.05)\n",
    "    axes[i].set_title(f'{N=}')\n",
    "plt.show()"
   ]
  },
  {
   "cell_type": "markdown",
   "metadata": {},
   "source": [
    "As N increases the space of possible fits shrinks and the uncertainty is also getting smaller."
   ]
  },
  {
   "cell_type": "code",
   "execution_count": 59,
   "metadata": {},
   "outputs": [
    {
     "name": "stderr",
     "output_type": "stream",
     "text": [
      "INFO:cmdstanpy:CmdStan start processing\n",
      "chain 1 |\u001b[33m                                                                                                                                                                                     \u001b[0m| 00:00 Status\u001b[0m\n",
      "chain 2 |\u001b[33m                                                                                                                                                                                     \u001b[0m| 00:00 Status\u001b[0m\u001b[A\n",
      "\n",
      "chain 3 |\u001b[33m                                                                                                                                                                                     \u001b[0m| 00:00 Status\u001b[0m\u001b[A\u001b[A\n",
      "\n",
      "\n",
      "chain 1 |\u001b[33m████████▏                                                                                                                                                                            \u001b[0m| 00:00 Status\u001b[0m\u001b[A\u001b[A\u001b[A\n",
      "chain 2 |\u001b[33m████████▏                                                                                                                                                                            \u001b[0m| 00:00 Status\u001b[0m\u001b[A\n",
      "\n",
      "chain 3 |\u001b[33m████████▏                                                                                                                                                                            \u001b[0m| 00:00 Status\u001b[0m\u001b[A\u001b[A\n",
      "\n",
      "\n",
      "chain 4 |\u001b[33m████████▏                                                                                                                                                                            \u001b[0m| 00:00 Status\u001b[0m\u001b[A\u001b[A\u001b[A\n",
      "chain 1 |\u001b[33m█████████████▍                                                                                                                                      \u001b[0m| 00:00 Iteration:    1 / 2000 [  0%]  (Warmup)\u001b[0m\u001b[A\n",
      "\n",
      "chain 1 |\u001b[33m████████████████████▏                                                                                                                               \u001b[0m| 00:00 Iteration:  100 / 2000 [  5%]  (Warmup)\u001b[0m\u001b[A\u001b[A\n",
      "\n",
      "chain 3 |\u001b[33m████████████████████▏                                                                                                                               \u001b[0m| 00:00 Iteration:  100 / 2000 [  5%]  (Warmup)\u001b[0m\u001b[A\u001b[A\n",
      "\n",
      "\n",
      "chain 4 |\u001b[33m█████████████▍                                                                                                                                      \u001b[0m| 00:00 Iteration:    1 / 2000 [  0%]  (Warmup)\u001b[0m\u001b[A\u001b[A\u001b[A\n",
      "chain 2 |\u001b[33m████████████████████▏                                                                                                                               \u001b[0m| 00:00 Iteration:  100 / 2000 [  5%]  (Warmup)\u001b[0m\u001b[A\n",
      "\n",
      "chain 1 |\u001b[33m██████████████████████████▉                                                                                                                         \u001b[0m| 00:00 Iteration:  200 / 2000 [ 10%]  (Warmup)\u001b[0m\u001b[A\u001b[A\n",
      "chain 2 |\u001b[33m██████████████████████████▉                                                                                                                         \u001b[0m| 00:00 Iteration:  200 / 2000 [ 10%]  (Warmup)\u001b[0m\u001b[A\n",
      "\n",
      "\n",
      "chain 4 |\u001b[33m████████████████████▏                                                                                                                               \u001b[0m| 00:00 Iteration:  100 / 2000 [  5%]  (Warmup)\u001b[0m\u001b[A\u001b[A\u001b[A\n",
      "\n",
      "chain 3 |\u001b[33m█████████████████████████████████▋                                                                                                                  \u001b[0m| 00:00 Iteration:  300 / 2000 [ 15%]  (Warmup)\u001b[0m\u001b[A\u001b[A\n",
      "chain 1 |\u001b[33m█████████████████████████████████▋                                                                                                                  \u001b[0m| 00:00 Iteration:  300 / 2000 [ 15%]  (Warmup)\u001b[0m\u001b[A\n",
      "\n",
      "\n",
      "chain 4 |\u001b[33m██████████████████████████▉                                                                                                                         \u001b[0m| 00:00 Iteration:  200 / 2000 [ 10%]  (Warmup)\u001b[0m\u001b[A\u001b[A\u001b[A\n",
      "\n",
      "chain 3 |\u001b[33m████████████████████████████████████████▎                                                                                                           \u001b[0m| 00:00 Iteration:  400 / 2000 [ 20%]  (Warmup)\u001b[0m\u001b[A\u001b[A\n",
      "chain 1 |\u001b[33m████████████████████████████████████████▎                                                                                                           \u001b[0m| 00:01 Iteration:  400 / 2000 [ 20%]  (Warmup)\u001b[0m\u001b[A\n",
      "\n",
      "chain 3 |\u001b[33m███████████████████████████████████████████████                                                                                                     \u001b[0m| 00:01 Iteration:  500 / 2000 [ 25%]  (Warmup)\u001b[0m\u001b[A\u001b[A\n",
      "\n",
      "\n",
      "chain 4 |\u001b[33m█████████████████████████████████▋                                                                                                                  \u001b[0m| 00:01 Iteration:  300 / 2000 [ 15%]  (Warmup)\u001b[0m\u001b[A\u001b[A\u001b[A\n",
      "chain 2 |\u001b[33m███████████████████████████████████████████████                                                                                                     \u001b[0m| 00:01 Iteration:  500 / 2000 [ 25%]  (Warmup)\u001b[0m\u001b[A\n",
      "\n",
      "chain 1 |\u001b[33m███████████████████████████████████████████████                                                                                                     \u001b[0m| 00:01 Iteration:  500 / 2000 [ 25%]  (Warmup)\u001b[0m\u001b[A\u001b[A\n",
      "\n",
      "\n",
      "chain 4 |\u001b[33m████████████████████████████████████████▎                                                                                                           \u001b[0m| 00:01 Iteration:  400 / 2000 [ 20%]  (Warmup)\u001b[0m\u001b[A\u001b[A\u001b[A\n",
      "chain 2 |\u001b[33m█████████████████████████████████████████████████████▊                                                                                              \u001b[0m| 00:01 Iteration:  600 / 2000 [ 30%]  (Warmup)\u001b[0m\u001b[A\n",
      "\n",
      "chain 1 |\u001b[33m█████████████████████████████████████████████████████▊                                                                                              \u001b[0m| 00:01 Iteration:  600 / 2000 [ 30%]  (Warmup)\u001b[0m\u001b[A\u001b[A\n",
      "\n",
      "\n",
      "chain 4 |\u001b[33m███████████████████████████████████████████████                                                                                                     \u001b[0m| 00:01 Iteration:  500 / 2000 [ 25%]  (Warmup)\u001b[0m\u001b[A\u001b[A\u001b[A\n",
      "chain 2 |\u001b[33m████████████████████████████████████████████████████████████▌                                                                                       \u001b[0m| 00:01 Iteration:  700 / 2000 [ 35%]  (Warmup)\u001b[0m\u001b[A\n",
      "\n",
      "chain 3 |\u001b[33m███████████████████████████████████████████████████████████████████▎                                                                                \u001b[0m| 00:01 Iteration:  800 / 2000 [ 40%]  (Warmup)\u001b[0m\u001b[A\u001b[A\n",
      "\n",
      "\n",
      "chain 1 |\u001b[33m████████████████████████████████████████████████████████████▌                                                                                       \u001b[0m| 00:01 Iteration:  700 / 2000 [ 35%]  (Warmup)\u001b[0m\u001b[A\u001b[A\u001b[A\n",
      "chain 2 |\u001b[33m███████████████████████████████████████████████████████████████████▎                                                                                \u001b[0m| 00:01 Iteration:  800 / 2000 [ 40%]  (Warmup)\u001b[0m\u001b[A\n",
      "\n",
      "\n",
      "chain 1 |\u001b[33m███████████████████████████████████████████████████████████████████▎                                                                                \u001b[0m| 00:01 Iteration:  800 / 2000 [ 40%]  (Warmup)\u001b[0m\u001b[A\u001b[A\u001b[A\n",
      "\n",
      "chain 3 |\u001b[33m██████████████████████████████████████████████████████████████████████████                                                                          \u001b[0m| 00:01 Iteration:  900 / 2000 [ 45%]  (Warmup)\u001b[0m\u001b[A\u001b[A\n",
      "chain 1 |\u001b[33m██████████████████████████████████████████████████████████████████████████                                                                          \u001b[0m| 00:01 Iteration:  900 / 2000 [ 45%]  (Warmup)\u001b[0m\u001b[A\n",
      "\n",
      "\n",
      "chain 4 |\u001b[33m███████████████████████████████████████████████████████████████████▎                                                                                \u001b[0m| 00:01 Iteration:  800 / 2000 [ 40%]  (Warmup)\u001b[0m\u001b[A\u001b[A\u001b[A\n",
      "\n",
      "\n"
     ]
    },
    {
     "name": "stderr",
     "output_type": "stream",
     "text": [
      "chain 4 |\u001b[33m██████████████████████████████████████████████████████████████████████████                                                                          \u001b[0m| 00:01 Iteration:  900 / 2000 [ 45%]  (Warmup)\u001b[0m\u001b[A\u001b[A\u001b[A\n",
      "\n",
      "chain 1 |\u001b[34m██████████████████████████████████████████████████████████████████████████████████████▎                                                           \u001b[0m| 00:01 Iteration: 1001 / 2000 [ 50%]  (Sampling)\u001b[0m\u001b[A\u001b[A\n",
      "chain 2 |\u001b[34m██████████████████████████████████████████████████████████████████████████████████████▎                                                           \u001b[0m| 00:01 Iteration: 1001 / 2000 [ 50%]  (Sampling)\u001b[0m\u001b[A\n",
      "\n",
      "chain 1 |\u001b[34m████████████████████████████████████████████████████████████████████████████████████████████▉                                                     \u001b[0m| 00:02 Iteration: 1100 / 2000 [ 55%]  (Sampling)\u001b[0m\u001b[A\u001b[A\n",
      "chain 2 |\u001b[34m████████████████████████████████████████████████████████████████████████████████████████████▉                                                     \u001b[0m| 00:02 Iteration: 1100 / 2000 [ 55%]  (Sampling)\u001b[0m\u001b[A\n",
      "\n",
      "\n",
      "chain 1 |\u001b[34m███████████████████████████████████████████████████████████████████████████████████████████████████▌                                              \u001b[0m| 00:02 Iteration: 1200 / 2000 [ 60%]  (Sampling)\u001b[0m\u001b[A\u001b[A\u001b[A\n",
      "\n",
      "chain 3 |\u001b[34m███████████████████████████████████████████████████████████████████████████████████████████████████▌                                              \u001b[0m| 00:02 Iteration: 1200 / 2000 [ 60%]  (Sampling)\u001b[0m\u001b[A\u001b[A\n",
      "chain 2 |\u001b[34m███████████████████████████████████████████████████████████████████████████████████████████████████▌                                              \u001b[0m| 00:02 Iteration: 1200 / 2000 [ 60%]  (Sampling)\u001b[0m\u001b[A\n",
      "\n",
      "\n",
      "chain 1 |\u001b[34m██████████████████████████████████████████████████████████████████████████████████████████████████████████▏                                       \u001b[0m| 00:02 Iteration: 1300 / 2000 [ 65%]  (Sampling)\u001b[0m\u001b[A\u001b[A\u001b[A\n",
      "\n",
      "chain 3 |\u001b[34m██████████████████████████████████████████████████████████████████████████████████████████████████████████▏                                       \u001b[0m| 00:02 Iteration: 1300 / 2000 [ 65%]  (Sampling)\u001b[0m\u001b[A\u001b[A\n",
      "chain 2 |\u001b[34m██████████████████████████████████████████████████████████████████████████████████████████████████████████▏                                       \u001b[0m| 00:02 Iteration: 1300 / 2000 [ 65%]  (Sampling)\u001b[0m\u001b[A\n",
      "\n",
      "\n",
      "chain 1 |\u001b[34m████████████████████████████████████████████████████████████████████████████████████████████████████████████████▊                                 \u001b[0m| 00:02 Iteration: 1400 / 2000 [ 70%]  (Sampling)\u001b[0m\u001b[A\u001b[A\u001b[A\n",
      "\n",
      "chain 3 |\u001b[34m████████████████████████████████████████████████████████████████████████████████████████████████████████████████▊                                 \u001b[0m| 00:02 Iteration: 1400 / 2000 [ 70%]  (Sampling)\u001b[0m\u001b[A\u001b[A\n",
      "chain 1 |\u001b[34m███████████████████████████████████████████████████████████████████████████████████████████████████████████████████████▍                          \u001b[0m| 00:02 Iteration: 1500 / 2000 [ 75%]  (Sampling)\u001b[0m\u001b[A\n",
      "\n",
      "\n",
      "chain 4 |\u001b[34m██████████████████████████████████████████████████████████████████████████████████████████████████████████▏                                       \u001b[0m| 00:02 Iteration: 1300 / 2000 [ 65%]  (Sampling)\u001b[0m\u001b[A\u001b[A\u001b[A\n",
      "\n",
      "chain 3 |\u001b[34m███████████████████████████████████████████████████████████████████████████████████████████████████████████████████████▍                          \u001b[0m| 00:02 Iteration: 1500 / 2000 [ 75%]  (Sampling)\u001b[0m\u001b[A\u001b[A\n",
      "chain 1 |\u001b[34m██████████████████████████████████████████████████████████████████████████████████████████████████████████████████████████████                    \u001b[0m| 00:03 Iteration: 1600 / 2000 [ 80%]  (Sampling)\u001b[0m\u001b[A\n",
      "\n",
      "\n",
      "chain 4 |\u001b[34m████████████████████████████████████████████████████████████████████████████████████████████████████████████████▊                                 \u001b[0m| 00:03 Iteration: 1400 / 2000 [ 70%]  (Sampling)\u001b[0m\u001b[A\u001b[A\u001b[A\n",
      "\n",
      "chain 1 |\u001b[34m████████████████████████████████████████████████████████████████████████████████████████████████████████████████████████████████████▋             \u001b[0m| 00:03 Iteration: 1700 / 2000 [ 85%]  (Sampling)\u001b[0m\u001b[A\u001b[A\n",
      "chain 2 |\u001b[34m██████████████████████████████████████████████████████████████████████████████████████████████████████████████████████████████                    \u001b[0m| 00:03 Iteration: 1600 / 2000 [ 80%]  (Sampling)\u001b[0m\u001b[A\n",
      "\n",
      "\n",
      "chain 4 |\u001b[34m███████████████████████████████████████████████████████████████████████████████████████████████████████████████████████▍                          \u001b[0m| 00:03 Iteration: 1500 / 2000 [ 75%]  (Sampling)\u001b[0m\u001b[A\u001b[A\u001b[A\n",
      "\n",
      "chain 1 |\u001b[34m███████████████████████████████████████████████████████████████████████████████████████████████████████████████████████████████████████████▎      \u001b[0m| 00:03 Iteration: 1800 / 2000 [ 90%]  (Sampling)\u001b[0m\u001b[A\u001b[A\n",
      "chain 2 |\u001b[34m████████████████████████████████████████████████████████████████████████████████████████████████████████████████████████████████████▋             \u001b[0m| 00:03 Iteration: 1700 / 2000 [ 85%]  (Sampling)\u001b[0m\u001b[A\n",
      "\n",
      "\n",
      "chain 1 |\u001b[34m██████████████████████████████████████████████████████████████████████████████████████████████████████████████████████████████████████████████████\u001b[0m| 00:03 Iteration: 1900 / 2000 [ 95%]  (Sampling)\u001b[0m\u001b[A\u001b[A\u001b[A\n",
      "\n",
      "chain 3 |\u001b[34m███████████████████████████████████████████████████████████████████████████████████████████████████████████████████████████████████████████▎      \u001b[0m| 00:03 Iteration: 1800 / 2000 [ 90%]  (Sampling)\u001b[0m\u001b[A\u001b[A\n",
      "chain 2 |\u001b[34m███████████████████████████████████████████████████████████████████████████████████████████████████████████████████████████████████████████▎      \u001b[0m| 00:03 Iteration: 1800 / 2000 [ 90%]  (Sampling)\u001b[0m\u001b[A\n",
      "\n",
      "chain 3 |\u001b[34m██████████████████████████████████████████████████████████████████████████████████████████████████████████████████████████████████████████████████\u001b[0m| 00:03 Iteration: 1900 / 2000 [ 95%]  (Sampling)\u001b[0m\u001b[A\u001b[A\n",
      "\n",
      "\n",
      "chain 4 |\u001b[34m████████████████████████████████████████████████████████████████████████████████████████████████████████████████████████████████████▋             \u001b[0m| 00:03 Iteration: 1700 / 2000 [ 85%]  (Sampling)\u001b[0m\u001b[A\u001b[A\u001b[A\n",
      "chain 2 |\u001b[34m██████████████████████████████████████████████████████████████████████████████████████████████████████████████████████████████████████████████████\u001b[0m| 00:03 Iteration: 1900 / 2000 [ 95%]  (Sampling)\u001b[0m\u001b[A\n",
      "\n",
      "\n",
      "chain 4 |\u001b[34m███████████████████████████████████████████████████████████████████████████████████████████████████████████████████████████████████████████▎      \u001b[0m| 00:03 Iteration: 1800 / 2000 [ 90%]  (Sampling)\u001b[0m\u001b[A\u001b[A\u001b[A\n",
      "\n",
      "\n",
      "chain 1 |\u001b[34m█████████████████████████████████████████████████████████████████████████████████████████████████████████████████████████████████████████████████████████████████████████\u001b[0m| 00:04 Sampling completed\u001b[0m\u001b[A\u001b[A\u001b[A\n",
      "chain 2 |\u001b[34m█████████████████████████████████████████████████████████████████████████████████████████████████████████████████████████████████████████████████████████████████████████\u001b[0m| 00:04 Sampling completed\u001b[0m\n",
      "chain 3 |\u001b[34m█████████████████████████████████████████████████████████████████████████████████████████████████████████████████████████████████████████████████████████████████████████\u001b[0m| 00:04 Sampling completed\u001b[0m\n",
      "chain 4 |\u001b[34m█████████████████████████████████████████████████████████████████████████████████████████████████████████████████████████████████████████████████████████████████████████\u001b[0m| 00:04 Sampling completed\u001b[0m\n"
     ]
    },
    {
     "name": "stdout",
     "output_type": "stream",
     "text": [
      "                                                                                                                                                                                                                                                                                                                                "
     ]
    },
    {
     "name": "stderr",
     "output_type": "stream",
     "text": [
      "INFO:cmdstanpy:CmdStan done processing.\n"
     ]
    },
    {
     "name": "stdout",
     "output_type": "stream",
     "text": [
      "\n"
     ]
    }
   ],
   "source": [
    "N = 50\n",
    "data_fit = {'N': N, 'weights': d.weight.values[:N], 'heights': d.height.values[:N]}\n",
    "fit=model_2_fit.sample(data=data_fit,seed=28052020)"
   ]
  },
  {
   "cell_type": "code",
   "execution_count": 61,
   "metadata": {},
   "outputs": [
    {
     "data": {
      "text/html": [
       "<div>\n",
       "<style scoped>\n",
       "    .dataframe tbody tr th:only-of-type {\n",
       "        vertical-align: middle;\n",
       "    }\n",
       "\n",
       "    .dataframe tbody tr th {\n",
       "        vertical-align: top;\n",
       "    }\n",
       "\n",
       "    .dataframe thead th {\n",
       "        text-align: right;\n",
       "    }\n",
       "</style>\n",
       "<table border=\"1\" class=\"dataframe\">\n",
       "  <thead>\n",
       "    <tr style=\"text-align: right;\">\n",
       "      <th></th>\n",
       "      <th>lp__</th>\n",
       "      <th>accept_stat__</th>\n",
       "      <th>stepsize__</th>\n",
       "      <th>treedepth__</th>\n",
       "      <th>n_leapfrog__</th>\n",
       "      <th>divergent__</th>\n",
       "      <th>energy__</th>\n",
       "      <th>alpha</th>\n",
       "      <th>sigma</th>\n",
       "      <th>beta</th>\n",
       "      <th>...</th>\n",
       "      <th>h_hat[41]</th>\n",
       "      <th>h_hat[42]</th>\n",
       "      <th>h_hat[43]</th>\n",
       "      <th>h_hat[44]</th>\n",
       "      <th>h_hat[45]</th>\n",
       "      <th>h_hat[46]</th>\n",
       "      <th>h_hat[47]</th>\n",
       "      <th>h_hat[48]</th>\n",
       "      <th>h_hat[49]</th>\n",
       "      <th>h_hat[50]</th>\n",
       "    </tr>\n",
       "  </thead>\n",
       "  <tbody>\n",
       "    <tr>\n",
       "      <th>0</th>\n",
       "      <td>-116.747</td>\n",
       "      <td>0.936448</td>\n",
       "      <td>0.165983</td>\n",
       "      <td>4.0</td>\n",
       "      <td>15.0</td>\n",
       "      <td>0.0</td>\n",
       "      <td>117.613</td>\n",
       "      <td>136.148</td>\n",
       "      <td>6.35775</td>\n",
       "      <td>0.390250</td>\n",
       "      <td>...</td>\n",
       "      <td>162.780</td>\n",
       "      <td>157.547</td>\n",
       "      <td>146.337</td>\n",
       "      <td>148.769</td>\n",
       "      <td>151.096</td>\n",
       "      <td>161.935</td>\n",
       "      <td>153.763</td>\n",
       "      <td>161.057</td>\n",
       "      <td>148.291</td>\n",
       "      <td>150.366</td>\n",
       "    </tr>\n",
       "    <tr>\n",
       "      <th>1</th>\n",
       "      <td>-117.885</td>\n",
       "      <td>0.592375</td>\n",
       "      <td>0.165983</td>\n",
       "      <td>3.0</td>\n",
       "      <td>11.0</td>\n",
       "      <td>0.0</td>\n",
       "      <td>121.695</td>\n",
       "      <td>132.391</td>\n",
       "      <td>6.52830</td>\n",
       "      <td>0.420847</td>\n",
       "      <td>...</td>\n",
       "      <td>155.289</td>\n",
       "      <td>151.057</td>\n",
       "      <td>156.085</td>\n",
       "      <td>146.998</td>\n",
       "      <td>153.355</td>\n",
       "      <td>154.375</td>\n",
       "      <td>144.325</td>\n",
       "      <td>148.344</td>\n",
       "      <td>154.985</td>\n",
       "      <td>149.157</td>\n",
       "    </tr>\n",
       "    <tr>\n",
       "      <th>2</th>\n",
       "      <td>-117.044</td>\n",
       "      <td>1.000000</td>\n",
       "      <td>0.165983</td>\n",
       "      <td>3.0</td>\n",
       "      <td>15.0</td>\n",
       "      <td>0.0</td>\n",
       "      <td>118.982</td>\n",
       "      <td>136.233</td>\n",
       "      <td>7.09360</td>\n",
       "      <td>0.392923</td>\n",
       "      <td>...</td>\n",
       "      <td>162.807</td>\n",
       "      <td>156.765</td>\n",
       "      <td>162.807</td>\n",
       "      <td>148.661</td>\n",
       "      <td>174.835</td>\n",
       "      <td>159.883</td>\n",
       "      <td>145.684</td>\n",
       "      <td>166.845</td>\n",
       "      <td>156.999</td>\n",
       "      <td>158.597</td>\n",
       "    </tr>\n",
       "    <tr>\n",
       "      <th>3</th>\n",
       "      <td>-115.194</td>\n",
       "      <td>0.829400</td>\n",
       "      <td>0.165983</td>\n",
       "      <td>4.0</td>\n",
       "      <td>19.0</td>\n",
       "      <td>0.0</td>\n",
       "      <td>119.097</td>\n",
       "      <td>130.990</td>\n",
       "      <td>5.55968</td>\n",
       "      <td>0.493890</td>\n",
       "      <td>...</td>\n",
       "      <td>149.021</td>\n",
       "      <td>158.486</td>\n",
       "      <td>159.047</td>\n",
       "      <td>154.532</td>\n",
       "      <td>145.028</td>\n",
       "      <td>159.649</td>\n",
       "      <td>147.787</td>\n",
       "      <td>154.920</td>\n",
       "      <td>160.543</td>\n",
       "      <td>154.552</td>\n",
       "    </tr>\n",
       "    <tr>\n",
       "      <th>4</th>\n",
       "      <td>-117.094</td>\n",
       "      <td>0.328912</td>\n",
       "      <td>0.165983</td>\n",
       "      <td>3.0</td>\n",
       "      <td>15.0</td>\n",
       "      <td>0.0</td>\n",
       "      <td>121.399</td>\n",
       "      <td>131.920</td>\n",
       "      <td>5.09075</td>\n",
       "      <td>0.463525</td>\n",
       "      <td>...</td>\n",
       "      <td>151.866</td>\n",
       "      <td>165.214</td>\n",
       "      <td>157.484</td>\n",
       "      <td>149.588</td>\n",
       "      <td>154.174</td>\n",
       "      <td>158.854</td>\n",
       "      <td>154.753</td>\n",
       "      <td>153.184</td>\n",
       "      <td>151.693</td>\n",
       "      <td>153.266</td>\n",
       "    </tr>\n",
       "  </tbody>\n",
       "</table>\n",
       "<p>5 rows × 110 columns</p>\n",
       "</div>"
      ],
      "text/plain": [
       "      lp__  accept_stat__  stepsize__  treedepth__  n_leapfrog__  divergent__  \\\n",
       "0 -116.747       0.936448    0.165983          4.0          15.0          0.0   \n",
       "1 -117.885       0.592375    0.165983          3.0          11.0          0.0   \n",
       "2 -117.044       1.000000    0.165983          3.0          15.0          0.0   \n",
       "3 -115.194       0.829400    0.165983          4.0          19.0          0.0   \n",
       "4 -117.094       0.328912    0.165983          3.0          15.0          0.0   \n",
       "\n",
       "   energy__    alpha    sigma      beta  ...  h_hat[41]  h_hat[42]  h_hat[43]  \\\n",
       "0   117.613  136.148  6.35775  0.390250  ...    162.780    157.547    146.337   \n",
       "1   121.695  132.391  6.52830  0.420847  ...    155.289    151.057    156.085   \n",
       "2   118.982  136.233  7.09360  0.392923  ...    162.807    156.765    162.807   \n",
       "3   119.097  130.990  5.55968  0.493890  ...    149.021    158.486    159.047   \n",
       "4   121.399  131.920  5.09075  0.463525  ...    151.866    165.214    157.484   \n",
       "\n",
       "   h_hat[44]  h_hat[45]  h_hat[46]  h_hat[47]  h_hat[48]  h_hat[49]  h_hat[50]  \n",
       "0    148.769    151.096    161.935    153.763    161.057    148.291    150.366  \n",
       "1    146.998    153.355    154.375    144.325    148.344    154.985    149.157  \n",
       "2    148.661    174.835    159.883    145.684    166.845    156.999    158.597  \n",
       "3    154.532    145.028    159.649    147.787    154.920    160.543    154.552  \n",
       "4    149.588    154.174    158.854    154.753    153.184    151.693    153.266  \n",
       "\n",
       "[5 rows x 110 columns]"
      ]
     },
     "execution_count": 61,
     "metadata": {},
     "output_type": "execute_result"
    }
   ],
   "source": [
    "df = fit.draws_pd()"
   ]
  },
  {
   "cell_type": "code",
   "execution_count": 62,
   "metadata": {},
   "outputs": [],
   "source": [
    "heights = df.loc[:, 'h_hat[1]':f'h_hat[{N}]'].values"
   ]
  },
  {
   "cell_type": "code",
   "execution_count": 69,
   "metadata": {},
   "outputs": [
    {
     "data": {
      "image/png": "[encoded data removed]",
      "text/plain": [
       "<Figure size 432x288 with 1 Axes>"
      ]
     },
     "metadata": {
      "needs_background": "light"
     },
     "output_type": "display_data"
    }
   ],
   "source": [
    "y = heights.mean(axis=0)\n",
    "x = data_fit['weights']\n",
    "yerr = heights.std(axis=0)\n",
    "\n",
    "plt.errorbar(x, y, yerr)\n",
    "plt.xlabel('Weight')\n",
    "plt.ylabel('Height')\n",
    "plt.title('Height errorbars')\n",
    "plt.show()"
   ]
  },
  {
   "cell_type": "code",
   "execution_count": 70,
   "metadata": {},
   "outputs": [
    {
     "name": "stderr",
     "output_type": "stream",
     "text": [
      "INFO:cmdstanpy:CmdStan start processing\n",
      "chain 1 |\u001b[33m                                                                                                                                                                                     \u001b[0m| 00:00 Status\u001b[0m\n",
      "chain 2 |\u001b[33m                                                                                                                                                                                     \u001b[0m| 00:00 Status\u001b[0m\u001b[A\n",
      "\n",
      "chain 3 |\u001b[33m                                                                                                                                                                                     \u001b[0m| 00:00 Status\u001b[0m\u001b[A\u001b[A\n",
      "\n",
      "\n",
      "chain 4 |\u001b[33m                                                                                                                                                                                     \u001b[0m| 00:00 Status\u001b[0m\u001b[A\u001b[A\u001b[A\n",
      "\n",
      "chain 3 |\u001b[33m████████▏                                                                                                                                                                            \u001b[0m| 00:00 Status\u001b[0m\u001b[A\u001b[A\n",
      "chain 1 |\u001b[33m████████▏                                                                                                                                                                            \u001b[0m| 00:00 Status\u001b[0m\u001b[A\n",
      "\n",
      "\n",
      "chain 4 |\u001b[33m████████▏                                                                                                                                                                            \u001b[0m| 00:00 Status\u001b[0m\u001b[A\u001b[A\u001b[A\n",
      "\n",
      "chain 3 |\u001b[33m████████████████████▏                                                                                                                               \u001b[0m| 00:00 Iteration:  100 / 2000 [  5%]  (Warmup)\u001b[0m\u001b[A\u001b[A\n",
      "chain 1 |\u001b[33m████████████████████▏                                                                                                                               \u001b[0m| 00:00 Iteration:  100 / 2000 [  5%]  (Warmup)\u001b[0m\u001b[A\n",
      "\n",
      "\n",
      "chain 4 |\u001b[33m████████████████████▏                                                                                                                               \u001b[0m| 00:00 Iteration:  100 / 2000 [  5%]  (Warmup)\u001b[0m\u001b[A\u001b[A\u001b[A\n",
      "\n",
      "chain 3 |\u001b[33m███████████████████████████████████████████████                                                                                                     \u001b[0m| 00:00 Iteration:  500 / 2000 [ 25%]  (Warmup)\u001b[0m\u001b[A\u001b[A\n",
      "chain 2 |\u001b[33m███████████████████████████████████████████████                                                                                                     \u001b[0m| 00:00 Iteration:  500 / 2000 [ 25%]  (Warmup)\u001b[0m\u001b[A\n",
      "\n",
      "\n",
      "chain 1 |\u001b[33m███████████████████████████████████████████████                                                                                                     \u001b[0m| 00:00 Iteration:  500 / 2000 [ 25%]  (Warmup)\u001b[0m\u001b[A\u001b[A\u001b[A\n",
      "\n",
      "chain 3 |\u001b[33m██████████████████████████████████████████████████████████████████████████                                                                          \u001b[0m| 00:00 Iteration:  900 / 2000 [ 45%]  (Warmup)\u001b[0m\u001b[A\u001b[A\n",
      "chain 2 |\u001b[33m███████████████████████████████████████████████████████████████████▎                                                                                \u001b[0m| 00:00 Iteration:  800 / 2000 [ 40%]  (Warmup)\u001b[0m\u001b[A\n",
      "\n",
      "\n",
      "chain 1 |\u001b[33m██████████████████████████████████████████████████████████████████████████                                                                          \u001b[0m| 00:00 Iteration:  900 / 2000 [ 45%]  (Warmup)\u001b[0m\u001b[A\u001b[A\u001b[A\n",
      "\n",
      "chain 3 |\u001b[34m████████████████████████████████████████████████████████████████████████████████████████████▉                                                     \u001b[0m| 00:00 Iteration: 1100 / 2000 [ 55%]  (Sampling)\u001b[0m\u001b[A\u001b[A\n",
      "chain 2 |\u001b[34m██████████████████████████████████████████████████████████████████████████████████████▎                                                           \u001b[0m| 00:00 Iteration: 1001 / 2000 [ 50%]  (Sampling)\u001b[0m\u001b[A\n",
      "\n",
      "\n",
      "chain 1 |\u001b[34m████████████████████████████████████████████████████████████████████████████████████████████▉                                                     \u001b[0m| 00:00 Iteration: 1100 / 2000 [ 55%]  (Sampling)\u001b[0m\u001b[A\u001b[A\u001b[A\n",
      "\n",
      "chain 3 |\u001b[34m████████████████████████████████████████████████████████████████████████████████████████████████████████████████▊                                 \u001b[0m| 00:00 Iteration: 1400 / 2000 [ 70%]  (Sampling)\u001b[0m\u001b[A\u001b[A\n",
      "chain 2 |\u001b[34m██████████████████████████████████████████████████████████████████████████████████████████████████████████▏                                       \u001b[0m| 00:00 Iteration: 1300 / 2000 [ 65%]  (Sampling)\u001b[0m\u001b[A\n",
      "\n",
      "\n",
      "chain 1 |\u001b[34m██████████████████████████████████████████████████████████████████████████████████████████████████████████▏                                       \u001b[0m| 00:01 Iteration: 1300 / 2000 [ 65%]  (Sampling)\u001b[0m\u001b[A\u001b[A\u001b[A\n",
      "chain 2 |\u001b[34m███████████████████████████████████████████████████████████████████████████████████████████████████████████████████████▍                          \u001b[0m| 00:01 Iteration: 1500 / 2000 [ 75%]  (Sampling)\u001b[0m\u001b[A\n",
      "\n",
      "\n",
      "chain 4 |\u001b[34m████████████████████████████████████████████████████████████████████████████████████████████████████████████████▊                                 \u001b[0m| 00:01 Iteration: 1400 / 2000 [ 70%]  (Sampling)\u001b[0m\u001b[A\u001b[A\u001b[A\n",
      "\n",
      "chain 1 |\u001b[34m███████████████████████████████████████████████████████████████████████████████████████████████████████████████████████▍                          \u001b[0m| 00:01 Iteration: 1500 / 2000 [ 75%]  (Sampling)\u001b[0m\u001b[A\u001b[A\n",
      "chain 2 |\u001b[34m████████████████████████████████████████████████████████████████████████████████████████████████████████████████████████████████████▋             \u001b[0m| 00:01 Iteration: 1700 / 2000 [ 85%]  (Sampling)\u001b[0m\u001b[A\n",
      "\n",
      "\n",
      "chain 4 |\u001b[34m██████████████████████████████████████████████████████████████████████████████████████████████████████████████████████████████                    \u001b[0m| 00:01 Iteration: 1600 / 2000 [ 80%]  (Sampling)\u001b[0m\u001b[A\u001b[A\u001b[A\n",
      "\n",
      "chain 1 |\u001b[34m████████████████████████████████████████████████████████████████████████████████████████████████████████████████████████████████████▋             \u001b[0m| 00:01 Iteration: 1700 / 2000 [ 85%]  (Sampling)\u001b[0m\u001b[A\u001b[A\n",
      "\n",
      "\n",
      "chain 4 |\u001b[34m███████████████████████████████████████████████████████████████████████████████████████████████████████████████████████████████████████████▎      \u001b[0m| 00:01 Iteration: 1800 / 2000 [ 90%]  (Sampling)\u001b[0m\u001b[A\u001b[A\u001b[A\n",
      "chain 1 |\u001b[34m█████████████████████████████████████████████████████████████████████████████████████████████████████████████████████████████████████████████████████████████████████████\u001b[0m| 00:01 Sampling completed\u001b[0m\u001b[A\n",
      "chain 2 |\u001b[34m█████████████████████████████████████████████████████████████████████████████████████████████████████████████████████████████████████████████████████████████████████████\u001b[0m| 00:01 Sampling completed\u001b[0m\n",
      "chain 3 |\u001b[34m█████████████████████████████████████████████████████████████████████████████████████████████████████████████████████████████████████████████████████████████████████████\u001b[0m| 00:01 Sampling completed\u001b[0m\n",
      "chain 4 |\u001b[34m█████████████████████████████████████████████████████████████████████████████████████████████████████████████████████████████████████████████████████████████████████████\u001b[0m| 00:01 Sampling completed\u001b[0m"
     ]
    },
    {
     "name": "stdout",
     "output_type": "stream",
     "text": [
      "                                                                                                                                                                "
     ]
    },
    {
     "name": "stderr",
     "output_type": "stream",
     "text": [
      "\n"
     ]
    },
    {
     "name": "stdout",
     "output_type": "stream",
     "text": [
      "                                                                                                                                                                "
     ]
    },
    {
     "name": "stderr",
     "output_type": "stream",
     "text": [
      "INFO:cmdstanpy:CmdStan done processing.\n"
     ]
    },
    {
     "name": "stdout",
     "output_type": "stream",
     "text": [
      "\n"
     ]
    },
    {
     "name": "stderr",
     "output_type": "stream",
     "text": [
      "INFO:cmdstanpy:CmdStan start processing\n",
      "chain 1 |\u001b[33m                                                                                                                                                                                     \u001b[0m| 00:00 Status\u001b[0m\n",
      "chain 2 |\u001b[33m                                                                                                                                                                                     \u001b[0m| 00:00 Status\u001b[0m\u001b[A\n",
      "\n",
      "chain 3 |\u001b[33m                                                                                                                                                                                     \u001b[0m| 00:00 Status\u001b[0m\u001b[A\u001b[A\n",
      "\n",
      "\n",
      "chain 1 |\u001b[33m████████▏                                                                                                                                                                            \u001b[0m| 00:00 Status\u001b[0m\u001b[A\u001b[A\u001b[A\n",
      "chain 2 |\u001b[33m████████▏                                                                                                                                                                            \u001b[0m| 00:00 Status\u001b[0m\u001b[A\n",
      "\n",
      "chain 3 |\u001b[33m████████▏                                                                                                                                                                            \u001b[0m| 00:00 Status\u001b[0m\u001b[A\u001b[A\n",
      "\n",
      "\n",
      "chain 1 |\u001b[33m█████████████▍                                                                                                                                      \u001b[0m| 00:00 Iteration:    1 / 2000 [  0%]  (Warmup)\u001b[0m\u001b[A\u001b[A\u001b[A\n",
      "chain 2 |\u001b[33m█████████████▍                                                                                                                                      \u001b[0m| 00:00 Iteration:    1 / 2000 [  0%]  (Warmup)\u001b[0m\u001b[A\n",
      "\n",
      "chain 1 |\u001b[33m████████████████████▏                                                                                                                               \u001b[0m| 00:00 Iteration:  100 / 2000 [  5%]  (Warmup)\u001b[0m\u001b[A\u001b[A\n",
      "\n",
      "\n",
      "chain 4 |\u001b[33m█████████████▍                                                                                                                                      \u001b[0m| 00:00 Iteration:    1 / 2000 [  0%]  (Warmup)\u001b[0m\u001b[A\u001b[A\u001b[A\n",
      "chain 2 |\u001b[33m██████████████████████████▉                                                                                                                         \u001b[0m| 00:00 Iteration:  200 / 2000 [ 10%]  (Warmup)\u001b[0m\u001b[A\n",
      "\n",
      "\n",
      "chain 4 |\u001b[33m████████████████████▏                                                                                                                               \u001b[0m| 00:00 Iteration:  100 / 2000 [  5%]  (Warmup)\u001b[0m\u001b[A\u001b[A\u001b[A\n",
      "\n",
      "chain 3 |\u001b[33m████████████████████▏                                                                                                                               \u001b[0m| 00:00 Iteration:  100 / 2000 [  5%]  (Warmup)\u001b[0m\u001b[A\u001b[A\n",
      "chain 2 |\u001b[33m█████████████████████████████████▋                                                                                                                  \u001b[0m| 00:00 Iteration:  300 / 2000 [ 15%]  (Warmup)\u001b[0m\u001b[A\n",
      "chain 2 |\u001b[33m████████████████████████████████████████▎                                                                                                           \u001b[0m| 00:00 Iteration:  400 / 2000 [ 20%]  (Warmup)\u001b[0m\u001b[A\n",
      "\n",
      "\n",
      "chain 1 |\u001b[33m████████████████████████████████████████▎                                                                                                           \u001b[0m| 00:00 Iteration:  400 / 2000 [ 20%]  (Warmup)\u001b[0m\u001b[A\u001b[A\u001b[A\n",
      "\n",
      "chain 3 |\u001b[33m█████████████████████████████████▋                                                                                                                  \u001b[0m| 00:00 Iteration:  300 / 2000 [ 15%]  (Warmup)\u001b[0m\u001b[A\u001b[A\n",
      "\n",
      "\n",
      "chain 4 |\u001b[33m███████████████████████████████████████████████                                                                                                     \u001b[0m| 00:00 Iteration:  500 / 2000 [ 25%]  (Warmup)\u001b[0m\u001b[A\u001b[A\u001b[A\n",
      "chain 1 |\u001b[33m████████████████████████████████████████████████████████████▌                                                                                       \u001b[0m| 00:00 Iteration:  700 / 2000 [ 35%]  (Warmup)\u001b[0m\u001b[A\n",
      "\n",
      "chain 3 |\u001b[33m███████████████████████████████████████████████                                                                                                     \u001b[0m| 00:00 Iteration:  500 / 2000 [ 25%]  (Warmup)\u001b[0m\u001b[A\u001b[A\n",
      "\n",
      "\n",
      "chain 4 |\u001b[33m████████████████████████████████████████████████████████████▌                                                                                       \u001b[0m| 00:00 Iteration:  700 / 2000 [ 35%]  (Warmup)\u001b[0m\u001b[A\u001b[A\u001b[A\n",
      "chain 1 |\u001b[33m██████████████████████████████████████████████████████████████████████████                                                                          \u001b[0m| 00:01 Iteration:  900 / 2000 [ 45%]  (Warmup)\u001b[0m\u001b[A\n",
      "\n",
      "chain 3 |\u001b[33m████████████████████████████████████████████████████████████▌                                                                                       \u001b[0m| 00:01 Iteration:  700 / 2000 [ 35%]  (Warmup)\u001b[0m\u001b[A\u001b[A\n",
      "chain 1 |\u001b[34m██████████████████████████████████████████████████████████████████████████████████████▎                                                           \u001b[0m| 00:01 Iteration: 1001 / 2000 [ 50%]  (Sampling)\u001b[0m\u001b[A\n",
      "\n",
      "\n",
      "chain 4 |\u001b[34m██████████████████████████████████████████████████████████████████████████████████████▎                                                           \u001b[0m| 00:01 Iteration: 1001 / 2000 [ 50%]  (Sampling)\u001b[0m\u001b[A\u001b[A\u001b[A\n",
      "\n",
      "chain 3 |\u001b[33m██████████████████████████████████████████████████████████████████████████                                                                          \u001b[0m| 00:01 Iteration:  900 / 2000 [ 45%]  (Warmup)\u001b[0m\u001b[A\u001b[A\n",
      "chain 1 |\u001b[34m███████████████████████████████████████████████████████████████████████████████████████████████████▌                                              \u001b[0m| 00:01 Iteration: 1200 / 2000 [ 60%]  (Sampling)\u001b[0m\u001b[A\n",
      "\n",
      "\n",
      "chain 4 |\u001b[34m███████████████████████████████████████████████████████████████████████████████████████████████████▌                                              \u001b[0m| 00:01 Iteration: 1200 / 2000 [ 60%]  (Sampling)\u001b[0m\u001b[A\u001b[A\u001b[A\n",
      "\n",
      "chain 3 |\u001b[34m████████████████████████████████████████████████████████████████████████████████████████████▉                                                     \u001b[0m| 00:01 Iteration: 1100 / 2000 [ 55%]  (Sampling)\u001b[0m\u001b[A\u001b[A\n",
      "\n",
      "\n",
      "chain 4 |\u001b[34m████████████████████████████████████████████████████████████████████████████████████████████████████████████████▊                                 \u001b[0m| 00:01 Iteration: 1400 / 2000 [ 70%]  (Sampling)\u001b[0m\u001b[A\u001b[A\u001b[A\n",
      "\n",
      "chain 1 |\u001b[34m████████████████████████████████████████████████████████████████████████████████████████████████████████████████▊                                 \u001b[0m| 00:01 Iteration: 1400 / 2000 [ 70%]  (Sampling)\u001b[0m\u001b[A\u001b[A\n",
      "chain 2 |\u001b[34m████████████████████████████████████████████████████████████████████████████████████████████████████████████████▊                                 \u001b[0m| 00:01 Iteration: 1400 / 2000 [ 70%]  (Sampling)\u001b[0m\u001b[A\n",
      "\n",
      "chain 3 |\u001b[34m███████████████████████████████████████████████████████████████████████████████████████████████████████████████████████▍                          \u001b[0m| 00:01 Iteration: 1500 / 2000 [ 75%]  (Sampling)\u001b[0m\u001b[A\u001b[A\n",
      "\n",
      "\n",
      "chain 4 |\u001b[34m██████████████████████████████████████████████████████████████████████████████████████████████████████████████████████████████                    \u001b[0m| 00:01 Iteration: 1600 / 2000 [ 80%]  (Sampling)\u001b[0m\u001b[A\u001b[A\u001b[A\n",
      "chain 1 |\u001b[34m██████████████████████████████████████████████████████████████████████████████████████████████████████████████████████████████                    \u001b[0m| 00:01 Iteration: 1600 / 2000 [ 80%]  (Sampling)\u001b[0m\u001b[A\n",
      "\n",
      "chain 3 |\u001b[34m████████████████████████████████████████████████████████████████████████████████████████████████████████████████████████████████████▋             \u001b[0m| 00:01 Iteration: 1700 / 2000 [ 85%]  (Sampling)\u001b[0m\u001b[A\u001b[A\n",
      "\n",
      "\n"
     ]
    },
    {
     "name": "stderr",
     "output_type": "stream",
     "text": [
      "chain 1 |\u001b[34m███████████████████████████████████████████████████████████████████████████████████████████████████████████████████████████████████████████▎      \u001b[0m| 00:02 Iteration: 1800 / 2000 [ 90%]  (Sampling)\u001b[0m\u001b[A\u001b[A\u001b[A\n",
      "chain 2 |\u001b[34m███████████████████████████████████████████████████████████████████████████████████████████████████████████████████████████████████████████▎      \u001b[0m| 00:02 Iteration: 1800 / 2000 [ 90%]  (Sampling)\u001b[0m\u001b[A\n",
      "\n",
      "chain 3 |\u001b[34m██████████████████████████████████████████████████████████████████████████████████████████████████████████████████████████████████████████████████\u001b[0m| 00:02 Iteration: 1900 / 2000 [ 95%]  (Sampling)\u001b[0m\u001b[A\u001b[A\n",
      "chain 1 |\u001b[34m█████████████████████████████████████████████████████████████████████████████████████████████████████████████████████████████████████████████████████████████████████████\u001b[0m| 00:02 Sampling completed\u001b[0m\u001b[A\n",
      "chain 2 |\u001b[34m█████████████████████████████████████████████████████████████████████████████████████████████████████████████████████████████████████████████████████████████████████████\u001b[0m| 00:02 Sampling completed\u001b[0m\n",
      "chain 3 |\u001b[34m█████████████████████████████████████████████████████████████████████████████████████████████████████████████████████████████████████████████████████████████████████████\u001b[0m| 00:02 Sampling completed\u001b[0m\n",
      "chain 4 |\u001b[34m█████████████████████████████████████████████████████████████████████████████████████████████████████████████████████████████████████████████████████████████████████████\u001b[0m| 00:02 Sampling completed\u001b[0m"
     ]
    },
    {
     "name": "stdout",
     "output_type": "stream",
     "text": [
      "                                                                                                                                                                                                                                                                                                                                "
     ]
    },
    {
     "name": "stderr",
     "output_type": "stream",
     "text": [
      "\n",
      "INFO:cmdstanpy:CmdStan done processing.\n"
     ]
    },
    {
     "name": "stdout",
     "output_type": "stream",
     "text": [
      "\n"
     ]
    },
    {
     "name": "stderr",
     "output_type": "stream",
     "text": [
      "INFO:cmdstanpy:CmdStan start processing\n",
      "chain 1 |\u001b[33m                                                                                                                                                                                     \u001b[0m| 00:00 Status\u001b[0m\n",
      "chain 2 |\u001b[33m                                                                                                                                                                                     \u001b[0m| 00:00 Status\u001b[0m\u001b[A\n",
      "\n",
      "chain 3 |\u001b[33m                                                                                                                                                                                     \u001b[0m| 00:00 Status\u001b[0m\u001b[A\u001b[A\n",
      "\n",
      "\n",
      "chain 1 |\u001b[33m████████▏                                                                                                                                                                            \u001b[0m| 00:00 Status\u001b[0m\u001b[A\u001b[A\u001b[A\n",
      "chain 2 |\u001b[33m████████▏                                                                                                                                                                            \u001b[0m| 00:00 Status\u001b[0m\u001b[A\n",
      "\n",
      "chain 3 |\u001b[33m████████▏                                                                                                                                                                            \u001b[0m| 00:00 Status\u001b[0m\u001b[A\u001b[A\n",
      "\n",
      "\n",
      "chain 1 |\u001b[33m█████████████▍                                                                                                                                      \u001b[0m| 00:00 Iteration:    1 / 2000 [  0%]  (Warmup)\u001b[0m\u001b[A\u001b[A\u001b[A\n",
      "chain 1 |\u001b[33m████████████████████▏                                                                                                                               \u001b[0m| 00:00 Iteration:  100 / 2000 [  5%]  (Warmup)\u001b[0m\u001b[A\n",
      "\n",
      "\n",
      "chain 4 |\u001b[33m█████████████▍                                                                                                                                      \u001b[0m| 00:00 Iteration:    1 / 2000 [  0%]  (Warmup)\u001b[0m\u001b[A\u001b[A\u001b[A\n",
      "\n",
      "chain 3 |\u001b[33m█████████████▍                                                                                                                                      \u001b[0m| 00:00 Iteration:    1 / 2000 [  0%]  (Warmup)\u001b[0m\u001b[A\u001b[A\n",
      "chain 1 |\u001b[33m██████████████████████████▉                                                                                                                         \u001b[0m| 00:00 Iteration:  200 / 2000 [ 10%]  (Warmup)\u001b[0m\u001b[A\n",
      "\n",
      "\n",
      "chain 4 |\u001b[33m████████████████████▏                                                                                                                               \u001b[0m| 00:00 Iteration:  100 / 2000 [  5%]  (Warmup)\u001b[0m\u001b[A\u001b[A\u001b[A\n",
      "\n",
      "chain 3 |\u001b[33m████████████████████▏                                                                                                                               \u001b[0m| 00:00 Iteration:  100 / 2000 [  5%]  (Warmup)\u001b[0m\u001b[A\u001b[A\n",
      "chain 1 |\u001b[33m█████████████████████████████████▋                                                                                                                  \u001b[0m| 00:00 Iteration:  300 / 2000 [ 15%]  (Warmup)\u001b[0m\u001b[A\n",
      "\n",
      "\n",
      "chain 4 |\u001b[33m██████████████████████████▉                                                                                                                         \u001b[0m| 00:00 Iteration:  200 / 2000 [ 10%]  (Warmup)\u001b[0m\u001b[A\u001b[A\u001b[A\n",
      "chain 1 |\u001b[33m████████████████████████████████████████▎                                                                                                           \u001b[0m| 00:00 Iteration:  400 / 2000 [ 20%]  (Warmup)\u001b[0m\u001b[A\n",
      "\n",
      "chain 3 |\u001b[33m██████████████████████████▉                                                                                                                         \u001b[0m| 00:00 Iteration:  200 / 2000 [ 10%]  (Warmup)\u001b[0m\u001b[A\u001b[A\n",
      "\n",
      "\n",
      "chain 4 |\u001b[33m█████████████████████████████████▋                                                                                                                  \u001b[0m| 00:00 Iteration:  300 / 2000 [ 15%]  (Warmup)\u001b[0m\u001b[A\u001b[A\u001b[A\n",
      "chain 1 |\u001b[33m███████████████████████████████████████████████                                                                                                     \u001b[0m| 00:00 Iteration:  500 / 2000 [ 25%]  (Warmup)\u001b[0m\u001b[A\n",
      "\n",
      "\n",
      "chain 4 |\u001b[33m████████████████████████████████████████▎                                                                                                           \u001b[0m| 00:01 Iteration:  400 / 2000 [ 20%]  (Warmup)\u001b[0m\u001b[A\u001b[A\u001b[A\n",
      "\n",
      "chain 1 |\u001b[33m█████████████████████████████████████████████████████▊                                                                                              \u001b[0m| 00:01 Iteration:  600 / 2000 [ 30%]  (Warmup)\u001b[0m\u001b[A\u001b[A\n",
      "chain 2 |\u001b[33m███████████████████████████████████████████████                                                                                                     \u001b[0m| 00:01 Iteration:  500 / 2000 [ 25%]  (Warmup)\u001b[0m\u001b[A\n",
      "\n",
      "chain 3 |\u001b[33m███████████████████████████████████████████████                                                                                                     \u001b[0m| 00:01 Iteration:  500 / 2000 [ 25%]  (Warmup)\u001b[0m\u001b[A\u001b[A\n",
      "\n",
      "\n",
      "chain 4 |\u001b[33m███████████████████████████████████████████████                                                                                                     \u001b[0m| 00:01 Iteration:  500 / 2000 [ 25%]  (Warmup)\u001b[0m\u001b[A\u001b[A\u001b[A\n",
      "chain 1 |\u001b[33m███████████████████████████████████████████████████████████████████▎                                                                                \u001b[0m| 00:01 Iteration:  800 / 2000 [ 40%]  (Warmup)\u001b[0m\u001b[A\n",
      "\n",
      "chain 3 |\u001b[33m█████████████████████████████████████████████████████▊                                                                                              \u001b[0m| 00:01 Iteration:  600 / 2000 [ 30%]  (Warmup)\u001b[0m\u001b[A\u001b[A\n",
      "\n",
      "\n",
      "chain 4 |\u001b[33m█████████████████████████████████████████████████████▊                                                                                              \u001b[0m| 00:01 Iteration:  600 / 2000 [ 30%]  (Warmup)\u001b[0m\u001b[A\u001b[A\u001b[A\n",
      "chain 1 |\u001b[33m██████████████████████████████████████████████████████████████████████████                                                                          \u001b[0m| 00:01 Iteration:  900 / 2000 [ 45%]  (Warmup)\u001b[0m\u001b[A\n",
      "\n",
      "\n",
      "chain 4 |\u001b[33m████████████████████████████████████████████████████████████▌                                                                                       \u001b[0m| 00:01 Iteration:  700 / 2000 [ 35%]  (Warmup)\u001b[0m\u001b[A\u001b[A\u001b[A\n",
      "\n",
      "chain 3 |\u001b[33m███████████████████████████████████████████████████████████████████▎                                                                                \u001b[0m| 00:01 Iteration:  800 / 2000 [ 40%]  (Warmup)\u001b[0m\u001b[A\u001b[A\n",
      "chain 2 |\u001b[33m██████████████████████████████████████████████████████████████████████████                                                                          \u001b[0m| 00:01 Iteration:  900 / 2000 [ 45%]  (Warmup)\u001b[0m\u001b[A\n",
      "\n",
      "\n",
      "chain 1 |\u001b[34m██████████████████████████████████████████████████████████████████████████████████████▎                                                           \u001b[0m| 00:01 Iteration: 1001 / 2000 [ 50%]  (Sampling)\u001b[0m\u001b[A\u001b[A\u001b[A\n",
      "\n",
      "chain 3 |\u001b[33m██████████████████████████████████████████████████████████████████████████                                                                          \u001b[0m| 00:01 Iteration:  900 / 2000 [ 45%]  (Warmup)\u001b[0m\u001b[A\u001b[A\n",
      "\n",
      "\n",
      "chain 4 |\u001b[33m██████████████████████████████████████████████████████████████████████████                                                                          \u001b[0m| 00:01 Iteration:  900 / 2000 [ 45%]  (Warmup)\u001b[0m\u001b[A\u001b[A\u001b[A\n",
      "chain 1 |\u001b[34m████████████████████████████████████████████████████████████████████████████████████████████▉                                                     \u001b[0m| 00:01 Iteration: 1100 / 2000 [ 55%]  (Sampling)\u001b[0m\u001b[A\n",
      "\n",
      "\n",
      "chain 4 |\u001b[34m██████████████████████████████████████████████████████████████████████████████████████▎                                                           \u001b[0m| 00:01 Iteration: 1001 / 2000 [ 50%]  (Sampling)\u001b[0m\u001b[A\u001b[A\u001b[A\n",
      "\n"
     ]
    },
    {
     "name": "stderr",
     "output_type": "stream",
     "text": [
      "chain 1 |\u001b[34m███████████████████████████████████████████████████████████████████████████████████████████████████▌                                              \u001b[0m| 00:01 Iteration: 1200 / 2000 [ 60%]  (Sampling)\u001b[0m\u001b[A\u001b[A\n",
      "chain 2 |\u001b[34m████████████████████████████████████████████████████████████████████████████████████████████▉                                                     \u001b[0m| 00:01 Iteration: 1100 / 2000 [ 55%]  (Sampling)\u001b[0m\u001b[A\n",
      "\n",
      "\n",
      "chain 4 |\u001b[34m████████████████████████████████████████████████████████████████████████████████████████████▉                                                     \u001b[0m| 00:01 Iteration: 1100 / 2000 [ 55%]  (Sampling)\u001b[0m\u001b[A\u001b[A\u001b[A\n",
      "\n",
      "chain 1 |\u001b[34m██████████████████████████████████████████████████████████████████████████████████████████████████████████▏                                       \u001b[0m| 00:02 Iteration: 1300 / 2000 [ 65%]  (Sampling)\u001b[0m\u001b[A\u001b[A\n",
      "chain 2 |\u001b[34m███████████████████████████████████████████████████████████████████████████████████████████████████▌                                              \u001b[0m| 00:02 Iteration: 1200 / 2000 [ 60%]  (Sampling)\u001b[0m\u001b[A\n",
      "\n",
      "\n",
      "chain 4 |\u001b[34m███████████████████████████████████████████████████████████████████████████████████████████████████▌                                              \u001b[0m| 00:02 Iteration: 1200 / 2000 [ 60%]  (Sampling)\u001b[0m\u001b[A\u001b[A\u001b[A\n",
      "\n",
      "chain 1 |\u001b[34m████████████████████████████████████████████████████████████████████████████████████████████████████████████████▊                                 \u001b[0m| 00:02 Iteration: 1400 / 2000 [ 70%]  (Sampling)\u001b[0m\u001b[A\u001b[A\n",
      "chain 2 |\u001b[34m██████████████████████████████████████████████████████████████████████████████████████████████████████████▏                                       \u001b[0m| 00:02 Iteration: 1300 / 2000 [ 65%]  (Sampling)\u001b[0m\u001b[A\n",
      "\n",
      "\n",
      "chain 1 |\u001b[34m███████████████████████████████████████████████████████████████████████████████████████████████████████████████████████▍                          \u001b[0m| 00:02 Iteration: 1500 / 2000 [ 75%]  (Sampling)\u001b[0m\u001b[A\u001b[A\u001b[A\n",
      "\n",
      "chain 3 |\u001b[34m██████████████████████████████████████████████████████████████████████████████████████████████████████████▏                                       \u001b[0m| 00:02 Iteration: 1300 / 2000 [ 65%]  (Sampling)\u001b[0m\u001b[A\u001b[A\n",
      "chain 1 |\u001b[34m██████████████████████████████████████████████████████████████████████████████████████████████████████████████████████████████                    \u001b[0m| 00:02 Iteration: 1600 / 2000 [ 80%]  (Sampling)\u001b[0m\u001b[A\n",
      "\n",
      "\n",
      "chain 4 |\u001b[34m████████████████████████████████████████████████████████████████████████████████████████████████████████████████▊                                 \u001b[0m| 00:02 Iteration: 1400 / 2000 [ 70%]  (Sampling)\u001b[0m\u001b[A\u001b[A\u001b[A\n",
      "\n",
      "chain 1 |\u001b[34m████████████████████████████████████████████████████████████████████████████████████████████████████████████████████████████████████▋             \u001b[0m| 00:02 Iteration: 1700 / 2000 [ 85%]  (Sampling)\u001b[0m\u001b[A\u001b[A\n",
      "\n",
      "\n",
      "chain 4 |\u001b[34m███████████████████████████████████████████████████████████████████████████████████████████████████████████████████████▍                          \u001b[0m| 00:02 Iteration: 1500 / 2000 [ 75%]  (Sampling)\u001b[0m\u001b[A\u001b[A\u001b[A\n",
      "chain 2 |\u001b[34m███████████████████████████████████████████████████████████████████████████████████████████████████████████████████████▍                          \u001b[0m| 00:02 Iteration: 1500 / 2000 [ 75%]  (Sampling)\u001b[0m\u001b[A\n",
      "\n",
      "chain 1 |\u001b[34m███████████████████████████████████████████████████████████████████████████████████████████████████████████████████████████████████████████▎      \u001b[0m| 00:02 Iteration: 1800 / 2000 [ 90%]  (Sampling)\u001b[0m\u001b[A\u001b[A\n",
      "\n",
      "\n",
      "chain 4 |\u001b[34m██████████████████████████████████████████████████████████████████████████████████████████████████████████████████████████████                    \u001b[0m| 00:02 Iteration: 1600 / 2000 [ 80%]  (Sampling)\u001b[0m\u001b[A\u001b[A\u001b[A\n",
      "chain 2 |\u001b[34m██████████████████████████████████████████████████████████████████████████████████████████████████████████████████████████████                    \u001b[0m| 00:02 Iteration: 1600 / 2000 [ 80%]  (Sampling)\u001b[0m\u001b[A\n",
      "\n",
      "chain 1 |\u001b[34m██████████████████████████████████████████████████████████████████████████████████████████████████████████████████████████████████████████████████\u001b[0m| 00:03 Iteration: 1900 / 2000 [ 95%]  (Sampling)\u001b[0m\u001b[A\u001b[A\n",
      "\n",
      "\n",
      "chain 4 |\u001b[34m████████████████████████████████████████████████████████████████████████████████████████████████████████████████████████████████████▋             \u001b[0m| 00:03 Iteration: 1700 / 2000 [ 85%]  (Sampling)\u001b[0m\u001b[A\u001b[A\u001b[A\n",
      "chain 2 |\u001b[34m████████████████████████████████████████████████████████████████████████████████████████████████████████████████████████████████████▋             \u001b[0m| 00:03 Iteration: 1700 / 2000 [ 85%]  (Sampling)\u001b[0m\u001b[A\n",
      "\n",
      "chain 3 |\u001b[34m████████████████████████████████████████████████████████████████████████████████████████████████████████████████████████████████████▋             \u001b[0m| 00:03 Iteration: 1700 / 2000 [ 85%]  (Sampling)\u001b[0m\u001b[A\u001b[A\n",
      "\n",
      "\n",
      "chain 4 |\u001b[34m███████████████████████████████████████████████████████████████████████████████████████████████████████████████████████████████████████████▎      \u001b[0m| 00:03 Iteration: 1800 / 2000 [ 90%]  (Sampling)\u001b[0m\u001b[A\u001b[A\u001b[A\n",
      "\n",
      "chain 3 |\u001b[34m███████████████████████████████████████████████████████████████████████████████████████████████████████████████████████████████████████████▎      \u001b[0m| 00:03 Iteration: 1800 / 2000 [ 90%]  (Sampling)\u001b[0m\u001b[A\u001b[A\n",
      "chain 2 |\u001b[34m███████████████████████████████████████████████████████████████████████████████████████████████████████████████████████████████████████████▎      \u001b[0m| 00:03 Iteration: 1800 / 2000 [ 90%]  (Sampling)\u001b[0m\u001b[A\n",
      "\n",
      "\n",
      "chain 4 |\u001b[34m██████████████████████████████████████████████████████████████████████████████████████████████████████████████████████████████████████████████████\u001b[0m| 00:03 Iteration: 1900 / 2000 [ 95%]  (Sampling)\u001b[0m\u001b[A\u001b[A\u001b[A\n",
      "\n",
      "chain 3 |\u001b[34m██████████████████████████████████████████████████████████████████████████████████████████████████████████████████████████████████████████████████\u001b[0m| 00:03 Iteration: 1900 / 2000 [ 95%]  (Sampling)\u001b[0m\u001b[A\u001b[A\n",
      "chain 1 |\u001b[34m█████████████████████████████████████████████████████████████████████████████████████████████████████████████████████████████████████████████████████████████████████████\u001b[0m| 00:03 Sampling completed\u001b[0m\u001b[A\n",
      "chain 2 |\u001b[34m█████████████████████████████████████████████████████████████████████████████████████████████████████████████████████████████████████████████████████████████████████████\u001b[0m| 00:03 Sampling completed\u001b[0m\n",
      "chain 3 |\u001b[34m█████████████████████████████████████████████████████████████████████████████████████████████████████████████████████████████████████████████████████████████████████████\u001b[0m| 00:03 Sampling completed\u001b[0m\n",
      "chain 4 |\u001b[34m█████████████████████████████████████████████████████████████████████████████████████████████████████████████████████████████████████████████████████████████████████████\u001b[0m| 00:03 Sampling completed\u001b[0m"
     ]
    },
    {
     "name": "stdout",
     "output_type": "stream",
     "text": [
      "                                                                                                                                                                "
     ]
    },
    {
     "name": "stderr",
     "output_type": "stream",
     "text": [
      "\n"
     ]
    },
    {
     "name": "stdout",
     "output_type": "stream",
     "text": [
      "                                                                                                                                                                "
     ]
    },
    {
     "name": "stderr",
     "output_type": "stream",
     "text": [
      "INFO:cmdstanpy:CmdStan done processing.\n"
     ]
    },
    {
     "name": "stdout",
     "output_type": "stream",
     "text": [
      "\n"
     ]
    },
    {
     "name": "stderr",
     "output_type": "stream",
     "text": [
      "INFO:cmdstanpy:CmdStan start processing\n",
      "chain 1 |\u001b[33m                                                                                                                                                                                     \u001b[0m| 00:00 Status\u001b[0m\n",
      "chain 2 |\u001b[33m                                                                                                                                                                                     \u001b[0m| 00:00 Status\u001b[0m\u001b[A\n",
      "\n",
      "chain 3 |\u001b[33m                                                                                                                                                                                     \u001b[0m| 00:00 Status\u001b[0m\u001b[A\u001b[A\n",
      "\n",
      "\n",
      "chain 4 |\u001b[33m                                                                                                                                                                                     \u001b[0m| 00:00 Status\u001b[0m\u001b[A\u001b[A\u001b[A\n",
      "chain 1 |\u001b[33m████████▏                                                                                                                                                                            \u001b[0m| 00:00 Status\u001b[0m\u001b[A\n",
      "\n",
      "chain 3 |\u001b[33m████████▏                                                                                                                                                                            \u001b[0m| 00:00 Status\u001b[0m\u001b[A\u001b[A\n",
      "\n",
      "\n",
      "chain 1 |\u001b[33m█████████████▍                                                                                                                                      \u001b[0m| 00:00 Iteration:    1 / 2000 [  0%]  (Warmup)\u001b[0m\u001b[A\u001b[A\u001b[A\n",
      "chain 2 |\u001b[33m█████████████▍                                                                                                                                      \u001b[0m| 00:00 Iteration:    1 / 2000 [  0%]  (Warmup)\u001b[0m\u001b[A\n",
      "\n",
      "\n",
      "chain 4 |\u001b[33m█████████████▍                                                                                                                                      \u001b[0m| 00:00 Iteration:    1 / 2000 [  0%]  (Warmup)\u001b[0m\u001b[A\u001b[A\u001b[A\n",
      "chain 2 |\u001b[33m████████████████████▏                                                                                                                               \u001b[0m| 00:00 Iteration:  100 / 2000 [  5%]  (Warmup)\u001b[0m\u001b[A\n",
      "\n",
      "chain 1 |\u001b[33m████████████████████▏                                                                                                                               \u001b[0m| 00:00 Iteration:  100 / 2000 [  5%]  (Warmup)\u001b[0m\u001b[A\u001b[A\n",
      "chain 1 |\u001b[33m██████████████████████████▉                                                                                                                         \u001b[0m| 00:00 Iteration:  200 / 2000 [ 10%]  (Warmup)\u001b[0m\u001b[A\n",
      "\n",
      "chain 3 |\u001b[33m████████████████████▏                                                                                                                               \u001b[0m| 00:00 Iteration:  100 / 2000 [  5%]  (Warmup)\u001b[0m\u001b[A\u001b[A\n",
      "\n",
      "\n",
      "chain 4 |\u001b[33m████████████████████▏                                                                                                                               \u001b[0m| 00:00 Iteration:  100 / 2000 [  5%]  (Warmup)\u001b[0m\u001b[A\u001b[A\u001b[A\n",
      "chain 1 |\u001b[33m█████████████████████████████████▋                                                                                                                  \u001b[0m| 00:00 Iteration:  300 / 2000 [ 15%]  (Warmup)\u001b[0m\u001b[A\n",
      "\n",
      "chain 3 |\u001b[33m██████████████████████████▉                                                                                                                         \u001b[0m| 00:00 Iteration:  200 / 2000 [ 10%]  (Warmup)\u001b[0m\u001b[A\u001b[A\n",
      "\n",
      "\n",
      "chain 1 |\u001b[33m████████████████████████████████████████▎                                                                                                           \u001b[0m| 00:01 Iteration:  400 / 2000 [ 20%]  (Warmup)\u001b[0m\u001b[A\u001b[A\u001b[A\n",
      "chain 2 |\u001b[33m████████████████████████████████████████▎                                                                                                           \u001b[0m| 00:01 Iteration:  400 / 2000 [ 20%]  (Warmup)\u001b[0m\u001b[A\n",
      "\n",
      "chain 3 |\u001b[33m█████████████████████████████████▋                                                                                                                  \u001b[0m| 00:01 Iteration:  300 / 2000 [ 15%]  (Warmup)\u001b[0m\u001b[A\u001b[A\n",
      "\n",
      "\n",
      "chain 1 |\u001b[33m███████████████████████████████████████████████                                                                                                     \u001b[0m| 00:01 Iteration:  500 / 2000 [ 25%]  (Warmup)\u001b[0m\u001b[A\u001b[A\u001b[A\n",
      "chain 1 |\u001b[33m█████████████████████████████████████████████████████▊                                                                                              \u001b[0m| 00:01 Iteration:  600 / 2000 [ 30%]  (Warmup)\u001b[0m\u001b[A\n",
      "\n",
      "chain 3 |\u001b[33m████████████████████████████████████████▎                                                                                                           \u001b[0m| 00:01 Iteration:  400 / 2000 [ 20%]  (Warmup)\u001b[0m\u001b[A\u001b[A\n",
      "\n",
      "\n",
      "chain 4 |\u001b[33m████████████████████████████████████████▎                                                                                                           \u001b[0m| 00:01 Iteration:  400 / 2000 [ 20%]  (Warmup)\u001b[0m\u001b[A\u001b[A\u001b[A\n",
      "chain 1 |\u001b[33m████████████████████████████████████████████████████████████▌                                                                                       \u001b[0m| 00:01 Iteration:  700 / 2000 [ 35%]  (Warmup)\u001b[0m\u001b[A\n",
      "\n",
      "chain 3 |\u001b[33m███████████████████████████████████████████████                                                                                                     \u001b[0m| 00:01 Iteration:  500 / 2000 [ 25%]  (Warmup)\u001b[0m\u001b[A\u001b[A\n",
      "chain 2 |\u001b[33m████████████████████████████████████████████████████████████▌                                                                                       \u001b[0m| 00:01 Iteration:  700 / 2000 [ 35%]  (Warmup)\u001b[0m\u001b[A\n",
      "\n",
      "\n",
      "chain 1 |\u001b[33m███████████████████████████████████████████████████████████████████▎                                                                                \u001b[0m| 00:01 Iteration:  800 / 2000 [ 40%]  (Warmup)\u001b[0m\u001b[A\u001b[A\u001b[A\n",
      "chain 2 |\u001b[33m███████████████████████████████████████████████████████████████████▎                                                                                \u001b[0m| 00:01 Iteration:  800 / 2000 [ 40%]  (Warmup)\u001b[0m\u001b[A\n",
      "\n",
      "chain 3 |\u001b[33m█████████████████████████████████████████████████████▊                                                                                              \u001b[0m| 00:01 Iteration:  600 / 2000 [ 30%]  (Warmup)\u001b[0m\u001b[A\u001b[A\n",
      "\n",
      "\n",
      "chain 4 |\u001b[33m█████████████████████████████████████████████████████▊                                                                                              \u001b[0m| 00:01 Iteration:  600 / 2000 [ 30%]  (Warmup)\u001b[0m\u001b[A\u001b[A\u001b[A\n",
      "\n",
      "chain 1 |\u001b[33m██████████████████████████████████████████████████████████████████████████                                                                          \u001b[0m| 00:01 Iteration:  900 / 2000 [ 45%]  (Warmup)\u001b[0m\u001b[A\u001b[A\n",
      "chain 2 |\u001b[33m██████████████████████████████████████████████████████████████████████████                                                                          \u001b[0m| 00:01 Iteration:  900 / 2000 [ 45%]  (Warmup)\u001b[0m\u001b[A\n",
      "\n",
      "\n",
      "chain 4 |\u001b[33m████████████████████████████████████████████████████████████▌                                                                                       \u001b[0m| 00:01 Iteration:  700 / 2000 [ 35%]  (Warmup)\u001b[0m\u001b[A\u001b[A\u001b[A\n",
      "\n",
      "chain 3 |\u001b[33m███████████████████████████████████████████████████████████████████▎                                                                                \u001b[0m| 00:01 Iteration:  800 / 2000 [ 40%]  (Warmup)\u001b[0m\u001b[A\u001b[A\n",
      "\n",
      "\n",
      "chain 1 |\u001b[34m██████████████████████████████████████████████████████████████████████████████████████▎                                                           \u001b[0m| 00:02 Iteration: 1001 / 2000 [ 50%]  (Sampling)\u001b[0m\u001b[A\u001b[A\u001b[A\n",
      "chain 2 |\u001b[34m██████████████████████████████████████████████████████████████████████████████████████▎                                                           \u001b[0m| 00:02 Iteration: 1001 / 2000 [ 50%]  (Sampling)\u001b[0m\u001b[A\n",
      "\n",
      "\n"
     ]
    },
    {
     "name": "stderr",
     "output_type": "stream",
     "text": [
      "chain 4 |\u001b[33m██████████████████████████████████████████████████████████████████████████                                                                          \u001b[0m| 00:02 Iteration:  900 / 2000 [ 45%]  (Warmup)\u001b[0m\u001b[A\u001b[A\u001b[A\n",
      "\n",
      "chain 1 |\u001b[34m████████████████████████████████████████████████████████████████████████████████████████████▉                                                     \u001b[0m| 00:02 Iteration: 1100 / 2000 [ 55%]  (Sampling)\u001b[0m\u001b[A\u001b[A\n",
      "chain 2 |\u001b[34m████████████████████████████████████████████████████████████████████████████████████████████▉                                                     \u001b[0m| 00:02 Iteration: 1100 / 2000 [ 55%]  (Sampling)\u001b[0m\u001b[A\n",
      "\n",
      "\n",
      "chain 4 |\u001b[34m██████████████████████████████████████████████████████████████████████████████████████▎                                                           \u001b[0m| 00:02 Iteration: 1001 / 2000 [ 50%]  (Sampling)\u001b[0m\u001b[A\u001b[A\u001b[A\n",
      "\n",
      "chain 1 |\u001b[34m███████████████████████████████████████████████████████████████████████████████████████████████████▌                                              \u001b[0m| 00:02 Iteration: 1200 / 2000 [ 60%]  (Sampling)\u001b[0m\u001b[A\u001b[A\n",
      "chain 2 |\u001b[34m███████████████████████████████████████████████████████████████████████████████████████████████████▌                                              \u001b[0m| 00:02 Iteration: 1200 / 2000 [ 60%]  (Sampling)\u001b[0m\u001b[A\n",
      "\n",
      "\n",
      "chain 4 |\u001b[34m████████████████████████████████████████████████████████████████████████████████████████████▉                                                     \u001b[0m| 00:02 Iteration: 1100 / 2000 [ 55%]  (Sampling)\u001b[0m\u001b[A\u001b[A\u001b[A\n",
      "\n",
      "chain 1 |\u001b[34m██████████████████████████████████████████████████████████████████████████████████████████████████████████▏                                       \u001b[0m| 00:02 Iteration: 1300 / 2000 [ 65%]  (Sampling)\u001b[0m\u001b[A\u001b[A\n",
      "chain 2 |\u001b[34m██████████████████████████████████████████████████████████████████████████████████████████████████████████▏                                       \u001b[0m| 00:02 Iteration: 1300 / 2000 [ 65%]  (Sampling)\u001b[0m\u001b[A\n",
      "\n",
      "\n",
      "chain 4 |\u001b[34m███████████████████████████████████████████████████████████████████████████████████████████████████▌                                              \u001b[0m| 00:02 Iteration: 1200 / 2000 [ 60%]  (Sampling)\u001b[0m\u001b[A\u001b[A\u001b[A\n",
      "chain 2 |\u001b[34m████████████████████████████████████████████████████████████████████████████████████████████████████████████████▊                                 \u001b[0m| 00:03 Iteration: 1400 / 2000 [ 70%]  (Sampling)\u001b[0m\u001b[A\n",
      "\n",
      "chain 1 |\u001b[34m████████████████████████████████████████████████████████████████████████████████████████████████████████████████▊                                 \u001b[0m| 00:03 Iteration: 1400 / 2000 [ 70%]  (Sampling)\u001b[0m\u001b[A\u001b[A\n",
      "\n",
      "\n",
      "chain 1 |\u001b[34m███████████████████████████████████████████████████████████████████████████████████████████████████████████████████████▍                          \u001b[0m| 00:03 Iteration: 1500 / 2000 [ 75%]  (Sampling)\u001b[0m\u001b[A\u001b[A\u001b[A\n",
      "chain 2 |\u001b[34m███████████████████████████████████████████████████████████████████████████████████████████████████████████████████████▍                          \u001b[0m| 00:03 Iteration: 1500 / 2000 [ 75%]  (Sampling)\u001b[0m\u001b[A\n",
      "\n",
      "chain 3 |\u001b[34m██████████████████████████████████████████████████████████████████████████████████████████████████████████▏                                       \u001b[0m| 00:03 Iteration: 1300 / 2000 [ 65%]  (Sampling)\u001b[0m\u001b[A\u001b[A\n",
      "\n",
      "\n",
      "chain 1 |\u001b[34m██████████████████████████████████████████████████████████████████████████████████████████████████████████████████████████████                    \u001b[0m| 00:03 Iteration: 1600 / 2000 [ 80%]  (Sampling)\u001b[0m\u001b[A\u001b[A\u001b[A\n",
      "chain 2 |\u001b[34m██████████████████████████████████████████████████████████████████████████████████████████████████████████████████████████████                    \u001b[0m| 00:03 Iteration: 1600 / 2000 [ 80%]  (Sampling)\u001b[0m\u001b[A\n",
      "\n",
      "chain 3 |\u001b[34m████████████████████████████████████████████████████████████████████████████████████████████████████████████████▊                                 \u001b[0m| 00:03 Iteration: 1400 / 2000 [ 70%]  (Sampling)\u001b[0m\u001b[A\u001b[A\n",
      "\n",
      "\n",
      "chain 4 |\u001b[34m███████████████████████████████████████████████████████████████████████████████████████████████████████████████████████▍                          \u001b[0m| 00:03 Iteration: 1500 / 2000 [ 75%]  (Sampling)\u001b[0m\u001b[A\u001b[A\u001b[A\n",
      "chain 1 |\u001b[34m████████████████████████████████████████████████████████████████████████████████████████████████████████████████████████████████████▋             \u001b[0m| 00:03 Iteration: 1700 / 2000 [ 85%]  (Sampling)\u001b[0m\u001b[A\n",
      "\n",
      "chain 3 |\u001b[34m███████████████████████████████████████████████████████████████████████████████████████████████████████████████████████▍                          \u001b[0m| 00:03 Iteration: 1500 / 2000 [ 75%]  (Sampling)\u001b[0m\u001b[A\u001b[A\n",
      "\n",
      "\n",
      "chain 1 |\u001b[34m███████████████████████████████████████████████████████████████████████████████████████████████████████████████████████████████████████████▎      \u001b[0m| 00:03 Iteration: 1800 / 2000 [ 90%]  (Sampling)\u001b[0m\u001b[A\u001b[A\u001b[A\n",
      "chain 2 |\u001b[34m███████████████████████████████████████████████████████████████████████████████████████████████████████████████████████████████████████████▎      \u001b[0m| 00:04 Iteration: 1800 / 2000 [ 90%]  (Sampling)\u001b[0m\u001b[A\n",
      "\n",
      "chain 3 |\u001b[34m██████████████████████████████████████████████████████████████████████████████████████████████████████████████████████████████                    \u001b[0m| 00:04 Iteration: 1600 / 2000 [ 80%]  (Sampling)\u001b[0m\u001b[A\u001b[A\n",
      "\n",
      "\n",
      "chain 1 |\u001b[34m██████████████████████████████████████████████████████████████████████████████████████████████████████████████████████████████████████████████████\u001b[0m| 00:04 Iteration: 1900 / 2000 [ 95%]  (Sampling)\u001b[0m\u001b[A\u001b[A\u001b[A\n",
      "chain 2 |\u001b[34m██████████████████████████████████████████████████████████████████████████████████████████████████████████████████████████████████████████████████\u001b[0m| 00:04 Iteration: 1900 / 2000 [ 95%]  (Sampling)\u001b[0m\u001b[A\n",
      "\n",
      "chain 3 |\u001b[34m████████████████████████████████████████████████████████████████████████████████████████████████████████████████████████████████████▋             \u001b[0m| 00:04 Iteration: 1700 / 2000 [ 85%]  (Sampling)\u001b[0m\u001b[A\u001b[A\n",
      "\n",
      "\n",
      "chain 4 |\u001b[34m███████████████████████████████████████████████████████████████████████████████████████████████████████████████████████████████████████████▎      \u001b[0m| 00:04 Iteration: 1800 / 2000 [ 90%]  (Sampling)\u001b[0m\u001b[A\u001b[A\u001b[A\n",
      "\n",
      "chain 3 |\u001b[34m███████████████████████████████████████████████████████████████████████████████████████████████████████████████████████████████████████████▎      \u001b[0m| 00:04 Iteration: 1800 / 2000 [ 90%]  (Sampling)\u001b[0m\u001b[A\u001b[A\n",
      "\n",
      "\n",
      "chain 4 |\u001b[34m██████████████████████████████████████████████████████████████████████████████████████████████████████████████████████████████████████████████████\u001b[0m| 00:04 Iteration: 1900 / 2000 [ 95%]  (Sampling)\u001b[0m\u001b[A\u001b[A\u001b[A\n",
      "\n",
      "chain 1 |\u001b[34m█████████████████████████████████████████████████████████████████████████████████████████████████████████████████████████████████████████████████████████████████████████\u001b[0m| 00:04 Sampling completed\u001b[0m\u001b[A\u001b[A\n",
      "chain 2 |\u001b[34m█████████████████████████████████████████████████████████████████████████████████████████████████████████████████████████████████████████████████████████████████████████\u001b[0m| 00:04 Sampling completed\u001b[0m\n",
      "chain 3 |\u001b[34m█████████████████████████████████████████████████████████████████████████████████████████████████████████████████████████████████████████████████████████████████████████\u001b[0m| 00:04 Sampling completed\u001b[0m\n",
      "chain 4 |\u001b[34m█████████████████████████████████████████████████████████████████████████████████████████████████████████████████████████████████████████████████████████████████████████\u001b[0m| 00:04 Sampling completed\u001b[0m"
     ]
    },
    {
     "name": "stdout",
     "output_type": "stream",
     "text": [
      "                                                                                "
     ]
    },
    {
     "name": "stderr",
     "output_type": "stream",
     "text": [
      "\n"
     ]
    },
    {
     "name": "stdout",
     "output_type": "stream",
     "text": [
      "                                                                                                                                                                                                                                                "
     ]
    },
    {
     "name": "stderr",
     "output_type": "stream",
     "text": [
      "INFO:cmdstanpy:CmdStan done processing.\n"
     ]
    },
    {
     "name": "stdout",
     "output_type": "stream",
     "text": [
      "\n"
     ]
    },
    {
     "name": "stderr",
     "output_type": "stream",
     "text": [
      "INFO:cmdstanpy:CmdStan start processing\n",
      "chain 1 |\u001b[33m                                                                                                                                                                                     \u001b[0m| 00:00 Status\u001b[0m\n",
      "chain 2 |\u001b[33m                                                                                                                                                                                     \u001b[0m| 00:00 Status\u001b[0m\u001b[A\n",
      "\n",
      "chain 3 |\u001b[33m                                                                                                                                                                                     \u001b[0m| 00:00 Status\u001b[0m\u001b[A\u001b[A\n",
      "\n",
      "\n",
      "chain 1 |\u001b[33m████████▏                                                                                                                                                                            \u001b[0m| 00:00 Status\u001b[0m\u001b[A\u001b[A\u001b[A\n",
      "chain 2 |\u001b[33m████████▏                                                                                                                                                                            \u001b[0m| 00:00 Status\u001b[0m\u001b[A\n",
      "\n",
      "chain 3 |\u001b[33m████████▏                                                                                                                                                                            \u001b[0m| 00:00 Status\u001b[0m\u001b[A\u001b[A\n",
      "\n",
      "\n",
      "chain 4 |\u001b[33m████████▏                                                                                                                                                                            \u001b[0m| 00:00 Status\u001b[0m\u001b[A\u001b[A\u001b[A\n",
      "chain 1 |\u001b[33m█████████████▍                                                                                                                                      \u001b[0m| 00:00 Iteration:    1 / 2000 [  0%]  (Warmup)\u001b[0m\u001b[A\n",
      "\n",
      "chain 3 |\u001b[33m█████████████▍                                                                                                                                      \u001b[0m| 00:00 Iteration:    1 / 2000 [  0%]  (Warmup)\u001b[0m\u001b[A\u001b[A\n",
      "\n",
      "\n",
      "chain 4 |\u001b[33m█████████████▍                                                                                                                                      \u001b[0m| 00:00 Iteration:    1 / 2000 [  0%]  (Warmup)\u001b[0m\u001b[A\u001b[A\u001b[A\n",
      "chain 1 |\u001b[33m████████████████████▏                                                                                                                               \u001b[0m| 00:00 Iteration:  100 / 2000 [  5%]  (Warmup)\u001b[0m\u001b[A\n",
      "\n",
      "chain 3 |\u001b[33m████████████████████▏                                                                                                                               \u001b[0m| 00:00 Iteration:  100 / 2000 [  5%]  (Warmup)\u001b[0m\u001b[A\u001b[A\n",
      "chain 2 |\u001b[33m██████████████████████████▉                                                                                                                         \u001b[0m| 00:00 Iteration:  200 / 2000 [ 10%]  (Warmup)\u001b[0m\u001b[A\n",
      "\n",
      "\n",
      "chain 1 |\u001b[33m██████████████████████████▉                                                                                                                         \u001b[0m| 00:00 Iteration:  200 / 2000 [ 10%]  (Warmup)\u001b[0m\u001b[A\u001b[A\u001b[A\n",
      "chain 2 |\u001b[33m█████████████████████████████████▋                                                                                                                  \u001b[0m| 00:01 Iteration:  300 / 2000 [ 15%]  (Warmup)\u001b[0m\u001b[A\n",
      "\n",
      "chain 3 |\u001b[33m██████████████████████████▉                                                                                                                         \u001b[0m| 00:01 Iteration:  200 / 2000 [ 10%]  (Warmup)\u001b[0m\u001b[A\u001b[A\n",
      "\n",
      "\n",
      "chain 1 |\u001b[33m█████████████████████████████████▋                                                                                                                  \u001b[0m| 00:01 Iteration:  300 / 2000 [ 15%]  (Warmup)\u001b[0m\u001b[A\u001b[A\u001b[A\n",
      "\n",
      "chain 3 |\u001b[33m█████████████████████████████████▋                                                                                                                  \u001b[0m| 00:01 Iteration:  300 / 2000 [ 15%]  (Warmup)\u001b[0m\u001b[A\u001b[A\n",
      "chain 2 |\u001b[33m████████████████████████████████████████▎                                                                                                           \u001b[0m| 00:01 Iteration:  400 / 2000 [ 20%]  (Warmup)\u001b[0m\u001b[A\n",
      "\n",
      "\n",
      "chain 1 |\u001b[33m████████████████████████████████████████▎                                                                                                           \u001b[0m| 00:01 Iteration:  400 / 2000 [ 20%]  (Warmup)\u001b[0m\u001b[A\u001b[A\u001b[A\n",
      "chain 2 |\u001b[33m███████████████████████████████████████████████                                                                                                     \u001b[0m| 00:01 Iteration:  500 / 2000 [ 25%]  (Warmup)\u001b[0m\u001b[A\n",
      "\n",
      "\n",
      "chain 4 |\u001b[33m████████████████████████████████████████▎                                                                                                           \u001b[0m| 00:01 Iteration:  400 / 2000 [ 20%]  (Warmup)\u001b[0m\u001b[A\u001b[A\u001b[A\n",
      "\n",
      "chain 1 |\u001b[33m███████████████████████████████████████████████                                                                                                     \u001b[0m| 00:01 Iteration:  500 / 2000 [ 25%]  (Warmup)\u001b[0m\u001b[A\u001b[A\n",
      "chain 2 |\u001b[33m█████████████████████████████████████████████████████▊                                                                                              \u001b[0m| 00:01 Iteration:  600 / 2000 [ 30%]  (Warmup)\u001b[0m\u001b[A\n",
      "\n",
      "\n",
      "chain 4 |\u001b[33m███████████████████████████████████████████████                                                                                                     \u001b[0m| 00:01 Iteration:  500 / 2000 [ 25%]  (Warmup)\u001b[0m\u001b[A\u001b[A\u001b[A\n",
      "\n",
      "chain 1 |\u001b[33m█████████████████████████████████████████████████████▊                                                                                              \u001b[0m| 00:01 Iteration:  600 / 2000 [ 30%]  (Warmup)\u001b[0m\u001b[A\u001b[A\n",
      "chain 2 |\u001b[33m████████████████████████████████████████████████████████████▌                                                                                       \u001b[0m| 00:01 Iteration:  700 / 2000 [ 35%]  (Warmup)\u001b[0m\u001b[A\n",
      "\n",
      "\n",
      "chain 4 |\u001b[33m█████████████████████████████████████████████████████▊                                                                                              \u001b[0m| 00:01 Iteration:  600 / 2000 [ 30%]  (Warmup)\u001b[0m\u001b[A\u001b[A\u001b[A\n",
      "\n",
      "chain 3 |\u001b[33m█████████████████████████████████████████████████████▊                                                                                              \u001b[0m| 00:02 Iteration:  600 / 2000 [ 30%]  (Warmup)\u001b[0m\u001b[A\u001b[A\n",
      "chain 1 |\u001b[33m████████████████████████████████████████████████████████████▌                                                                                       \u001b[0m| 00:02 Iteration:  700 / 2000 [ 35%]  (Warmup)\u001b[0m\u001b[A\n",
      "\n",
      "\n",
      "chain 4 |\u001b[33m████████████████████████████████████████████████████████████▌                                                                                       \u001b[0m| 00:02 Iteration:  700 / 2000 [ 35%]  (Warmup)\u001b[0m\u001b[A\u001b[A\u001b[A\n",
      "\n",
      "chain 1 |\u001b[33m███████████████████████████████████████████████████████████████████▎                                                                                \u001b[0m| 00:02 Iteration:  800 / 2000 [ 40%]  (Warmup)\u001b[0m\u001b[A\u001b[A\n",
      "chain 2 |\u001b[33m██████████████████████████████████████████████████████████████████████████                                                                          \u001b[0m| 00:02 Iteration:  900 / 2000 [ 45%]  (Warmup)\u001b[0m\u001b[A\n",
      "\n",
      "\n",
      "chain 4 |\u001b[33m███████████████████████████████████████████████████████████████████▎                                                                                \u001b[0m| 00:02 Iteration:  800 / 2000 [ 40%]  (Warmup)\u001b[0m\u001b[A\u001b[A\u001b[A\n",
      "\n",
      "chain 1 |\u001b[33m██████████████████████████████████████████████████████████████████████████                                                                          \u001b[0m| 00:02 Iteration:  900 / 2000 [ 45%]  (Warmup)\u001b[0m\u001b[A\u001b[A\n",
      "\n",
      "\n",
      "chain 4 |\u001b[33m██████████████████████████████████████████████████████████████████████████                                                                          \u001b[0m| 00:02 Iteration:  900 / 2000 [ 45%]  (Warmup)\u001b[0m\u001b[A\u001b[A\u001b[A\n",
      "\n"
     ]
    },
    {
     "name": "stderr",
     "output_type": "stream",
     "text": [
      "chain 3 |\u001b[33m██████████████████████████████████████████████████████████████████████████                                                                          \u001b[0m| 00:02 Iteration:  900 / 2000 [ 45%]  (Warmup)\u001b[0m\u001b[A\u001b[A\n",
      "chain 1 |\u001b[34m██████████████████████████████████████████████████████████████████████████████████████▎                                                           \u001b[0m| 00:02 Iteration: 1001 / 2000 [ 50%]  (Sampling)\u001b[0m\u001b[A\n",
      "\n",
      "\n",
      "chain 4 |\u001b[34m██████████████████████████████████████████████████████████████████████████████████████▎                                                           \u001b[0m| 00:02 Iteration: 1001 / 2000 [ 50%]  (Sampling)\u001b[0m\u001b[A\u001b[A\u001b[A\n",
      "\n",
      "chain 3 |\u001b[34m██████████████████████████████████████████████████████████████████████████████████████▎                                                           \u001b[0m| 00:02 Iteration: 1001 / 2000 [ 50%]  (Sampling)\u001b[0m\u001b[A\u001b[A\n",
      "chain 1 |\u001b[34m████████████████████████████████████████████████████████████████████████████████████████████▉                                                     \u001b[0m| 00:03 Iteration: 1100 / 2000 [ 55%]  (Sampling)\u001b[0m\u001b[A\n",
      "\n",
      "\n",
      "chain 4 |\u001b[34m████████████████████████████████████████████████████████████████████████████████████████████▉                                                     \u001b[0m| 00:03 Iteration: 1100 / 2000 [ 55%]  (Sampling)\u001b[0m\u001b[A\u001b[A\u001b[A\n",
      "\n",
      "chain 3 |\u001b[34m████████████████████████████████████████████████████████████████████████████████████████████▉                                                     \u001b[0m| 00:03 Iteration: 1100 / 2000 [ 55%]  (Sampling)\u001b[0m\u001b[A\u001b[A\n",
      "chain 1 |\u001b[34m███████████████████████████████████████████████████████████████████████████████████████████████████▌                                              \u001b[0m| 00:03 Iteration: 1200 / 2000 [ 60%]  (Sampling)\u001b[0m\u001b[A\n",
      "\n",
      "\n",
      "chain 4 |\u001b[34m███████████████████████████████████████████████████████████████████████████████████████████████████▌                                              \u001b[0m| 00:03 Iteration: 1200 / 2000 [ 60%]  (Sampling)\u001b[0m\u001b[A\u001b[A\u001b[A\n",
      "\n",
      "chain 3 |\u001b[34m███████████████████████████████████████████████████████████████████████████████████████████████████▌                                              \u001b[0m| 00:03 Iteration: 1200 / 2000 [ 60%]  (Sampling)\u001b[0m\u001b[A\u001b[A\n",
      "chain 1 |\u001b[34m██████████████████████████████████████████████████████████████████████████████████████████████████████████▏                                       \u001b[0m| 00:03 Iteration: 1300 / 2000 [ 65%]  (Sampling)\u001b[0m\u001b[A\n",
      "\n",
      "\n",
      "chain 4 |\u001b[34m██████████████████████████████████████████████████████████████████████████████████████████████████████████▏                                       \u001b[0m| 00:03 Iteration: 1300 / 2000 [ 65%]  (Sampling)\u001b[0m\u001b[A\u001b[A\u001b[A\n",
      "\n",
      "chain 3 |\u001b[34m██████████████████████████████████████████████████████████████████████████████████████████████████████████▏                                       \u001b[0m| 00:03 Iteration: 1300 / 2000 [ 65%]  (Sampling)\u001b[0m\u001b[A\u001b[A\n",
      "chain 2 |\u001b[34m████████████████████████████████████████████████████████████████████████████████████████████████████████████████▊                                 \u001b[0m| 00:04 Iteration: 1400 / 2000 [ 70%]  (Sampling)\u001b[0m\u001b[A\n",
      "\n",
      "\n",
      "chain 1 |\u001b[34m████████████████████████████████████████████████████████████████████████████████████████████████████████████████▊                                 \u001b[0m| 00:04 Iteration: 1400 / 2000 [ 70%]  (Sampling)\u001b[0m\u001b[A\u001b[A\u001b[A\n",
      "\n",
      "chain 3 |\u001b[34m████████████████████████████████████████████████████████████████████████████████████████████████████████████████▊                                 \u001b[0m| 00:04 Iteration: 1400 / 2000 [ 70%]  (Sampling)\u001b[0m\u001b[A\u001b[A\n",
      "chain 2 |\u001b[34m███████████████████████████████████████████████████████████████████████████████████████████████████████████████████████▍                          \u001b[0m| 00:04 Iteration: 1500 / 2000 [ 75%]  (Sampling)\u001b[0m\u001b[A\n",
      "\n",
      "\n",
      "chain 1 |\u001b[34m███████████████████████████████████████████████████████████████████████████████████████████████████████████████████████▍                          \u001b[0m| 00:04 Iteration: 1500 / 2000 [ 75%]  (Sampling)\u001b[0m\u001b[A\u001b[A\u001b[A\n",
      "\n",
      "chain 3 |\u001b[34m███████████████████████████████████████████████████████████████████████████████████████████████████████████████████████▍                          \u001b[0m| 00:04 Iteration: 1500 / 2000 [ 75%]  (Sampling)\u001b[0m\u001b[A\u001b[A\n",
      "chain 2 |\u001b[34m██████████████████████████████████████████████████████████████████████████████████████████████████████████████████████████████                    \u001b[0m| 00:04 Iteration: 1600 / 2000 [ 80%]  (Sampling)\u001b[0m\u001b[A\n",
      "\n",
      "\n",
      "chain 1 |\u001b[34m██████████████████████████████████████████████████████████████████████████████████████████████████████████████████████████████                    \u001b[0m| 00:04 Iteration: 1600 / 2000 [ 80%]  (Sampling)\u001b[0m\u001b[A\u001b[A\u001b[A\n",
      "\n",
      "chain 3 |\u001b[34m██████████████████████████████████████████████████████████████████████████████████████████████████████████████████████████████                    \u001b[0m| 00:04 Iteration: 1600 / 2000 [ 80%]  (Sampling)\u001b[0m\u001b[A\u001b[A\n",
      "chain 2 |\u001b[34m████████████████████████████████████████████████████████████████████████████████████████████████████████████████████████████████████▋             \u001b[0m| 00:05 Iteration: 1700 / 2000 [ 85%]  (Sampling)\u001b[0m\u001b[A\n",
      "\n",
      "\n",
      "chain 1 |\u001b[34m████████████████████████████████████████████████████████████████████████████████████████████████████████████████████████████████████▋             \u001b[0m| 00:05 Iteration: 1700 / 2000 [ 85%]  (Sampling)\u001b[0m\u001b[A\u001b[A\u001b[A\n",
      "\n",
      "chain 3 |\u001b[34m████████████████████████████████████████████████████████████████████████████████████████████████████████████████████████████████████▋             \u001b[0m| 00:05 Iteration: 1700 / 2000 [ 85%]  (Sampling)\u001b[0m\u001b[A\u001b[A\n",
      "chain 2 |\u001b[34m███████████████████████████████████████████████████████████████████████████████████████████████████████████████████████████████████████████▎      \u001b[0m| 00:05 Iteration: 1800 / 2000 [ 90%]  (Sampling)\u001b[0m\u001b[A\n",
      "\n",
      "\n",
      "chain 1 |\u001b[34m███████████████████████████████████████████████████████████████████████████████████████████████████████████████████████████████████████████▎      \u001b[0m| 00:05 Iteration: 1800 / 2000 [ 90%]  (Sampling)\u001b[0m\u001b[A\u001b[A\u001b[A\n",
      "\n",
      "chain 3 |\u001b[34m███████████████████████████████████████████████████████████████████████████████████████████████████████████████████████████████████████████▎      \u001b[0m| 00:05 Iteration: 1800 / 2000 [ 90%]  (Sampling)\u001b[0m\u001b[A\u001b[A\n",
      "chain 2 |\u001b[34m██████████████████████████████████████████████████████████████████████████████████████████████████████████████████████████████████████████████████\u001b[0m| 00:05 Iteration: 1900 / 2000 [ 95%]  (Sampling)\u001b[0m\u001b[A\n",
      "\n",
      "\n",
      "chain 1 |\u001b[34m██████████████████████████████████████████████████████████████████████████████████████████████████████████████████████████████████████████████████\u001b[0m| 00:05 Iteration: 1900 / 2000 [ 95%]  (Sampling)\u001b[0m\u001b[A\u001b[A\u001b[A\n",
      "\n",
      "chain 1 |\u001b[34m█████████████████████████████████████████████████████████████████████████████████████████████████████████████████████████████████████████████████████████████████████████\u001b[0m| 00:06 Sampling completed\u001b[0m\u001b[A\u001b[A\n",
      "chain 2 |\u001b[34m█████████████████████████████████████████████████████████████████████████████████████████████████████████████████████████████████████████████████████████████████████████\u001b[0m| 00:06 Sampling completed\u001b[0m\n",
      "chain 3 |\u001b[34m█████████████████████████████████████████████████████████████████████████████████████████████████████████████████████████████████████████████████████████████████████████\u001b[0m| 00:05 Sampling completed\u001b[0m\n",
      "chain 4 |\u001b[34m█████████████████████████████████████████████████████████████████████████████████████████████████████████████████████████████████████████████████████████████████████████\u001b[0m| 00:05 Sampling completed\u001b[0m"
     ]
    },
    {
     "name": "stdout",
     "output_type": "stream",
     "text": [
      "                                                                                "
     ]
    },
    {
     "name": "stderr",
     "output_type": "stream",
     "text": [
      "\n"
     ]
    },
    {
     "name": "stdout",
     "output_type": "stream",
     "text": [
      "                                                                                                                                                                                                                                                "
     ]
    },
    {
     "name": "stderr",
     "output_type": "stream",
     "text": [
      "INFO:cmdstanpy:CmdStan done processing.\n"
     ]
    },
    {
     "name": "stdout",
     "output_type": "stream",
     "text": [
      "\n"
     ]
    },
    {
     "name": "stderr",
     "output_type": "stream",
     "text": [
      "INFO:cmdstanpy:CmdStan start processing\n",
      "chain 1 |\u001b[33m                                                                                                                                                                                     \u001b[0m| 00:00 Status\u001b[0m\n",
      "chain 2 |\u001b[33m                                                                                                                                                                                     \u001b[0m| 00:00 Status\u001b[0m\u001b[A\n",
      "\n",
      "chain 3 |\u001b[33m                                                                                                                                                                                     \u001b[0m| 00:00 Status\u001b[0m\u001b[A\u001b[A\n",
      "\n",
      "\n",
      "chain 4 |\u001b[33m                                                                                                                                                                                     \u001b[0m| 00:00 Status\u001b[0m\u001b[A\u001b[A\u001b[A\n",
      "\n",
      "chain 1 |\u001b[33m████████▏                                                                                                                                                                            \u001b[0m| 00:00 Status\u001b[0m\u001b[A\u001b[A\n",
      "chain 2 |\u001b[33m████████▏                                                                                                                                                                            \u001b[0m| 00:00 Status\u001b[0m\u001b[A\n",
      "\n",
      "\n",
      "chain 4 |\u001b[33m████████▏                                                                                                                                                                            \u001b[0m| 00:00 Status\u001b[0m\u001b[A\u001b[A\u001b[A\n",
      "chain 1 |\u001b[33m█████████████▍                                                                                                                                      \u001b[0m| 00:00 Iteration:    1 / 2000 [  0%]  (Warmup)\u001b[0m\u001b[A\n",
      "\n",
      "\n",
      "chain 4 |\u001b[33m█████████████▍                                                                                                                                      \u001b[0m| 00:00 Iteration:    1 / 2000 [  0%]  (Warmup)\u001b[0m\u001b[A\u001b[A\u001b[A\n",
      "\n",
      "chain 3 |\u001b[33m█████████████▍                                                                                                                                      \u001b[0m| 00:00 Iteration:    1 / 2000 [  0%]  (Warmup)\u001b[0m\u001b[A\u001b[A\n",
      "chain 2 |\u001b[33m████████████████████▏                                                                                                                               \u001b[0m| 00:00 Iteration:  100 / 2000 [  5%]  (Warmup)\u001b[0m\u001b[A\n",
      "\n",
      "\n",
      "chain 1 |\u001b[33m████████████████████▏                                                                                                                               \u001b[0m| 00:01 Iteration:  100 / 2000 [  5%]  (Warmup)\u001b[0m\u001b[A\u001b[A\u001b[A\n",
      "\n",
      "chain 3 |\u001b[33m████████████████████▏                                                                                                                               \u001b[0m| 00:01 Iteration:  100 / 2000 [  5%]  (Warmup)\u001b[0m\u001b[A\u001b[A\n",
      "chain 1 |\u001b[33m██████████████████████████▉                                                                                                                         \u001b[0m| 00:01 Iteration:  200 / 2000 [ 10%]  (Warmup)\u001b[0m\u001b[A\n",
      "\n",
      "\n",
      "chain 4 |\u001b[33m██████████████████████████▉                                                                                                                         \u001b[0m| 00:01 Iteration:  200 / 2000 [ 10%]  (Warmup)\u001b[0m\u001b[A\u001b[A\u001b[A\n",
      "chain 2 |\u001b[33m█████████████████████████████████▋                                                                                                                  \u001b[0m| 00:01 Iteration:  300 / 2000 [ 15%]  (Warmup)\u001b[0m\u001b[A\n",
      "\n",
      "chain 1 |\u001b[33m█████████████████████████████████▋                                                                                                                  \u001b[0m| 00:01 Iteration:  300 / 2000 [ 15%]  (Warmup)\u001b[0m\u001b[A\u001b[A\n",
      "\n",
      "\n",
      "chain 4 |\u001b[33m█████████████████████████████████▋                                                                                                                  \u001b[0m| 00:01 Iteration:  300 / 2000 [ 15%]  (Warmup)\u001b[0m\u001b[A\u001b[A\u001b[A\n",
      "chain 2 |\u001b[33m████████████████████████████████████████▎                                                                                                           \u001b[0m| 00:02 Iteration:  400 / 2000 [ 20%]  (Warmup)\u001b[0m\u001b[A\n",
      "\n",
      "chain 1 |\u001b[33m████████████████████████████████████████▎                                                                                                           \u001b[0m| 00:02 Iteration:  400 / 2000 [ 20%]  (Warmup)\u001b[0m\u001b[A\u001b[A\n",
      "\n",
      "\n",
      "chain 4 |\u001b[33m████████████████████████████████████████▎                                                                                                           \u001b[0m| 00:02 Iteration:  400 / 2000 [ 20%]  (Warmup)\u001b[0m\u001b[A\u001b[A\u001b[A\n",
      "chain 2 |\u001b[33m███████████████████████████████████████████████                                                                                                     \u001b[0m| 00:02 Iteration:  500 / 2000 [ 25%]  (Warmup)\u001b[0m\u001b[A\n",
      "\n",
      "chain 1 |\u001b[33m███████████████████████████████████████████████                                                                                                     \u001b[0m| 00:02 Iteration:  500 / 2000 [ 25%]  (Warmup)\u001b[0m\u001b[A\u001b[A\n",
      "chain 2 |\u001b[33m█████████████████████████████████████████████████████▊                                                                                              \u001b[0m| 00:02 Iteration:  600 / 2000 [ 30%]  (Warmup)\u001b[0m\u001b[A\n",
      "\n",
      "\n",
      "chain 1 |\u001b[33m█████████████████████████████████████████████████████▊                                                                                              \u001b[0m| 00:02 Iteration:  600 / 2000 [ 30%]  (Warmup)\u001b[0m\u001b[A\u001b[A\u001b[A\n",
      "\n",
      "chain 3 |\u001b[33m███████████████████████████████████████████████                                                                                                     \u001b[0m| 00:03 Iteration:  500 / 2000 [ 25%]  (Warmup)\u001b[0m\u001b[A\u001b[A\n",
      "\n",
      "\n",
      "chain 4 |\u001b[33m█████████████████████████████████████████████████████▊                                                                                              \u001b[0m| 00:03 Iteration:  600 / 2000 [ 30%]  (Warmup)\u001b[0m\u001b[A\u001b[A\u001b[A\n",
      "chain 1 |\u001b[33m████████████████████████████████████████████████████████████▌                                                                                       \u001b[0m| 00:03 Iteration:  700 / 2000 [ 35%]  (Warmup)\u001b[0m\u001b[A\n",
      "\n",
      "chain 3 |\u001b[33m█████████████████████████████████████████████████████▊                                                                                              \u001b[0m| 00:03 Iteration:  600 / 2000 [ 30%]  (Warmup)\u001b[0m\u001b[A\u001b[A\n",
      "chain 2 |\u001b[33m███████████████████████████████████████████████████████████████████▎                                                                                \u001b[0m| 00:03 Iteration:  800 / 2000 [ 40%]  (Warmup)\u001b[0m\u001b[A\n",
      "\n",
      "\n",
      "chain 1 |\u001b[33m███████████████████████████████████████████████████████████████████▎                                                                                \u001b[0m| 00:03 Iteration:  800 / 2000 [ 40%]  (Warmup)\u001b[0m\u001b[A\u001b[A\u001b[A\n",
      "\n",
      "\n",
      "chain 4 |\u001b[33m███████████████████████████████████████████████████████████████████▎                                                                                \u001b[0m| 00:03 Iteration:  800 / 2000 [ 40%]  (Warmup)\u001b[0m\u001b[A\u001b[A\u001b[A\n",
      "\n",
      "chain 3 |\u001b[33m████████████████████████████████████████████████████████████▌                                                                                       \u001b[0m| 00:03 Iteration:  700 / 2000 [ 35%]  (Warmup)\u001b[0m\u001b[A\u001b[A\n",
      "chain 1 |\u001b[33m██████████████████████████████████████████████████████████████████████████                                                                          \u001b[0m| 00:04 Iteration:  900 / 2000 [ 45%]  (Warmup)\u001b[0m\u001b[A\n",
      "\n",
      "\n",
      "chain 4 |\u001b[33m██████████████████████████████████████████████████████████████████████████                                                                          \u001b[0m| 00:04 Iteration:  900 / 2000 [ 45%]  (Warmup)\u001b[0m\u001b[A\u001b[A\u001b[A\n",
      "\n",
      "chain 3 |\u001b[33m███████████████████████████████████████████████████████████████████▎                                                                                \u001b[0m| 00:04 Iteration:  800 / 2000 [ 40%]  (Warmup)\u001b[0m\u001b[A\u001b[A\n"
     ]
    },
    {
     "name": "stderr",
     "output_type": "stream",
     "text": [
      "chain 2 |\u001b[34m██████████████████████████████████████████████████████████████████████████████████████▎                                                           \u001b[0m| 00:04 Iteration: 1001 / 2000 [ 50%]  (Sampling)\u001b[0m\u001b[A\n",
      "\n",
      "chain 1 |\u001b[34m██████████████████████████████████████████████████████████████████████████████████████▎                                                           \u001b[0m| 00:04 Iteration: 1001 / 2000 [ 50%]  (Sampling)\u001b[0m\u001b[A\u001b[A\n",
      "\n",
      "\n",
      "chain 4 |\u001b[34m██████████████████████████████████████████████████████████████████████████████████████▎                                                           \u001b[0m| 00:04 Iteration: 1001 / 2000 [ 50%]  (Sampling)\u001b[0m\u001b[A\u001b[A\u001b[A\n",
      "chain 2 |\u001b[34m████████████████████████████████████████████████████████████████████████████████████████████▉                                                     \u001b[0m| 00:05 Iteration: 1100 / 2000 [ 55%]  (Sampling)\u001b[0m\u001b[A\n",
      "\n",
      "chain 1 |\u001b[34m████████████████████████████████████████████████████████████████████████████████████████████▉                                                     \u001b[0m| 00:05 Iteration: 1100 / 2000 [ 55%]  (Sampling)\u001b[0m\u001b[A\u001b[A\n",
      "\n",
      "\n",
      "chain 4 |\u001b[34m████████████████████████████████████████████████████████████████████████████████████████████▉                                                     \u001b[0m| 00:05 Iteration: 1100 / 2000 [ 55%]  (Sampling)\u001b[0m\u001b[A\u001b[A\u001b[A\n",
      "chain 2 |\u001b[34m███████████████████████████████████████████████████████████████████████████████████████████████████▌                                              \u001b[0m| 00:05 Iteration: 1200 / 2000 [ 60%]  (Sampling)\u001b[0m\u001b[A\n",
      "\n",
      "chain 1 |\u001b[34m███████████████████████████████████████████████████████████████████████████████████████████████████▌                                              \u001b[0m| 00:06 Iteration: 1200 / 2000 [ 60%]  (Sampling)\u001b[0m\u001b[A\u001b[A\n",
      "\n",
      "\n",
      "chain 4 |\u001b[34m███████████████████████████████████████████████████████████████████████████████████████████████████▌                                              \u001b[0m| 00:06 Iteration: 1200 / 2000 [ 60%]  (Sampling)\u001b[0m\u001b[A\u001b[A\u001b[A\n",
      "chain 2 |\u001b[34m██████████████████████████████████████████████████████████████████████████████████████████████████████████▏                                       \u001b[0m| 00:06 Iteration: 1300 / 2000 [ 65%]  (Sampling)\u001b[0m\u001b[A\n",
      "\n",
      "chain 1 |\u001b[34m██████████████████████████████████████████████████████████████████████████████████████████████████████████▏                                       \u001b[0m| 00:07 Iteration: 1300 / 2000 [ 65%]  (Sampling)\u001b[0m\u001b[A\u001b[A\n",
      "\n",
      "\n",
      "chain 4 |\u001b[34m██████████████████████████████████████████████████████████████████████████████████████████████████████████▏                                       \u001b[0m| 00:07 Iteration: 1300 / 2000 [ 65%]  (Sampling)\u001b[0m\u001b[A\u001b[A\u001b[A\n",
      "chain 2 |\u001b[34m████████████████████████████████████████████████████████████████████████████████████████████████████████████████▊                                 \u001b[0m| 00:07 Iteration: 1400 / 2000 [ 70%]  (Sampling)\u001b[0m\u001b[A\n",
      "\n",
      "chain 1 |\u001b[34m████████████████████████████████████████████████████████████████████████████████████████████████████████████████▊                                 \u001b[0m| 00:07 Iteration: 1400 / 2000 [ 70%]  (Sampling)\u001b[0m\u001b[A\u001b[A\n",
      "\n",
      "\n",
      "chain 4 |\u001b[34m████████████████████████████████████████████████████████████████████████████████████████████████████████████████▊                                 \u001b[0m| 00:07 Iteration: 1400 / 2000 [ 70%]  (Sampling)\u001b[0m\u001b[A\u001b[A\u001b[A\n",
      "chain 2 |\u001b[34m███████████████████████████████████████████████████████████████████████████████████████████████████████████████████████▍                          \u001b[0m| 00:08 Iteration: 1500 / 2000 [ 75%]  (Sampling)\u001b[0m\u001b[A\n",
      "\n",
      "chain 1 |\u001b[34m███████████████████████████████████████████████████████████████████████████████████████████████████████████████████████▍                          \u001b[0m| 00:08 Iteration: 1500 / 2000 [ 75%]  (Sampling)\u001b[0m\u001b[A\u001b[A\n",
      "\n",
      "\n",
      "chain 4 |\u001b[34m███████████████████████████████████████████████████████████████████████████████████████████████████████████████████████▍                          \u001b[0m| 00:08 Iteration: 1500 / 2000 [ 75%]  (Sampling)\u001b[0m\u001b[A\u001b[A\u001b[A\n",
      "chain 2 |\u001b[34m██████████████████████████████████████████████████████████████████████████████████████████████████████████████████████████████                    \u001b[0m| 00:08 Iteration: 1600 / 2000 [ 80%]  (Sampling)\u001b[0m\u001b[A\n",
      "\n",
      "chain 1 |\u001b[34m██████████████████████████████████████████████████████████████████████████████████████████████████████████████████████████████                    \u001b[0m| 00:09 Iteration: 1600 / 2000 [ 80%]  (Sampling)\u001b[0m\u001b[A\u001b[A\n",
      "\n",
      "\n",
      "chain 4 |\u001b[34m██████████████████████████████████████████████████████████████████████████████████████████████████████████████████████████████                    \u001b[0m| 00:09 Iteration: 1600 / 2000 [ 80%]  (Sampling)\u001b[0m\u001b[A\u001b[A\u001b[A\n",
      "chain 2 |\u001b[34m████████████████████████████████████████████████████████████████████████████████████████████████████████████████████████████████████▋             \u001b[0m| 00:09 Iteration: 1700 / 2000 [ 85%]  (Sampling)\u001b[0m\u001b[A\n",
      "\n",
      "chain 3 |\u001b[34m██████████████████████████████████████████████████████████████████████████████████████████████████████████████████████████████                    \u001b[0m| 00:09 Iteration: 1600 / 2000 [ 80%]  (Sampling)\u001b[0m\u001b[A\u001b[A\n",
      "\n",
      "\n",
      "chain 1 |\u001b[34m████████████████████████████████████████████████████████████████████████████████████████████████████████████████████████████████████▋             \u001b[0m| 00:09 Iteration: 1700 / 2000 [ 85%]  (Sampling)\u001b[0m\u001b[A\u001b[A\u001b[A\n",
      "chain 1 |\u001b[34m███████████████████████████████████████████████████████████████████████████████████████████████████████████████████████████████████████████▎      \u001b[0m| 00:10 Iteration: 1800 / 2000 [ 90%]  (Sampling)\u001b[0m\u001b[A\n",
      "chain 2 |\u001b[34m██████████████████████████████████████████████████████████████████████████████████████████████████████████████████████████████████████████████████\u001b[0m| 00:10 Iteration: 1900 / 2000 [ 95%]  (Sampling)\u001b[0m\u001b[A\n",
      "\n",
      "\n",
      "chain 4 |\u001b[34m███████████████████████████████████████████████████████████████████████████████████████████████████████████████████████████████████████████▎      \u001b[0m| 00:10 Iteration: 1800 / 2000 [ 90%]  (Sampling)\u001b[0m\u001b[A\u001b[A\u001b[A\n",
      "\n",
      "chain 1 |\u001b[34m██████████████████████████████████████████████████████████████████████████████████████████████████████████████████████████████████████████████████\u001b[0m| 00:11 Iteration: 1900 / 2000 [ 95%]  (Sampling)\u001b[0m\u001b[A\u001b[A\n",
      "\n",
      "\n",
      "chain 4 |\u001b[34m██████████████████████████████████████████████████████████████████████████████████████████████████████████████████████████████████████████████████\u001b[0m| 00:11 Iteration: 1900 / 2000 [ 95%]  (Sampling)\u001b[0m\u001b[A\u001b[A\u001b[A\n",
      "\n",
      "chain 3 |\u001b[34m███████████████████████████████████████████████████████████████████████████████████████████████████████████████████████████████████████████▎      \u001b[0m| 00:11 Iteration: 1800 / 2000 [ 90%]  (Sampling)\u001b[0m\u001b[A\u001b[A\n",
      "\n",
      "chain 1 |\u001b[34m█████████████████████████████████████████████████████████████████████████████████████████████████████████████████████████████████████████████████████████████████████████\u001b[0m| 00:11 Sampling completed\u001b[0m\u001b[A\u001b[A\n",
      "chain 2 |\u001b[34m█████████████████████████████████████████████████████████████████████████████████████████████████████████████████████████████████████████████████████████████████████████\u001b[0m| 00:11 Sampling completed\u001b[0m\n",
      "chain 3 |\u001b[34m█████████████████████████████████████████████████████████████████████████████████████████████████████████████████████████████████████████████████████████████████████████\u001b[0m| 00:11 Sampling completed\u001b[0m\n",
      "chain 4 |\u001b[34m█████████████████████████████████████████████████████████████████████████████████████████████████████████████████████████████████████████████████████████████████████████\u001b[0m| 00:11 Sampling completed\u001b[0m"
     ]
    },
    {
     "name": "stdout",
     "output_type": "stream",
     "text": [
      "                                                                                                                                                                                                                                                                                                                                "
     ]
    },
    {
     "name": "stderr",
     "output_type": "stream",
     "text": [
      "\n",
      "INFO:cmdstanpy:CmdStan done processing.\n"
     ]
    },
    {
     "name": "stdout",
     "output_type": "stream",
     "text": [
      "\n"
     ]
    },
    {
     "data": {
      "image/png": "[encoded data removed]",
      "text/plain": [
       "<Figure size 864x576 with 6 Axes>"
      ]
     },
     "metadata": {
      "needs_background": "light"
     },
     "output_type": "display_data"
    }
   ],
   "source": [
    "fig, axes = plt.subplots(2, 3, figsize=(12, 8))\n",
    "axes = axes.flatten()\n",
    "for i, N in enumerate([10, 20, 40, 60, 100, 200]):\n",
    "    data_fit = {'N': N, 'weights': d.weight.values[:N], 'heights': d.height.values[:N]}\n",
    "    fit=model_2_fit.sample(data=data_fit,seed=28052020)\n",
    "    df = fit.draws_pd()\n",
    "    heights = df.loc[:, 'h_hat[1]':f'h_hat[{N}]'].values\n",
    "    y = heights.mean(axis=0)\n",
    "    x = data_fit['weights']\n",
    "    yerr = heights.std(axis=0)\n",
    "\n",
    "    axes[i].errorbar(x, y, yerr)\n",
    "    axes[i].set_title(f'{N=}')\n",
    "plt.show()"
   ]
  },
  {
   "cell_type": "markdown",
   "metadata": {},
   "source": [
    "As N increases the errorbars tend to get smaller."
   ]
  },
  {
   "cell_type": "markdown",
   "metadata": {},
   "source": [
    "## Task 7. Extending the model\n",
    "\n",
    "1. Center the weight data (substract mean vaule of weight from all values). Test how model works for such data. What is the interpretation of $\\alpha$ in such case?\n",
    "2. Using centered data modify your model with a second power of weight, select prior for its coefficient using prior predictive checks and after fitting check if model is still good.\n",
    "3. Try to vectorize the model to avoid necessity of a for loop in the ```model``` block. "
   ]
  },
  {
   "cell_type": "code",
   "execution_count": 73,
   "metadata": {},
   "outputs": [
    {
     "name": "stderr",
     "output_type": "stream",
     "text": [
      "INFO:cmdstanpy:CmdStan start processing\n",
      "chain 1 |\u001b[33m                                                                                                                                                                                     \u001b[0m| 00:00 Status\u001b[0m\n",
      "chain 2 |\u001b[33m                                                                                                                                                                                     \u001b[0m| 00:00 Status\u001b[0m\u001b[A\n",
      "\n",
      "chain 3 |\u001b[33m                                                                                                                                                                                     \u001b[0m| 00:00 Status\u001b[0m\u001b[A\u001b[A\n",
      "\n",
      "\n",
      "chain 1 |\u001b[33m████████▏                                                                                                                                                                            \u001b[0m| 00:00 Status\u001b[0m\u001b[A\u001b[A\u001b[A\n",
      "chain 2 |\u001b[33m████████▏                                                                                                                                                                            \u001b[0m| 00:00 Status\u001b[0m\u001b[A\n",
      "\n",
      "chain 3 |\u001b[33m████████▏                                                                                                                                                                            \u001b[0m| 00:00 Status\u001b[0m\u001b[A\u001b[A\n",
      "\n",
      "\n",
      "chain 4 |\u001b[33m████████▏                                                                                                                                                                            \u001b[0m| 00:00 Status\u001b[0m\u001b[A\u001b[A\u001b[A\n",
      "\n",
      "chain 1 |\u001b[33m█████████████▍                                                                                                                                      \u001b[0m| 00:00 Iteration:    1 / 2000 [  0%]  (Warmup)\u001b[0m\u001b[A\u001b[A\n",
      "chain 2 |\u001b[33m█████████████▍                                                                                                                                      \u001b[0m| 00:00 Iteration:    1 / 2000 [  0%]  (Warmup)\u001b[0m\u001b[A\n",
      "\n",
      "chain 1 |\u001b[33m██████████████████████████▉                                                                                                                         \u001b[0m| 00:00 Iteration:  200 / 2000 [ 10%]  (Warmup)\u001b[0m\u001b[A\u001b[A\n",
      "chain 2 |\u001b[33m██████████████████████████▉                                                                                                                         \u001b[0m| 00:00 Iteration:  200 / 2000 [ 10%]  (Warmup)\u001b[0m\u001b[A\n",
      "\n",
      "\n",
      "chain 4 |\u001b[33m█████████████▍                                                                                                                                      \u001b[0m| 00:00 Iteration:    1 / 2000 [  0%]  (Warmup)\u001b[0m\u001b[A\u001b[A\u001b[A\n",
      "\n",
      "chain 1 |\u001b[33m████████████████████████████████████████▎                                                                                                           \u001b[0m| 00:00 Iteration:  400 / 2000 [ 20%]  (Warmup)\u001b[0m\u001b[A\u001b[A\n",
      "chain 2 |\u001b[33m████████████████████████████████████████▎                                                                                                           \u001b[0m| 00:00 Iteration:  400 / 2000 [ 20%]  (Warmup)\u001b[0m\u001b[A\n",
      "\n",
      "\n",
      "chain 4 |\u001b[33m████████████████████▏                                                                                                                               \u001b[0m| 00:00 Iteration:  100 / 2000 [  5%]  (Warmup)\u001b[0m\u001b[A\u001b[A\u001b[A\n",
      "\n",
      "chain 1 |\u001b[33m████████████████████████████████████████████████████████████▌                                                                                       \u001b[0m| 00:00 Iteration:  700 / 2000 [ 35%]  (Warmup)\u001b[0m\u001b[A\u001b[A\n",
      "chain 2 |\u001b[33m█████████████████████████████████████████████████████▊                                                                                              \u001b[0m| 00:00 Iteration:  600 / 2000 [ 30%]  (Warmup)\u001b[0m\u001b[A\n",
      "\n",
      "\n",
      "chain 4 |\u001b[33m█████████████████████████████████▋                                                                                                                  \u001b[0m| 00:00 Iteration:  300 / 2000 [ 15%]  (Warmup)\u001b[0m\u001b[A\u001b[A\u001b[A\n",
      "\n",
      "chain 3 |\u001b[33m██████████████████████████████████████████████████████████████████████████                                                                          \u001b[0m| 00:00 Iteration:  900 / 2000 [ 45%]  (Warmup)\u001b[0m\u001b[A\u001b[A\n",
      "chain 2 |\u001b[33m██████████████████████████████████████████████████████████████████████████                                                                          \u001b[0m| 00:01 Iteration:  900 / 2000 [ 45%]  (Warmup)\u001b[0m\u001b[A\n",
      "\n",
      "\n",
      "chain 4 |\u001b[33m█████████████████████████████████████████████████████▊                                                                                              \u001b[0m| 00:01 Iteration:  600 / 2000 [ 30%]  (Warmup)\u001b[0m\u001b[A\u001b[A\u001b[A\n",
      "\n",
      "chain 1 |\u001b[34m██████████████████████████████████████████████████████████████████████████████████████▎                                                           \u001b[0m| 00:01 Iteration: 1001 / 2000 [ 50%]  (Sampling)\u001b[0m\u001b[A\u001b[A\n",
      "chain 2 |\u001b[34m██████████████████████████████████████████████████████████████████████████████████████▎                                                           \u001b[0m| 00:01 Iteration: 1001 / 2000 [ 50%]  (Sampling)\u001b[0m\u001b[A\n",
      "\n",
      "\n",
      "chain 4 |\u001b[33m██████████████████████████████████████████████████████████████████████████                                                                          \u001b[0m| 00:01 Iteration:  900 / 2000 [ 45%]  (Warmup)\u001b[0m\u001b[A\u001b[A\u001b[A\n",
      "\n",
      "\n",
      "chain 4 |\u001b[34m██████████████████████████████████████████████████████████████████████████████████████▎                                                           \u001b[0m| 00:01 Iteration: 1001 / 2000 [ 50%]  (Sampling)\u001b[0m\u001b[A\u001b[A\u001b[A\n",
      "\n",
      "chain 3 |\u001b[34m███████████████████████████████████████████████████████████████████████████████████████████████████▌                                              \u001b[0m| 00:01 Iteration: 1200 / 2000 [ 60%]  (Sampling)\u001b[0m\u001b[A\u001b[A\n",
      "chain 1 |\u001b[34m███████████████████████████████████████████████████████████████████████████████████████████████████▌                                              \u001b[0m| 00:01 Iteration: 1200 / 2000 [ 60%]  (Sampling)\u001b[0m\u001b[A\n",
      "\n",
      "\n",
      "chain 4 |\u001b[34m███████████████████████████████████████████████████████████████████████████████████████████████████▌                                              \u001b[0m| 00:01 Iteration: 1200 / 2000 [ 60%]  (Sampling)\u001b[0m\u001b[A\u001b[A\u001b[A\n",
      "\n",
      "chain 3 |\u001b[34m████████████████████████████████████████████████████████████████████████████████████████████████████████████████▊                                 \u001b[0m| 00:01 Iteration: 1400 / 2000 [ 70%]  (Sampling)\u001b[0m\u001b[A\u001b[A\n",
      "chain 1 |\u001b[34m████████████████████████████████████████████████████████████████████████████████████████████████████████████████▊                                 \u001b[0m| 00:01 Iteration: 1400 / 2000 [ 70%]  (Sampling)\u001b[0m\u001b[A\n",
      "\n",
      "\n",
      "chain 4 |\u001b[34m████████████████████████████████████████████████████████████████████████████████████████████████████████████████▊                                 \u001b[0m| 00:02 Iteration: 1400 / 2000 [ 70%]  (Sampling)\u001b[0m\u001b[A\u001b[A\u001b[A\n",
      "\n",
      "chain 3 |\u001b[34m██████████████████████████████████████████████████████████████████████████████████████████████████████████████████████████████                    \u001b[0m| 00:02 Iteration: 1600 / 2000 [ 80%]  (Sampling)\u001b[0m\u001b[A\u001b[A\n",
      "chain 1 |\u001b[34m██████████████████████████████████████████████████████████████████████████████████████████████████████████████████████████████                    \u001b[0m| 00:02 Iteration: 1600 / 2000 [ 80%]  (Sampling)\u001b[0m\u001b[A\n",
      "\n",
      "\n",
      "chain 4 |\u001b[34m███████████████████████████████████████████████████████████████████████████████████████████████████████████████████████▍                          \u001b[0m| 00:02 Iteration: 1500 / 2000 [ 75%]  (Sampling)\u001b[0m\u001b[A\u001b[A\u001b[A\n",
      "chain 2 |\u001b[34m████████████████████████████████████████████████████████████████████████████████████████████████████████████████████████████████████▋             \u001b[0m| 00:02 Iteration: 1700 / 2000 [ 85%]  (Sampling)\u001b[0m\u001b[A\n",
      "\n",
      "chain 1 |\u001b[34m████████████████████████████████████████████████████████████████████████████████████████████████████████████████████████████████████▋             \u001b[0m| 00:02 Iteration: 1700 / 2000 [ 85%]  (Sampling)\u001b[0m\u001b[A\u001b[A\n",
      "\n",
      "\n"
     ]
    },
    {
     "name": "stderr",
     "output_type": "stream",
     "text": [
      "chain 4 |\u001b[34m██████████████████████████████████████████████████████████████████████████████████████████████████████████████████████████████                    \u001b[0m| 00:02 Iteration: 1600 / 2000 [ 80%]  (Sampling)\u001b[0m\u001b[A\u001b[A\u001b[A\n",
      "\n",
      "chain 3 |\u001b[34m███████████████████████████████████████████████████████████████████████████████████████████████████████████████████████████████████████████▎      \u001b[0m| 00:02 Iteration: 1800 / 2000 [ 90%]  (Sampling)\u001b[0m\u001b[A\u001b[A\n",
      "chain 1 |\u001b[34m███████████████████████████████████████████████████████████████████████████████████████████████████████████████████████████████████████████▎      \u001b[0m| 00:02 Iteration: 1800 / 2000 [ 90%]  (Sampling)\u001b[0m\u001b[A\n",
      "\n",
      "\n",
      "chain 4 |\u001b[34m████████████████████████████████████████████████████████████████████████████████████████████████████████████████████████████████████▋             \u001b[0m| 00:02 Iteration: 1700 / 2000 [ 85%]  (Sampling)\u001b[0m\u001b[A\u001b[A\u001b[A\n",
      "chain 2 |\u001b[34m██████████████████████████████████████████████████████████████████████████████████████████████████████████████████████████████████████████████████\u001b[0m| 00:02 Iteration: 1900 / 2000 [ 95%]  (Sampling)\u001b[0m\u001b[A\n",
      "\n",
      "chain 1 |\u001b[34m██████████████████████████████████████████████████████████████████████████████████████████████████████████████████████████████████████████████████\u001b[0m| 00:02 Iteration: 1900 / 2000 [ 95%]  (Sampling)\u001b[0m\u001b[A\u001b[A\n",
      "\n",
      "\n",
      "chain 4 |\u001b[34m███████████████████████████████████████████████████████████████████████████████████████████████████████████████████████████████████████████▎      \u001b[0m| 00:02 Iteration: 1800 / 2000 [ 90%]  (Sampling)\u001b[0m\u001b[A\u001b[A\u001b[A\n",
      "\n",
      "\n",
      "chain 1 |\u001b[34m█████████████████████████████████████████████████████████████████████████████████████████████████████████████████████████████████████████████████████████████████████████\u001b[0m| 00:02 Sampling completed\u001b[0m\u001b[A\u001b[A\u001b[A\n",
      "chain 2 |\u001b[34m█████████████████████████████████████████████████████████████████████████████████████████████████████████████████████████████████████████████████████████████████████████\u001b[0m| 00:02 Sampling completed\u001b[0m\n",
      "chain 3 |\u001b[34m█████████████████████████████████████████████████████████████████████████████████████████████████████████████████████████████████████████████████████████████████████████\u001b[0m| 00:02 Sampling completed\u001b[0m\n",
      "chain 4 |\u001b[34m█████████████████████████████████████████████████████████████████████████████████████████████████████████████████████████████████████████████████████████████████████████\u001b[0m| 00:02 Sampling completed\u001b[0m"
     ]
    },
    {
     "name": "stdout",
     "output_type": "stream",
     "text": [
      "                                                                                "
     ]
    },
    {
     "name": "stderr",
     "output_type": "stream",
     "text": [
      "\n"
     ]
    },
    {
     "name": "stdout",
     "output_type": "stream",
     "text": [
      "                                                                                                                                                                                                                                                "
     ]
    },
    {
     "name": "stderr",
     "output_type": "stream",
     "text": [
      "INFO:cmdstanpy:CmdStan done processing.\n"
     ]
    },
    {
     "name": "stdout",
     "output_type": "stream",
     "text": [
      "\n"
     ]
    },
    {
     "data": {
      "image/png": "[encoded data removed]",
      "text/plain": [
       "<Figure size 432x288 with 1 Axes>"
      ]
     },
     "metadata": {
      "needs_background": "light"
     },
     "output_type": "display_data"
    }
   ],
   "source": [
    "N = 50\n",
    "data_fit = {'N': N, 'weights': d.c_weight.values[:N], 'heights': d.height.values[:N]}\n",
    "fit=model_2_fit.sample(data=data_fit,seed=28052020)\n",
    "df = fit.draws_pd()\n",
    "alpha = df['alpha'].values\n",
    "beta = df['beta'].values\n",
    "\n",
    "weight_range = np.linspace(data_fit['weights'].min(), data_fit['weights'].max(), N).reshape((N, 1))\n",
    "hhat = beta * weight_range + alpha\n",
    "extended_domain = np.ones((1, 4000)) * weight_range\n",
    "plt.plot(extended_domain, hhat, 'r', alpha=0.05)\n",
    "plt.xlabel('Displacement from mean weight')\n",
    "plt.ylabel('Height')\n",
    "plt.show()"
   ]
  },
  {
   "cell_type": "markdown",
   "metadata": {},
   "source": [
    "For centered data the model also works well. I'd say that $\\alpha$ in this model describes the height of a person of mean weight, which stands for the intercept in the model."
   ]
  },
  {
   "cell_type": "code",
   "execution_count": 78,
   "metadata": {},
   "outputs": [
    {
     "name": "stdout",
     "output_type": "stream",
     "text": [
      "Overwriting height_3_fit.stan\n"
     ]
    }
   ],
   "source": [
    "%%writefile height_3_fit.stan\n",
    "\n",
    "data {\n",
    "    int<lower=0> N;\n",
    "    vector[N] heights;\n",
    "    vector[N] weights;\n",
    "}\n",
    "\n",
    "parameters {\n",
    "    real<lower=0> alpha;\n",
    "    real<lower=0> sigma;\n",
    "    real<lower=0> beta1;\n",
    "    real<lower=0> beta2;\n",
    "}\n",
    "\n",
    "transformed parameters {\n",
    "    vector[N] mean;\n",
    "    for (i in 1:N) {\n",
    "      mean[i] = alpha + beta1 * weights[i] + beta2 * weights[i] * weights[i];\n",
    "  }\n",
    "}\n",
    "\n",
    "model {\n",
    "    alpha ~ normal(154, 7.7);\n",
    "    sigma ~ normal(15, 3);\n",
    "    beta1 ~ lognormal(0, 1);\n",
    "    beta2 ~ lognormal(0, 1);\n",
    "    \n",
    "    for (i in 1:N) {\n",
    "      heights[i] ~ normal(mean[i], sigma);\n",
    "    }\n",
    "}\n",
    "\n",
    "generated quantities {\n",
    "    vector[N] h_hat;\n",
    "    for (i in 1:N) {\n",
    "        h_hat[i] = normal_rng(mean[i], sigma);\n",
    "    }\n",
    "}"
   ]
  },
  {
   "cell_type": "code",
   "execution_count": 80,
   "metadata": {},
   "outputs": [
    {
     "name": "stderr",
     "output_type": "stream",
     "text": [
      "INFO:cmdstanpy:compiling stan file /home/height_3_fit.stan to exe file /home/height_3_fit\n",
      "INFO:cmdstanpy:compiled model executable: /home/height_3_fit\n"
     ]
    }
   ],
   "source": [
    "model_3_fit=CmdStanModel(stan_file='height_3_fit.stan')"
   ]
  },
  {
   "cell_type": "code",
   "execution_count": 81,
   "metadata": {},
   "outputs": [
    {
     "name": "stderr",
     "output_type": "stream",
     "text": [
      "INFO:cmdstanpy:CmdStan start processing\n",
      "chain 1 |\u001b[33m                                                                                                                                                                                     \u001b[0m| 00:00 Status\u001b[0m\n",
      "chain 2 |\u001b[33m                                                                                                                                                                                     \u001b[0m| 00:00 Status\u001b[0m\u001b[A\n",
      "\n",
      "chain 3 |\u001b[33m                                                                                                                                                                                     \u001b[0m| 00:00 Status\u001b[0m\u001b[A\u001b[A\n",
      "\n",
      "\n",
      "chain 4 |\u001b[33m                                                                                                                                                                                     \u001b[0m| 00:00 Status\u001b[0m\u001b[A\u001b[A\u001b[A\n",
      "chain 1 |\u001b[33m████████▏                                                                                                                                                                            \u001b[0m| 00:00 Status\u001b[0m\u001b[A\n",
      "\n",
      "chain 3 |\u001b[33m████████▏                                                                                                                                                                            \u001b[0m| 00:00 Status\u001b[0m\u001b[A\u001b[A\n",
      "\n",
      "\n",
      "chain 4 |\u001b[33m████████▏                                                                                                                                                                            \u001b[0m| 00:00 Status\u001b[0m\u001b[A\u001b[A\u001b[A\n",
      "\n",
      "chain 3 |\u001b[33m█████████████▍                                                                                                                                      \u001b[0m| 00:00 Iteration:    1 / 2000 [  0%]  (Warmup)\u001b[0m\u001b[A\u001b[A\n",
      "chain 1 |\u001b[33m█████████████▍                                                                                                                                      \u001b[0m| 00:00 Iteration:    1 / 2000 [  0%]  (Warmup)\u001b[0m\u001b[A\n",
      "\n",
      "chain 3 |\u001b[33m████████████████████▏                                                                                                                               \u001b[0m| 00:00 Iteration:  100 / 2000 [  5%]  (Warmup)\u001b[0m\u001b[A\u001b[A\n",
      "chain 1 |\u001b[33m████████████████████▏                                                                                                                               \u001b[0m| 00:00 Iteration:  100 / 2000 [  5%]  (Warmup)\u001b[0m\u001b[A\n",
      "\n",
      "\n",
      "chain 4 |\u001b[33m█████████████▍                                                                                                                                      \u001b[0m| 00:00 Iteration:    1 / 2000 [  0%]  (Warmup)\u001b[0m\u001b[A\u001b[A\u001b[A\n",
      "\n",
      "chain 1 |\u001b[33m█████████████████████████████████▋                                                                                                                  \u001b[0m| 00:01 Iteration:  300 / 2000 [ 15%]  (Warmup)\u001b[0m\u001b[A\u001b[A\n",
      "chain 2 |\u001b[33m██████████████████████████▉                                                                                                                         \u001b[0m| 00:01 Iteration:  200 / 2000 [ 10%]  (Warmup)\u001b[0m\u001b[A\n",
      "\n",
      "\n",
      "chain 4 |\u001b[33m████████████████████▏                                                                                                                               \u001b[0m| 00:00 Iteration:  100 / 2000 [  5%]  (Warmup)\u001b[0m\u001b[A\u001b[A\u001b[A\n",
      "\n",
      "chain 1 |\u001b[33m████████████████████████████████████████▎                                                                                                           \u001b[0m| 00:01 Iteration:  400 / 2000 [ 20%]  (Warmup)\u001b[0m\u001b[A\u001b[A\n",
      "chain 2 |\u001b[33m████████████████████████████████████████▎                                                                                                           \u001b[0m| 00:01 Iteration:  400 / 2000 [ 20%]  (Warmup)\u001b[0m\u001b[A\n",
      "\n",
      "\n",
      "chain 4 |\u001b[33m█████████████████████████████████▋                                                                                                                  \u001b[0m| 00:01 Iteration:  300 / 2000 [ 15%]  (Warmup)\u001b[0m\u001b[A\u001b[A\u001b[A\n",
      "\n",
      "chain 3 |\u001b[33m███████████████████████████████████████████████                                                                                                     \u001b[0m| 00:01 Iteration:  500 / 2000 [ 25%]  (Warmup)\u001b[0m\u001b[A\u001b[A\n",
      "\n",
      "chain 1 |\u001b[33m███████████████████████████████████████████████                                                                                                     \u001b[0m| 00:01 Iteration:  500 / 2000 [ 25%]  (Warmup)\u001b[0m\u001b[A\u001b[A\n",
      "\n",
      "\n",
      "chain 4 |\u001b[33m███████████████████████████████████████████████                                                                                                     \u001b[0m| 00:01 Iteration:  500 / 2000 [ 25%]  (Warmup)\u001b[0m\u001b[A\u001b[A\u001b[A\n",
      "chain 1 |\u001b[33m████████████████████████████████████████████████████████████▌                                                                                       \u001b[0m| 00:01 Iteration:  700 / 2000 [ 35%]  (Warmup)\u001b[0m\u001b[A\n",
      "chain 2 |\u001b[33m███████████████████████████████████████████████████████████████████▎                                                                                \u001b[0m| 00:01 Iteration:  800 / 2000 [ 40%]  (Warmup)\u001b[0m\u001b[A\n",
      "\n",
      "\n",
      "chain 4 |\u001b[33m████████████████████████████████████████████████████████████▌                                                                                       \u001b[0m| 00:01 Iteration:  700 / 2000 [ 35%]  (Warmup)\u001b[0m\u001b[A\u001b[A\u001b[A\n",
      "\n",
      "chain 3 |\u001b[33m██████████████████████████████████████████████████████████████████████████                                                                          \u001b[0m| 00:01 Iteration:  900 / 2000 [ 45%]  (Warmup)\u001b[0m\u001b[A\u001b[A\n",
      "chain 1 |\u001b[33m██████████████████████████████████████████████████████████████████████████                                                                          \u001b[0m| 00:01 Iteration:  900 / 2000 [ 45%]  (Warmup)\u001b[0m\u001b[A\n",
      "\n",
      "\n",
      "chain 4 |\u001b[33m██████████████████████████████████████████████████████████████████████████                                                                          \u001b[0m| 00:01 Iteration:  900 / 2000 [ 45%]  (Warmup)\u001b[0m\u001b[A\u001b[A\u001b[A\n",
      "\n",
      "chain 1 |\u001b[34m██████████████████████████████████████████████████████████████████████████████████████▎                                                           \u001b[0m| 00:01 Iteration: 1001 / 2000 [ 50%]  (Sampling)\u001b[0m\u001b[A\u001b[A\n",
      "\n",
      "\n",
      "chain 4 |\u001b[34m██████████████████████████████████████████████████████████████████████████████████████▎                                                           \u001b[0m| 00:01 Iteration: 1001 / 2000 [ 50%]  (Sampling)\u001b[0m\u001b[A\u001b[A\u001b[A\n",
      "chain 2 |\u001b[34m████████████████████████████████████████████████████████████████████████████████████████████▉                                                     \u001b[0m| 00:01 Iteration: 1100 / 2000 [ 55%]  (Sampling)\u001b[0m\u001b[A\n",
      "\n",
      "chain 1 |\u001b[34m███████████████████████████████████████████████████████████████████████████████████████████████████▌                                              \u001b[0m| 00:02 Iteration: 1200 / 2000 [ 60%]  (Sampling)\u001b[0m\u001b[A\u001b[A\n",
      "\n",
      "\n",
      "chain 1 |\u001b[34m██████████████████████████████████████████████████████████████████████████████████████████████████████████▏                                       \u001b[0m| 00:02 Iteration: 1300 / 2000 [ 65%]  (Sampling)\u001b[0m\u001b[A\u001b[A\u001b[A\n",
      "\n",
      "chain 3 |\u001b[34m██████████████████████████████████████████████████████████████████████████████████████████████████████████▏                                       \u001b[0m| 00:02 Iteration: 1300 / 2000 [ 65%]  (Sampling)\u001b[0m\u001b[A\u001b[A\n",
      "chain 2 |\u001b[34m██████████████████████████████████████████████████████████████████████████████████████████████████████████▏                                       \u001b[0m| 00:02 Iteration: 1300 / 2000 [ 65%]  (Sampling)\u001b[0m\u001b[A\n",
      "\n",
      "\n",
      "chain 1 |\u001b[34m████████████████████████████████████████████████████████████████████████████████████████████████████████████████▊                                 \u001b[0m| 00:02 Iteration: 1400 / 2000 [ 70%]  (Sampling)\u001b[0m\u001b[A\u001b[A\u001b[A\n",
      "chain 2 |\u001b[34m████████████████████████████████████████████████████████████████████████████████████████████████████████████████▊                                 \u001b[0m| 00:02 Iteration: 1400 / 2000 [ 70%]  (Sampling)\u001b[0m\u001b[A\n",
      "\n"
     ]
    },
    {
     "name": "stderr",
     "output_type": "stream",
     "text": [
      "chain 3 |\u001b[34m████████████████████████████████████████████████████████████████████████████████████████████████████████████████▊                                 \u001b[0m| 00:02 Iteration: 1400 / 2000 [ 70%]  (Sampling)\u001b[0m\u001b[A\u001b[A\n",
      "\n",
      "\n",
      "chain 1 |\u001b[34m███████████████████████████████████████████████████████████████████████████████████████████████████████████████████████▍                          \u001b[0m| 00:02 Iteration: 1500 / 2000 [ 75%]  (Sampling)\u001b[0m\u001b[A\u001b[A\u001b[A\n",
      "chain 2 |\u001b[34m███████████████████████████████████████████████████████████████████████████████████████████████████████████████████████▍                          \u001b[0m| 00:02 Iteration: 1500 / 2000 [ 75%]  (Sampling)\u001b[0m\u001b[A\n",
      "\n",
      "chain 3 |\u001b[34m███████████████████████████████████████████████████████████████████████████████████████████████████████████████████████▍                          \u001b[0m| 00:02 Iteration: 1500 / 2000 [ 75%]  (Sampling)\u001b[0m\u001b[A\u001b[A\n",
      "\n",
      "\n",
      "chain 1 |\u001b[34m██████████████████████████████████████████████████████████████████████████████████████████████████████████████████████████████                    \u001b[0m| 00:02 Iteration: 1600 / 2000 [ 80%]  (Sampling)\u001b[0m\u001b[A\u001b[A\u001b[A\n",
      "chain 2 |\u001b[34m██████████████████████████████████████████████████████████████████████████████████████████████████████████████████████████████                    \u001b[0m| 00:02 Iteration: 1600 / 2000 [ 80%]  (Sampling)\u001b[0m\u001b[A\n",
      "\n",
      "chain 3 |\u001b[34m██████████████████████████████████████████████████████████████████████████████████████████████████████████████████████████████                    \u001b[0m| 00:02 Iteration: 1600 / 2000 [ 80%]  (Sampling)\u001b[0m\u001b[A\u001b[A\n",
      "\n",
      "\n",
      "chain 1 |\u001b[34m████████████████████████████████████████████████████████████████████████████████████████████████████████████████████████████████████▋             \u001b[0m| 00:02 Iteration: 1700 / 2000 [ 85%]  (Sampling)\u001b[0m\u001b[A\u001b[A\u001b[A\n",
      "chain 2 |\u001b[34m████████████████████████████████████████████████████████████████████████████████████████████████████████████████████████████████████▋             \u001b[0m| 00:02 Iteration: 1700 / 2000 [ 85%]  (Sampling)\u001b[0m\u001b[A\n",
      "\n",
      "chain 3 |\u001b[34m████████████████████████████████████████████████████████████████████████████████████████████████████████████████████████████████████▋             \u001b[0m| 00:02 Iteration: 1700 / 2000 [ 85%]  (Sampling)\u001b[0m\u001b[A\u001b[A\n",
      "\n",
      "\n",
      "chain 1 |\u001b[34m███████████████████████████████████████████████████████████████████████████████████████████████████████████████████████████████████████████▎      \u001b[0m| 00:03 Iteration: 1800 / 2000 [ 90%]  (Sampling)\u001b[0m\u001b[A\u001b[A\u001b[A\n",
      "chain 2 |\u001b[34m███████████████████████████████████████████████████████████████████████████████████████████████████████████████████████████████████████████▎      \u001b[0m| 00:03 Iteration: 1800 / 2000 [ 90%]  (Sampling)\u001b[0m\u001b[A\n",
      "\n",
      "chain 3 |\u001b[34m███████████████████████████████████████████████████████████████████████████████████████████████████████████████████████████████████████████▎      \u001b[0m| 00:03 Iteration: 1800 / 2000 [ 90%]  (Sampling)\u001b[0m\u001b[A\u001b[A\n",
      "\n",
      "\n",
      "chain 1 |\u001b[34m██████████████████████████████████████████████████████████████████████████████████████████████████████████████████████████████████████████████████\u001b[0m| 00:03 Iteration: 1900 / 2000 [ 95%]  (Sampling)\u001b[0m\u001b[A\u001b[A\u001b[A\n",
      "chain 2 |\u001b[34m██████████████████████████████████████████████████████████████████████████████████████████████████████████████████████████████████████████████████\u001b[0m| 00:03 Iteration: 1900 / 2000 [ 95%]  (Sampling)\u001b[0m\u001b[A\n",
      "\n",
      "chain 3 |\u001b[34m██████████████████████████████████████████████████████████████████████████████████████████████████████████████████████████████████████████████████\u001b[0m| 00:03 Iteration: 1900 / 2000 [ 95%]  (Sampling)\u001b[0m\u001b[A\u001b[A\n",
      "\n",
      "\n",
      "chain 1 |\u001b[34m█████████████████████████████████████████████████████████████████████████████████████████████████████████████████████████████████████████████████████████████████████████\u001b[0m| 00:03 Sampling completed\u001b[0m\u001b[A\u001b[A\u001b[A\n",
      "chain 2 |\u001b[34m█████████████████████████████████████████████████████████████████████████████████████████████████████████████████████████████████████████████████████████████████████████\u001b[0m| 00:03 Sampling completed\u001b[0m\n",
      "chain 3 |\u001b[34m█████████████████████████████████████████████████████████████████████████████████████████████████████████████████████████████████████████████████████████████████████████\u001b[0m| 00:03 Sampling completed\u001b[0m\n",
      "chain 4 |\u001b[34m█████████████████████████████████████████████████████████████████████████████████████████████████████████████████████████████████████████████████████████████████████████\u001b[0m| 00:03 Sampling completed\u001b[0m"
     ]
    },
    {
     "name": "stdout",
     "output_type": "stream",
     "text": [
      "                                                                                                                                                                                                                                                "
     ]
    },
    {
     "name": "stderr",
     "output_type": "stream",
     "text": [
      "\n"
     ]
    },
    {
     "name": "stdout",
     "output_type": "stream",
     "text": [
      "                                                                                "
     ]
    },
    {
     "name": "stderr",
     "output_type": "stream",
     "text": [
      "INFO:cmdstanpy:CmdStan done processing.\n"
     ]
    },
    {
     "name": "stdout",
     "output_type": "stream",
     "text": [
      "\n"
     ]
    },
    {
     "data": {
      "text/html": [
       "<div>\n",
       "<style scoped>\n",
       "    .dataframe tbody tr th:only-of-type {\n",
       "        vertical-align: middle;\n",
       "    }\n",
       "\n",
       "    .dataframe tbody tr th {\n",
       "        vertical-align: top;\n",
       "    }\n",
       "\n",
       "    .dataframe thead th {\n",
       "        text-align: right;\n",
       "    }\n",
       "</style>\n",
       "<table border=\"1\" class=\"dataframe\">\n",
       "  <thead>\n",
       "    <tr style=\"text-align: right;\">\n",
       "      <th></th>\n",
       "      <th>lp__</th>\n",
       "      <th>accept_stat__</th>\n",
       "      <th>stepsize__</th>\n",
       "      <th>treedepth__</th>\n",
       "      <th>n_leapfrog__</th>\n",
       "      <th>divergent__</th>\n",
       "      <th>energy__</th>\n",
       "      <th>alpha</th>\n",
       "      <th>sigma</th>\n",
       "      <th>beta1</th>\n",
       "      <th>...</th>\n",
       "      <th>h_hat[41]</th>\n",
       "      <th>h_hat[42]</th>\n",
       "      <th>h_hat[43]</th>\n",
       "      <th>h_hat[44]</th>\n",
       "      <th>h_hat[45]</th>\n",
       "      <th>h_hat[46]</th>\n",
       "      <th>h_hat[47]</th>\n",
       "      <th>h_hat[48]</th>\n",
       "      <th>h_hat[49]</th>\n",
       "      <th>h_hat[50]</th>\n",
       "    </tr>\n",
       "  </thead>\n",
       "  <tbody>\n",
       "    <tr>\n",
       "      <th>0</th>\n",
       "      <td>-113.807</td>\n",
       "      <td>0.954684</td>\n",
       "      <td>0.572656</td>\n",
       "      <td>3.0</td>\n",
       "      <td>7.0</td>\n",
       "      <td>0.0</td>\n",
       "      <td>114.456</td>\n",
       "      <td>151.028</td>\n",
       "      <td>5.46630</td>\n",
       "      <td>0.738854</td>\n",
       "      <td>...</td>\n",
       "      <td>156.063</td>\n",
       "      <td>176.976</td>\n",
       "      <td>159.358</td>\n",
       "      <td>153.631</td>\n",
       "      <td>149.248</td>\n",
       "      <td>169.090</td>\n",
       "      <td>155.590</td>\n",
       "      <td>152.138</td>\n",
       "      <td>157.908</td>\n",
       "      <td>149.146</td>\n",
       "    </tr>\n",
       "    <tr>\n",
       "      <th>1</th>\n",
       "      <td>-116.212</td>\n",
       "      <td>0.871638</td>\n",
       "      <td>0.572656</td>\n",
       "      <td>3.0</td>\n",
       "      <td>7.0</td>\n",
       "      <td>0.0</td>\n",
       "      <td>116.856</td>\n",
       "      <td>153.644</td>\n",
       "      <td>6.13027</td>\n",
       "      <td>0.891966</td>\n",
       "      <td>...</td>\n",
       "      <td>148.155</td>\n",
       "      <td>171.182</td>\n",
       "      <td>158.846</td>\n",
       "      <td>147.579</td>\n",
       "      <td>162.284</td>\n",
       "      <td>164.091</td>\n",
       "      <td>150.280</td>\n",
       "      <td>160.987</td>\n",
       "      <td>159.318</td>\n",
       "      <td>165.684</td>\n",
       "    </tr>\n",
       "    <tr>\n",
       "      <th>2</th>\n",
       "      <td>-114.363</td>\n",
       "      <td>0.943962</td>\n",
       "      <td>0.572656</td>\n",
       "      <td>3.0</td>\n",
       "      <td>7.0</td>\n",
       "      <td>0.0</td>\n",
       "      <td>118.216</td>\n",
       "      <td>150.856</td>\n",
       "      <td>4.83598</td>\n",
       "      <td>0.837093</td>\n",
       "      <td>...</td>\n",
       "      <td>150.578</td>\n",
       "      <td>173.372</td>\n",
       "      <td>152.771</td>\n",
       "      <td>149.067</td>\n",
       "      <td>157.827</td>\n",
       "      <td>163.252</td>\n",
       "      <td>165.148</td>\n",
       "      <td>141.903</td>\n",
       "      <td>152.265</td>\n",
       "      <td>154.616</td>\n",
       "    </tr>\n",
       "    <tr>\n",
       "      <th>3</th>\n",
       "      <td>-113.541</td>\n",
       "      <td>0.996421</td>\n",
       "      <td>0.572656</td>\n",
       "      <td>2.0</td>\n",
       "      <td>3.0</td>\n",
       "      <td>0.0</td>\n",
       "      <td>114.683</td>\n",
       "      <td>151.239</td>\n",
       "      <td>5.97075</td>\n",
       "      <td>0.800343</td>\n",
       "      <td>...</td>\n",
       "      <td>144.397</td>\n",
       "      <td>161.546</td>\n",
       "      <td>157.408</td>\n",
       "      <td>142.573</td>\n",
       "      <td>159.359</td>\n",
       "      <td>157.587</td>\n",
       "      <td>140.700</td>\n",
       "      <td>154.609</td>\n",
       "      <td>149.044</td>\n",
       "      <td>157.279</td>\n",
       "    </tr>\n",
       "    <tr>\n",
       "      <th>4</th>\n",
       "      <td>-115.362</td>\n",
       "      <td>0.774356</td>\n",
       "      <td>0.572656</td>\n",
       "      <td>2.0</td>\n",
       "      <td>3.0</td>\n",
       "      <td>0.0</td>\n",
       "      <td>116.020</td>\n",
       "      <td>150.566</td>\n",
       "      <td>6.26416</td>\n",
       "      <td>0.780233</td>\n",
       "      <td>...</td>\n",
       "      <td>139.921</td>\n",
       "      <td>167.152</td>\n",
       "      <td>148.138</td>\n",
       "      <td>157.935</td>\n",
       "      <td>159.879</td>\n",
       "      <td>150.711</td>\n",
       "      <td>159.607</td>\n",
       "      <td>154.658</td>\n",
       "      <td>154.208</td>\n",
       "      <td>157.371</td>\n",
       "    </tr>\n",
       "  </tbody>\n",
       "</table>\n",
       "<p>5 rows × 111 columns</p>\n",
       "</div>"
      ],
      "text/plain": [
       "      lp__  accept_stat__  stepsize__  treedepth__  n_leapfrog__  divergent__  \\\n",
       "0 -113.807       0.954684    0.572656          3.0           7.0          0.0   \n",
       "1 -116.212       0.871638    0.572656          3.0           7.0          0.0   \n",
       "2 -114.363       0.943962    0.572656          3.0           7.0          0.0   \n",
       "3 -113.541       0.996421    0.572656          2.0           3.0          0.0   \n",
       "4 -115.362       0.774356    0.572656          2.0           3.0          0.0   \n",
       "\n",
       "   energy__    alpha    sigma     beta1  ...  h_hat[41]  h_hat[42]  h_hat[43]  \\\n",
       "0   114.456  151.028  5.46630  0.738854  ...    156.063    176.976    159.358   \n",
       "1   116.856  153.644  6.13027  0.891966  ...    148.155    171.182    158.846   \n",
       "2   118.216  150.856  4.83598  0.837093  ...    150.578    173.372    152.771   \n",
       "3   114.683  151.239  5.97075  0.800343  ...    144.397    161.546    157.408   \n",
       "4   116.020  150.566  6.26416  0.780233  ...    139.921    167.152    148.138   \n",
       "\n",
       "   h_hat[44]  h_hat[45]  h_hat[46]  h_hat[47]  h_hat[48]  h_hat[49]  h_hat[50]  \n",
       "0    153.631    149.248    169.090    155.590    152.138    157.908    149.146  \n",
       "1    147.579    162.284    164.091    150.280    160.987    159.318    165.684  \n",
       "2    149.067    157.827    163.252    165.148    141.903    152.265    154.616  \n",
       "3    142.573    159.359    157.587    140.700    154.609    149.044    157.279  \n",
       "4    157.935    159.879    150.711    159.607    154.658    154.208    157.371  \n",
       "\n",
       "[5 rows x 111 columns]"
      ]
     },
     "execution_count": 81,
     "metadata": {},
     "output_type": "execute_result"
    }
   ],
   "source": [
    "N = 50\n",
    "data_fit = {'N': N, 'weights': d.c_weight.values[:N], 'heights': d.height.values[:N]}\n",
    "fit=model_3_fit.sample(data=data_fit,seed=28052020)\n",
    "df = fit.draws_pd()\n",
    "df.head()"
   ]
  },
  {
   "cell_type": "code",
   "execution_count": 82,
   "metadata": {},
   "outputs": [
    {
     "data": {
      "image/png": "[encoded data removed]",
      "text/plain": [
       "<Figure size 432x288 with 1 Axes>"
      ]
     },
     "metadata": {
      "needs_background": "light"
     },
     "output_type": "display_data"
    }
   ],
   "source": [
    "alpha = df['alpha'].values\n",
    "beta1 = df['beta1'].values\n",
    "beta2 = df['beta2'].values\n",
    "\n",
    "weight_range = np.linspace(data_fit['weights'].min(), data_fit['weights'].max(), N).reshape((N, 1))\n",
    "hhat = beta1 * weight_range + beta2 * weight_range ** 2 + alpha\n",
    "extended_domain = np.ones((1, 4000)) * weight_range\n",
    "plt.plot(extended_domain, hhat, 'r', alpha=0.05)\n",
    "plt.xlabel('Displacement from mean weight')\n",
    "plt.ylabel('Height')\n",
    "plt.show()"
   ]
  },
  {
   "cell_type": "markdown",
   "metadata": {},
   "source": [
    "Still makes sense. Might be a better fit for the whole population rather than only adults."
   ]
  },
  {
   "cell_type": "code",
   "execution_count": 87,
   "metadata": {},
   "outputs": [
    {
     "name": "stdout",
     "output_type": "stream",
     "text": [
      "Overwriting height_3_fit_vectorized.stan\n"
     ]
    }
   ],
   "source": [
    "%%writefile height_3_fit_vectorized.stan\n",
    "\n",
    "data {\n",
    "    int<lower=0> N;\n",
    "    vector[N] heights;\n",
    "    vector[N] weights;\n",
    "}\n",
    "\n",
    "parameters {\n",
    "    real<lower=0> alpha;\n",
    "    real<lower=0> sigma;\n",
    "    real<lower=0> beta1;\n",
    "    real<lower=0> beta2;\n",
    "}\n",
    "\n",
    "transformed parameters {\n",
    "    vector[N] mean;\n",
    "    mean = alpha + beta1 * weights + beta2 * square(weights);\n",
    "}\n",
    "\n",
    "model {\n",
    "    alpha ~ normal(154, 7.7);\n",
    "    sigma ~ normal(15, 3);\n",
    "    beta1 ~ lognormal(0, 1);\n",
    "    beta2 ~ lognormal(0, 1);\n",
    "    \n",
    "    heights ~ normal(mean, sigma);\n",
    "}\n",
    "\n",
    "generated quantities {\n",
    "    vector[N] h_hat;\n",
    "    for (i in 1:N) {\n",
    "        h_hat[i] = normal_rng(mean[i], sigma);\n",
    "    }\n",
    "}"
   ]
  },
  {
   "cell_type": "code",
   "execution_count": 88,
   "metadata": {},
   "outputs": [
    {
     "name": "stderr",
     "output_type": "stream",
     "text": [
      "INFO:cmdstanpy:compiling stan file /home/height_3_fit_vectorized.stan to exe file /home/height_3_fit_vectorized\n",
      "INFO:cmdstanpy:compiled model executable: /home/height_3_fit_vectorized\n"
     ]
    }
   ],
   "source": [
    "model_3_fit_vectorized=CmdStanModel(stan_file='height_3_fit_vectorized.stan')"
   ]
  },
  {
   "cell_type": "code",
   "execution_count": 89,
   "metadata": {},
   "outputs": [
    {
     "name": "stderr",
     "output_type": "stream",
     "text": [
      "INFO:cmdstanpy:CmdStan start processing\n",
      "chain 1 |\u001b[33m                                                                                                                                                                                     \u001b[0m| 00:00 Status\u001b[0m\n",
      "chain 2 |\u001b[33m                                                                                                                                                                                     \u001b[0m| 00:00 Status\u001b[0m\u001b[A\n",
      "\n",
      "chain 3 |\u001b[33m                                                                                                                                                                                     \u001b[0m| 00:00 Status\u001b[0m\u001b[A\u001b[A\n",
      "\n",
      "\n",
      "chain 4 |\u001b[33m                                                                                                                                                                                     \u001b[0m| 00:00 Status\u001b[0m\u001b[A\u001b[A\u001b[A\n",
      "chain 1 |\u001b[33m████████▏                                                                                                                                                                            \u001b[0m| 00:00 Status\u001b[0m\u001b[A\n",
      "\n",
      "\n",
      "chain 4 |\u001b[33m████████▏                                                                                                                                                                            \u001b[0m| 00:00 Status\u001b[0m\u001b[A\u001b[A\u001b[A\n",
      "\n",
      "chain 1 |\u001b[33m█████████████▍                                                                                                                                      \u001b[0m| 00:00 Iteration:    1 / 2000 [  0%]  (Warmup)\u001b[0m\u001b[A\u001b[A\n",
      "\n",
      "chain 3 |\u001b[33m█████████████▍                                                                                                                                      \u001b[0m| 00:00 Iteration:    1 / 2000 [  0%]  (Warmup)\u001b[0m\u001b[A\u001b[A\n",
      "chain 2 |\u001b[33m█████████████▍                                                                                                                                      \u001b[0m| 00:00 Iteration:    1 / 2000 [  0%]  (Warmup)\u001b[0m\u001b[A\n",
      "\n",
      "\n",
      "chain 4 |\u001b[33m█████████████▍                                                                                                                                      \u001b[0m| 00:00 Iteration:    1 / 2000 [  0%]  (Warmup)\u001b[0m\u001b[A\u001b[A\u001b[A\n",
      "\n",
      "chain 1 |\u001b[33m██████████████████████████▉                                                                                                                         \u001b[0m| 00:00 Iteration:  200 / 2000 [ 10%]  (Warmup)\u001b[0m\u001b[A\u001b[A\n",
      "chain 2 |\u001b[33m██████████████████████████▉                                                                                                                         \u001b[0m| 00:00 Iteration:  200 / 2000 [ 10%]  (Warmup)\u001b[0m\u001b[A\n",
      "\n",
      "\n",
      "chain 1 |\u001b[33m███████████████████████████████████████████████                                                                                                     \u001b[0m| 00:00 Iteration:  500 / 2000 [ 25%]  (Warmup)\u001b[0m\u001b[A\u001b[A\u001b[A\n",
      "\n",
      "chain 3 |\u001b[33m█████████████████████████████████████████████████████▊                                                                                              \u001b[0m| 00:00 Iteration:  600 / 2000 [ 30%]  (Warmup)\u001b[0m\u001b[A\u001b[A\n",
      "chain 2 |\u001b[33m█████████████████████████████████████████████████████▊                                                                                              \u001b[0m| 00:00 Iteration:  600 / 2000 [ 30%]  (Warmup)\u001b[0m\u001b[A\n",
      "\n",
      "\n",
      "chain 1 |\u001b[33m███████████████████████████████████████████████████████████████████▎                                                                                \u001b[0m| 00:01 Iteration:  800 / 2000 [ 40%]  (Warmup)\u001b[0m\u001b[A\u001b[A\u001b[A\n",
      "\n",
      "\n",
      "chain 4 |\u001b[33m██████████████████████████████████████████████████████████████████████████                                                                          \u001b[0m| 00:01 Iteration:  900 / 2000 [ 45%]  (Warmup)\u001b[0m\u001b[A\u001b[A\u001b[A\n",
      "\n",
      "chain 3 |\u001b[34m██████████████████████████████████████████████████████████████████████████████████████▎                                                           \u001b[0m| 00:01 Iteration: 1001 / 2000 [ 50%]  (Sampling)\u001b[0m\u001b[A\u001b[A\n",
      "chain 1 |\u001b[34m██████████████████████████████████████████████████████████████████████████████████████▎                                                           \u001b[0m| 00:01 Iteration: 1001 / 2000 [ 50%]  (Sampling)\u001b[0m\u001b[A\n",
      "\n",
      "\n",
      "chain 4 |\u001b[34m████████████████████████████████████████████████████████████████████████████████████████████▉                                                     \u001b[0m| 00:01 Iteration: 1100 / 2000 [ 55%]  (Sampling)\u001b[0m\u001b[A\u001b[A\u001b[A\n",
      "chain 2 |\u001b[34m███████████████████████████████████████████████████████████████████████████████████████████████████▌                                              \u001b[0m| 00:01 Iteration: 1200 / 2000 [ 60%]  (Sampling)\u001b[0m\u001b[A\n",
      "\n",
      "chain 1 |\u001b[34m███████████████████████████████████████████████████████████████████████████████████████████████████▌                                              \u001b[0m| 00:01 Iteration: 1200 / 2000 [ 60%]  (Sampling)\u001b[0m\u001b[A\u001b[A\n",
      "\n",
      "\n",
      "chain 4 |\u001b[34m██████████████████████████████████████████████████████████████████████████████████████████████████████████▏                                       \u001b[0m| 00:01 Iteration: 1300 / 2000 [ 65%]  (Sampling)\u001b[0m\u001b[A\u001b[A\u001b[A\n",
      "chain 1 |\u001b[34m████████████████████████████████████████████████████████████████████████████████████████████████████████████████▊                                 \u001b[0m| 00:01 Iteration: 1400 / 2000 [ 70%]  (Sampling)\u001b[0m\u001b[A\n",
      "\n",
      "chain 3 |\u001b[34m████████████████████████████████████████████████████████████████████████████████████████████████████████████████▊                                 \u001b[0m| 00:01 Iteration: 1400 / 2000 [ 70%]  (Sampling)\u001b[0m\u001b[A\u001b[A\n",
      "\n",
      "\n",
      "chain 4 |\u001b[34m███████████████████████████████████████████████████████████████████████████████████████████████████████████████████████▍                          \u001b[0m| 00:01 Iteration: 1500 / 2000 [ 75%]  (Sampling)\u001b[0m\u001b[A\u001b[A\u001b[A\n",
      "chain 1 |\u001b[34m██████████████████████████████████████████████████████████████████████████████████████████████████████████████████████████████                    \u001b[0m| 00:01 Iteration: 1600 / 2000 [ 80%]  (Sampling)\u001b[0m\u001b[A\n",
      "\n",
      "chain 3 |\u001b[34m██████████████████████████████████████████████████████████████████████████████████████████████████████████████████████████████                    \u001b[0m| 00:01 Iteration: 1600 / 2000 [ 80%]  (Sampling)\u001b[0m\u001b[A\u001b[A\n",
      "\n",
      "\n",
      "chain 4 |\u001b[34m████████████████████████████████████████████████████████████████████████████████████████████████████████████████████████████████████▋             \u001b[0m| 00:01 Iteration: 1700 / 2000 [ 85%]  (Sampling)\u001b[0m\u001b[A\u001b[A\u001b[A\n",
      "chain 1 |\u001b[34m███████████████████████████████████████████████████████████████████████████████████████████████████████████████████████████████████████████▎      \u001b[0m| 00:02 Iteration: 1800 / 2000 [ 90%]  (Sampling)\u001b[0m\u001b[A\n",
      "\n",
      "chain 3 |\u001b[34m███████████████████████████████████████████████████████████████████████████████████████████████████████████████████████████████████████████▎      \u001b[0m| 00:02 Iteration: 1800 / 2000 [ 90%]  (Sampling)\u001b[0m\u001b[A\u001b[A\n",
      "\n",
      "\n",
      "chain 1 |\u001b[34m█████████████████████████████████████████████████████████████████████████████████████████████████████████████████████████████████████████████████████████████████████████\u001b[0m| 00:02 Sampling completed\u001b[0m\u001b[A\u001b[A\u001b[A\n",
      "chain 2 |\u001b[34m█████████████████████████████████████████████████████████████████████████████████████████████████████████████████████████████████████████████████████████████████████████\u001b[0m| 00:02 Sampling completed\u001b[0m\n",
      "chain 3 |\u001b[34m█████████████████████████████████████████████████████████████████████████████████████████████████████████████████████████████████████████████████████████████████████████\u001b[0m| 00:02 Sampling completed\u001b[0m\n",
      "chain 4 |\u001b[34m█████████████████████████████████████████████████████████████████████████████████████████████████████████████████████████████████████████████████████████████████████████\u001b[0m| 00:02 Sampling completed\u001b[0m"
     ]
    },
    {
     "name": "stdout",
     "output_type": "stream",
     "text": [
      "                                                                                                                                                                                                                                                "
     ]
    },
    {
     "name": "stderr",
     "output_type": "stream",
     "text": [
      "\n"
     ]
    },
    {
     "name": "stdout",
     "output_type": "stream",
     "text": [
      "                                                                                "
     ]
    },
    {
     "name": "stderr",
     "output_type": "stream",
     "text": [
      "INFO:cmdstanpy:CmdStan done processing.\n"
     ]
    },
    {
     "name": "stdout",
     "output_type": "stream",
     "text": [
      "\n"
     ]
    },
    {
     "data": {
      "text/html": [
       "<div>\n",
       "<style scoped>\n",
       "    .dataframe tbody tr th:only-of-type {\n",
       "        vertical-align: middle;\n",
       "    }\n",
       "\n",
       "    .dataframe tbody tr th {\n",
       "        vertical-align: top;\n",
       "    }\n",
       "\n",
       "    .dataframe thead th {\n",
       "        text-align: right;\n",
       "    }\n",
       "</style>\n",
       "<table border=\"1\" class=\"dataframe\">\n",
       "  <thead>\n",
       "    <tr style=\"text-align: right;\">\n",
       "      <th></th>\n",
       "      <th>lp__</th>\n",
       "      <th>accept_stat__</th>\n",
       "      <th>stepsize__</th>\n",
       "      <th>treedepth__</th>\n",
       "      <th>n_leapfrog__</th>\n",
       "      <th>divergent__</th>\n",
       "      <th>energy__</th>\n",
       "      <th>alpha</th>\n",
       "      <th>sigma</th>\n",
       "      <th>beta1</th>\n",
       "      <th>...</th>\n",
       "      <th>h_hat[41]</th>\n",
       "      <th>h_hat[42]</th>\n",
       "      <th>h_hat[43]</th>\n",
       "      <th>h_hat[44]</th>\n",
       "      <th>h_hat[45]</th>\n",
       "      <th>h_hat[46]</th>\n",
       "      <th>h_hat[47]</th>\n",
       "      <th>h_hat[48]</th>\n",
       "      <th>h_hat[49]</th>\n",
       "      <th>h_hat[50]</th>\n",
       "    </tr>\n",
       "  </thead>\n",
       "  <tbody>\n",
       "    <tr>\n",
       "      <th>0</th>\n",
       "      <td>-114.450</td>\n",
       "      <td>1.000000</td>\n",
       "      <td>0.610764</td>\n",
       "      <td>2.0</td>\n",
       "      <td>3.0</td>\n",
       "      <td>0.0</td>\n",
       "      <td>115.528</td>\n",
       "      <td>151.052</td>\n",
       "      <td>6.34552</td>\n",
       "      <td>0.851762</td>\n",
       "      <td>...</td>\n",
       "      <td>154.008</td>\n",
       "      <td>175.931</td>\n",
       "      <td>150.781</td>\n",
       "      <td>155.246</td>\n",
       "      <td>154.967</td>\n",
       "      <td>162.515</td>\n",
       "      <td>143.185</td>\n",
       "      <td>155.325</td>\n",
       "      <td>167.220</td>\n",
       "      <td>156.985</td>\n",
       "    </tr>\n",
       "    <tr>\n",
       "      <th>1</th>\n",
       "      <td>-115.575</td>\n",
       "      <td>0.970917</td>\n",
       "      <td>0.610764</td>\n",
       "      <td>3.0</td>\n",
       "      <td>7.0</td>\n",
       "      <td>0.0</td>\n",
       "      <td>116.294</td>\n",
       "      <td>149.978</td>\n",
       "      <td>5.85638</td>\n",
       "      <td>0.666783</td>\n",
       "      <td>...</td>\n",
       "      <td>143.399</td>\n",
       "      <td>167.313</td>\n",
       "      <td>159.540</td>\n",
       "      <td>147.908</td>\n",
       "      <td>151.725</td>\n",
       "      <td>154.575</td>\n",
       "      <td>149.725</td>\n",
       "      <td>152.605</td>\n",
       "      <td>156.364</td>\n",
       "      <td>149.375</td>\n",
       "    </tr>\n",
       "    <tr>\n",
       "      <th>2</th>\n",
       "      <td>-114.281</td>\n",
       "      <td>0.965929</td>\n",
       "      <td>0.610764</td>\n",
       "      <td>2.0</td>\n",
       "      <td>3.0</td>\n",
       "      <td>0.0</td>\n",
       "      <td>115.923</td>\n",
       "      <td>150.406</td>\n",
       "      <td>5.59294</td>\n",
       "      <td>0.747419</td>\n",
       "      <td>...</td>\n",
       "      <td>153.055</td>\n",
       "      <td>161.929</td>\n",
       "      <td>161.871</td>\n",
       "      <td>143.526</td>\n",
       "      <td>166.768</td>\n",
       "      <td>171.357</td>\n",
       "      <td>154.837</td>\n",
       "      <td>153.279</td>\n",
       "      <td>153.379</td>\n",
       "      <td>151.871</td>\n",
       "    </tr>\n",
       "    <tr>\n",
       "      <th>3</th>\n",
       "      <td>-113.817</td>\n",
       "      <td>0.910741</td>\n",
       "      <td>0.610764</td>\n",
       "      <td>2.0</td>\n",
       "      <td>7.0</td>\n",
       "      <td>0.0</td>\n",
       "      <td>115.070</td>\n",
       "      <td>151.046</td>\n",
       "      <td>5.39244</td>\n",
       "      <td>0.747188</td>\n",
       "      <td>...</td>\n",
       "      <td>147.337</td>\n",
       "      <td>166.240</td>\n",
       "      <td>144.335</td>\n",
       "      <td>148.505</td>\n",
       "      <td>163.773</td>\n",
       "      <td>159.872</td>\n",
       "      <td>148.907</td>\n",
       "      <td>151.596</td>\n",
       "      <td>155.229</td>\n",
       "      <td>152.065</td>\n",
       "    </tr>\n",
       "    <tr>\n",
       "      <th>4</th>\n",
       "      <td>-113.719</td>\n",
       "      <td>0.796440</td>\n",
       "      <td>0.610764</td>\n",
       "      <td>3.0</td>\n",
       "      <td>7.0</td>\n",
       "      <td>0.0</td>\n",
       "      <td>117.302</td>\n",
       "      <td>152.333</td>\n",
       "      <td>4.95056</td>\n",
       "      <td>0.867507</td>\n",
       "      <td>...</td>\n",
       "      <td>152.534</td>\n",
       "      <td>165.260</td>\n",
       "      <td>153.205</td>\n",
       "      <td>153.966</td>\n",
       "      <td>159.702</td>\n",
       "      <td>152.024</td>\n",
       "      <td>156.778</td>\n",
       "      <td>157.646</td>\n",
       "      <td>165.642</td>\n",
       "      <td>160.714</td>\n",
       "    </tr>\n",
       "  </tbody>\n",
       "</table>\n",
       "<p>5 rows × 111 columns</p>\n",
       "</div>"
      ],
      "text/plain": [
       "      lp__  accept_stat__  stepsize__  treedepth__  n_leapfrog__  divergent__  \\\n",
       "0 -114.450       1.000000    0.610764          2.0           3.0          0.0   \n",
       "1 -115.575       0.970917    0.610764          3.0           7.0          0.0   \n",
       "2 -114.281       0.965929    0.610764          2.0           3.0          0.0   \n",
       "3 -113.817       0.910741    0.610764          2.0           7.0          0.0   \n",
       "4 -113.719       0.796440    0.610764          3.0           7.0          0.0   \n",
       "\n",
       "   energy__    alpha    sigma     beta1  ...  h_hat[41]  h_hat[42]  h_hat[43]  \\\n",
       "0   115.528  151.052  6.34552  0.851762  ...    154.008    175.931    150.781   \n",
       "1   116.294  149.978  5.85638  0.666783  ...    143.399    167.313    159.540   \n",
       "2   115.923  150.406  5.59294  0.747419  ...    153.055    161.929    161.871   \n",
       "3   115.070  151.046  5.39244  0.747188  ...    147.337    166.240    144.335   \n",
       "4   117.302  152.333  4.95056  0.867507  ...    152.534    165.260    153.205   \n",
       "\n",
       "   h_hat[44]  h_hat[45]  h_hat[46]  h_hat[47]  h_hat[48]  h_hat[49]  h_hat[50]  \n",
       "0    155.246    154.967    162.515    143.185    155.325    167.220    156.985  \n",
       "1    147.908    151.725    154.575    149.725    152.605    156.364    149.375  \n",
       "2    143.526    166.768    171.357    154.837    153.279    153.379    151.871  \n",
       "3    148.505    163.773    159.872    148.907    151.596    155.229    152.065  \n",
       "4    153.966    159.702    152.024    156.778    157.646    165.642    160.714  \n",
       "\n",
       "[5 rows x 111 columns]"
      ]
     },
     "execution_count": 89,
     "metadata": {},
     "output_type": "execute_result"
    }
   ],
   "source": [
    "N = 50\n",
    "data_fit = {'N': N, 'weights': d.c_weight.values[:N], 'heights': d.height.values[:N]}\n",
    "fit=model_3_fit_vectorized.sample(data=data_fit,seed=28052020)\n",
    "df = fit.draws_pd()\n",
    "df.head()"
   ]
  },
  {
   "cell_type": "code",
   "execution_count": 91,
   "metadata": {},
   "outputs": [
    {
     "data": {
      "image/png": "[encoded data removed]",
      "text/plain": [
       "<Figure size 432x288 with 1 Axes>"
      ]
     },
     "metadata": {
      "needs_background": "light"
     },
     "output_type": "display_data"
    }
   ],
   "source": [
    "alpha = df['alpha'].values\n",
    "beta1 = df['beta1'].values\n",
    "beta2 = df['beta2'].values\n",
    "\n",
    "weight_range = np.linspace(data_fit['weights'].min(), data_fit['weights'].max(), N).reshape((N, 1))\n",
    "hhat = beta1 * weight_range + beta2 * weight_range ** 2 + alpha\n",
    "extended_domain = np.ones((1, 4000)) * weight_range\n",
    "plt.plot(extended_domain, hhat, 'r', alpha=0.05)\n",
    "plt.xlabel('Displacement from mean weight')\n",
    "plt.ylabel('Height')\n",
    "plt.show()"
   ]
  },
  {
   "cell_type": "markdown",
   "metadata": {},
   "source": [
    "The model block is for-loop-free and the code still works."
   ]
  },
  {
   "cell_type": "code",
   "execution_count": null,
   "metadata": {},
   "outputs": [],
   "source": []
  }
 ],
 "metadata": {
  "interpreter": {
   "hash": "dec76d489b07b665fd6e3623e5629f717b1b30c784fea4bb610fb31850689f2f"
  },
  "kernelspec": {
   "display_name": "Python 3 (ipykernel)",
   "language": "python",
   "name": "python3"
  },
  "language_info": {
   "codemirror_mode": {
    "name": "ipython",
    "version": 3
   },
   "file_extension": ".py",
   "mimetype": "text/x-python",
   "name": "python",
   "nbconvert_exporter": "python",
   "pygments_lexer": "ipython3",
   "version": "3.9.11"
  }
 },
 "nbformat": 4,
 "nbformat_minor": 2
}
