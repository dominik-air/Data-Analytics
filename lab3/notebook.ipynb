{
 "cells": [
  {
   "cell_type": "markdown",
   "id": "13d14320",
   "metadata": {},
   "source": [
    "## Lab 3 - Prior and Posterior predictive distributions"
   ]
  },
  {
   "cell_type": "code",
   "execution_count": 20,
   "id": "5903fdcd",
   "metadata": {},
   "outputs": [],
   "source": [
    "from cmdstanpy import CmdStanModel\n",
    "import pandas as pd\n",
    "import arviz as az \n",
    "import numpy as np\n",
    "import matplotlib.pyplot as plt\n",
    "import scipy.stats as stats"
   ]
  },
  {
   "cell_type": "markdown",
   "id": "208b868e",
   "metadata": {},
   "source": [
    "### Modeling prior predictive distribution"
   ]
  },
  {
   "cell_type": "markdown",
   "id": "c34b2bb5",
   "metadata": {},
   "source": [
    "Our prior knowledge suggests that we should use a distribution with a mean of 0.2   \n",
    "for $\\alpha=2$ and $\\beta=8$ the beta distribution has this exact property"
   ]
  },
  {
   "cell_type": "code",
   "execution_count": 21,
   "id": "c256ccad",
   "metadata": {},
   "outputs": [
    {
     "data": {
      "text/plain": [
       "0.2"
      ]
     },
     "execution_count": 21,
     "metadata": {},
     "output_type": "execute_result"
    }
   ],
   "source": [
    "mean, *_ = stats.beta.stats(a=2, b=8)\n",
    "mean"
   ]
  },
  {
   "cell_type": "code",
   "execution_count": 22,
   "id": "2b9e3ee0",
   "metadata": {},
   "outputs": [
    {
     "data": {
      "image/png": "[encoded data removed]",
      "text/plain": [
       "<Figure size 640x480 with 1 Axes>"
      ]
     },
     "metadata": {},
     "output_type": "display_data"
    }
   ],
   "source": [
    "x = np.linspace(0, 1, 1000)\n",
    "rv = stats.beta(a=2, b=8)\n",
    "plt.plot(x, rv.pdf(x), 'k-', lw=2)\n",
    "plt.axvline(x=mean, color='r', label='mean')\n",
    "plt.title(r'Beta dist for a=2 and b=8')\n",
    "plt.grid()\n",
    "plt.legend()\n",
    "plt.show()"
   ]
  },
  {
   "cell_type": "code",
   "execution_count": 23,
   "id": "01d4dd7e",
   "metadata": {},
   "outputs": [
    {
     "name": "stdout",
     "output_type": "stream",
     "text": [
      "Overwriting model_1.stan\n"
     ]
    }
   ],
   "source": [
    "%%writefile model_1.stan\n",
    "\n",
    "generated quantities {\n",
    "  int<lower=0> N = 50; \n",
    "  real<lower=0, upper=1> p = beta_rng(2, 8); \n",
    "  int<lower=0, upper=N> y = binomial_rng(N, p);\n",
    "}\n"
   ]
  },
  {
   "cell_type": "code",
   "execution_count": 24,
   "id": "1d4ca62b",
   "metadata": {},
   "outputs": [
    {
     "name": "stderr",
     "output_type": "stream",
     "text": [
      "INFO:cmdstanpy:compiling stan file /home/model_1.stan to exe file /home/model_1\n",
      "INFO:cmdstanpy:compiled model executable: /home/model_1\n"
     ]
    }
   ],
   "source": [
    "gen_quant = CmdStanModel(stan_file='model_1.stan')"
   ]
  },
  {
   "cell_type": "code",
   "execution_count": null,
   "id": "49c6303b",
   "metadata": {},
   "outputs": [],
   "source": [
    "samples = gen_quant.sample(data={'N': 50}, \n",
    "                            fixed_param=True, \n",
    "                            iter_sampling=1000, \n",
    "                            iter_warmup=0, \n",
    "                            chains=1)"
   ]
  },
  {
   "cell_type": "code",
   "execution_count": 26,
   "id": "278d0799",
   "metadata": {},
   "outputs": [
    {
     "data": {
      "text/html": [
       "<div>\n",
       "<style scoped>\n",
       "    .dataframe tbody tr th:only-of-type {\n",
       "        vertical-align: middle;\n",
       "    }\n",
       "\n",
       "    .dataframe tbody tr th {\n",
       "        vertical-align: top;\n",
       "    }\n",
       "\n",
       "    .dataframe thead th {\n",
       "        text-align: right;\n",
       "    }\n",
       "</style>\n",
       "<table border=\"1\" class=\"dataframe\">\n",
       "  <thead>\n",
       "    <tr style=\"text-align: right;\">\n",
       "      <th></th>\n",
       "      <th>lp__</th>\n",
       "      <th>accept_stat__</th>\n",
       "      <th>N</th>\n",
       "      <th>p</th>\n",
       "      <th>y</th>\n",
       "    </tr>\n",
       "  </thead>\n",
       "  <tbody>\n",
       "    <tr>\n",
       "      <th>0</th>\n",
       "      <td>0.0</td>\n",
       "      <td>0.0</td>\n",
       "      <td>50.0</td>\n",
       "      <td>0.117889</td>\n",
       "      <td>11.0</td>\n",
       "    </tr>\n",
       "    <tr>\n",
       "      <th>1</th>\n",
       "      <td>0.0</td>\n",
       "      <td>0.0</td>\n",
       "      <td>50.0</td>\n",
       "      <td>0.074733</td>\n",
       "      <td>3.0</td>\n",
       "    </tr>\n",
       "    <tr>\n",
       "      <th>2</th>\n",
       "      <td>0.0</td>\n",
       "      <td>0.0</td>\n",
       "      <td>50.0</td>\n",
       "      <td>0.144723</td>\n",
       "      <td>5.0</td>\n",
       "    </tr>\n",
       "    <tr>\n",
       "      <th>3</th>\n",
       "      <td>0.0</td>\n",
       "      <td>0.0</td>\n",
       "      <td>50.0</td>\n",
       "      <td>0.295479</td>\n",
       "      <td>19.0</td>\n",
       "    </tr>\n",
       "    <tr>\n",
       "      <th>4</th>\n",
       "      <td>0.0</td>\n",
       "      <td>0.0</td>\n",
       "      <td>50.0</td>\n",
       "      <td>0.116364</td>\n",
       "      <td>8.0</td>\n",
       "    </tr>\n",
       "  </tbody>\n",
       "</table>\n",
       "</div>"
      ],
      "text/plain": [
       "   lp__  accept_stat__     N         p     y\n",
       "0   0.0            0.0  50.0  0.117889  11.0\n",
       "1   0.0            0.0  50.0  0.074733   3.0\n",
       "2   0.0            0.0  50.0  0.144723   5.0\n",
       "3   0.0            0.0  50.0  0.295479  19.0\n",
       "4   0.0            0.0  50.0  0.116364   8.0"
      ]
     },
     "execution_count": 26,
     "metadata": {},
     "output_type": "execute_result"
    }
   ],
   "source": [
    "df = samples.draws_pd()\n",
    "df.head()"
   ]
  },
  {
   "cell_type": "code",
   "execution_count": 27,
   "id": "05cff09a",
   "metadata": {},
   "outputs": [
    {
     "data": {
      "text/plain": [
       "0.20084000000000002"
      ]
     },
     "execution_count": 27,
     "metadata": {},
     "output_type": "execute_result"
    }
   ],
   "source": [
    "df['ratio'] = df.y / 50\n",
    "ratio_mean = df['ratio'].mean()\n",
    "ratio_mean"
   ]
  },
  {
   "cell_type": "code",
   "execution_count": 28,
   "id": "1e6e4823",
   "metadata": {
    "scrolled": true
   },
   "outputs": [
    {
     "data": {
      "image/png": "[encoded data removed]",
      "text/plain": [
       "<Figure size 640x480 with 1 Axes>"
      ]
     },
     "metadata": {},
     "output_type": "display_data"
    }
   ],
   "source": [
    "df['ratio'].hist(bins=10)\n",
    "plt.axvline(x=ratio_mean, color ='r', label='average ratio')\n",
    "plt.xlabel(\"y/N\")\n",
    "plt.title('Ratio histogram')\n",
    "plt.legend()\n",
    "plt.show()"
   ]
  },
  {
   "cell_type": "markdown",
   "id": "7106c514",
   "metadata": {},
   "source": [
    "### Modeling posterior and posterior predictive distribution"
   ]
  },
  {
   "cell_type": "code",
   "execution_count": 29,
   "id": "be980ccf",
   "metadata": {},
   "outputs": [
    {
     "name": "stdout",
     "output_type": "stream",
     "text": [
      "Overwriting model_2.stan\n"
     ]
    }
   ],
   "source": [
    "%%writefile model_2.stan\n",
    "\n",
    "data {\n",
    "  int<lower=0> N;\n",
    "  int<lower=0, upper=N> y;\n",
    "}\n",
    "\n",
    "parameters {\n",
    "  real<lower=0, upper=1> p;\n",
    "}\n",
    "\n",
    "model {\n",
    "  p ~ beta(2, 8);\n",
    "  y ~ binomial(N, p);\n",
    "}\n",
    "\n",
    "generated quantities {\n",
    "  int<lower=0, upper=N> y_pred = binomial_rng(N, p);\n",
    "}\n"
   ]
  },
  {
   "cell_type": "code",
   "execution_count": 30,
   "id": "323198ef",
   "metadata": {},
   "outputs": [
    {
     "name": "stderr",
     "output_type": "stream",
     "text": [
      "INFO:cmdstanpy:compiling stan file /home/model_2.stan to exe file /home/model_2\n",
      "INFO:cmdstanpy:compiled model executable: /home/model_2\n"
     ]
    }
   ],
   "source": [
    "gen_quant = CmdStanModel(stan_file='model_2.stan')"
   ]
  },
  {
   "cell_type": "code",
   "execution_count": null,
   "id": "bf15b788",
   "metadata": {},
   "outputs": [],
   "source": [
    "samples = gen_quant.sample(data={'N': 50, 'y': 7})"
   ]
  },
  {
   "cell_type": "code",
   "execution_count": 35,
   "id": "999b76ff",
   "metadata": {},
   "outputs": [
    {
     "data": {
      "text/html": [
       "<div>\n",
       "<style scoped>\n",
       "    .dataframe tbody tr th:only-of-type {\n",
       "        vertical-align: middle;\n",
       "    }\n",
       "\n",
       "    .dataframe tbody tr th {\n",
       "        vertical-align: top;\n",
       "    }\n",
       "\n",
       "    .dataframe thead th {\n",
       "        text-align: right;\n",
       "    }\n",
       "</style>\n",
       "<table border=\"1\" class=\"dataframe\">\n",
       "  <thead>\n",
       "    <tr style=\"text-align: right;\">\n",
       "      <th></th>\n",
       "      <th>lp__</th>\n",
       "      <th>accept_stat__</th>\n",
       "      <th>stepsize__</th>\n",
       "      <th>treedepth__</th>\n",
       "      <th>n_leapfrog__</th>\n",
       "      <th>divergent__</th>\n",
       "      <th>energy__</th>\n",
       "      <th>p</th>\n",
       "      <th>y_pred</th>\n",
       "    </tr>\n",
       "  </thead>\n",
       "  <tbody>\n",
       "    <tr>\n",
       "      <th>0</th>\n",
       "      <td>-25.5849</td>\n",
       "      <td>1.000000</td>\n",
       "      <td>0.959557</td>\n",
       "      <td>1.0</td>\n",
       "      <td>1.0</td>\n",
       "      <td>0.0</td>\n",
       "      <td>26.0882</td>\n",
       "      <td>0.182434</td>\n",
       "      <td>7.0</td>\n",
       "    </tr>\n",
       "    <tr>\n",
       "      <th>1</th>\n",
       "      <td>-25.6935</td>\n",
       "      <td>0.882639</td>\n",
       "      <td>0.959557</td>\n",
       "      <td>1.0</td>\n",
       "      <td>3.0</td>\n",
       "      <td>0.0</td>\n",
       "      <td>26.4497</td>\n",
       "      <td>0.115121</td>\n",
       "      <td>4.0</td>\n",
       "    </tr>\n",
       "    <tr>\n",
       "      <th>2</th>\n",
       "      <td>-25.7131</td>\n",
       "      <td>0.996545</td>\n",
       "      <td>0.959557</td>\n",
       "      <td>1.0</td>\n",
       "      <td>1.0</td>\n",
       "      <td>0.0</td>\n",
       "      <td>25.7704</td>\n",
       "      <td>0.114181</td>\n",
       "      <td>6.0</td>\n",
       "    </tr>\n",
       "    <tr>\n",
       "      <th>3</th>\n",
       "      <td>-26.2155</td>\n",
       "      <td>0.958117</td>\n",
       "      <td>0.959557</td>\n",
       "      <td>2.0</td>\n",
       "      <td>7.0</td>\n",
       "      <td>0.0</td>\n",
       "      <td>26.2524</td>\n",
       "      <td>0.216535</td>\n",
       "      <td>12.0</td>\n",
       "    </tr>\n",
       "    <tr>\n",
       "      <th>4</th>\n",
       "      <td>-26.2155</td>\n",
       "      <td>0.345987</td>\n",
       "      <td>0.959557</td>\n",
       "      <td>1.0</td>\n",
       "      <td>1.0</td>\n",
       "      <td>0.0</td>\n",
       "      <td>28.4564</td>\n",
       "      <td>0.216535</td>\n",
       "      <td>9.0</td>\n",
       "    </tr>\n",
       "  </tbody>\n",
       "</table>\n",
       "</div>"
      ],
      "text/plain": [
       "      lp__  accept_stat__  stepsize__  treedepth__  n_leapfrog__  divergent__  \\\n",
       "0 -25.5849       1.000000    0.959557          1.0           1.0          0.0   \n",
       "1 -25.6935       0.882639    0.959557          1.0           3.0          0.0   \n",
       "2 -25.7131       0.996545    0.959557          1.0           1.0          0.0   \n",
       "3 -26.2155       0.958117    0.959557          2.0           7.0          0.0   \n",
       "4 -26.2155       0.345987    0.959557          1.0           1.0          0.0   \n",
       "\n",
       "   energy__         p  y_pred  \n",
       "0   26.0882  0.182434     7.0  \n",
       "1   26.4497  0.115121     4.0  \n",
       "2   25.7704  0.114181     6.0  \n",
       "3   26.2524  0.216535    12.0  \n",
       "4   28.4564  0.216535     9.0  "
      ]
     },
     "execution_count": 35,
     "metadata": {},
     "output_type": "execute_result"
    }
   ],
   "source": [
    "df = samples.draws_pd()\n",
    "df.head()"
   ]
  },
  {
   "cell_type": "code",
   "execution_count": 51,
   "id": "bbbfdb0e",
   "metadata": {},
   "outputs": [],
   "source": [
    "ratios = df['y_pred'] / 50\n",
    "ratios = ratios.to_numpy()"
   ]
  },
  {
   "cell_type": "code",
   "execution_count": 54,
   "id": "587cafe7",
   "metadata": {},
   "outputs": [
    {
     "data": {
      "image/png": "[encoded data removed]",
      "text/plain": [
       "<Figure size 640x480 with 1 Axes>"
      ]
     },
     "metadata": {},
     "output_type": "display_data"
    }
   ],
   "source": [
    "az.plot_posterior(ratios, kind='hist', hdi_prob=0.94, point_estimate='mean')\n",
    "plt.show()"
   ]
  },
  {
   "cell_type": "code",
   "execution_count": 53,
   "id": "8eeb460d",
   "metadata": {},
   "outputs": [
    {
     "name": "stdout",
     "output_type": "stream",
     "text": [
      "Predicted ratio: mean = 0.151, 94% HDI = [0.02 0.26]\n",
      "Parameter p: mean = 0.151, 94% HDI = [0.0658894 0.23596  ]\n",
      "Probability that ratio is lower than average: 0.737\n"
     ]
    }
   ],
   "source": [
    "p = df['p'].to_numpy()\n",
    "\n",
    "ratio_mean = np.mean(ratios)\n",
    "ratio_hdi = az.hdi(ratios, hdi_prob=0.94)\n",
    "\n",
    "p_mean = np.mean(p)\n",
    "p_hdi = az.hdi(p, hdi_prob=0.94)\n",
    "\n",
    "print(f\"Predicted ratio: mean = {ratio_mean:.3f}, 94% HDI = {ratio_hdi}\")\n",
    "print(f\"Parameter p: mean = {p_mean:.3f}, 94% HDI = {p_hdi}\")\n",
    "\n",
    "p_avg = 0.2\n",
    "ratio_prob = np.mean(ratios < p_avg)\n",
    "\n",
    "print(f\"Probability that ratio is lower than average: {ratio_prob:.3f}\")"
   ]
  }
 ],
 "metadata": {
  "kernelspec": {
   "display_name": "Python 3 (ipykernel)",
   "language": "python",
   "name": "python3"
  },
  "language_info": {
   "codemirror_mode": {
    "name": "ipython",
    "version": 3
   },
   "file_extension": ".py",
   "mimetype": "text/x-python",
   "name": "python",
   "nbconvert_exporter": "python",
   "pygments_lexer": "ipython3",
   "version": "3.9.11"
  }
 },
 "nbformat": 4,
 "nbformat_minor": 5
}
